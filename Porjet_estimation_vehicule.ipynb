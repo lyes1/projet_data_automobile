{
 "cells": [
  {
   "cell_type": "code",
   "execution_count": 1,
   "metadata": {},
   "outputs": [],
   "source": [
    "# Importing required libraries.\n",
    "import pandas as pd\n",
    "import numpy as np\n",
    "import seaborn as sns #visualisation\n",
    "import matplotlib.pyplot as plt #visualisation\n",
    "%matplotlib inline \n",
    "sns.set(color_codes=True)\n",
    "\n",
    "#pd.set_option('display.max_rows', 1000)\n",
    "#pd.set_option('display.max_columns', 4)\n",
    "#pd.set_option('max_colwidth', 10000)\n",
    "#pd.set_option('display.expand_frame_repr', False)\n",
    "#pd.set_option('display.max_rows', None)\n",
    "\n",
    "# https://regex101.com/\n",
    "# https://docs.python.org/3/library/re.html"
   ]
  },
  {
   "cell_type": "markdown",
   "metadata": {},
   "source": [
    "# I. Preprocessing des données"
   ]
  },
  {
   "cell_type": "code",
   "execution_count": 2,
   "metadata": {},
   "outputs": [],
   "source": [
    "df = pd.read_csv(\"/Users/lyes/Desktop/MD5/Project Data/projet_final/Data_cars.csv\")"
   ]
  },
  {
   "cell_type": "code",
   "execution_count": 118,
   "metadata": {},
   "outputs": [
    {
     "data": {
      "text/html": [
       "<div>\n",
       "<style scoped>\n",
       "    .dataframe tbody tr th:only-of-type {\n",
       "        vertical-align: middle;\n",
       "    }\n",
       "\n",
       "    .dataframe tbody tr th {\n",
       "        vertical-align: top;\n",
       "    }\n",
       "\n",
       "    .dataframe thead th {\n",
       "        text-align: right;\n",
       "    }\n",
       "</style>\n",
       "<table border=\"1\" class=\"dataframe\">\n",
       "  <thead>\n",
       "    <tr style=\"text-align: right;\">\n",
       "      <th></th>\n",
       "      <th>Price</th>\n",
       "      <th>Make</th>\n",
       "      <th>...</th>\n",
       "      <th>Online</th>\n",
       "      <th>Description</th>\n",
       "    </tr>\n",
       "  </thead>\n",
       "  <tbody>\n",
       "    <tr>\n",
       "      <th>0</th>\n",
       "      <td>11220.0</td>\n",
       "      <td>PEUGEOT</td>\n",
       "      <td>...</td>\n",
       "      <td>06/07/2018 à 3h47</td>\n",
       "      <td>modele: 308 (2E GENERATION), version: 1.6 HDI FAP 92CH BUSINESS 5P, puissance_fiscale: 4, portes: 5.0, options: banquette arrière 3 places;volant cuir;cache bagages;airbag frontal;banquette 1/3 - 2/3;sièges rang 2 rabattables à plat;vitres teintées;boucliers av et ar couleur caisse;phares av. de jour à LED;airbags rideaux;rétroviseurs électriques et dégivrants;siège conducteur avec réglage lombaire;vitres électriques;feux de freinage d'urgence;banquette rabattable;feux ar. à LED;AFU;contrôle de pression des pneus;airbags front. + lat.;blanc banquise;lampes de lecture à l'arrière;sièges réglables en hauteur;alarme d'oubli d'extinction des feux;EBD;volant sport;température extérieure;système audio;becquet;feux automatiques;fermeture électrique;ESP;fermeture électrique automatique;bacs de portes avant;anti patinage;accoudoir central avant;commandes du système audio au volant;fixations ISOFIX;poches d'aumonières;lampes de lecture à l'avant;lunette arrière dégivrante;essuie-glace arrière;ordinateur de bord;phares halogènes;climatisation;volant réglable en hauteur et profondeur;siège conducteur réglable hauteur;boite à gants réfrigérée;ABS;ceintures avant ajustables en hauteur;prise 12V;ecran tactile multifonction;FAP;3 ceintures ar. 3 points;ouverture des vitres séquentielle, couleur: BLANC BANQUISE</td>\n",
       "    </tr>\n",
       "    <tr>\n",
       "      <th>1</th>\n",
       "      <td>57526.0</td>\n",
       "      <td>BMW</td>\n",
       "      <td>...</td>\n",
       "      <td>03/04/2018 à 16h41</td>\n",
       "      <td>modele: X6 F16, version: (F16) XDRIVE30D 258 M SPORT BVA8, puissance_fiscale: 16, portes: 5.0, options: triangle de presignalisation et trousse de premiers secours;volant cuir;pack alu;affichage tête haute;GPS;appel d'urgence intelligent;prise 12v additionnelle;sieges advanced pour conducteur et passager avant;projecteurs antibrouillard;climatisation automatique multi zone;pack suspension adaptative;&amp;quotcarbonschwarz&amp;quot metallise;caméra de recul;finition m sport;jantes alu 20&amp;quot;pack innovation;kit fumeurs;rétroviseurs rabattables électriquement;shadow line brillant;information trafic en temps reel rtti (3ans);aide parking;contrôle de pression des pneus;système audio Harman Kardon;surround view;sièges électrique à mémoire;conciergerie (3 ans);fonctions &amp;quotma bmw a distance&amp;quot;pack safety;airbag passager desactivable via la cle;services connecteddrive (bmw online 3 ans + bmw apps);pack M;planche de bord en cuir;info trafic tmc;lave-phares;ciel de pavillon anthracite;services bmw connecteddrive;rétroviseur int. jour/nuit auto;tapis de sol;feux de route anti-eblouissement;pack advanced full led;boulons antivol de roues, couleur: Carbonschwarz metallise</td>\n",
       "    </tr>\n",
       "    <tr>\n",
       "      <th>2</th>\n",
       "      <td>80379.0</td>\n",
       "      <td>AUDI</td>\n",
       "      <td>...</td>\n",
       "      <td>30/07/2018 à 1h55</td>\n",
       "      <td>modele: RS6 (3E GENERATION) AVANT, version: III AVANT 4.0 TFSI 560 QUATTRO TIPTRONIC, puissance_fiscale: 47, portes: 5.0, options: banquette arrière 3 places;écran tactile;témoin de bouclage des ceintures av;palettes au volant;volant cuir;régulateur limiteur de vitesse;commande climatisation ar;pack dynamique;cache bagages;sorties d'échappement chromées;affichage tête haute;rétroviseurs électriques;airbag frontal;banquette 1/3 - 2/3;vision périphérique (360°);commandes vocales;vitres teintées;GPS;services connectés;prise audio USB;stations de webradio;poignées ton carrosserie;pare-brise thermique;système d'éclairage intelligent;régulateur de vitesse;siège conducteur à mémoire;inserts de porte carbone;rétroviseurs extérieurs à mémoire;carte main libre;jantes alu;siège passager à réglages électriques;boucliers av et ar couleur caisse;phares av. de jour à LED;airbags rideaux;colonne de direction électr. à mémoire;applications bois noir avec inserts alu;accoudoir central arrière;climatisation automatique multi zone;siège conducteur avec réglage lombaire;vitres électriques;feux de freinage d'urgence;eclairage d'ambiance;toit ouvrant rang 1 entrebaillant;siège passager chauffant;caméra de recul;inserts de tableau de bord carbone;banquette rabattable;filtre à pollen;siège passager avec réglage lombaire;tmc;kit téléphone main libre;rétroviseurs rabattables électriquement;porte-gobelets avant;syst. intelligent gestion des cylindres;répétiteurs de clignotant dans rétro ext;kit fumeur;sièges sport;ecran multifonction couleur;pack carbone;aide parking;AFU;contrôle de pression des pneus;airbags front. + lat.;sièges réglables en hauteur;catadioptres actifs;disque dur multimédia;jas 5 branches doubles noires285/30 r21;essuie-glaces automatiques;EBD;volant sport;température extérieure;système audio MP3;système Start &amp; Stop;système audio;becquet;système d'échappement sport;châssis sport;feux automatiques;fermeture électrique;ceinture de vitrage chromée;noir panthère;ESP;fermeture électrique automatique;bacs de portes avant;radar anti-collision;porte-gobelets arrière;sac à ski;système DVD;miroir de courtoisie conducteur éclairé;anti patinage;accoudoir central avant;commandes du système audio au volant;fixations ISOFIX;siège conducteur chauffant;aide au démarrage en côte;lampes de lecture à l'avant;appel d'urgence localisé;lunette arrière dégivrante;suspension sport;essuie-glace arrière;eclairage statique d'intersection;ordinateur de bord;inserts de porte cuir;rétroviseurs dégivrants;système audio CD;toit ouvrant;volant réglable en hauteur et profondeur;phares adaptatifs;eclairage au sol;barres de toit;traceur GPS;siège conducteur réglable hauteur;kit téléphone main libre bluetooth;boite à gants réfrigérée;ABS;ceintures avant ajustables en hauteur;prise 12V;valcona embossé rs 6 argent lunaire;appel d'assistance localisé;volume automatique de la radio;compte tours;lave-phares;chauffage des sièges avant et arrière;boîtiers de rétros en carbone;3 ceintures ar. 3 points;borne wi-fi;siège conducteur électrique;echappement à double sortie;rétroviseur int. jour/nuit auto;système audio carte SD;alarme;alarme volumétrique;miroir de courtoisie passager éclairé;alarme périmétrique;airbags latéraux aux places arrière;calandre chromée;blocage de différentiel;volant multifonctions;ouverture des vitres séquentielle;toit ouvrant panoramique, couleur: NOIR PANTHERE CRISTAL</td>\n",
       "    </tr>\n",
       "    <tr>\n",
       "      <th>3</th>\n",
       "      <td>2830.0</td>\n",
       "      <td>FORD</td>\n",
       "      <td>...</td>\n",
       "      <td>09/07/2018 à 14h12</td>\n",
       "      <td>modele: KA, version: 1.3 70 FUN, puissance_fiscale: 5, portes: 3.0, options: direction assistée;jantes alu;rétroviseurs électriques et dégivrants;vitres électriques;fermeture électrique;climatisation;ABS;airbags frontaux, couleur: JAUNE</td>\n",
       "    </tr>\n",
       "    <tr>\n",
       "      <th>4</th>\n",
       "      <td>12925.0</td>\n",
       "      <td>FIAT</td>\n",
       "      <td>...</td>\n",
       "      <td>19/05/2018 à 3h52</td>\n",
       "      <td>modele: TIPO 2 SW, version: II SW 1.4 95 POP, puissance_fiscale: 5, portes: 5.0, options: Volant alu &amp; cuir;Bluetooth inclut musique en streaming, connexion téléphone;Rétroviseurs extérieurs chauffants;Roue de secours de taille normale;Antibrouillards avant;Taille écran multi-fonctions 5 pouces;Antipatinage;Indicateur de sous-gonflage des pneus;Ouverture du coffre à distance;6 airbags;6 haut-parleurs;Air conditionné manuel;Rétroviseurs extérieurs réglage électrique;Réglage du volant en hauteur, en profondeur;ESP;Airbags rideaux;Airbags latéraux;Aide au démarrage en côte;Ordinateur de bord;ABS;Volant multi-fonction;Assistance au freinage d'urgence;Bluetooth;Ampoules de phares halogènes, couleur: blanc verni</td>\n",
       "    </tr>\n",
       "  </tbody>\n",
       "</table>\n",
       "<p>5 rows × 9 columns</p>\n",
       "</div>"
      ],
      "text/plain": [
       "     Price     Make  ...              Online  \\\n",
       "0  11220.0  PEUGEOT  ...   06/07/2018 à 3h47   \n",
       "1  57526.0      BMW  ...  03/04/2018 à 16h41   \n",
       "2  80379.0     AUDI  ...   30/07/2018 à 1h55   \n",
       "3   2830.0     FORD  ...  09/07/2018 à 14h12   \n",
       "4  12925.0     FIAT  ...   19/05/2018 à 3h52   \n",
       "\n",
       "                                                                                                                                                                                                                                                                                                                                                                                                                                                                                                                                                                                                                                                                                                                                                                                                                                                                                                                                                                                                                                                                                                                                                                                                                                                                                                                                                                                                                                                                                                                                                                                                                                                                                                                                                                                                                                                                                                                                                                                                                                                                                                                                                                                                                                                                                                                                                                                                                                                                                                                                                                                                                                                                                                                                                                                                                                                                                                                                                                                                                                                                                                                                                                                                                                                                                                                                                                                                                                                                                                                               Description  \n",
       "0                                                                                                                                                                                                                                                                                                                                                                                                                                                                                                                                                                                                                                                                                                                                                                                                                                                                                                                                                                                                                                                                                                                                                                                                                                                                                                                                                                                                                                                                                                                                                                                                                                                                                                                                                                                                                                                                                                                                                                                                                                                                                                                                                                      modele: 308 (2E GENERATION), version: 1.6 HDI FAP 92CH BUSINESS 5P, puissance_fiscale: 4, portes: 5.0, options: banquette arrière 3 places;volant cuir;cache bagages;airbag frontal;banquette 1/3 - 2/3;sièges rang 2 rabattables à plat;vitres teintées;boucliers av et ar couleur caisse;phares av. de jour à LED;airbags rideaux;rétroviseurs électriques et dégivrants;siège conducteur avec réglage lombaire;vitres électriques;feux de freinage d'urgence;banquette rabattable;feux ar. à LED;AFU;contrôle de pression des pneus;airbags front. + lat.;blanc banquise;lampes de lecture à l'arrière;sièges réglables en hauteur;alarme d'oubli d'extinction des feux;EBD;volant sport;température extérieure;système audio;becquet;feux automatiques;fermeture électrique;ESP;fermeture électrique automatique;bacs de portes avant;anti patinage;accoudoir central avant;commandes du système audio au volant;fixations ISOFIX;poches d'aumonières;lampes de lecture à l'avant;lunette arrière dégivrante;essuie-glace arrière;ordinateur de bord;phares halogènes;climatisation;volant réglable en hauteur et profondeur;siège conducteur réglable hauteur;boite à gants réfrigérée;ABS;ceintures avant ajustables en hauteur;prise 12V;ecran tactile multifonction;FAP;3 ceintures ar. 3 points;ouverture des vitres séquentielle, couleur: BLANC BANQUISE  \n",
       "1                                                                                                                                                                                                                                                                                                                                                                                                                                                                                                                                                                                                                                                                                                                                                                                                                                                                                                                                                                                                                                                                                                                                                                                                                                                                                                                                                                                                                                                                                                                                                                                                                                                                                                                                                                                                                                                                                                                                                                                                                                                                                                                                                                                                                                                                                                                 modele: X6 F16, version: (F16) XDRIVE30D 258 M SPORT BVA8, puissance_fiscale: 16, portes: 5.0, options: triangle de presignalisation et trousse de premiers secours;volant cuir;pack alu;affichage tête haute;GPS;appel d'urgence intelligent;prise 12v additionnelle;sieges advanced pour conducteur et passager avant;projecteurs antibrouillard;climatisation automatique multi zone;pack suspension adaptative;&quotcarbonschwarz&quot metallise;caméra de recul;finition m sport;jantes alu 20&quot;pack innovation;kit fumeurs;rétroviseurs rabattables électriquement;shadow line brillant;information trafic en temps reel rtti (3ans);aide parking;contrôle de pression des pneus;système audio Harman Kardon;surround view;sièges électrique à mémoire;conciergerie (3 ans);fonctions &quotma bmw a distance&quot;pack safety;airbag passager desactivable via la cle;services connecteddrive (bmw online 3 ans + bmw apps);pack M;planche de bord en cuir;info trafic tmc;lave-phares;ciel de pavillon anthracite;services bmw connecteddrive;rétroviseur int. jour/nuit auto;tapis de sol;feux de route anti-eblouissement;pack advanced full led;boulons antivol de roues, couleur: Carbonschwarz metallise  \n",
       "2  modele: RS6 (3E GENERATION) AVANT, version: III AVANT 4.0 TFSI 560 QUATTRO TIPTRONIC, puissance_fiscale: 47, portes: 5.0, options: banquette arrière 3 places;écran tactile;témoin de bouclage des ceintures av;palettes au volant;volant cuir;régulateur limiteur de vitesse;commande climatisation ar;pack dynamique;cache bagages;sorties d'échappement chromées;affichage tête haute;rétroviseurs électriques;airbag frontal;banquette 1/3 - 2/3;vision périphérique (360°);commandes vocales;vitres teintées;GPS;services connectés;prise audio USB;stations de webradio;poignées ton carrosserie;pare-brise thermique;système d'éclairage intelligent;régulateur de vitesse;siège conducteur à mémoire;inserts de porte carbone;rétroviseurs extérieurs à mémoire;carte main libre;jantes alu;siège passager à réglages électriques;boucliers av et ar couleur caisse;phares av. de jour à LED;airbags rideaux;colonne de direction électr. à mémoire;applications bois noir avec inserts alu;accoudoir central arrière;climatisation automatique multi zone;siège conducteur avec réglage lombaire;vitres électriques;feux de freinage d'urgence;eclairage d'ambiance;toit ouvrant rang 1 entrebaillant;siège passager chauffant;caméra de recul;inserts de tableau de bord carbone;banquette rabattable;filtre à pollen;siège passager avec réglage lombaire;tmc;kit téléphone main libre;rétroviseurs rabattables électriquement;porte-gobelets avant;syst. intelligent gestion des cylindres;répétiteurs de clignotant dans rétro ext;kit fumeur;sièges sport;ecran multifonction couleur;pack carbone;aide parking;AFU;contrôle de pression des pneus;airbags front. + lat.;sièges réglables en hauteur;catadioptres actifs;disque dur multimédia;jas 5 branches doubles noires285/30 r21;essuie-glaces automatiques;EBD;volant sport;température extérieure;système audio MP3;système Start & Stop;système audio;becquet;système d'échappement sport;châssis sport;feux automatiques;fermeture électrique;ceinture de vitrage chromée;noir panthère;ESP;fermeture électrique automatique;bacs de portes avant;radar anti-collision;porte-gobelets arrière;sac à ski;système DVD;miroir de courtoisie conducteur éclairé;anti patinage;accoudoir central avant;commandes du système audio au volant;fixations ISOFIX;siège conducteur chauffant;aide au démarrage en côte;lampes de lecture à l'avant;appel d'urgence localisé;lunette arrière dégivrante;suspension sport;essuie-glace arrière;eclairage statique d'intersection;ordinateur de bord;inserts de porte cuir;rétroviseurs dégivrants;système audio CD;toit ouvrant;volant réglable en hauteur et profondeur;phares adaptatifs;eclairage au sol;barres de toit;traceur GPS;siège conducteur réglable hauteur;kit téléphone main libre bluetooth;boite à gants réfrigérée;ABS;ceintures avant ajustables en hauteur;prise 12V;valcona embossé rs 6 argent lunaire;appel d'assistance localisé;volume automatique de la radio;compte tours;lave-phares;chauffage des sièges avant et arrière;boîtiers de rétros en carbone;3 ceintures ar. 3 points;borne wi-fi;siège conducteur électrique;echappement à double sortie;rétroviseur int. jour/nuit auto;système audio carte SD;alarme;alarme volumétrique;miroir de courtoisie passager éclairé;alarme périmétrique;airbags latéraux aux places arrière;calandre chromée;blocage de différentiel;volant multifonctions;ouverture des vitres séquentielle;toit ouvrant panoramique, couleur: NOIR PANTHERE CRISTAL  \n",
       "3                                                                                                                                                                                                                                                                                                                                                                                                                                                                                                                                                                                                                                                                                                                                                                                                                                                                                                                                                                                                                                                                                                                                                                                                                                                                                                                                                                                                                                                                                                                                                                                                                                                                                                                                                                                                                                                                                                                                                                                                                                                                                                                                                                                                                                                                                                                                                                                                                                                                                                                                                                                                                                                                                                                                                                                                                                                                                                                                                                                                                                                                                                                                                                                                                                                                                             modele: KA, version: 1.3 70 FUN, puissance_fiscale: 5, portes: 3.0, options: direction assistée;jantes alu;rétroviseurs électriques et dégivrants;vitres électriques;fermeture électrique;climatisation;ABS;airbags frontaux, couleur: JAUNE  \n",
       "4                                                                                                                                                                                                                                                                                                                                                                                                                                                                                                                                                                                                                                                                                                                                                                                                                                                                                                                                                                                                                                                                                                                                                                                                                                                                                                                                                                                                                                                                                                                                                                                                                                                                                                                                                                                                                                                                                                                                                                                                                                                                                                                                                                                                                                                                                                                                                                                                                                                                                                                                                                                                                                                                                                                                                                                              modele: TIPO 2 SW, version: II SW 1.4 95 POP, puissance_fiscale: 5, portes: 5.0, options: Volant alu & cuir;Bluetooth inclut musique en streaming, connexion téléphone;Rétroviseurs extérieurs chauffants;Roue de secours de taille normale;Antibrouillards avant;Taille écran multi-fonctions 5 pouces;Antipatinage;Indicateur de sous-gonflage des pneus;Ouverture du coffre à distance;6 airbags;6 haut-parleurs;Air conditionné manuel;Rétroviseurs extérieurs réglage électrique;Réglage du volant en hauteur, en profondeur;ESP;Airbags rideaux;Airbags latéraux;Aide au démarrage en côte;Ordinateur de bord;ABS;Volant multi-fonction;Assistance au freinage d'urgence;Bluetooth;Ampoules de phares halogènes, couleur: blanc verni  \n",
       "\n",
       "[5 rows x 9 columns]"
      ]
     },
     "execution_count": 118,
     "metadata": {},
     "output_type": "execute_result"
    }
   ],
   "source": [
    "df.head()"
   ]
  },
  {
   "cell_type": "code",
   "execution_count": 5,
   "metadata": {},
   "outputs": [
    {
     "data": {
      "text/plain": [
       "Price          float64\n",
       "Make            object\n",
       "Model           object\n",
       "Model_year       int64\n",
       "Mileage         object\n",
       "Fuel            object\n",
       "Gearbox         object\n",
       "Online          object\n",
       "Description     object\n",
       "dtype: object"
      ]
     },
     "execution_count": 5,
     "metadata": {},
     "output_type": "execute_result"
    }
   ],
   "source": [
    "df.dtypes"
   ]
  },
  {
   "cell_type": "markdown",
   "metadata": {},
   "source": [
    "Mileage, Online and Description doivent être netoyé."
   ]
  },
  {
   "cell_type": "code",
   "execution_count": 6,
   "metadata": {},
   "outputs": [
    {
     "data": {
      "text/plain": [
       "(166695, 9)"
      ]
     },
     "execution_count": 6,
     "metadata": {},
     "output_type": "execute_result"
    }
   ],
   "source": [
    "df.shape"
   ]
  },
  {
   "cell_type": "code",
   "execution_count": 7,
   "metadata": {},
   "outputs": [
    {
     "data": {
      "text/plain": [
       "RENAULT           0.184109\n",
       "PEUGEOT           0.156687\n",
       "CITROEN           0.105636\n",
       "VOLKSWAGEN        0.067435\n",
       "BMW               0.056534\n",
       "                    ...   \n",
       "INTERMECCANICA    0.000006\n",
       "BURBY S           0.000006\n",
       "MATRA             0.000006\n",
       "SIMCA             0.000006\n",
       "MPM MOTORS        0.000006\n",
       "Name: Make, Length: 92, dtype: float64"
      ]
     },
     "execution_count": 7,
     "metadata": {},
     "output_type": "execute_result"
    }
   ],
   "source": [
    "maker_frequency = df['Make'].value_counts(normalize=True)\n",
    "maker_frequency"
   ]
  },
  {
   "cell_type": "code",
   "execution_count": 8,
   "metadata": {},
   "outputs": [
    {
     "data": {
      "text/plain": [
       "Text(0, 0.5, 'Frequency')"
      ]
     },
     "execution_count": 8,
     "metadata": {},
     "output_type": "execute_result"
    },
    {
     "data": {
      "image/png": "[encoded data removed]",
      "text/plain": [
       "<Figure size 432x288 with 1 Axes>"
      ]
     },
     "metadata": {},
     "output_type": "display_data"
    }
   ],
   "source": [
    "plt.hist(df['Make'])\n",
    "plt.title('Make frequency')\n",
    "plt.xlabel('Make')\n",
    "plt.ylabel('Frequency')"
   ]
  },
  {
   "cell_type": "markdown",
   "metadata": {},
   "source": [
    "# Data cleaning"
   ]
  },
  {
   "cell_type": "code",
   "execution_count": 119,
   "metadata": {},
   "outputs": [],
   "source": [
    "df['Mileage'] = df['Mileage'].str.replace(\".0 km\",\"\")\n",
    "df['Mileage'] = df['Mileage'].astype(\"int32\")"
   ]
  },
  {
   "cell_type": "code",
   "execution_count": 120,
   "metadata": {},
   "outputs": [],
   "source": [
    "df['Online'] = pd.to_datetime(df['Online'], format='%d/%m/%Y à %Hh%M')\n",
    "\n",
    "df['Online_date'] = df['Online'].dt.date\n",
    "df['Online_time'] = df['Online'].dt.time\n",
    "\n",
    "df['Online_year'] = df['Online'].dt.year\n",
    "df['Online_month'] = df['Online'].dt.month\n",
    "df['Online_month_day'] = df['Online'].dt.day\n",
    "df['Online_hour'] = df['Online'].dt.hour\n",
    "df['Online_minute'] = df['Online'].dt.minute\n",
    "df['Online_week_day'] = df['Online'].dt.weekday"
   ]
  },
  {
   "cell_type": "code",
   "execution_count": 143,
   "metadata": {},
   "outputs": [
    {
     "data": {
      "text/plain": [
       "0                                                                                                                                                                                                                                                                                                                                                                                                                                                                                                                                                                                                                                                                                                                                                                                                                                                                                                                                                                                                                                                                                                                                                                                                                                                                                                                                                                                                                                                                                                                                                                                                                                                                                                                                                                                                                                                                                                                                                                                                                                                                                                                                                                        modele: 308 (2E GENERATION), version: 1.6 HDI FAP 92CH BUSINESS 5P, puissance_fiscale: 4, portes: 5.0, options: banquette arrière 3 places;volant cuir;cache bagages;airbag frontal;banquette 1/3 - 2/3;sièges rang 2 rabattables à plat;vitres teintées;boucliers av et ar couleur caisse;phares av. de jour à LED;airbags rideaux;rétroviseurs électriques et dégivrants;siège conducteur avec réglage lombaire;vitres électriques;feux de freinage d'urgence;banquette rabattable;feux ar. à LED;AFU;contrôle de pression des pneus;airbags front. + lat.;blanc banquise;lampes de lecture à l'arrière;sièges réglables en hauteur;alarme d'oubli d'extinction des feux;EBD;volant sport;température extérieure;système audio;becquet;feux automatiques;fermeture électrique;ESP;fermeture électrique automatique;bacs de portes avant;anti patinage;accoudoir central avant;commandes du système audio au volant;fixations ISOFIX;poches d'aumonières;lampes de lecture à l'avant;lunette arrière dégivrante;essuie-glace arrière;ordinateur de bord;phares halogènes;climatisation;volant réglable en hauteur et profondeur;siège conducteur réglable hauteur;boite à gants réfrigérée;ABS;ceintures avant ajustables en hauteur;prise 12V;ecran tactile multifonction;FAP;3 ceintures ar. 3 points;ouverture des vitres séquentielle, couleur: BLANC BANQUISE\n",
       "1                                                                                                                                                                                                                                                                                                                                                                                                                                                                                                                                                                                                                                                                                                                                                                                                                                                                                                                                                                                                                                                                                                                                                                                                                                                                                                                                                                                                                                                                                                                                                                                                                                                                                                                                                                                                                                                                                                                                                                                                                                                                                                                                                                                                                                                                                                                   modele: X6 F16, version: (F16) XDRIVE30D 258 M SPORT BVA8, puissance_fiscale: 16, portes: 5.0, options: triangle de presignalisation et trousse de premiers secours;volant cuir;pack alu;affichage tête haute;GPS;appel d'urgence intelligent;prise 12v additionnelle;sieges advanced pour conducteur et passager avant;projecteurs antibrouillard;climatisation automatique multi zone;pack suspension adaptative;&quotcarbonschwarz&quot metallise;caméra de recul;finition m sport;jantes alu 20&quot;pack innovation;kit fumeurs;rétroviseurs rabattables électriquement;shadow line brillant;information trafic en temps reel rtti (3ans);aide parking;contrôle de pression des pneus;système audio Harman Kardon;surround view;sièges électrique à mémoire;conciergerie (3 ans);fonctions &quotma bmw a distance&quot;pack safety;airbag passager desactivable via la cle;services connecteddrive (bmw online 3 ans + bmw apps);pack M;planche de bord en cuir;info trafic tmc;lave-phares;ciel de pavillon anthracite;services bmw connecteddrive;rétroviseur int. jour/nuit auto;tapis de sol;feux de route anti-eblouissement;pack advanced full led;boulons antivol de roues, couleur: Carbonschwarz metallise\n",
       "2    modele: RS6 (3E GENERATION) AVANT, version: III AVANT 4.0 TFSI 560 QUATTRO TIPTRONIC, puissance_fiscale: 47, portes: 5.0, options: banquette arrière 3 places;écran tactile;témoin de bouclage des ceintures av;palettes au volant;volant cuir;régulateur limiteur de vitesse;commande climatisation ar;pack dynamique;cache bagages;sorties d'échappement chromées;affichage tête haute;rétroviseurs électriques;airbag frontal;banquette 1/3 - 2/3;vision périphérique (360°);commandes vocales;vitres teintées;GPS;services connectés;prise audio USB;stations de webradio;poignées ton carrosserie;pare-brise thermique;système d'éclairage intelligent;régulateur de vitesse;siège conducteur à mémoire;inserts de porte carbone;rétroviseurs extérieurs à mémoire;carte main libre;jantes alu;siège passager à réglages électriques;boucliers av et ar couleur caisse;phares av. de jour à LED;airbags rideaux;colonne de direction électr. à mémoire;applications bois noir avec inserts alu;accoudoir central arrière;climatisation automatique multi zone;siège conducteur avec réglage lombaire;vitres électriques;feux de freinage d'urgence;eclairage d'ambiance;toit ouvrant rang 1 entrebaillant;siège passager chauffant;caméra de recul;inserts de tableau de bord carbone;banquette rabattable;filtre à pollen;siège passager avec réglage lombaire;tmc;kit téléphone main libre;rétroviseurs rabattables électriquement;porte-gobelets avant;syst. intelligent gestion des cylindres;répétiteurs de clignotant dans rétro ext;kit fumeur;sièges sport;ecran multifonction couleur;pack carbone;aide parking;AFU;contrôle de pression des pneus;airbags front. + lat.;sièges réglables en hauteur;catadioptres actifs;disque dur multimédia;jas 5 branches doubles noires285/30 r21;essuie-glaces automatiques;EBD;volant sport;température extérieure;système audio MP3;système Start & Stop;système audio;becquet;système d'échappement sport;châssis sport;feux automatiques;fermeture électrique;ceinture de vitrage chromée;noir panthère;ESP;fermeture électrique automatique;bacs de portes avant;radar anti-collision;porte-gobelets arrière;sac à ski;système DVD;miroir de courtoisie conducteur éclairé;anti patinage;accoudoir central avant;commandes du système audio au volant;fixations ISOFIX;siège conducteur chauffant;aide au démarrage en côte;lampes de lecture à l'avant;appel d'urgence localisé;lunette arrière dégivrante;suspension sport;essuie-glace arrière;eclairage statique d'intersection;ordinateur de bord;inserts de porte cuir;rétroviseurs dégivrants;système audio CD;toit ouvrant;volant réglable en hauteur et profondeur;phares adaptatifs;eclairage au sol;barres de toit;traceur GPS;siège conducteur réglable hauteur;kit téléphone main libre bluetooth;boite à gants réfrigérée;ABS;ceintures avant ajustables en hauteur;prise 12V;valcona embossé rs 6 argent lunaire;appel d'assistance localisé;volume automatique de la radio;compte tours;lave-phares;chauffage des sièges avant et arrière;boîtiers de rétros en carbone;3 ceintures ar. 3 points;borne wi-fi;siège conducteur électrique;echappement à double sortie;rétroviseur int. jour/nuit auto;système audio carte SD;alarme;alarme volumétrique;miroir de courtoisie passager éclairé;alarme périmétrique;airbags latéraux aux places arrière;calandre chromée;blocage de différentiel;volant multifonctions;ouverture des vitres séquentielle;toit ouvrant panoramique, couleur: NOIR PANTHERE CRISTAL\n",
       "3                                                                                                                                                                                                                                                                                                                                                                                                                                                                                                                                                                                                                                                                                                                                                                                                                                                                                                                                                                                                                                                                                                                                                                                                                                                                                                                                                                                                                                                                                                                                                                                                                                                                                                                                                                                                                                                                                                                                                                                                                                                                                                                                                                                                                                                                                                                                                                                                                                                                                                                                                                                                                                                                                                                                                                                                                                                                                                                                                                                                                                                                                                                                                                                                                                                                                               modele: KA, version: 1.3 70 FUN, puissance_fiscale: 5, portes: 3.0, options: direction assistée;jantes alu;rétroviseurs électriques et dégivrants;vitres électriques;fermeture électrique;climatisation;ABS;airbags frontaux, couleur: JAUNE\n",
       "4                                                                                                                                                                                                                                                                                                                                                                                                                                                                                                                                                                                                                                                                                                                                                                                                                                                                                                                                                                                                                                                                                                                                                                                                                                                                                                                                                                                                                                                                                                                                                                                                                                                                                                                                                                                                                                                                                                                                                                                                                                                                                                                                                                                                                                                                                                                                                                                                                                                                                                                                                                                                                                                                                                                                                                                                modele: TIPO 2 SW, version: II SW 1.4 95 POP, puissance_fiscale: 5, portes: 5.0, options: Volant alu & cuir;Bluetooth inclut musique en streaming, connexion téléphone;Rétroviseurs extérieurs chauffants;Roue de secours de taille normale;Antibrouillards avant;Taille écran multi-fonctions 5 pouces;Antipatinage;Indicateur de sous-gonflage des pneus;Ouverture du coffre à distance;6 airbags;6 haut-parleurs;Air conditionné manuel;Rétroviseurs extérieurs réglage électrique;Réglage du volant en hauteur, en profondeur;ESP;Airbags rideaux;Airbags latéraux;Aide au démarrage en côte;Ordinateur de bord;ABS;Volant multi-fonction;Assistance au freinage d'urgence;Bluetooth;Ampoules de phares halogènes, couleur: blanc verni\n",
       "5                                                                                                                                                                                                                                                                                                                                                                                                                                                                                                                                                                                                                                                                                                                                                                                                                                                                                                                                                                                                                                                                                                                                                                                                                                                                                                                                                                                                                                                                                                                                                                                                                                                                                                                                                                                                                                                                                                                                                                                                                                                                                                                                                                                                                                                                                                        modele: X3 F25, version: (F25) XDRIVE35D 313 SPORT DESIGN BVA8, puissance_fiscale: 20, portes: 5.0, options: vitrage calorifuge;triangle de presignalisation et trousse de premiers secours;direction assistée;affichage tête haute;kit rangement;application decorative &quotschwarz&quot brillant;GPS;bmw assist;sièges chauffants;DVD;inserts decoratifs en bois precieux fineline &quotwave&quot;appui lombaire ajustable pour sieges avant;climatisation automatique multi zone;pack innovation;rétroviseurs rabattables électriquement;projecteurs bi-xénon;banquette arriere rabattable 40/20/40;aide parking;sièges électrique à mémoire;système audio;information elargie bmw online;finition sport design;jantes alu 19&quot;combox;pack M;bmw online;appel auto. du vehicule si maintenance necessaire;teleservices : telediagnostic via tel. du vehicule;kit téléphone main libre bluetooth;feux et essuie-glaces automatiques;lave-phares;rétroviseur int. jour/nuit auto;tapis de sol;feux de route anti-eblouissement;services telematiques bmw co;boulons antivol de roues;volant multifonctions;projecteurs directionnels;toit ouvrant panoramique;aide parking avec caméra de recul, couleur: Saphirschwarz Metal\n",
       "6                                                                                                                                                                                                                                                                                                                                                                                                                                                                                                                                                                                                                                                                                                                                                                                                                                                                                                                                                                                                                                                                                                                                                                                                                                                                                                                                                                                                                                                                                                                                                                                                                                                                                                                                                                                                                                                                                                                                                                                                                                                                                                                                                                                                                                                                                                                                                                                                                                                                                                                                                                                                                                       modele: A3 (2E GENERATION) SPORTBACK, version: II (2) SPORTBACK 2.0 TDI 140 7CV AMBITION LUXE QUATTRO, puissance_fiscale: 7, portes: 5.0, options: \"anti démarrage;radar de recul;prises audio auxiliaires;direction assistée;banquette 1/3 - 2/3;airbags;régulateur de vitesse;phares av. de jour à LED;projecteurs antibrouillard;climatisation automatique multi zone;kit téléphone main libre;rétroviseurs rabattables électriquement;jantes alu 17\"\";sièges sport;aide parking;sièges réglables en hauteur;carnet d'entretien;système audio carte SD MP3;feux automatiques;anti patinage;fixations ISOFIX;4 vitres électriques;ordinateur de bord;système audio CD;volant réglable en hauteur et profondeur;kit téléphone main libre bluetooth;4 roues motrices;feux et essuie-glaces automatiques;ABS;peinture métallisée;volant multifonctions;détecteur de pluie\", couleur: gris clair metal\n",
       "7                                                                                                                                                                                                                                                                                                                                                                                                                                                                                                                                                                                                                                                                                                                                                                                                                                                                                                                                                                                                                                                                                                                                                                                                                                                                                                                                                                                                                                                                                                                                                                                                                                                                                                                                                                                                                                                                                                                                                                                                                                                                                                                                                                                                                                                                                                                                                                                                                                                                                                                                                                                                                                                                                                                                                                                                                                                                                                                                                                                                                                                                          modele: MEGANE 4 ESTATE, version: IV ESTATE 1.5 DCI 110 ENERGY ZEN EDC, puissance_fiscale: 5, portes: 5.0, options: régulateur limiteur de vitesse;carte main libre;peinture gris titanium;rétroviseurs électriques et dégivrants;climatisation automatique multi zone;vitres électriques;aide parking;rampes de pavillon alu;essuie-glaces automatiques;airbags latéraux bassin / thorax conducteur et passager ar;jantes alliage 16'' silverline, couleur: Gris\n",
       "8                                                                                                                                                                                                                                                                                                                                                                                                                                                                                                                                                                                                                                                                                                                                                                                                                                                                                                                                                                                                                                                                                                                                                                                                                                                                                                                                                                                                                                                                                                                                                                                                                                                                                                                                                                                                                                                                                                                                                                                                                                                                                                                                                                                                                                                                                                                                                                                                                                                                                                                                                                                                                                                                                                                                                                                                                                                                                                                                                                                                                                                                                                                                                                                                                                                                                                                                                                                                                   modele: C-MAX 2, version: II 1.6 TDCI 115 FAP TITANIUM BVM6, puissance_fiscale: 6, portes: 5.0, options: , couleur: brun\n",
       "9                                                                                                                                                                                                                                                                                                                                                                                                                                                                                                                                                                                                                                                                                                                                                                                                                                                                                                                                                                                                                                                                                                                                                                                                                                                                                                                                                                                                                                                                                                                                                                                                                                                                                                                                                                                                                                                                                                                                                                                                                                                                                                                                                                                                                                                                                                                                                                                                                                                                                modele: CLASSE C 4 AMG, version: (W205) 63 AMG S SPEEDSHIFT MCT AMG, puissance_fiscale: 40, portes: 4.0, options: régulateur limiteur de vitesse;affichage tête haute;commandes vocales;module téléphonique bluetooth sap v4;GPS;carte main libre;jantes alu;easy-pack : caisse rétractable;noir obsidienne;pack d'assistance à la conduite plus;airbags rideaux;sortie d'échappement amg performance;climatisation automatique multi zone;caméra 360°;caméra de recul;inserts déco carbone/aluminium;ecran multifonction couleur;aide parking;carnet d'entretien;essuie-glaces automatiques;volant sport;système Start & Stop;feux automatiques;sièges avant sport amg performance;navigateur internet;toit panoramique;cuir nappa noir (*);pack sport black amg;ja 19&quot amg 9 brch dble noir 245av/265ar;ordinateur de bord;vitrage et lunette arrière foncées;pack technologie plus;kit téléphone main libre bluetooth;pédalier sport;pack carbone extérieur amg plus;borne wi-fi;keyless-go : accès au véhicule;volant multifonctions, couleur: NOIR\n",
       "Name: Description, dtype: object"
      ]
     },
     "execution_count": 143,
     "metadata": {},
     "output_type": "execute_result"
    }
   ],
   "source": [
    "df['Description'].head(10)"
   ]
  },
  {
   "cell_type": "markdown",
   "metadata": {},
   "source": [
    "Description contient plusieurs sous-champs qui sont séparés par une **','**\n",
    "\n",
    "Le sous-champs Options contient des paramètres séparés par des **';'**\n",
    "\n",
    "Certains paramètres dans Options contiennet des valeurs spécifiques. \n",
    "Leur patern est : **'; parametre : valeur'**. \n",
    "\n",
    "Pour les paramettres suivants dans Options : \n",
    "- finition brillantes pneus \n",
    "- noir anthracite finition brillantes avec pneus\n",
    "- 5 J x 21 Pneus '\n",
    "- réglages électriques des sièges -Conducteur\n",
    "\n",
    "le patern est **', parametre : valeur'**"
   ]
  },
  {
   "cell_type": "code",
   "execution_count": 189,
   "metadata": {},
   "outputs": [
    {
     "data": {
      "text/plain": [
       "{', couleur:',\n",
       " ', finition brillantes pneus :',\n",
       " ', noir anthracite finition brillantes avec pneus :',\n",
       " ', options:',\n",
       " ', portes:',\n",
       " ', puissance_fiscale:',\n",
       " ', réglages électriques des sièges -Conducteur :',\n",
       " ', version:',\n",
       " ',5 J x 21 Pneus :',\n",
       " 'modele:'}"
      ]
     },
     "execution_count": 189,
     "metadata": {},
     "output_type": "execute_result"
    }
   ],
   "source": [
    "# Trouver les détail des champs dans Decription : separation par des ','\n",
    "str_list = df['Description'].str.findall(r'(^.[^,;]*?:|,[^,;]*?:)').values.tolist()\n",
    "str_list = list(filter(None, str_list))\n",
    "flat_list = [item for sublist in str_list for item in sublist]\n",
    "details = set(flat_list)\n",
    "#details = [w.replace(', ', '') for w in details]\n",
    "#details = [w.replace(':', '') for w in details]\n",
    "details"
   ]
  },
  {
   "cell_type": "code",
   "execution_count": 169,
   "metadata": {},
   "outputs": [
    {
     "data": {
      "text/plain": [
       "['modele', 'version', 'puissance_fiscale', 'couleur', 'portes', 'options']"
      ]
     },
     "execution_count": 169,
     "metadata": {},
     "output_type": "execute_result"
    }
   ],
   "source": [
    "# Trouver les détail des champs dans Decription : separation par des ','\n",
    "str_list = df['Description'].str.findall(r'(^.[^,; ]*?:|, [^,; ]*?:)').values.tolist()\n",
    "str_list = list(filter(None, str_list))\n",
    "flat_list = [item for sublist in str_list for item in sublist]\n",
    "details = set(flat_list)\n",
    "details = [w.replace(', ', '') for w in details]\n",
    "details = [w.replace(':', '') for w in details]\n",
    "details"
   ]
  },
  {
   "cell_type": "code",
   "execution_count": 173,
   "metadata": {},
   "outputs": [
    {
     "data": {
      "text/plain": [
       "7213    modele: RS3 (2E GENERATION) SPORTBACK, version: II (2) SPORTBACK 2.5 TFSI 400 QUATTRO S TRONIC, puissance_fiscale: 29, portes: 5.0, options: Rétroviseurs rabattables électriquement;Application décorative Carbone;Système audio carte digitale;Bluetooth inclut musique en streaming, connexion téléphone;Smart card / Smart key;Air conditionné 2 zones;Jantes en aluminium coulé en style Blade à 5 branches en noir anthracite brillant, finition brillantes pneus : 255/30 R19 AV et 235/35 R19 AR (uniquement sur RS 3 Sportback);Palettes au volant;Feux de croisement à LED;Freins régénérateurs;Antipatinage;Limiteur de vitesse;Sorties d'échappement Sport RS pour une sonorité encore plus sportive;Rétroviseurs extérieurs réglables, dégivrants et rabattables électriquement avec position automatique pour manoeuvre de stationnement et fonction jour / nuit automatiquecôté conducteur;Vitres arrière surteintées (Privacy glass);Volant suede & cuir;Alarme;Bang & Olufsen Sound System;Système de navigation info trafic;Audi Phone Box;Chargeur 1 CD;Tapis de sol;Pack Brillance noir Audi exclusive;Pack Confort;Indicateur de sous-gonflage des pneus;Ouverture du coffre à distance;Taille écran navigation 7 pouces;Réseau Wifi;Projecteurs Audi Matrix LED avec clignotants dynamiques (avant et arrière);Feux arrières à LED;Pack Design RS;7 airbags;Rétroviseurs extérieurs réglage électrique;Rétroviseur jour/nuit;Phares à allumage automatique;Fixation pour siège-enfant ISOFIX pour le siège du passager avant;Réglage du volant en hauteur, en profondeur;ESP;Airbags rideaux;Sièges Sport RS à l'avant en cuir Nappa avec surpiqûres diamant;10 haut-parleurs;Airbags latéraux;Kit anticrevaison;Bouton démarrage;Essuie glace capteur de pluie;Régulateur de vitesse;Système détection de collision;Aide au démarrage en côte;Système de navigation;Ordinateur de bord;Accoudoir central avant;Freins Céramique;ABS;Lave-phares;Feux de croisement automatiques;Volant multi-fonction;Capot à soulèvement pour choc piéton;Reconnaissance vocale;Taille écran multi-fonctions 12.3 pouces;Assistance au freinage d'urgence;Système audio lecteur CD et MP3;Ampoules de phares LED;Air conditionné auto;Sièges avant chauffants;Bluetooth;DVD/VCD;Réception radio numérique (DAB), couleur: gris metal   \n",
       "Name: Description, dtype: object"
      ]
     },
     "execution_count": 173,
     "metadata": {},
     "output_type": "execute_result"
    }
   ],
   "source": [
    "df[df['Description'].str.contains(\"finition brillantes pneus :\")]['Description'].head(1)"
   ]
  },
  {
   "cell_type": "code",
   "execution_count": 174,
   "metadata": {},
   "outputs": [],
   "source": [
    "df['modele'] = df['Description'].str.extract(r'(\\bmodele\\: \\b.*?,)', expand=True) \n",
    "df['modele'] = df['modele'].str.replace(\"modele: \", \"\")\n",
    "df['modele'] = df['modele'].str.replace(\",\", \"\")\n",
    "\n",
    "df['version'] = df['Description'].str.extract(r'(\\bversion\\: \\b.*?,)', expand=True)       \n",
    "df['version'] = df['version'].str.replace(\"version: \", \"\")\n",
    "df['version'] = df['version'].str.replace(\",\", \"\")\n",
    "\n",
    "df['puissance_fiscale'] = df['Description'].str.extract(r'(\\bpuissance_fiscale\\: \\b.*?,)', expand=True)       \n",
    "df['puissance_fiscale'] = df['puissance_fiscale'].str.replace(\"puissance_fiscale: \", \"\")\n",
    "df['puissance_fiscale'] = df['puissance_fiscale'].str.replace(\",\", \"\")\n",
    "\n",
    "df['portes'] = df['Description'].str.extract(r'(\\bportes\\: \\b.*?,)', expand=True)       \n",
    "df['portes'] = df['portes'].str.replace(\"portes: \", \"\")\n",
    "df['portes'] = df['portes'].str.replace(\",\", \"\")\n",
    "\n",
    "df['couleur'] = df['Description'].str.extract(r'(\\bcouleur\\: \\b.*?$)', expand=True)       \n",
    "df['couleur'] = df['couleur'].str.replace(\"couleur: \", \"\")\n",
    "df['couleur'] = df['couleur'].str.upper()"
   ]
  },
  {
   "cell_type": "code",
   "execution_count": 16,
   "metadata": {},
   "outputs": [],
   "source": [
    "#df[['couleur_principal', 'couleur_second']] = df['couleur'].str.split(\" \", expand=False)\n",
    "#df[['couleur_principal', 'couleur_second']]\n",
    "#df['couleur'].str.split(\" \", expand=False)\n",
    "df[['couleur_principal', 'couleur_second']] = df['couleur'].str.extract(r'(^.*? )( .*$)', expand=True)\n",
    "df[['couleur_principal', 'couleur_second']]"
   ]
  },
  {
   "cell_type": "code",
   "execution_count": 17,
   "metadata": {},
   "outputs": [
    {
     "data": {
      "text/plain": [
       "GRIS                     20934\n",
       "BLANC                    20509\n",
       "NOIR                     18362\n",
       "ROUGE                     4527\n",
       "BLEU                      4158\n",
       "                         ...  \n",
       "GRIS METALLISÉE              1\n",
       "DESIGNO BLEU MYSTIQUE        1\n",
       "GLACIER MÉTALLISÉ            1\n",
       "AURORA SILVER                1\n",
       "GRIS SELENITE MAGNO          1\n",
       "Name: couleur, Length: 6672, dtype: int64"
      ]
     },
     "execution_count": 17,
     "metadata": {},
     "output_type": "execute_result"
    }
   ],
   "source": [
    "x = df['couleur'].value_counts()\n",
    "x"
   ]
  },
  {
   "cell_type": "code",
   "execution_count": 20,
   "metadata": {},
   "outputs": [
    {
     "data": {
      "text/plain": [
       "5.0    138807\n",
       "3.0     11597\n",
       "4.0      8540\n",
       "2.0      6443\n",
       "0.0        17\n",
       "6.0         2\n",
       "Name: portes, dtype: int64"
      ]
     },
     "execution_count": 20,
     "metadata": {},
     "output_type": "execute_result"
    }
   ],
   "source": [
    "df['portes'].value_counts()"
   ]
  },
  {
   "cell_type": "code",
   "execution_count": null,
   "metadata": {},
   "outputs": [],
   "source": []
  },
  {
   "cell_type": "code",
   "execution_count": null,
   "metadata": {},
   "outputs": [],
   "source": []
  },
  {
   "cell_type": "code",
   "execution_count": 3,
   "metadata": {},
   "outputs": [
    {
     "data": {
      "text/plain": [
       "0         banquette arrière 3 places;volant cuir;cache b...\n",
       "1         triangle de presignalisation et trousse de pre...\n",
       "2         banquette arrière 3 places;écran tactile;témoi...\n",
       "3         direction assistée;jantes alu;rétroviseurs éle...\n",
       "4         Volant alu & cuir;Bluetooth inclut musique en ...\n",
       "                                ...                        \n",
       "166690    banquette arrière 3 places;prise 220v;volant c...\n",
       "166691    Peinture métallisée;Système audio écran tactil...\n",
       "166692    banquette arrière 3 places;témoin de bouclage ...\n",
       "166693    écran tactile;prises audio auxiliaires;cache b...\n",
       "166694    régulateur limiteur de vitesse;airbags;carte m...\n",
       "Name: options, Length: 166695, dtype: object"
      ]
     },
     "execution_count": 3,
     "metadata": {},
     "output_type": "execute_result"
    }
   ],
   "source": [
    "#\n",
    "df['options'] = df['Description'].str.extract(r'(\\boptions\\b.*?\\b, couleur\\b)', expand=True)       \n",
    "df['options'] = df['options'].str.replace(\"options: \", \"\")\n",
    "df['options'] = df['options'].str.replace(\", couleur\", \"\")\n",
    "df['options']"
   ]
  },
  {
   "cell_type": "code",
   "execution_count": 258,
   "metadata": {},
   "outputs": [
    {
     "data": {
      "text/plain": [
       "12941"
      ]
     },
     "execution_count": 258,
     "metadata": {},
     "output_type": "execute_result"
    }
   ],
   "source": [
    "df['options'].isna().sum()"
   ]
  },
  {
   "cell_type": "code",
   "execution_count": 241,
   "metadata": {},
   "outputs": [],
   "source": [
    "# Trouver les détail des champs dans Decription : separation par des ','\n",
    "# (?|[^;]*|) : séparation par les points-virgule.\n",
    "df['parametres'] = (df['options'].str.findall(r'([^;]+)')).values.tolist()\n",
    "#str_list = list(filter(None, str_list))\n",
    "#flat_list = [item for sublist in str_list for item in sublist]\n",
    "#parametres = set(flat_list)\n",
    "#parametres = [w.replace(', ', '') for w in parametres]\n",
    "#parametres = [w.replace(':', '') for w in parametres]\n",
    "#parametres\n",
    "\n",
    "# (?|[^;]*|) : séparation par les points-virgule.\n",
    "# (?|;[^;]*:[^;]*;|) : récupération des \";.....:......;\"\n",
    "# .*,\n",
    "# ,.*"
   ]
  },
  {
   "cell_type": "code",
   "execution_count": 256,
   "metadata": {},
   "outputs": [
    {
     "ename": "KeyError",
     "evalue": "'Decription'",
     "output_type": "error",
     "traceback": [
      "\u001b[0;31m---------------------------------------------------------------------------\u001b[0m",
      "\u001b[0;31mKeyError\u001b[0m                                  Traceback (most recent call last)",
      "\u001b[0;32m/anaconda3/lib/python3.7/site-packages/pandas/core/indexes/base.py\u001b[0m in \u001b[0;36mget_loc\u001b[0;34m(self, key, method, tolerance)\u001b[0m\n\u001b[1;32m   2645\u001b[0m             \u001b[0;32mtry\u001b[0m\u001b[0;34m:\u001b[0m\u001b[0;34m\u001b[0m\u001b[0;34m\u001b[0m\u001b[0m\n\u001b[0;32m-> 2646\u001b[0;31m                 \u001b[0;32mreturn\u001b[0m \u001b[0mself\u001b[0m\u001b[0;34m.\u001b[0m\u001b[0m_engine\u001b[0m\u001b[0;34m.\u001b[0m\u001b[0mget_loc\u001b[0m\u001b[0;34m(\u001b[0m\u001b[0mkey\u001b[0m\u001b[0;34m)\u001b[0m\u001b[0;34m\u001b[0m\u001b[0;34m\u001b[0m\u001b[0m\n\u001b[0m\u001b[1;32m   2647\u001b[0m             \u001b[0;32mexcept\u001b[0m \u001b[0mKeyError\u001b[0m\u001b[0;34m:\u001b[0m\u001b[0;34m\u001b[0m\u001b[0;34m\u001b[0m\u001b[0m\n",
      "\u001b[0;32mpandas/_libs/index.pyx\u001b[0m in \u001b[0;36mpandas._libs.index.IndexEngine.get_loc\u001b[0;34m()\u001b[0m\n",
      "\u001b[0;32mpandas/_libs/index.pyx\u001b[0m in \u001b[0;36mpandas._libs.index.IndexEngine.get_loc\u001b[0;34m()\u001b[0m\n",
      "\u001b[0;32mpandas/_libs/hashtable_class_helper.pxi\u001b[0m in \u001b[0;36mpandas._libs.hashtable.PyObjectHashTable.get_item\u001b[0;34m()\u001b[0m\n",
      "\u001b[0;32mpandas/_libs/hashtable_class_helper.pxi\u001b[0m in \u001b[0;36mpandas._libs.hashtable.PyObjectHashTable.get_item\u001b[0;34m()\u001b[0m\n",
      "\u001b[0;31mKeyError\u001b[0m: 'Decription'",
      "\nDuring handling of the above exception, another exception occurred:\n",
      "\u001b[0;31mKeyError\u001b[0m                                  Traceback (most recent call last)",
      "\u001b[0;32m<ipython-input-256-afcfb9ad437a>\u001b[0m in \u001b[0;36m<module>\u001b[0;34m\u001b[0m\n\u001b[1;32m      2\u001b[0m \u001b[0;31m#df['parametres']#.values.replace(',','n')\u001b[0m\u001b[0;34m\u001b[0m\u001b[0;34m\u001b[0m\u001b[0;34m\u001b[0m\u001b[0m\n\u001b[1;32m      3\u001b[0m \u001b[0;31m#df['parametres']\u001b[0m\u001b[0;34m\u001b[0m\u001b[0;34m\u001b[0m\u001b[0;34m\u001b[0m\u001b[0m\n\u001b[0;32m----> 4\u001b[0;31m \u001b[0mdf\u001b[0m\u001b[0;34m[\u001b[0m\u001b[0mdf\u001b[0m\u001b[0;34m[\u001b[0m\u001b[0;34m'Decription'\u001b[0m\u001b[0;34m]\u001b[0m\u001b[0;34m.\u001b[0m\u001b[0mstr\u001b[0m\u001b[0;34m.\u001b[0m\u001b[0mcontains\u001b[0m\u001b[0;34m(\u001b[0m\u001b[0;34m\"finition brillantes pneus :\"\u001b[0m\u001b[0;34m)\u001b[0m\u001b[0;34m]\u001b[0m\u001b[0;34m[\u001b[0m\u001b[0;34m'options'\u001b[0m\u001b[0;34m]\u001b[0m\u001b[0;34m\u001b[0m\u001b[0;34m\u001b[0m\u001b[0m\n\u001b[0m",
      "\u001b[0;32m/anaconda3/lib/python3.7/site-packages/pandas/core/frame.py\u001b[0m in \u001b[0;36m__getitem__\u001b[0;34m(self, key)\u001b[0m\n\u001b[1;32m   2798\u001b[0m             \u001b[0;32mif\u001b[0m \u001b[0mself\u001b[0m\u001b[0;34m.\u001b[0m\u001b[0mcolumns\u001b[0m\u001b[0;34m.\u001b[0m\u001b[0mnlevels\u001b[0m \u001b[0;34m>\u001b[0m \u001b[0;36m1\u001b[0m\u001b[0;34m:\u001b[0m\u001b[0;34m\u001b[0m\u001b[0;34m\u001b[0m\u001b[0m\n\u001b[1;32m   2799\u001b[0m                 \u001b[0;32mreturn\u001b[0m \u001b[0mself\u001b[0m\u001b[0;34m.\u001b[0m\u001b[0m_getitem_multilevel\u001b[0m\u001b[0;34m(\u001b[0m\u001b[0mkey\u001b[0m\u001b[0;34m)\u001b[0m\u001b[0;34m\u001b[0m\u001b[0;34m\u001b[0m\u001b[0m\n\u001b[0;32m-> 2800\u001b[0;31m             \u001b[0mindexer\u001b[0m \u001b[0;34m=\u001b[0m \u001b[0mself\u001b[0m\u001b[0;34m.\u001b[0m\u001b[0mcolumns\u001b[0m\u001b[0;34m.\u001b[0m\u001b[0mget_loc\u001b[0m\u001b[0;34m(\u001b[0m\u001b[0mkey\u001b[0m\u001b[0;34m)\u001b[0m\u001b[0;34m\u001b[0m\u001b[0;34m\u001b[0m\u001b[0m\n\u001b[0m\u001b[1;32m   2801\u001b[0m             \u001b[0;32mif\u001b[0m \u001b[0mis_integer\u001b[0m\u001b[0;34m(\u001b[0m\u001b[0mindexer\u001b[0m\u001b[0;34m)\u001b[0m\u001b[0;34m:\u001b[0m\u001b[0;34m\u001b[0m\u001b[0;34m\u001b[0m\u001b[0m\n\u001b[1;32m   2802\u001b[0m                 \u001b[0mindexer\u001b[0m \u001b[0;34m=\u001b[0m \u001b[0;34m[\u001b[0m\u001b[0mindexer\u001b[0m\u001b[0;34m]\u001b[0m\u001b[0;34m\u001b[0m\u001b[0;34m\u001b[0m\u001b[0m\n",
      "\u001b[0;32m/anaconda3/lib/python3.7/site-packages/pandas/core/indexes/base.py\u001b[0m in \u001b[0;36mget_loc\u001b[0;34m(self, key, method, tolerance)\u001b[0m\n\u001b[1;32m   2646\u001b[0m                 \u001b[0;32mreturn\u001b[0m \u001b[0mself\u001b[0m\u001b[0;34m.\u001b[0m\u001b[0m_engine\u001b[0m\u001b[0;34m.\u001b[0m\u001b[0mget_loc\u001b[0m\u001b[0;34m(\u001b[0m\u001b[0mkey\u001b[0m\u001b[0;34m)\u001b[0m\u001b[0;34m\u001b[0m\u001b[0;34m\u001b[0m\u001b[0m\n\u001b[1;32m   2647\u001b[0m             \u001b[0;32mexcept\u001b[0m \u001b[0mKeyError\u001b[0m\u001b[0;34m:\u001b[0m\u001b[0;34m\u001b[0m\u001b[0;34m\u001b[0m\u001b[0m\n\u001b[0;32m-> 2648\u001b[0;31m                 \u001b[0;32mreturn\u001b[0m \u001b[0mself\u001b[0m\u001b[0;34m.\u001b[0m\u001b[0m_engine\u001b[0m\u001b[0;34m.\u001b[0m\u001b[0mget_loc\u001b[0m\u001b[0;34m(\u001b[0m\u001b[0mself\u001b[0m\u001b[0;34m.\u001b[0m\u001b[0m_maybe_cast_indexer\u001b[0m\u001b[0;34m(\u001b[0m\u001b[0mkey\u001b[0m\u001b[0;34m)\u001b[0m\u001b[0;34m)\u001b[0m\u001b[0;34m\u001b[0m\u001b[0;34m\u001b[0m\u001b[0m\n\u001b[0m\u001b[1;32m   2649\u001b[0m         \u001b[0mindexer\u001b[0m \u001b[0;34m=\u001b[0m \u001b[0mself\u001b[0m\u001b[0;34m.\u001b[0m\u001b[0mget_indexer\u001b[0m\u001b[0;34m(\u001b[0m\u001b[0;34m[\u001b[0m\u001b[0mkey\u001b[0m\u001b[0;34m]\u001b[0m\u001b[0;34m,\u001b[0m \u001b[0mmethod\u001b[0m\u001b[0;34m=\u001b[0m\u001b[0mmethod\u001b[0m\u001b[0;34m,\u001b[0m \u001b[0mtolerance\u001b[0m\u001b[0;34m=\u001b[0m\u001b[0mtolerance\u001b[0m\u001b[0;34m)\u001b[0m\u001b[0;34m\u001b[0m\u001b[0;34m\u001b[0m\u001b[0m\n\u001b[1;32m   2650\u001b[0m         \u001b[0;32mif\u001b[0m \u001b[0mindexer\u001b[0m\u001b[0;34m.\u001b[0m\u001b[0mndim\u001b[0m \u001b[0;34m>\u001b[0m \u001b[0;36m1\u001b[0m \u001b[0;32mor\u001b[0m \u001b[0mindexer\u001b[0m\u001b[0;34m.\u001b[0m\u001b[0msize\u001b[0m \u001b[0;34m>\u001b[0m \u001b[0;36m1\u001b[0m\u001b[0;34m:\u001b[0m\u001b[0;34m\u001b[0m\u001b[0;34m\u001b[0m\u001b[0m\n",
      "\u001b[0;32mpandas/_libs/index.pyx\u001b[0m in \u001b[0;36mpandas._libs.index.IndexEngine.get_loc\u001b[0;34m()\u001b[0m\n",
      "\u001b[0;32mpandas/_libs/index.pyx\u001b[0m in \u001b[0;36mpandas._libs.index.IndexEngine.get_loc\u001b[0;34m()\u001b[0m\n",
      "\u001b[0;32mpandas/_libs/hashtable_class_helper.pxi\u001b[0m in \u001b[0;36mpandas._libs.hashtable.PyObjectHashTable.get_item\u001b[0;34m()\u001b[0m\n",
      "\u001b[0;32mpandas/_libs/hashtable_class_helper.pxi\u001b[0m in \u001b[0;36mpandas._libs.hashtable.PyObjectHashTable.get_item\u001b[0;34m()\u001b[0m\n",
      "\u001b[0;31mKeyError\u001b[0m: 'Decription'"
     ]
    }
   ],
   "source": [
    "#df['parametres'].apply(lambda x : type(x))#.str.replace(')\n",
    "#df['parametres']#.values.replace(',','n')\n",
    "#df['parametres'] \n",
    "df[df['Decription'].str.contains(\"finition brillantes pneus :\")]['options']"
   ]
  },
  {
   "cell_type": "code",
   "execution_count": 257,
   "metadata": {},
   "outputs": [
    {
     "data": {
      "text/plain": [
       "7213                                                                                                                                                                                                                                                                                                                                                                                                                                                                                                                                                                                                                                                                                                                                                                                                                                                                                                                                                                                                                                                                                                                                                                                                                                                                                                                                                                                                                                                                                                                                                                                                                                                                                                                                                                                                                                                                                                                                                                                                                                                                                                                                                                                                                                                                                                                                                                                         NaN\n",
       "38958    Coques de rétroviseurs extérieurs en teinte Audi exclusive noir brillant;Rétroviseurs rabattables électriquement;Application décorative Carbone;Système audio carte digitale;Peinture nacrée;Bluetooth inclut musique en streaming, connexion téléphone;Smart card / Smart key;Air conditionné 2 zones;Jantes en aluminium coulé en style Blade à 5 branches en noir anthracite brillant, finition brillantes pneus : 255/30 R19 AV et 235/35 R19 AR (uniquement sur RS 3 Sportback);Pack fumeur : allume-cigare et cendrier;Palettes au volant;Feux de croisement à LED;Freins régénérateurs;Antipatinage;Limiteur de vitesse;Sorties d'échappement Sport RS pour une sonorité encore plus sportive;Volant suede & cuir;Alarme;Bang & Olufsen Sound System;Système de navigation info trafic;Chargeur 1 CD;Tapis de sol;Caméra de recul;Pack Brillance noir Audi exclusive;Pack Confort;Adaptive cruise control avec Audi pre sense front (avec fonction Stop&Go);Indicateur de sous-gonflage des pneus;Ouverture du coffre à distance;Taille écran navigation 7 pouces;Réseau Wifi;Projecteurs Audi Matrix LED avec clignotants dynamiques (avant et arrière);Feux arrières à LED;7 airbags;Audi side assist;Rétroviseurs extérieurs réglage électrique;Rétroviseur jour/nuit;Phares à allumage automatique;Fixation pour siège-enfant ISOFIX pour le siège du passager avant;Réglage du volant en hauteur, en profondeur;Etriers de frein laqués rouge avec inscription RS à l'avant;ESP;Airbags rideaux;Sièges Sport RS à l'avant en cuir Nappa avec surpiqûres diamant;10 haut-parleurs;Airbags latéraux;Kit anticrevaison;Bouton démarrage;Audi hold assist;Essuie glace capteur de pluie;Régulateur de vitesse;Système détection de collision;Aide au démarrage en côte;Système de navigation;Ordinateur de bord;Accoudoir central avant;Toit panoramique en verre;ABS;Lave-phares;Feux de croisement automatiques;Volant multi-fonction;Capot à soulèvement pour choc piéton;Système de contrôle de pression des pneus;Reconnaissance vocale;Taille écran multi-fonctions 12.3 pouces;Assistance au freinage d'urgence;Système audio lecteur CD et MP3;Audi active lane assist (inclus assistant de feux de route);Ampoules de phares LED;Air conditionné auto;Pack vide-poches/ coffre à bagages avec offre étendue de prises 12 V et USB;Bluetooth;Audi magnetic ride;DVD/VCD\n",
       "50146                                                                                                                                                                                                                                                                                                                                                                                                                                                                                                                                                                                                                                                                                                                                                                                                                                                                                                                                                                                                                                                                                                                                                                                                                                                                                                                                                                                                                                                                                                                                                                                                                                                                                                                                                                                                                                                                                                                                                                                                                                                                                                                                                                                                                                                                                                                                                                                        NaN\n",
       "Name: options, dtype: object"
      ]
     },
     "execution_count": 257,
     "metadata": {},
     "output_type": "execute_result"
    }
   ],
   "source": [
    "df[df['Description'].str.contains(\"finition brillantes pneus :\")]['options']"
   ]
  },
  {
   "cell_type": "code",
   "execution_count": 5,
   "metadata": {},
   "outputs": [
    {
     "data": {
      "text/plain": [
       "Series([], Name: Description, dtype: object)"
      ]
     },
     "execution_count": 5,
     "metadata": {},
     "output_type": "execute_result"
    }
   ],
   "source": [
    "df[~df['Description'].str.contains(\"options\")]['Description']"
   ]
  },
  {
   "cell_type": "code",
   "execution_count": null,
   "metadata": {},
   "outputs": [],
   "source": []
  }
 ],
 "metadata": {
  "kernelspec": {
   "display_name": "Python 3",
   "language": "python",
   "name": "python3"
  },
  "language_info": {
   "codemirror_mode": {
    "name": "ipython",
    "version": 3
   },
   "file_extension": ".py",
   "mimetype": "text/x-python",
   "name": "python",
   "nbconvert_exporter": "python",
   "pygments_lexer": "ipython3",
   "version": "3.7.6"
  }
 },
 "nbformat": 4,
 "nbformat_minor": 4
}
