{
 "cells": [
  {
   "cell_type": "markdown",
   "metadata": {},
   "source": [
    "# 2. Collecte de données externes\n",
    "\n",
    "Afin d'améliorer les performances du modèle de prédiction des prix d'occasion des vehicules (Voir le notebook 1_DataPreExploration), nous avons décidé de collecter des données externes. Cette collecte se base sur le scraping du site [Cardidiac](https://www.caradisiac.com), de la société Car&Boat Media, et qui est consacré à l'automobile (Voir [Wikipedia](https://fr.wikipedia.org/wiki/Caradisiac)).<br>\n",
    "Nous avons choisi ce site pour son exhaustivité des informations que nous pouvons trouver concernant la description des vehicules ainsi que le nombre de véhicules décrits.\n",
    "\n",
    "**Objectifs :**\n",
    "* Scraper le site [Cardidiac](https://www.caradisiac.com) et récupérer les données présentes dans les fiches techniques des differentes versions de vehiculestelle que cette [Citroen C3](https://www.caradisiac.com/fiches-techniques/modele--citroen-c3-aircross/2020/1.2+puretech+110+6cv+s%5Es+feel+business+bv6/)."
   ]
  },
  {
   "cell_type": "markdown",
   "metadata": {},
   "source": [
    "**Plan :** <br>\n",
    "Le scraping est réalisé par plusieurs étapes. Un niveau d l'arborissance du site est parcourue à chaque étape en commencant par la page www.caradisiac.com/constructeurs--automobiles/ jusqu'aux pages des fiches techniques pour chaque versions d'un modèle (exemple www.caradisiac.com/fiches-techniques/modele--XXXXX/YEAR/YYYYYYY/ où: XXXXXX est le modèle , YEAR est l'année de commercialisation et YYYYYY est la version).\n",
    "1. Collecte noms et URLs des constructeurs automobiles\n",
    "2. Collecte des URLs de l'onglet 'Fiches techniques' pour chaque Modèles et Gammes\n",
    "3. Collecte des URLs des Fiches techniques par année de commercialisation\n",
    "4. Collecte des URLs de fiches techniques des versions présent sur les première pages\n",
    "    * 4.1. Collecte des URLs des fiches technique des Versions\n",
    "    * 4.2. Collecte des information présente sur les fiches technique des Versions\n",
    "5. Collecte des URLs de fiches techniques des versions présent sur les pages suivantes\n",
    "    * 5.1. Collecte des URLs des fiches technique des Versions\n",
    "    * 5.2. Collecte des information présente sur les fiches technique des Versions\n",
    "6. Conclusion\n",
    "7. Prochaines étapes"
   ]
  },
  {
   "cell_type": "code",
   "execution_count": 619,
   "metadata": {},
   "outputs": [],
   "source": [
    "import pandas as pd\n",
    "import re\n",
    "\n",
    "import urllib.request\n",
    "from bs4 import BeautifulSoup"
   ]
  },
  {
   "cell_type": "markdown",
   "metadata": {},
   "source": [
    "## 1. Collecte noms et URLs des constructeurs automobiles"
   ]
  },
  {
   "cell_type": "code",
   "execution_count": 200,
   "metadata": {},
   "outputs": [],
   "source": [
    "html = urllib.request.urlopen('https://www.caradisiac.com/constructeurs--automobiles/').read()\n",
    "soup = BeautifulSoup(html, 'html.parser')\n",
    "\n",
    "div_alph_tables = soup.find_all('div', class_=\"ancreLettre\")\n",
    "\n",
    "list_ids = []\n",
    "for item in div_alph_tables:  \n",
    "    list_ids.append(item.attrs['data-letter'])\n",
    "\n",
    "brands = []\n",
    "\n",
    "for list_id in list_ids:\n",
    "    div_name = soup.find_all('div', id=list_id)\n",
    "    liste = []\n",
    "    for item in div_name:  \n",
    "        liste.append(item.find_all(lambda tag: tag.name == \"a\", {\"class\" : \"hidden-xs\"} ))\n",
    "                         \n",
    "    for item in liste[0]:\n",
    "        brand = {}\n",
    "        brand['name'] = item.attrs['title'].lower().replace(\" \", \"-\")\n",
    "        brand['href'] = item.attrs['href'].lower().replace(\"/modeles/\",\"/\").replace(\"/avis/\",\"/\").replace(\"/photo/\",\"/\")\n",
    "        brands.append(brand)"
   ]
  },
  {
   "cell_type": "code",
   "execution_count": 186,
   "metadata": {},
   "outputs": [
    {
     "data": {
      "text/plain": [
       "352"
      ]
     },
     "execution_count": 186,
     "metadata": {},
     "output_type": "execute_result"
    }
   ],
   "source": [
    "len(brands)"
   ]
  },
  {
   "cell_type": "markdown",
   "metadata": {},
   "source": [
    "Nous avons 352 constructeurs listés sur le site"
   ]
  },
  {
   "cell_type": "markdown",
   "metadata": {},
   "source": [
    "## 2. Collecte des URLs des onglets 'Fiches techniques' pour chaque Modèles et Gammes"
   ]
  },
  {
   "cell_type": "markdown",
   "metadata": {},
   "source": [
    "On récupère les URLs des onglets 'Fiches techniques' pour chaque Modèles et/ou Gammes présent sur l'onglet www.caradisiac.com/auto--CONSTRUCTEUR/models (CONSTRUCTEUR est le nom du constructeur automobile) en se basant sur les URLs de constructeurs collectées dans l'étapes précédante."
   ]
  },
  {
   "cell_type": "code",
   "execution_count": 443,
   "metadata": {},
   "outputs": [],
   "source": [
    "base = 'https://www.caradisiac.com'\n",
    "def gamme_func(gammes, name, time, model_gamme, href):\n",
    "    html = urllib.request.urlopen(base+href).read()\n",
    "    soup = BeautifulSoup(html, 'html.parser')\n",
    "    \n",
    "    models = soup.find_all(lambda tag: tag.name == \"div\", {\"class\" : \"visuModeleGalerie\"})\n",
    "    for elem in models:\n",
    "        if any(substring in elem.find(lambda tag: tag.name == \"a\").attrs['href'] for substring in [\"/photo\", \"/avis\"]):\n",
    "            href_model = \"\"\n",
    "        else:\n",
    "            href_model = elem.find(lambda tag: tag.name == \"a\").attrs['href']\n",
    "        gamme = {}\n",
    "        gamme['brand'] = name\n",
    "        gamme['time'] = time\n",
    "        gamme['model_gamme'] = model_gamme\n",
    "        gamme['model_gamme_url']= href\n",
    "        \n",
    "        gamme['model'] = elem.find(lambda tag: tag.name == \"a\").attrs['title'].lower()\n",
    "        gamme['model_url'] = href_model\n",
    "\n",
    "        gammes.append(gamme)"
   ]
  },
  {
   "cell_type": "code",
   "execution_count": 446,
   "metadata": {
    "scrolled": true
   },
   "outputs": [
    {
     "name": "stdout",
     "output_type": "stream",
     "text": [
      "/auto--4-stroke/\n",
      "/auto--abarth/\n",
      "/auto--ac/\n",
      "/auto--acrea/\n",
      "/auto--acura/\n",
      "/auto--ad-tramontana/\n",
      "/auto--adler/\n",
      "/auto--aiways/\n",
      "/auto--aixam/\n",
      "/auto--al-melling/\n",
      "/auto--aleko/\n",
      "/auto--alfa-romeo/\n",
      "/auto--alke/\n",
      "/auto--alpina/\n",
      "/auto--alpine-renault/\n",
      "/auto--alvis/\n",
      "/auto--amc/\n",
      "/auto--amphicar/\n",
      "/marque-moto--anaig/\n",
      "/marque-moto--apal/\n",
      "/auto--aptera-motors/\n",
      "/auto--ariel/\n",
      "/auto--armstrong-siddeley/\n",
      "/auto--aro/\n",
      "/auto--artega/\n",
      "/auto--ascari/\n",
      "/auto--aspark/\n",
      "/auto--aston-martin/\n",
      "/marque-moto--auburn/\n",
      "/auto--audi/\n",
      "/auto--austin/\n",
      "/auto--austin-healey/\n",
      "/auto--auto-union/\n",
      "/auto--autobianchi/\n",
      "/auto--auverland/\n",
      "/auto--bee-automobiles/\n",
      "/auto--bellier/\n",
      "/auto--bentley/\n",
      "/auto--berliet/\n",
      "/auto--bertone/\n",
      "/auto--bitter/\n",
      "/auto--bizzarrini/\n",
      "/auto--bmw/\n",
      "/auto--bollore/\n",
      "/auto--bongarini/\n",
      "/auto--booxt/\n",
      "/auto--borgward/\n",
      "/auto--bowler/\n",
      "/auto--brabus/\n",
      "/auto--bremach/\n",
      "/auto--brilliance/\n",
      "/auto--bristol/\n",
      "/auto--brooke-cars/\n",
      "/auto--bugatti/\n",
      "/auto--buick/\n",
      "/auto--burby-s/\n",
      "/auto--byd/\n",
      "/auto--cadillac/\n",
      "/auto--caparo/\n",
      "/auto--carbodies/\n",
      "/auto--carbontech/\n",
      "/auto--carver/\n",
      "/auto--casalini/\n",
      "/auto--caterham/\n",
      "/auto--cg/\n",
      "/auto--chatenet/\n",
      "/auto--chenard-et-walcker/\n",
      "/auto--chery/\n",
      "/auto--chevrolet/\n",
      "/auto--china-automobile/\n",
      "/auto--chrysler/\n",
      "/auto--citroen/\n",
      "/auto--clenet/\n",
      "/auto--commuter-cars/\n",
      "/auto--connaught/\n",
      "/auto--coste/\n",
      "/auto--courb/\n",
      "/auto--cupra/\n",
      "/auto--dacia/\n",
      "/auto--daewoo/\n",
      "/auto--daf/\n",
      "/auto--daihatsu/\n",
      "/auto--daimler/\n",
      "/auto--dallara/\n",
      "/auto--dangel/\n",
      "/auto--darmont/\n",
      "/auto--datsun/\n",
      "/auto--de-fremond/\n",
      "/auto--de-la-chapelle/\n",
      "/auto--de-lorean/\n",
      "/auto--de-soto/\n",
      "/auto--de-tomaso/\n",
      "/auto--delage/\n",
      "/auto--delahaye/\n",
      "/auto--deronda/\n",
      "/auto--deutsch-bonnet/\n",
      "/marque-moto--devinci/\n",
      "/auto--devon/\n",
      "/auto--dkw/\n",
      "/auto--dodge/\n",
      "/auto--dongfeng/\n",
      "/auto--donkervoort/\n",
      "/auto--donnet/\n",
      "/auto--dr-motor/\n",
      "/auto--ds/\n",
      "/auto--due/\n",
      "/auto--duesenberg/\n",
      "/auto--eagle/\n",
      "/auto--ebro/\n",
      "/auto--edsel/\n",
      "/auto--elv/\n",
      "/auto--erad/\n",
      "/auto--estrima/\n",
      "/auto--exagon-motors/\n",
      "/auto--excalibur/\n",
      "/auto--facel-vega/\n",
      "/auto--fam-automobiles/\n",
      "/marque-moto--faraday-future/\n",
      "/auto--faralli-mazzanti/\n",
      "/auto--farbio/\n",
      "/auto--ferrari/\n",
      "/auto--fiat/\n",
      "/auto--fioravanti/\n",
      "/auto--fisker/\n",
      "/auto--ford/\n",
      "/auto--fornasari/\n",
      "/auto--fso/\n",
      "/auto--gac-gonow/\n",
      "/auto--gac-motor/\n",
      "/auto--geely/\n",
      "/auto--genesis/\n",
      "/auto--gillet/\n",
      "/auto--ginetta/\n",
      "/auto--glas/\n",
      "/auto--gmc/\n",
      "/auto--gme/\n",
      "/marque-moto--goupil/\n",
      "/auto--grandin/\n",
      "/auto--great-wall/\n",
      "/auto--grecav/\n",
      "/auto--gumpert/\n",
      "/auto--healey/\n",
      "/auto--helem/\n",
      "/auto--heuliez/\n",
      "/auto--hillman/\n",
      "/auto--hispano-suiza-cars/\n",
      "/auto--holden/\n",
      "/auto--hommell/\n",
      "/auto--honda/\n",
      "/auto--hotchkiss/\n",
      "/auto--howmet/\n",
      "/auto--hudson/\n",
      "/auto--humber/\n",
      "/auto--hummer/\n",
      "/auto--hyundai/\n",
      "/auto--imperial/\n",
      "/auto--infiniti/\n",
      "/auto--innocenti/\n",
      "/auto--innotech/\n",
      "/auto--intermeccanica/\n",
      "/auto--international/\n",
      "/auto--invicta/\n",
      "/auto--iso/\n",
      "/auto--isorivolta/\n",
      "/auto--isuzu/\n",
      "/auto--italcar/\n",
      "/auto--iveco/\n",
      "/auto--jaguar/\n",
      "/auto--jdm-simpa/\n",
      "/auto--jeep/\n",
      "/auto--jensen/\n",
      "/auto--jiayuan/\n",
      "/auto--kassbohrer-setra/\n",
      "/auto--kia/\n",
      "/auto--koenigsegg/\n",
      "/auto--ktm/\n",
      "/auto--lada/\n",
      "/auto--lagonda/\n",
      "/auto--lamborghini/\n",
      "/auto--lancia/\n",
      "/auto--land-rover/\n",
      "/auto--landwind/\n",
      "/auto--lantana/\n",
      "/auto--laraki/\n",
      "/auto--ldv/\n",
      "/auto--lexus/\n",
      "/auto--ligier/\n",
      "/auto--lincoln/\n",
      "/auto--lister/\n",
      "/auto--little/\n",
      "/auto--lola/\n",
      "/auto--london-taxi-company/\n",
      "/auto--loremo/\n",
      "/auto--lotus/\n",
      "/auto--lumeneo/\n",
      "/auto--lynk-co/\n",
      "/auto--mahindra/\n",
      "/auto--man/\n",
      "/auto--marcadier/\n",
      "/auto--marcos/\n",
      "/auto--martin/\n",
      "/auto--marussia/\n",
      "/auto--maruti/\n",
      "/auto--maserati/\n",
      "/auto--matra/\n",
      "/auto--maybach/\n",
      "/auto--mazda/\n",
      "/auto--mclaren/\n",
      "/auto--mdi/\n",
      "/auto--mega/\n",
      "/auto--melkus/\n",
      "/auto--mercedes/\n",
      "/auto--mercedes-amg/\n",
      "/auto--mercury/\n",
      "/auto--messerschmitt/\n",
      "/auto--mev/\n",
      "/auto--meyers-manx/\n",
      "/auto--mg/\n",
      "/auto--mia-electric/\n",
      "/auto--microcar/\n",
      "/auto--minauto/\n",
      "/auto--mini/\n",
      "/auto--mitsubishi/\n",
      "/auto--mitsubishi-fuso/\n",
      "/auto--mitsuoka/\n",
      "/auto--monteverdi/\n",
      "/auto--morgan/\n",
      "/auto--morris/\n",
      "/auto--mosler/\n",
      "/auto--mpm-motors/\n",
      "/auto--mvs/\n",
      "/auto--mygale/\n",
      "/auto--nanjing/\n",
      "/auto--nash/\n",
      "/auto--neckar/\n",
      "/auto--newteon/\n",
      "/auto--nissan/\n",
      "/auto--noble/\n",
      "/auto--noun-electric/\n",
      "/auto--nsu/\n",
      "/auto--numexia/\n",
      "/auto--oldsmobile/\n",
      "/auto--opel/\n",
      "/auto--osi/\n",
      "/auto--packard/\n",
      "/auto--pagani/\n",
      "/auto--panhard/\n",
      "/auto--panoz/\n",
      "/auto--panther/\n",
      "/auto--pegaso/\n",
      "/auto--perana/\n",
      "/auto--peugeot/\n",
      "/auto--pgo/\n",
      "/auto--piaggio/\n",
      "/auto--pilbeam/\n",
      "/auto--pininfarina/\n",
      "/auto--plymouth/\n",
      "/auto--polestar/\n",
      "/auto--polski/\n",
      "/auto--pontiac/\n",
      "/auto--porsche/\n",
      "/auto--proton/\n",
      "/auto--protoscar/\n",
      "/auto--qoros/\n",
      "/auto--quant/\n",
      "/auto--radical/\n",
      "/auto--realm/\n",
      "/auto--reliant/\n",
      "/auto--renault/\n",
      "/auto--renault-trucks/\n",
      "/auto--rene-bonnet/\n",
      "/auto--reva/\n",
      "/auto--reynard/\n",
      "/auto--riley/\n",
      "/marque-moto--rimac/\n",
      "/auto--rinspeed/\n",
      "/auto--rolls-royce/\n",
      "/auto--ronart/\n",
      "/auto--rosengart/\n",
      "/auto--rover/\n",
      "/auto--russo-baltique/\n",
      "/auto--saab/\n",
      "/auto--saic/\n",
      "/auto--saleen/\n",
      "/auto--salica/\n",
      "/auto--salmson/\n",
      "/auto--samsung/\n",
      "/auto--santana/\n",
      "/auto--saturn/\n",
      "/auto--savel/\n",
      "/auto--saviem/\n",
      "/auto--sbarro/\n",
      "/auto--scania/\n",
      "/auto--scion/\n",
      "/auto--seat/\n",
      "/auto--secma/\n",
      "/auto--shelby/\n",
      "/auto--shuanghuan/\n",
      "/auto--simca/\n",
      "/auto--singer/\n",
      "/auto--sivax/\n",
      "/auto--skoda/\n",
      "/auto--smart/\n",
      "/auto--sms/\n",
      "/auto--sovamag/\n",
      "/auto--spectre/\n",
      "/auto--spyker/\n",
      "/auto--srt/\n",
      "/auto--ssangyong/\n",
      "/auto--ssc/\n",
      "/auto--studebaker/\n",
      "/auto--stutz/\n",
      "/auto--subaru/\n",
      "/auto--sunbeam/\n",
      "/auto--suzuki/\n",
      "/auto--talbot/\n",
      "/auto--talbot-simca/\n",
      "/auto--tata/\n",
      "/auto--teilhol/\n",
      "/auto--tesla/\n",
      "/auto--think/\n",
      "/auto--toyota/\n",
      "/auto--trabant/\n",
      "/auto--triumph/\n",
      "/auto--tvr/\n",
      "/auto--ultima/\n",
      "/auto--umm/\n",
      "/auto--vaillante/\n",
      "/auto--van-hool/\n",
      "/auto--vanden-plass/\n",
      "/auto--vauxhall/\n",
      "/auto--velam/\n",
      "/auto--venturi/\n",
      "/auto--veritas/\n",
      "/auto--vespa/\n",
      "/auto--vinfast/\n",
      "/auto--virago/\n",
      "/auto--volkswagen/\n",
      "/auto--volteis/\n",
      "/auto--volvo/\n",
      "/auto--volvo-trucks/\n",
      "/auto--wallys-car/\n",
      "/auto--westfield/\n",
      "/auto--wiesmann/\n",
      "/auto--willys/\n",
      "/auto--wolseley/\n",
      "/auto--xinyang/\n",
      "/auto--zagato/\n",
      "/auto--zap/\n",
      "/auto--zastava/\n",
      "/auto--zenn/\n",
      "/auto--zenvo/\n"
     ]
    }
   ],
   "source": [
    "gammes = []\n",
    "#b = []\n",
    "#b.append({'name': 'ac', 'href': '/auto--ac/'})\n",
    "#b.append({'name': 'alpina', 'href': '/auto--alpina/'})\n",
    "for brand in brands:\n",
    "    print(brand['href'])\n",
    "    html = urllib.request.urlopen(base+brand['href']+'modeles/').read()\n",
    "    soup = BeautifulSoup(html, 'html.parser')\n",
    "\n",
    "    section_gammes_tables = soup.find_all('section', class_=\"borderTop\")\n",
    "\n",
    "    for item in section_gammes_tables:\n",
    "        gamme_time = {}\n",
    "        time = item.find(lambda tag: tag.name == \"h2\").getText()\n",
    "        #gamme['brand'] = brand['name']\n",
    "        #gamme['time'] = time\n",
    "        for item in item.find_all(lambda tag: tag.name == \"div\", {\"class\" : \"visuModeleGalerie\"}):\n",
    "            for a in item.find_all(lambda tag: tag.name == \"a\"):\n",
    "                if any(substring in a.attrs['href'] for substring in [\"/photo\", \"/avis\"]):\n",
    "                    href = \"\"\n",
    "                else:\n",
    "                    href = a.attrs['href']\n",
    "                    \n",
    "                if (\"/gamme\" in href):\n",
    "                    gamme_func(gammes,brand['name'], time, a.attrs['title'].lower() ,href)\n",
    "                else:\n",
    "                    gamme = {}\n",
    "                    gamme['brand'] = brand['name']\n",
    "                    gamme['time'] = time\n",
    "                    gamme['model_gamme'] = a.attrs['title'].lower()#\"\"\n",
    "                    gamme['model_gamme_url']= href#\"\"\n",
    "                    gamme['model'] = a.attrs['title'].lower()\n",
    "                    gamme['model_url'] = href\n",
    "                    gammes.append(gamme)"
   ]
  },
  {
   "cell_type": "code",
   "execution_count": 519,
   "metadata": {},
   "outputs": [],
   "source": [
    "#Sauvegarde du résultats\n",
    "models = pd.DataFrame.from_dict(gammes)\n",
    "models.to_csv(\"../scrapping_models.csv\")"
   ]
  },
  {
   "cell_type": "markdown",
   "metadata": {},
   "source": [
    "## 3. Collecte des URLs des Fiches techniques par année de commercialisation"
   ]
  },
  {
   "cell_type": "markdown",
   "metadata": {},
   "source": [
    "On récupère les URLs des fiches techniques pour chaque version de vehicule, par année de commercialisation, présentes sur www.caradisiac.com/fiches-techniques/modele--MODEL/ (MODEL est le modèle du vehicule)."
   ]
  },
  {
   "cell_type": "code",
   "execution_count": 607,
   "metadata": {},
   "outputs": [],
   "source": [
    "fiche_tech = []\n",
    "for item in gammes:\n",
    "    model_url = item['model_url']\n",
    "    if model_url==\"\":\n",
    "        fich_tech_href = \"\"\n",
    "    else:\n",
    "        if \"/fiche\" in model_url:\n",
    "            fich_tech_href = model_url\n",
    "        else:\n",
    "            html = urllib.request.urlopen(base+model_url).read()\n",
    "            soup = BeautifulSoup(html, 'html.parser')\n",
    "            a_fiche_tech = soup.find('a', class_=\"twoLine\", text=\"Fiches techniques\")\n",
    "            fich_tech_href = ''\n",
    "            if a_fiche_tech is not None:\n",
    "                fich_tech_href = a_fiche_tech.get('href')\n",
    "        item['fich_tech_href'] = fich_tech_href\n",
    "        print(item['brand'])\n",
    "    fiche_tech.append(item)"
   ]
  },
  {
   "cell_type": "code",
   "execution_count": 606,
   "metadata": {},
   "outputs": [],
   "source": [
    "#models_fiche_tech_urls = pd.DataFrame.from_dict(fiche_tech)\n",
    "models_fiche_tech_urls.to_csv(\"../scrapping_models_fiche_tech_urls_all.csv\")"
   ]
  },
  {
   "cell_type": "code",
   "execution_count": 628,
   "metadata": {},
   "outputs": [],
   "source": [
    "models_fiche_tech_urls_exist = models_fiche_tech_urls.loc[(models_fiche_tech_urls['fich_tech_href'].str.contains(\"/fiches-\"))].copy()"
   ]
  },
  {
   "cell_type": "code",
   "execution_count": 767,
   "metadata": {},
   "outputs": [
    {
     "data": {
      "text/plain": [
       "(2310, 7)"
      ]
     },
     "execution_count": 767,
     "metadata": {},
     "output_type": "execute_result"
    }
   ],
   "source": [
    "models_fiche_tech_urls_exist.drop_duplicates().shape"
   ]
  },
  {
   "cell_type": "code",
   "execution_count": 605,
   "metadata": {},
   "outputs": [],
   "source": [
    "#save just rows where fiches exists\n",
    "models_fiche_tech_urls_exist.to_csv(\"../scrapping_models_fiche_tech_urls_exist.csv\")"
   ]
  },
  {
   "cell_type": "markdown",
   "metadata": {},
   "source": [
    "## 4. Collecte des URLs de fiches techniques des versions présent sur les première pages"
   ]
  },
  {
   "cell_type": "markdown",
   "metadata": {},
   "source": [
    "Collecte de la listes des URLs renvoyant vers les fiches techniques de chaque version. Certains modèles ayant plus de 200 versions ont plusieurs pages listant les URLs vers les fiches techniques des versions. Dans, cette partie, on récupère uniquement les URLs présentes sur les premières pages."
   ]
  },
  {
   "cell_type": "markdown",
   "metadata": {},
   "source": [
    "### 4.1. Collecte des URLs des fiches technique des Versions"
   ]
  },
  {
   "cell_type": "code",
   "execution_count": 654,
   "metadata": {},
   "outputs": [
    {
     "data": {
      "text/plain": [
       "{'brand': 'abarth',\n",
       " 'time': \"Les modèles d'aujourd'hui\",\n",
       " 'model_gamme': 'abarth 124',\n",
       " 'model_gamme_url': '/modele--abarth-124-2e-generation-spider/',\n",
       " 'model': 'abarth 124',\n",
       " 'model_url': '/modele--abarth-124-2e-generation-spider/',\n",
       " 'fich_tech_href': '/fiches-techniques/modele--abarth-124-2e-generation-spider/'}"
      ]
     },
     "execution_count": 654,
     "metadata": {},
     "output_type": "execute_result"
    }
   ],
   "source": [
    "fiche_tech_urls[0]"
   ]
  },
  {
   "cell_type": "code",
   "execution_count": 1470,
   "metadata": {},
   "outputs": [],
   "source": [
    "fiche_tech_urls = models_fiche_tech_urls_exist.to_dict(orient='records')\n",
    "\n",
    "fich_year_urls = []\n",
    "for item in fiche_tech_urls:\n",
    "    fich_tech_url = item['fich_tech_href']\n",
    "    html = urllib.request.urlopen(base+fich_tech_url).read()\n",
    "    soup = BeautifulSoup(html, 'html.parser')\n",
    "\n",
    "    fiche_tech_list = soup.find_all(lambda tag: tag.name == \"li\", {\"class\" : \"font16\"})\n",
    "    for elem in fiche_tech_list:\n",
    "        temp = item.copy()\n",
    "        temp['year'] = re.findall(r'\\d+$', elem.find(lambda tag: tag.name == \"a\").getText())[0]\n",
    "        temp['year_url'] = elem.find(lambda tag: tag.name == \"a\").attrs['href']\n",
    "        fich_year_urls.append(temp)\n",
    "        #print((temp['year'],temp['year_url']))"
   ]
  },
  {
   "cell_type": "code",
   "execution_count": 669,
   "metadata": {},
   "outputs": [
    {
     "data": {
      "text/plain": [
       "16902"
      ]
     },
     "execution_count": 669,
     "metadata": {},
     "output_type": "execute_result"
    }
   ],
   "source": [
    "len(fich_year_urls)"
   ]
  },
  {
   "cell_type": "code",
   "execution_count": 670,
   "metadata": {},
   "outputs": [],
   "source": [
    "models_fiche_tech_year_urls = pd.DataFrame.from_dict(fich_year_urls)\n",
    "models_fiche_tech_year_urls.to_csv(\"../scrapping_models_fiche_tech_year_urls.csv\")"
   ]
  },
  {
   "cell_type": "code",
   "execution_count": 1469,
   "metadata": {},
   "outputs": [],
   "source": [
    "version_urls = []\n",
    "for item in fich_year_urls:\n",
    "    fich_year_url = item['year_url']\n",
    "    html = urllib.request.urlopen(base+fich_year_url).read()\n",
    "    soup = BeautifulSoup(html, 'html.parser')\n",
    "    \n",
    "    fiche_version_list = soup.find_all(lambda tag: tag.name == \"a\", {\"onclick\":\"xt_click(this, 'C',xtn2,id_context+'::'+id_page+'::ListeVersion_Version_XTC', 'N');\"})\n",
    "    for elem in fiche_version_list :\n",
    "        temp = item.copy()\n",
    "        temp['version_name'] = elem.getText()\n",
    "        temp['version_url'] = elem.attrs['href']\n",
    "        version_urls.append(temp)\n",
    "    #print((item['year'],item['year_url']))"
   ]
  },
  {
   "cell_type": "code",
   "execution_count": 738,
   "metadata": {},
   "outputs": [],
   "source": [
    "model_version_urls = pd.DataFrame.from_dict(version_urls)\n",
    "model_version_urls.to_csv(\"../scrapping_models_versions_url.csv\")"
   ]
  },
  {
   "cell_type": "code",
   "execution_count": 773,
   "metadata": {},
   "outputs": [],
   "source": [
    "#model_version_urls = model_version_urls_bis"
   ]
  },
  {
   "cell_type": "code",
   "execution_count": 887,
   "metadata": {},
   "outputs": [],
   "source": [
    "model_version_urls_unique_without_year_next = model_version_urls.drop_duplicates(subset=['model_gamme','model',\n",
    "                                                'model_gamme_url','model_url',\n",
    "                                                'fich_tech_href','version_name',\n",
    "                                               'version_url'], ignore_index=True)"
   ]
  },
  {
   "cell_type": "code",
   "execution_count": null,
   "metadata": {},
   "outputs": [],
   "source": []
  },
  {
   "cell_type": "code",
   "execution_count": 1302,
   "metadata": {},
   "outputs": [],
   "source": [
    "model_version_urls_unique_without_year_next.to_csv(\"../Final_scrapping_model_version_urls_unique_without_year_next.csv\")"
   ]
  },
  {
   "cell_type": "markdown",
   "metadata": {},
   "source": [
    "### 4.2. Collecte des information présente sur les fiches technique des Versions"
   ]
  },
  {
   "cell_type": "code",
   "execution_count": 889,
   "metadata": {},
   "outputs": [
    {
     "data": {
      "text/plain": [
       "((123603, 11), (351400, 11))"
      ]
     },
     "execution_count": 889,
     "metadata": {},
     "output_type": "execute_result"
    }
   ],
   "source": [
    "model_version_urls_unique_without_year_next.shape, model_version_urls.shape"
   ]
  },
  {
   "cell_type": "markdown",
   "metadata": {},
   "source": [
    "#### Note :\n",
    "A cause des connexions interrempues d'un moment à l'autre, nous avons executé le code suivant plusieurs fois en concatinant à chaque fois les résultats stockés dans des fichiers CSV."
   ]
  },
  {
   "cell_type": "code",
   "execution_count": null,
   "metadata": {},
   "outputs": [],
   "source": [
    "version_urls_unique_without_year_next_bis = []\n",
    "#version_urls_unique_without_year_next_bis.append(version_urls_unique_without_year_next[44242])\n",
    "#version_urls_unique_without_year_next_bis.append(version_urls_unique_without_year_next[44243])\n",
    "\n",
    "for i in range(0,len(version_urls_unique_without_year_next)):\n",
    "    if i >= 97905:\n",
    "        version_urls_unique_without_year_next_bis.append(version_urls_unique_without_year_next[i])"
   ]
  },
  {
   "cell_type": "code",
   "execution_count": 899,
   "metadata": {},
   "outputs": [
    {
     "name": "stdout",
     "output_type": "stream",
     "text": [
      "('abarth 124', 'II 1.4 TURBO 170', '/fiches-techniques/modele--abarth-124-2e-generation-spider/2016/ii+1.4+turbo+170/')\n",
      "('abarth 124', 'II 1.4 TURBO 170 GT', '/fiches-techniques/modele--abarth-124-2e-generation-spider/2018/ii+1.4+turbo+170+gt/')\n"
     ]
    }
   ],
   "source": [
    "#version_urls_unique_without_year_next_bis# = model_version_urls_unique_without_year_next.to_dict(orient='records')\n",
    "info_urls = []\n",
    "for item in version_urls_unique_without_year_next:\n",
    "    vers_url = item['version_url']\n",
    "    html = urllib.request.urlopen(base+vers_url).read()\n",
    "    soup = BeautifulSoup(html, 'html.parser')\n",
    "    #print(html)\n",
    "    # Extraction du prix\n",
    "    prix_span = soup.find(lambda tag: tag.name == \"span\", {\"class\":\"blocPrixVal\"})\n",
    "    #print(prix_span)\n",
    "    prix =\"\"\n",
    "    #if prix_span is not None:\n",
    "    prix = prix_span.getText()\n",
    "    #Taux d'émission de CO2 et bonus/malus (Norme NEDC)\n",
    "    #taux_co2 = soup.find(lambda tag: tag.name == \"p\", {\"class\":\"valueEmis malus\"}).getText()\n",
    "    \n",
    "    # Extraction de caractéristiques\n",
    "    fiche_tech_div = soup.find(lambda tag: tag.name == \"div\", {\"id\":\"tabContent_1\"})\n",
    "    first = fiche_tech_div.find_all(lambda tag: tag.name == \"td\", {\"class\":\"intitule first\"})\n",
    "    last = fiche_tech_div.find_all(lambda tag: tag.name == \"td\", {\"class\":\"last result\"})\n",
    "    cara = []\n",
    "    for i in range(0, len(first)) :\n",
    "        temp = {}\n",
    "        #print((first[i].getText(),last[i].getText()))\n",
    "        temp[first[i].getText()] = last[i].getText()\n",
    "        cara.append(temp)\n",
    "     \n",
    "    # Extraction d'équipement\n",
    "    equip_div = soup.find(lambda tag: tag.name == \"div\", {\"id\":\"tabContent_2\"})\n",
    "    equip_tables = equip_div.find_all(lambda tag: tag.name == \"table\", {\"class\":\"listingTab\"})\n",
    "    equips_all = []\n",
    "    for table in equip_tables:\n",
    "        h3 = table.find(lambda tag: tag.name == \"h3\")\n",
    "        equips_td = table.find_all(lambda tag: tag.name == \"td\", {\"class\":\"intitule first\"})\n",
    "        title = h3.getText()\n",
    "        equips = []\n",
    "        for elem in equips_td:\n",
    "            equips.append(elem.getText())\n",
    "        temp = {}\n",
    "        temp[title] = equips\n",
    "        equips_all.append(temp) \n",
    "        \n",
    "    # Extraction d'option\n",
    "    option_div = soup.find(lambda tag: tag.name == \"div\", {\"id\":\"tabContent_3\"})\n",
    "    first = option_div.find_all(lambda tag: tag.name == \"td\", {\"class\":\"intitule first\"})\n",
    "    last = option_div.find_all(lambda tag: tag.name == \"td\", {\"class\":\"last result\"})\n",
    "    options = []\n",
    "    for i in range(0, len(first)) :\n",
    "        option = {}\n",
    "        #print((first[i].getText(),last[i].getText()))\n",
    "        option[first[i].getText()] = last[i].getText()\n",
    "        options.append(option)\n",
    "    \n",
    "    # Extraction de couleur\n",
    "    #couleur_div = soup.find(lambda tag: tag.name == \"div\", {\"id\":\"tabContent_4\"})\n",
    "    #couleurs_td = couleur_div.find_all(lambda tag: tag.name == \"td\", {\"class\":\"intitule\"})\n",
    "    #couleurs = []\n",
    "    #for elem in couleurs_td:\n",
    "    #    couleurs.append(elem.getText())\n",
    "    temp = item.copy()\n",
    "    temp['prix']= prix\n",
    "    temp['caracteristiques'] = cara\n",
    "    temp['equips_all'] = equips_all\n",
    "    temp['options'] = options \n",
    "    info_urls.append(temp)\n",
    "    \n",
    "    print((temp['Unnamed: 0'], temp['model']))\n",
    "    #print(prix)\n",
    "    #print(cara)\n",
    "    #print(equips_all)\n",
    "    #print(options)\n",
    "    #print(couleurs)\n",
    "#info_urls "
   ]
  },
  {
   "cell_type": "code",
   "execution_count": null,
   "metadata": {},
   "outputs": [],
   "source": [
    "model_info_urls = pd.DataFrame.from_dict(info_urls)\n",
    "model_info_urls.to_csv(\"Caradisiac/scrapping_caradisiac_14.csv\")\n",
    "model_info_urls.shape"
   ]
  },
  {
   "cell_type": "code",
   "execution_count": null,
   "metadata": {},
   "outputs": [],
   "source": []
  },
  {
   "cell_type": "markdown",
   "metadata": {},
   "source": [
    "## 5. Collecte des URLs de fiches techniques des versions présent sur les pages suivantes\n",
    "Collecte des URLs des fiches techniques des versions qui se trouvent sur les pages suivantes dans le cas où ces dernières existent"
   ]
  },
  {
   "cell_type": "code",
   "execution_count": 925,
   "metadata": {},
   "outputs": [],
   "source": [
    "model_unique_year_urls = model_version_urls.drop_duplicates(subset=[\"year_url\"])"
   ]
  },
  {
   "cell_type": "markdown",
   "metadata": {},
   "source": [
    "### 5.1. Collecte des URLs des fiches technique des Versions"
   ]
  },
  {
   "cell_type": "code",
   "execution_count": 1190,
   "metadata": {},
   "outputs": [],
   "source": [
    "def get_next(tab,elem, page):\n",
    "    html = urllib.request.urlopen(page).read()\n",
    "    soup = BeautifulSoup(html, 'html.parser')\n",
    "    a = soup.find(lambda tag: tag.name == \"a\", {\"class\" : \"floatR pageSuiv JSFormFTPage\"})\n",
    "    #print(page)\n",
    "    next_page = []\n",
    "    if a is not None:\n",
    "        page = page.split(\"?\")[0]\n",
    "        next_page = a.attrs[\"href\"]\n",
    "        if(isinstance(next_page, str)):\n",
    "            next_url = page+next_page\n",
    "            #print(next_page)\n",
    "            temp = elem.copy()\n",
    "            result = get_next(tab, elem, next_url)\n",
    "            if (result!=\"\"):\n",
    "                temp[\"next_page\"] = result\n",
    "                next_pages_urls_again.append(temp)\n",
    "            return next_page\n",
    "        else:\n",
    "            return \"\"\n",
    "    else:\n",
    "        return \"\""
   ]
  },
  {
   "cell_type": "code",
   "execution_count": 1468,
   "metadata": {},
   "outputs": [],
   "source": [
    "next_pages_urls_again = []\n",
    "for elem in unique_year_urls:\n",
    "    \n",
    "    temp = elem.copy()\n",
    "    result = get_next(next_pages_urls_again,elem, base+elem[\"year_url\"])\n",
    "    #next_pages_urls_again.append(elem)\n",
    "    if (result!=\"\"):\n",
    "        temp[\"next_page\"] = result\n",
    "        next_pages_urls_again.append(temp)\n",
    "    print(elem['year_url'])\n",
    "    #next_pages_urls_again.append(temp)\n",
    "    #print(elem[\"year_url\"])"
   ]
  },
  {
   "cell_type": "code",
   "execution_count": 1245,
   "metadata": {},
   "outputs": [
    {
     "data": {
      "text/plain": [
       "(419, 12)"
      ]
     },
     "execution_count": 1245,
     "metadata": {},
     "output_type": "execute_result"
    }
   ],
   "source": [
    "model_next_pages_urls_exist = pd.DataFrame.from_dict(next_pages_urls_again)\n",
    "model_next_pages_urls_exist.shape"
   ]
  },
  {
   "cell_type": "code",
   "execution_count": 1246,
   "metadata": {},
   "outputs": [],
   "source": [
    "model_next_pages_urls_exist.to_csv(\"../model_next_pages_urls_exist.csv\")"
   ]
  },
  {
   "cell_type": "code",
   "execution_count": 1281,
   "metadata": {},
   "outputs": [
    {
     "data": {
      "text/plain": [
       "13"
      ]
     },
     "execution_count": 1281,
     "metadata": {},
     "output_type": "execute_result"
    }
   ],
   "source": [
    "model_next_pages_urls_exist[\"brand\"].unique().size"
   ]
  },
  {
   "cell_type": "code",
   "execution_count": 1279,
   "metadata": {},
   "outputs": [
    {
     "data": {
      "text/plain": [
       "419"
      ]
     },
     "execution_count": 1279,
     "metadata": {},
     "output_type": "execute_result"
    }
   ],
   "source": [
    "len(next_pages_urls_again)"
   ]
  },
  {
   "cell_type": "code",
   "execution_count": 1278,
   "metadata": {},
   "outputs": [
    {
     "data": {
      "text/plain": [
       "(419, 12)"
      ]
     },
     "execution_count": 1278,
     "metadata": {},
     "output_type": "execute_result"
    }
   ],
   "source": [
    "model_next_pages_urls_exist.shape"
   ]
  },
  {
   "cell_type": "code",
   "execution_count": 1467,
   "metadata": {},
   "outputs": [],
   "source": [
    "version_urls_nextpages = []\n",
    "for item in next_pages_urls_again:\n",
    "    fich_year_url = item['year_url']+item['next_page']\n",
    "    html = urllib.request.urlopen(base+fich_year_url).read()\n",
    "    soup = BeautifulSoup(html, 'html.parser')\n",
    "    \n",
    "    fiche_version_list = soup.find_all(lambda tag: tag.name == \"a\", {\"onclick\":\"xt_click(this, 'C',xtn2,id_context+'::'+id_page+'::ListeVersion_Version_XTC', 'N');\"})\n",
    "    for elem in fiche_version_list :\n",
    "        temp = item.copy()\n",
    "        temp['version_name'] = elem.getText()\n",
    "        temp['version_url'] = elem.attrs['href']\n",
    "        version_urls_nextpages.append(temp)\n",
    "    #print((item['year'],item['year_url'], item['next_page']))"
   ]
  },
  {
   "cell_type": "code",
   "execution_count": 1293,
   "metadata": {},
   "outputs": [],
   "source": [
    "model_version_urls_nextpages = pd.DataFrame.from_dict(version_urls_nextpages)"
   ]
  },
  {
   "cell_type": "code",
   "execution_count": 1311,
   "metadata": {},
   "outputs": [
    {
     "data": {
      "text/plain": [
       "(59857, 12)"
      ]
     },
     "execution_count": 1311,
     "metadata": {},
     "output_type": "execute_result"
    }
   ],
   "source": [
    "model_version_urls_nextpages.shape"
   ]
  },
  {
   "cell_type": "code",
   "execution_count": 1305,
   "metadata": {},
   "outputs": [],
   "source": [
    "model_version_urls_unique_without_year_next_nextpages = model_version_urls_nextpages.drop_duplicates(subset=['model_gamme','model',\n",
    "                                                'model_gamme_url','model_url',\n",
    "                                                'fich_tech_href','version_name',\n",
    "                                               'version_url'], ignore_index=True)\n"
   ]
  },
  {
   "cell_type": "code",
   "execution_count": 1313,
   "metadata": {},
   "outputs": [],
   "source": [
    "model_version_urls_unique_without_year_next_nextpages.to_csv(\"../Final_scrapping_model_version_urls_unique_without_year_nextpages.csv\")"
   ]
  },
  {
   "cell_type": "markdown",
   "metadata": {},
   "source": [
    "**Find the unique rows that are not in the first page:**"
   ]
  },
  {
   "cell_type": "code",
   "execution_count": 1427,
   "metadata": {},
   "outputs": [],
   "source": [
    "## Find the unique rows that are not in the first page \n",
    "diffrence_between_first_vs_nextPages = pd.concat([model_version_urls_unique_without_year_next, model_version_urls_unique_without_year_next_nextpages])\n",
    "diffrence_between_first_vs_nextPages.drop_duplicates(subset=['model_gamme','model',\n",
    "                                                'model_gamme_url','model_url',\n",
    "                                                'fich_tech_href','version_name',\n",
    "                                               'version_url'], ignore_index=True)\n",
    "diffrence_between_first_vs_nextPages = test.dropna(subset = [\"next_page\"])"
   ]
  },
  {
   "cell_type": "code",
   "execution_count": 1430,
   "metadata": {},
   "outputs": [
    {
     "data": {
      "text/plain": [
       "(15450, 12)"
      ]
     },
     "execution_count": 1430,
     "metadata": {},
     "output_type": "execute_result"
    }
   ],
   "source": [
    "diffrence_between_first_vs_nextPages.shape"
   ]
  },
  {
   "cell_type": "code",
   "execution_count": 1503,
   "metadata": {},
   "outputs": [],
   "source": [
    "diffrence_between_first_vs_nextPages.to_csv(\"../Final_scrapping_model_version_urls_unique_without_year_nextpages_not_in_first_pages.csv\")\n"
   ]
  },
  {
   "cell_type": "code",
   "execution_count": 1502,
   "metadata": {},
   "outputs": [
    {
     "data": {
      "text/plain": [
       "array(['audi', 'bmw', 'citroen', 'fiat', 'ford', 'iveco', 'mercedes',\n",
       "       'mini', 'opel', 'peugeot', 'renault', 'volkswagen'], dtype=object)"
      ]
     },
     "execution_count": 1502,
     "metadata": {},
     "output_type": "execute_result"
    }
   ],
   "source": [
    "diffrence_between_first_vs_nextPages[\"brand\"].unique()"
   ]
  },
  {
   "cell_type": "code",
   "execution_count": 1572,
   "metadata": {},
   "outputs": [
    {
     "data": {
      "text/plain": [
       "iveco daily 5    6050\n",
       "iveco daily 4     450\n",
       "Name: model, dtype: int64"
      ]
     },
     "execution_count": 1572,
     "metadata": {},
     "output_type": "execute_result"
    }
   ],
   "source": [
    "diffrence_between_first_vs_nextPages[diffrence_between_first_vs_nextPages[\"brand\"]==\"iveco\"] \\\n",
    "[\"model\"].value_counts()\n"
   ]
  },
  {
   "cell_type": "code",
   "execution_count": 1575,
   "metadata": {},
   "outputs": [
    {
     "data": {
      "text/plain": [
       "array(['1999', '2000', '2002', '2003', '2009'], dtype=object)"
      ]
     },
     "execution_count": 1575,
     "metadata": {},
     "output_type": "execute_result"
    }
   ],
   "source": [
    "model_version_urls_unique_without_year_next[model_version_urls_unique_without_year_next[\"model\"]==\"iveco daily 3\"][\"year\"].unique()\n"
   ]
  },
  {
   "cell_type": "code",
   "execution_count": 1559,
   "metadata": {},
   "outputs": [
    {
     "data": {
      "text/plain": [
       "6500"
      ]
     },
     "execution_count": 1559,
     "metadata": {},
     "output_type": "execute_result"
    }
   ],
   "source": [
    "diffrence_between_first_vs_nextPages[\"model_gamme\"].value_counts()[\"iveco daily\"]"
   ]
  },
  {
   "cell_type": "markdown",
   "metadata": {},
   "source": [
    "**Example 1:**\n",
    "\n",
    "\"V (2) 2.3 33S11 V12 H2 3250L\" is in page 1 of year 2019. It appears in the first pages dataset. So, it shoud not appear on the dataset of  next pages."
   ]
  },
  {
   "cell_type": "code",
   "execution_count": 1460,
   "metadata": {},
   "outputs": [
    {
     "data": {
      "text/html": [
       "<div>\n",
       "<style scoped>\n",
       "    .dataframe tbody tr th:only-of-type {\n",
       "        vertical-align: middle;\n",
       "    }\n",
       "\n",
       "    .dataframe tbody tr th {\n",
       "        vertical-align: top;\n",
       "    }\n",
       "\n",
       "    .dataframe thead th {\n",
       "        text-align: right;\n",
       "    }\n",
       "</style>\n",
       "<table border=\"1\" class=\"dataframe\">\n",
       "  <thead>\n",
       "    <tr style=\"text-align: right;\">\n",
       "      <th></th>\n",
       "      <th>brand</th>\n",
       "      <th>time</th>\n",
       "      <th>model_gamme</th>\n",
       "      <th>model_gamme_url</th>\n",
       "      <th>model</th>\n",
       "      <th>model_url</th>\n",
       "      <th>fich_tech_href</th>\n",
       "      <th>year</th>\n",
       "      <th>year_url</th>\n",
       "      <th>version_name</th>\n",
       "      <th>version_url</th>\n",
       "    </tr>\n",
       "  </thead>\n",
       "  <tbody>\n",
       "    <tr>\n",
       "      <th>45818</th>\n",
       "      <td>iveco</td>\n",
       "      <td>Les modèles d'aujourd'hui</td>\n",
       "      <td>iveco daily</td>\n",
       "      <td>/gamme--iveco-daily/</td>\n",
       "      <td>iveco daily 5</td>\n",
       "      <td>/modele--iveco-daily-5/</td>\n",
       "      <td>/fiches-techniques/modele--iveco-daily-5/</td>\n",
       "      <td>2002</td>\n",
       "      <td>/fiches-techniques/modele--iveco-daily-5/</td>\n",
       "      <td>V (2) 2.3 33S11 V12 H2 3250L</td>\n",
       "      <td>/fiches-techniques/modele--iveco-daily-5/2019/v+(2)+2.3+33s11+v12+h2+3250l/</td>\n",
       "    </tr>\n",
       "  </tbody>\n",
       "</table>\n",
       "</div>"
      ],
      "text/plain": [
       "       brand                       time  model_gamme       model_gamme_url  \\\n",
       "45818  iveco  Les modèles d'aujourd'hui  iveco daily  /gamme--iveco-daily/   \n",
       "\n",
       "               model                model_url  \\\n",
       "45818  iveco daily 5  /modele--iveco-daily-5/   \n",
       "\n",
       "                                  fich_tech_href  year  \\\n",
       "45818  /fiches-techniques/modele--iveco-daily-5/  2002   \n",
       "\n",
       "                                        year_url  \\\n",
       "45818  /fiches-techniques/modele--iveco-daily-5/   \n",
       "\n",
       "                       version_name  \\\n",
       "45818  V (2) 2.3 33S11 V12 H2 3250L   \n",
       "\n",
       "                                                                       version_url  \n",
       "45818  /fiches-techniques/modele--iveco-daily-5/2019/v+(2)+2.3+33s11+v12+h2+3250l/  "
      ]
     },
     "execution_count": 1460,
     "metadata": {},
     "output_type": "execute_result"
    }
   ],
   "source": [
    "model_version_urls_unique_without_year_next.loc[(model_version_urls_unique_without_year_next['version_name']==\"V (2) 2.3 33S11 V12 H2 3250L\")]\n"
   ]
  },
  {
   "cell_type": "code",
   "execution_count": 1459,
   "metadata": {},
   "outputs": [
    {
     "data": {
      "text/html": [
       "<div>\n",
       "<style scoped>\n",
       "    .dataframe tbody tr th:only-of-type {\n",
       "        vertical-align: middle;\n",
       "    }\n",
       "\n",
       "    .dataframe tbody tr th {\n",
       "        vertical-align: top;\n",
       "    }\n",
       "\n",
       "    .dataframe thead th {\n",
       "        text-align: right;\n",
       "    }\n",
       "</style>\n",
       "<table border=\"1\" class=\"dataframe\">\n",
       "  <thead>\n",
       "    <tr style=\"text-align: right;\">\n",
       "      <th></th>\n",
       "      <th>brand</th>\n",
       "      <th>time</th>\n",
       "      <th>model_gamme</th>\n",
       "      <th>model_gamme_url</th>\n",
       "      <th>model</th>\n",
       "      <th>model_url</th>\n",
       "      <th>fich_tech_href</th>\n",
       "      <th>year</th>\n",
       "      <th>year_url</th>\n",
       "      <th>version_name</th>\n",
       "      <th>version_url</th>\n",
       "      <th>next_page</th>\n",
       "    </tr>\n",
       "  </thead>\n",
       "  <tbody>\n",
       "  </tbody>\n",
       "</table>\n",
       "</div>"
      ],
      "text/plain": [
       "Empty DataFrame\n",
       "Columns: [brand, time, model_gamme, model_gamme_url, model, model_url, fich_tech_href, year, year_url, version_name, version_url, next_page]\n",
       "Index: []"
      ]
     },
     "execution_count": 1459,
     "metadata": {},
     "output_type": "execute_result"
    }
   ],
   "source": [
    "diffrence_between_first_vs_nextPages[diffrence_between_first_vs_nextPages['version_name']==\"V (2) 2.3 33S11 V12 H2 3250L\"]\n"
   ]
  },
  {
   "cell_type": "markdown",
   "metadata": {},
   "source": [
    "**Exemple 2:**\n",
    "\n",
    "\"V (2) 2.3 35C16 D/P 3450 LEAF\" is in page 2 of year 2019. It doesn't appear in the first pages dataset"
   ]
  },
  {
   "cell_type": "code",
   "execution_count": 1464,
   "metadata": {},
   "outputs": [
    {
     "data": {
      "text/html": [
       "<div>\n",
       "<style scoped>\n",
       "    .dataframe tbody tr th:only-of-type {\n",
       "        vertical-align: middle;\n",
       "    }\n",
       "\n",
       "    .dataframe tbody tr th {\n",
       "        vertical-align: top;\n",
       "    }\n",
       "\n",
       "    .dataframe thead th {\n",
       "        text-align: right;\n",
       "    }\n",
       "</style>\n",
       "<table border=\"1\" class=\"dataframe\">\n",
       "  <thead>\n",
       "    <tr style=\"text-align: right;\">\n",
       "      <th></th>\n",
       "      <th>brand</th>\n",
       "      <th>time</th>\n",
       "      <th>model_gamme</th>\n",
       "      <th>model_gamme_url</th>\n",
       "      <th>model</th>\n",
       "      <th>model_url</th>\n",
       "      <th>fich_tech_href</th>\n",
       "      <th>year</th>\n",
       "      <th>year_url</th>\n",
       "      <th>version_name</th>\n",
       "      <th>version_url</th>\n",
       "      <th>next_page</th>\n",
       "    </tr>\n",
       "  </thead>\n",
       "  <tbody>\n",
       "    <tr>\n",
       "      <th>128769</th>\n",
       "      <td>iveco</td>\n",
       "      <td>Les modèles d'aujourd'hui</td>\n",
       "      <td>iveco daily</td>\n",
       "      <td>/gamme--iveco-daily/</td>\n",
       "      <td>iveco daily 5</td>\n",
       "      <td>/modele--iveco-daily-5/</td>\n",
       "      <td>/fiches-techniques/modele--iveco-daily-5/</td>\n",
       "      <td>2002</td>\n",
       "      <td>/fiches-techniques/modele--iveco-daily-5/</td>\n",
       "      <td>V (2) 2.3 35C16 D/P 3450 LEAF</td>\n",
       "      <td>/fiches-techniques/modele--iveco-daily-5/2019/v+(2)+2.3+35c16+d*p+3450+leaf/</td>\n",
       "      <td>?page=2</td>\n",
       "    </tr>\n",
       "  </tbody>\n",
       "</table>\n",
       "</div>"
      ],
      "text/plain": [
       "        brand                       time  model_gamme       model_gamme_url  \\\n",
       "128769  iveco  Les modèles d'aujourd'hui  iveco daily  /gamme--iveco-daily/   \n",
       "\n",
       "                model                model_url  \\\n",
       "128769  iveco daily 5  /modele--iveco-daily-5/   \n",
       "\n",
       "                                   fich_tech_href  year  \\\n",
       "128769  /fiches-techniques/modele--iveco-daily-5/  2002   \n",
       "\n",
       "                                         year_url  \\\n",
       "128769  /fiches-techniques/modele--iveco-daily-5/   \n",
       "\n",
       "                         version_name  \\\n",
       "128769  V (2) 2.3 35C16 D/P 3450 LEAF   \n",
       "\n",
       "                                                                         version_url  \\\n",
       "128769  /fiches-techniques/modele--iveco-daily-5/2019/v+(2)+2.3+35c16+d*p+3450+leaf/   \n",
       "\n",
       "       next_page  \n",
       "128769   ?page=2  "
      ]
     },
     "execution_count": 1464,
     "metadata": {},
     "output_type": "execute_result"
    }
   ],
   "source": [
    "diffrence_between_first_vs_nextPages[diffrence_between_first_vs_nextPages['version_name']==\"V (2) 2.3 35C16 D/P 3450 LEAF\"]\n"
   ]
  },
  {
   "cell_type": "code",
   "execution_count": 1465,
   "metadata": {},
   "outputs": [
    {
     "data": {
      "text/html": [
       "<div>\n",
       "<style scoped>\n",
       "    .dataframe tbody tr th:only-of-type {\n",
       "        vertical-align: middle;\n",
       "    }\n",
       "\n",
       "    .dataframe tbody tr th {\n",
       "        vertical-align: top;\n",
       "    }\n",
       "\n",
       "    .dataframe thead th {\n",
       "        text-align: right;\n",
       "    }\n",
       "</style>\n",
       "<table border=\"1\" class=\"dataframe\">\n",
       "  <thead>\n",
       "    <tr style=\"text-align: right;\">\n",
       "      <th></th>\n",
       "      <th>brand</th>\n",
       "      <th>time</th>\n",
       "      <th>model_gamme</th>\n",
       "      <th>model_gamme_url</th>\n",
       "      <th>model</th>\n",
       "      <th>model_url</th>\n",
       "      <th>fich_tech_href</th>\n",
       "      <th>year</th>\n",
       "      <th>year_url</th>\n",
       "      <th>version_name</th>\n",
       "      <th>version_url</th>\n",
       "    </tr>\n",
       "  </thead>\n",
       "  <tbody>\n",
       "  </tbody>\n",
       "</table>\n",
       "</div>"
      ],
      "text/plain": [
       "Empty DataFrame\n",
       "Columns: [brand, time, model_gamme, model_gamme_url, model, model_url, fich_tech_href, year, year_url, version_name, version_url]\n",
       "Index: []"
      ]
     },
     "execution_count": 1465,
     "metadata": {},
     "output_type": "execute_result"
    }
   ],
   "source": [
    "model_version_urls_unique_without_year_next.loc[(model_version_urls_unique_without_year_next['version_name']==\"V (2) 2.3 35C16 D/P 3450 LEAF\")]\n"
   ]
  },
  {
   "cell_type": "markdown",
   "metadata": {},
   "source": [
    "### 5.2. Collecte des information présente sur les fiches technique des Versions"
   ]
  },
  {
   "cell_type": "code",
   "execution_count": null,
   "metadata": {},
   "outputs": [],
   "source": [
    "version_urls_unique_without_year_next_bis = []\n",
    "#version_urls_unique_without_year_next_bis.append(version_urls_unique_without_year_next[44242])\n",
    "#version_urls_unique_without_year_next_bis.append(version_urls_unique_without_year_next[44243])\n",
    "\n",
    "for i in range(0,len(version_urls_unique_without_year_next)):\n",
    "    if i >= 97905:\n",
    "        version_urls_unique_without_year_next_bis.append(version_urls_unique_without_year_next[i])"
   ]
  },
  {
   "cell_type": "code",
   "execution_count": null,
   "metadata": {},
   "outputs": [],
   "source": [
    "#version_urls_unique_without_year_next_bis# = model_version_urls_unique_without_year_next.to_dict(orient='records')\n",
    "info_urls = []\n",
    "for item in version_urls_unique_without_year_next:\n",
    "    vers_url = item['version_url']\n",
    "    html = urllib.request.urlopen(base+vers_url).read()\n",
    "    soup = BeautifulSoup(html, 'html.parser')\n",
    "    #print(html)\n",
    "    # Extraction du prix\n",
    "    prix_span = soup.find(lambda tag: tag.name == \"span\", {\"class\":\"blocPrixVal\"})\n",
    "    #print(prix_span)\n",
    "    prix =\"\"\n",
    "    #if prix_span is not None:\n",
    "    prix = prix_span.getText()\n",
    "    #Taux d'émission de CO2 et bonus/malus (Norme NEDC)\n",
    "    #taux_co2 = soup.find(lambda tag: tag.name == \"p\", {\"class\":\"valueEmis malus\"}).getText()\n",
    "    \n",
    "    # Extraction de caractéristiques\n",
    "    fiche_tech_div = soup.find(lambda tag: tag.name == \"div\", {\"id\":\"tabContent_1\"})\n",
    "    first = fiche_tech_div.find_all(lambda tag: tag.name == \"td\", {\"class\":\"intitule first\"})\n",
    "    last = fiche_tech_div.find_all(lambda tag: tag.name == \"td\", {\"class\":\"last result\"})\n",
    "    cara = []\n",
    "    for i in range(0, len(first)) :\n",
    "        temp = {}\n",
    "        #print((first[i].getText(),last[i].getText()))\n",
    "        temp[first[i].getText()] = last[i].getText()\n",
    "        cara.append(temp)\n",
    "     \n",
    "    # Extraction d'équipement\n",
    "    equip_div = soup.find(lambda tag: tag.name == \"div\", {\"id\":\"tabContent_2\"})\n",
    "    equip_tables = equip_div.find_all(lambda tag: tag.name == \"table\", {\"class\":\"listingTab\"})\n",
    "    equips_all = []\n",
    "    for table in equip_tables:\n",
    "        h3 = table.find(lambda tag: tag.name == \"h3\")\n",
    "        equips_td = table.find_all(lambda tag: tag.name == \"td\", {\"class\":\"intitule first\"})\n",
    "        title = h3.getText()\n",
    "        equips = []\n",
    "        for elem in equips_td:\n",
    "            equips.append(elem.getText())\n",
    "        temp = {}\n",
    "        temp[title] = equips\n",
    "        equips_all.append(temp) \n",
    "        \n",
    "    # Extraction d'option\n",
    "    option_div = soup.find(lambda tag: tag.name == \"div\", {\"id\":\"tabContent_3\"})\n",
    "    first = option_div.find_all(lambda tag: tag.name == \"td\", {\"class\":\"intitule first\"})\n",
    "    last = option_div.find_all(lambda tag: tag.name == \"td\", {\"class\":\"last result\"})\n",
    "    options = []\n",
    "    for i in range(0, len(first)) :\n",
    "        option = {}\n",
    "        #print((first[i].getText(),last[i].getText()))\n",
    "        option[first[i].getText()] = last[i].getText()\n",
    "        options.append(option)\n",
    "    \n",
    "    # Extraction de couleur\n",
    "    #couleur_div = soup.find(lambda tag: tag.name == \"div\", {\"id\":\"tabContent_4\"})\n",
    "    #couleurs_td = couleur_div.find_all(lambda tag: tag.name == \"td\", {\"class\":\"intitule\"})\n",
    "    #couleurs = []\n",
    "    #for elem in couleurs_td:\n",
    "    #    couleurs.append(elem.getText())\n",
    "    temp = item.copy()\n",
    "    temp['prix']= prix\n",
    "    temp['caracteristiques'] = cara\n",
    "    temp['equips_all'] = equips_all\n",
    "    temp['options'] = options \n",
    "    info_urls.append(temp)\n",
    "    \n",
    "    print((temp['Unnamed: 0'], temp['model']))\n",
    "    #print(prix)\n",
    "    #print(cara)\n",
    "    #print(equips_all)\n",
    "    #print(options)\n",
    "    #print(couleurs)\n",
    "#info_urls "
   ]
  },
  {
   "cell_type": "code",
   "execution_count": null,
   "metadata": {},
   "outputs": [],
   "source": [
    "model_info_urls = pd.DataFrame.from_dict(info_urls)\n",
    "model_info_urls.to_csv(\"Caradisiac/scrapping_caradisiac_14.csv\")\n",
    "model_info_urls.shape"
   ]
  },
  {
   "cell_type": "markdown",
   "metadata": {},
   "source": [
    "## 6. Conclusion\n",
    "Dans ce notebook, nous avons récupéré les informations présentes sur les pages 'Fiches Techniques' des versions des vehicules listées dans le site caradisiac. <br>\n",
    "\n",
    "A cause des problèmes de connexion, des datasets ont été récupérés après chaque interuption de connexion."
   ]
  },
  {
   "cell_type": "markdown",
   "metadata": {},
   "source": [
    "## 7. Prochaines étapes\n",
    "* Croisement des données externes avec les données Data_cars et réalisation du data engineering.\n",
    "* Entrainement du modèle RandomFroest sur les nouvelles données"
   ]
  }
 ],
 "metadata": {
  "kernelspec": {
   "display_name": "Python 3",
   "language": "python",
   "name": "python3"
  },
  "language_info": {
   "codemirror_mode": {
    "name": "ipython",
    "version": 3
   },
   "file_extension": ".py",
   "mimetype": "text/x-python",
   "name": "python",
   "nbconvert_exporter": "python",
   "pygments_lexer": "ipython3",
   "version": "3.7.6"
  }
 },
 "nbformat": 4,
 "nbformat_minor": 4
}
