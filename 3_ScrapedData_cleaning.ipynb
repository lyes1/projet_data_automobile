{
 "cells": [
  {
   "cell_type": "code",
   "execution_count": null,
   "metadata": {},
   "outputs": [],
   "source": []
  },
  {
   "cell_type": "code",
   "execution_count": 542,
   "metadata": {},
   "outputs": [],
   "source": [
    "import pandas as pd\n",
    "import numpy as np\n",
    "import re\n",
    "from collections import ChainMap\n",
    "import json\n",
    "import re\n",
    "\n",
    "pd.set_option('max_colwidth', 10000)\n",
    "pd.options.display.max_rows = 4000"
   ]
  },
  {
   "cell_type": "code",
   "execution_count": 543,
   "metadata": {},
   "outputs": [],
   "source": [
    "import glob\n",
    "\n",
    "path = r'Caradisiac' # use your path\n",
    "all_files = glob.glob(path + \"/*.csv\")\n",
    "\n",
    "li = []\n",
    "\n",
    "for filename in all_files:\n",
    "    df = pd.read_csv(filename, index_col=None, header=0)\n",
    "    li.append(df)\n",
    "\n",
    "data_first_pages = pd.concat(li, axis=0, ignore_index=True)\n",
    "\n",
    "path = r'Caradisiac/next_pages' # use your path\n",
    "all_files = glob.glob(path + \"/*.csv\")\n",
    "\n",
    "li = []\n",
    "\n",
    "for filename in all_files:\n",
    "    df = pd.read_csv(filename, index_col=None, header=0)\n",
    "    li.append(df)\n",
    "\n",
    "data_next_pages = pd.concat(li, axis=0, ignore_index=True)"
   ]
  },
  {
   "cell_type": "code",
   "execution_count": 544,
   "metadata": {},
   "outputs": [
    {
     "data": {
      "text/plain": [
       "((123597, 17), (15450, 18))"
      ]
     },
     "execution_count": 544,
     "metadata": {},
     "output_type": "execute_result"
    }
   ],
   "source": [
    "data_first_pages.shape, data_next_pages.shape"
   ]
  },
  {
   "cell_type": "code",
   "execution_count": 545,
   "metadata": {},
   "outputs": [],
   "source": [
    "data_first_pages.drop(columns=[\"Unnamed: 0\",\n",
    "                               \"Unnamed: 0.1\", \"model_gamme_url\", \"model_url\", \"fich_tech_href\", \n",
    "                              \"year_url\", \"version_url\"], inplace=True)\n",
    "data_next_pages.drop(columns=[\"Unnamed: 0\", \n",
    "                              \"Unnamed: 0.1\", \"model_gamme_url\", \"model_url\", \"fich_tech_href\", \n",
    "                              \"year_url\", \"version_url\", \"next_page\"], inplace=True)"
   ]
  },
  {
   "cell_type": "code",
   "execution_count": 546,
   "metadata": {},
   "outputs": [
    {
     "data": {
      "text/plain": [
       "((123597, 10), (15450, 10))"
      ]
     },
     "execution_count": 546,
     "metadata": {},
     "output_type": "execute_result"
    }
   ],
   "source": [
    "data_first_pages.shape, data_next_pages.shape"
   ]
  },
  {
   "cell_type": "code",
   "execution_count": 569,
   "metadata": {},
   "outputs": [
    {
     "data": {
      "text/plain": [
       "(139047, 10)"
      ]
     },
     "execution_count": 569,
     "metadata": {},
     "output_type": "execute_result"
    }
   ],
   "source": [
    "all_pages = pd.concat([data_first_pages, data_next_pages], axis=0, ignore_index=True)\n",
    "all_pages.shape"
   ]
  },
  {
   "cell_type": "code",
   "execution_count": 548,
   "metadata": {},
   "outputs": [
    {
     "data": {
      "text/plain": [
       "1111"
      ]
     },
     "execution_count": 548,
     "metadata": {},
     "output_type": "execute_result"
    }
   ],
   "source": [
    "#III (2) SPORTBACK 40 E-TRON DESIGN LUXE S TRONIC\n",
    "#III (2) SPORTBACK 40 E-TRON BUSINESS LINE S TRONIC\n",
    "# .... etc.\n",
    "all_pages_dict = all_pages.to_dict(orient='records')\n",
    "delete = []\n",
    "for elm in all_pages_dict:\n",
    "    if elm['caracteristiques'].find(\"\\\\xa\")!=-1:\n",
    "        delete.append(elm['version_name'])\n",
    "len(delete)"
   ]
  },
  {
   "cell_type": "markdown",
   "metadata": {},
   "source": [
    "# Caracteristiques"
   ]
  },
  {
   "cell_type": "code",
   "execution_count": 570,
   "metadata": {},
   "outputs": [],
   "source": [
    "all_pages['caracteristiques'] = all_pages['caracteristiques'].str.replace(r'{\\'', '{\"',  regex=True)#.replace(\"[\", \"\").replace(\"]\",\"\")\n",
    "all_pages['caracteristiques'] = all_pages['caracteristiques'].str.replace(r'\\'}', '\"}', regex=True)#.replace(\"[\", \"\").replace(\"]\",\"\")\n",
    "\n",
    "all_pages['caracteristiques'] = all_pages['caracteristiques'].str.replace(r' \\'', ' \"',  regex=True)#.replace(\"[\", \"\").replace(\"]\",\"\")\n",
    "all_pages['caracteristiques'] = all_pages['caracteristiques'].str.replace(r'\\':', '\":',  regex=True)#.replace(\"[\", \"\").replace(\"]\",\"\")\n",
    "all_pages['caracteristiques'] = all_pages['caracteristiques'].str.replace(r'\\\\xa0', '',  regex=True)#.replace(\"[\", \"\").replace(\"]\",\"\")\n",
    "\n",
    "all_pages['caracteristiques'] = all_pages.caracteristiques.apply(json.loads)"
   ]
  },
  {
   "cell_type": "code",
   "execution_count": 552,
   "metadata": {},
   "outputs": [
    {
     "data": {
      "text/plain": [
       "55"
      ]
     },
     "execution_count": 552,
     "metadata": {},
     "output_type": "execute_result"
    }
   ],
   "source": [
    "all_pages_dict = all_pages.to_dict(orient='records')\n",
    "#all_pages_dict\n",
    "keys_all = []\n",
    "i= 0\n",
    "for elm in all_pages_dict:\n",
    "    keys = (dict(ChainMap(*elm['caracteristiques']))).keys()\n",
    "    keys_all.append(list(keys))\n",
    "    \n",
    "keys_all = np.concatenate(keys_all).ravel().tolist()\n",
    "keys_all = set(keys_all)\n",
    "len(keys_all)\n",
    "\n",
    "car_cols={'Blocage de différentiel' :  'blockage_differentiel',\n",
    "'Diamètre de braquage entre trottoirs' :  'diametre_braquage_entre_trottoirs',\n",
    "'Diamètre de braquage entre murs' :  'diametre_braquage_entre_murs',\n",
    "'Freins à disque' : 'freins_disque' ,\n",
    "'Roue de secours' :  'Roue_secours',\n",
    "'Taille des pneus arrière' :  'Taille_pneus_arriere',\n",
    "'Taille des pneus avant' :  'Taille_pneus_avant',\n",
    "'Suspension arrière' :  'Suspension_arriere',\n",
    "'Suspension avant' :  'Suspension_avant',\n",
    "'NormeEuro' :  'Norme_euro',\n",
    "'Bonus / Malus écologique' :  'Bonus_Malus_ecologique',\n",
    "'Emission de CO2 (NEDC)' :  'Emission_CO2_NEDC',\n",
    "'Volume du réservoir' :  'Volume_reservoir',\n",
    "'Consommation mixte' :  'Consommation_mixte',\n",
    "'Consommation extra-urbaine' :  'Consommation_extra_urbaine',\n",
    "'Consommation urbaine' :  'consommation_urbaine',\n",
    "'0 à 100 km/h' :  '0_a_100km_par_h',\n",
    "'Vitesse maxi' :  'Vitesse_maxi',\n",
    "'Roues motrices' :  'Roues_motrices',\n",
    "'Boîte de vitesse, Nb de rapports' :  'Boite_vitesse_Nb_rapports',\n",
    "'Type de suralimentation' :  'Type_suralimentation',\n",
    "'Couple' :  'Couple',\n",
    "'Puissance' :  'Puissance',\n",
    "'Cylindrée' :  'Cylindree',\n",
    "'Moteur' :  'Moteur',\n",
    "'Puissance fiscale' :  'Puissance_fiscale',\n",
    "'Motorisation' :  'Motorisation',\n",
    "'Poids à vide' :  'Poids_a_vide',\n",
    "'Nombre de places assises' :  'Nb_places_assises',\n",
    "'Nombre de portes' :  'Nombre_portes',\n",
    "'Volume de coffre mini/maxi' :  'Volume_coffre_mini/maxi' ,\n",
    "'Empattement' :  'Empattement',\n",
    "'Hauteur' :  'Hauteur',\n",
    "'Largeur sans rétros' :  'Largeur_sans_retros',\n",
    "'Longueur' :  'Longueur',\n",
    "'Intervalles de révision maxi' :  'Intervalles_revision_maxi',\n",
    "'Intervalles de révision en km' :  'Intervalles_revision_km',\n",
    "'Durée de la garantie' :  'Duree_garantie',\n",
    "'Date de fin de commercialisation' :  'Date_fin_commercialisation',\n",
    "'Date de commercialisation' :  'Date_commercialisation',\n",
    "'Angle dattaque' : 'Angle_attaque',\n",
    "'Angle de fuite' : 'Angle_ fuite',\n",
    "'Autonomie en electrique' : 'Autonomie_electrique',\n",
    "'Boîte de vitesse Nb de rapports' :  'Boite_vitesse_Nb_rapports',\n",
    "'Capacité batterie' : 'Capacite_ batterie',\n",
    "'Caractéristiques moteur' : 'Caracteristiques_moteur',\n",
    "'Caractéristiques moteur N°1' : 'Caractéristiques_moteurN_1',\n",
    "'Caractéristiques moteur N°2' : 'Caractéristiques_moteurN_2',\n",
    "'Couple cumulé' : 'Couple_cumule',\n",
    "'Direction' : 'Direction',\n",
    "'Durée de charge' : 'Duree_ charge',\n",
    "'Location batterie' : 'Location_ batterie',\n",
    "'Nombre de moteurs' : 'Nombre_moteurs',\n",
    "'Norme Euro' :  'Norme_euro',\n",
    "'Position' : 'Position',\n",
    "'Type batterie' : 'Type_batterie'}"
   ]
  },
  {
   "cell_type": "code",
   "execution_count": 591,
   "metadata": {},
   "outputs": [],
   "source": [
    "#def func(row,key):\n",
    "#    return dict(ChainMap(*row['caracteristiques'])).get(key)\n",
    "for key, value in car_cols.items():\n",
    "    all_pages[value] = all_pages.apply(lambda row: dict(ChainMap(*row['caracteristiques'])).get(key), axis=1)"
   ]
  },
  {
   "cell_type": "code",
   "execution_count": 592,
   "metadata": {},
   "outputs": [],
   "source": [
    "all_pages.drop(columns=\"caracteristiques\", inplace=True)"
   ]
  },
  {
   "cell_type": "code",
   "execution_count": 605,
   "metadata": {},
   "outputs": [
    {
     "name": "stdout",
     "output_type": "stream",
     "text": [
      "<class 'pandas.core.frame.DataFrame'>\n",
      "RangeIndex: 139047 entries, 0 to 139046\n",
      "Data columns (total 63 columns):\n",
      "brand                                139047 non-null object\n",
      "time                                 139047 non-null object\n",
      "model_gamme                          139047 non-null object\n",
      "model                                139047 non-null object\n",
      "year                                 139047 non-null int64\n",
      "version_name                         139047 non-null object\n",
      "prix                                 139045 non-null object\n",
      "equips_all                           139047 non-null object\n",
      "options                              139047 non-null object\n",
      "blockage_differentiel                139045 non-null object\n",
      "diametre_braquage_entre_trottoirs    139045 non-null object\n",
      "diametre_braquage_entre_murs         139045 non-null object\n",
      "freins_disque                        139045 non-null object\n",
      "Roue_secours                         139045 non-null object\n",
      "Taille_pneus_arriere                 139045 non-null object\n",
      "Taille_pneus_avant                   139045 non-null object\n",
      "Suspension_arriere                   139045 non-null object\n",
      "Suspension_avant                     139045 non-null object\n",
      "Norme_euro                           756 non-null object\n",
      "Bonus_Malus_ecologique               139045 non-null object\n",
      "Emission_CO2_NEDC                    139045 non-null object\n",
      "Volume_reservoir                     138289 non-null object\n",
      "Consommation_mixte                   138289 non-null object\n",
      "Consommation_extra_urbaine           138289 non-null object\n",
      "consommation_urbaine                 138289 non-null object\n",
      "0_a_100km_par_h                      139045 non-null object\n",
      "Vitesse_maxi                         139045 non-null object\n",
      "Roues_motrices                       138289 non-null object\n",
      "Boite_vitesse_Nb_rapports            0 non-null object\n",
      "Type_suralimentation                 138289 non-null object\n",
      "Couple                               137550 non-null object\n",
      "Puissance                            138791 non-null object\n",
      "Cylindree                            138289 non-null object\n",
      "Moteur                               138289 non-null object\n",
      "Puissance_fiscale                    139045 non-null object\n",
      "Motorisation                         139045 non-null object\n",
      "Poids_a_vide                         139045 non-null object\n",
      "Nb_places_assises                    139045 non-null object\n",
      "Nombre_portes                        139045 non-null object\n",
      "Volume_coffre_mini/maxi              139045 non-null object\n",
      "Empattement                          139045 non-null object\n",
      "Hauteur                              139045 non-null object\n",
      "Largeur_sans_retros                  139045 non-null object\n",
      "Longueur                             139045 non-null object\n",
      "Intervalles_revision_maxi            139045 non-null object\n",
      "Intervalles_revision_km              139045 non-null object\n",
      "Duree_garantie                       139045 non-null object\n",
      "Date_fin_commercialisation           139045 non-null object\n",
      "Date_commercialisation               139045 non-null object\n",
      "Angle_attaque                        0 non-null object\n",
      "Angle_ fuite                         14732 non-null object\n",
      "Autonomie_electrique                 1365 non-null object\n",
      "Capacite_ batterie                   1365 non-null object\n",
      "Caracteristiques_moteur              957 non-null object\n",
      "Caractéristiques_moteurN_1           88 non-null object\n",
      "Caractéristiques_moteurN_2           88 non-null object\n",
      "Couple_cumule                        1495 non-null object\n",
      "Direction                            1495 non-null object\n",
      "Duree_ charge                        1365 non-null object\n",
      "Location_ batterie                   756 non-null object\n",
      "Nombre_moteurs                       1365 non-null object\n",
      "Position                             1495 non-null object\n",
      "Type_batterie                        756 non-null object\n",
      "dtypes: int64(1), object(62)\n",
      "memory usage: 66.8+ MB\n"
     ]
    }
   ],
   "source": [
    "all_pages.info()"
   ]
  },
  {
   "cell_type": "markdown",
   "metadata": {},
   "source": [
    "# Prix & time"
   ]
  },
  {
   "cell_type": "code",
   "execution_count": 602,
   "metadata": {},
   "outputs": [],
   "source": [
    "all_pages['prix'] = all_pages['prix'].str.replace('€', '').str.replace(' ', '')\n",
    "\n",
    "all_pages.loc[all_pages['time']==\"Les modèles d'aujourd'hui\", 'time'] = \"aujourdhui\"\n",
    "all_pages.loc[all_pages['time']==\"Les modèles d'aujourd'hui\", 'time'] = \"hier\"\n",
    "all_pages.loc[all_pages['time']==\"Les modèles d'aujourd'hui\", 'time'] = \"autre\""
   ]
  },
  {
   "cell_type": "markdown",
   "metadata": {},
   "source": [
    "# Save"
   ]
  },
  {
   "cell_type": "code",
   "execution_count": 609,
   "metadata": {},
   "outputs": [],
   "source": [
    "all_pages.to_csv(\"Car_versions_all.csv\")"
   ]
  },
  {
   "cell_type": "code",
   "execution_count": null,
   "metadata": {},
   "outputs": [],
   "source": []
  }
 ],
 "metadata": {
  "kernelspec": {
   "display_name": "Python 3",
   "language": "python",
   "name": "python3"
  },
  "language_info": {
   "codemirror_mode": {
    "name": "ipython",
    "version": 3
   },
   "file_extension": ".py",
   "mimetype": "text/x-python",
   "name": "python",
   "nbconvert_exporter": "python",
   "pygments_lexer": "ipython3",
   "version": "3.7.6"
  }
 },
 "nbformat": 4,
 "nbformat_minor": 2
}
