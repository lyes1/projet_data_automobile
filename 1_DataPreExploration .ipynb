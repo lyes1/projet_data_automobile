{
 "cells": [
  {
   "cell_type": "markdown",
   "metadata": {},
   "source": [
    "# Introduction \n",
    "Dans le cadre de la réalisation d'un projet Data de fin de cursus au sein d'Hetic, nous sommes amenés à déveloper un modèle de prédiction de prix d'occasion de véhicules en se basant sur des données brutes sans traitement et sans mise en forme préalables. <br>\n",
    "\n",
    "Ce projet se veut être le plus complet possible (cycle de vie d'un projet data) et reflettant les vraies problèmatiques qu'un data sceintist rencontre dans la pratique. <br>\n",
    "\n",
    "Nous devons explorer, netoyer des données et les enrichir si besoin. Puis, concevoir et implémenter un modèle de prédiction. Pour finir, une réflexion sur la mise en production est demandée. <br>\n",
    "\n",
    "Pour des soucis d'organisation, nous réalisons ce projet à travers plusieurs notebooks. Des objectifs spécifiques sont définits dans chaque notebook.  \n",
    "* 1_DataPreExploration :\n",
    "* 2_Collecte_data_externe"
   ]
  },
  {
   "cell_type": "markdown",
   "metadata": {},
   "source": [
    "# 1. Exploratory Data Analysis\n",
    "## Objectifs :\n",
    "* Comprendre nos données\n",
    "* Développer une première stratégie de modilisation\n",
    "\n",
    "## Plan :\n",
    "1. Analyse de forme\n",
    "2. Pre-processing :\n",
    "    * 2.1. Champs Mileage, Online et Description\n",
    "    * 2.2. Champs 'version'\n",
    "    * 2.3. Champs 'option'\n",
    "    * 2.4. Champs 'couleur'\n",
    "3. Analyse des données manquantes\n",
    "4. Analyse univariable\n",
    "    * 4.1. Les données manquantes\n",
    "    * 4.2. Visualisation de la target\n",
    "    * 4.3. Visualisation des variables numériques\n",
    "    * 4.4. Visualisation des variables qualitatives\n",
    "5. Analyse bivariable\n",
    "    * 5.1. Les variables numériques\n",
    "    * 5.2. La variable 'Fuel'\n",
    "    * 5.3. La variable 'Gearbox'\n",
    "6. Modelisation\n",
    "    * 6.1. Définition de la metrique MAPE\n",
    "    * 6.2. Définition des transformations de variables\n",
    "    * 6.3. Selection d'un échantillon (30% du dataset initial)\n",
    "    * 6.4. Selection des features\n",
    "    * 6.5. Entrainement de plusieurs modèles\n",
    "    * 6.6. Ajout de la feature 'couleur_dominante'\n",
    "    * 6.7. Hyper-paramètre n_estimators=100\n",
    "\n",
    "7. Conclusion"
   ]
  },
  {
   "cell_type": "code",
   "execution_count": 59,
   "metadata": {},
   "outputs": [],
   "source": [
    "import pandas as pd\n",
    "import matplotlib.pyplot as plt\n",
    "import seaborn as sns\n",
    "\n",
    "import numpy as np\n",
    "import re\n",
    "pd.set_option('max_colwidth', 10000)\n",
    "pd.set_option('display.max_column', 30)\n",
    "#pd.set_option('display.max_row', 10)\n"
   ]
  },
  {
   "cell_type": "code",
   "execution_count": 3,
   "metadata": {},
   "outputs": [
    {
     "data": {
      "text/html": [
       "<style>.dataframe th, td:first-child{background:#3f577c;font-family:monospace;color:white;border:3px solid white;\n",
       "text-align:left !important;}#codex{float:right;}</style>\n"
      ],
      "text/plain": [
       "<IPython.core.display.HTML object>"
      ]
     },
     "metadata": {},
     "output_type": "display_data"
    }
   ],
   "source": [
    "%%HTML\n",
    "<style>.dataframe th, td:first-child{background:#3f577c;font-family:monospace;color:white;border:3px solid white;\n",
    "text-align:left !important;}#codex{float:right;}</style>"
   ]
  },
  {
   "cell_type": "code",
   "execution_count": 4,
   "metadata": {},
   "outputs": [],
   "source": [
    "df = pd.read_csv('../Datasets/Data_cars.csv')"
   ]
  },
  {
   "cell_type": "markdown",
   "metadata": {},
   "source": [
    "## 1. Analyse de forme"
   ]
  },
  {
   "cell_type": "code",
   "execution_count": 5,
   "metadata": {},
   "outputs": [
    {
     "data": {
      "text/html": [
       "<div>\n",
       "<style scoped>\n",
       "    .dataframe tbody tr th:only-of-type {\n",
       "        vertical-align: middle;\n",
       "    }\n",
       "\n",
       "    .dataframe tbody tr th {\n",
       "        vertical-align: top;\n",
       "    }\n",
       "\n",
       "    .dataframe thead th {\n",
       "        text-align: right;\n",
       "    }\n",
       "</style>\n",
       "<table border=\"1\" class=\"dataframe\">\n",
       "  <thead>\n",
       "    <tr style=\"text-align: right;\">\n",
       "      <th></th>\n",
       "      <th>Price</th>\n",
       "      <th>Make</th>\n",
       "      <th>Model</th>\n",
       "      <th>Model_year</th>\n",
       "      <th>Mileage</th>\n",
       "      <th>Fuel</th>\n",
       "      <th>Gearbox</th>\n",
       "      <th>Online</th>\n",
       "      <th>Description</th>\n",
       "    </tr>\n",
       "  </thead>\n",
       "  <tbody>\n",
       "    <tr>\n",
       "      <th>0</th>\n",
       "      <td>11220.0</td>\n",
       "      <td>PEUGEOT</td>\n",
       "      <td>308</td>\n",
       "      <td>2014</td>\n",
       "      <td>94341.0 km</td>\n",
       "      <td>Diesel</td>\n",
       "      <td>mécanique</td>\n",
       "      <td>06/07/2018 à 3h47</td>\n",
       "      <td>modele: 308 (2E GENERATION), version: 1.6 HDI FAP 92CH BUSINESS 5P, puissance_fiscale: 4, portes: 5.0, options: banquette arrière 3 places;volant cuir;cache bagages;airbag frontal;banquette 1/3 - 2/3;sièges rang 2 rabattables à plat;vitres teintées;boucliers av et ar couleur caisse;phares av. de jour à LED;airbags rideaux;rétroviseurs électriques et dégivrants;siège conducteur avec réglage lombaire;vitres électriques;feux de freinage d'urgence;banquette rabattable;feux ar. à LED;AFU;contrôle de pression des pneus;airbags front. + lat.;blanc banquise;lampes de lecture à l'arrière;sièges réglables en hauteur;alarme d'oubli d'extinction des feux;EBD;volant sport;température extérieure;système audio;becquet;feux automatiques;fermeture électrique;ESP;fermeture électrique automatique;bacs de portes avant;anti patinage;accoudoir central avant;commandes du système audio au volant;fixations ISOFIX;poches d'aumonières;lampes de lecture à l'avant;lunette arrière dégivrante;essuie-glace arrière;ordinateur de bord;phares halogènes;climatisation;volant réglable en hauteur et profondeur;siège conducteur réglable hauteur;boite à gants réfrigérée;ABS;ceintures avant ajustables en hauteur;prise 12V;ecran tactile multifonction;FAP;3 ceintures ar. 3 points;ouverture des vitres séquentielle, couleur: BLANC BANQUISE</td>\n",
       "    </tr>\n",
       "  </tbody>\n",
       "</table>\n",
       "</div>"
      ],
      "text/plain": [
       "     Price     Make Model  Model_year     Mileage    Fuel    Gearbox  \\\n",
       "0  11220.0  PEUGEOT   308        2014  94341.0 km  Diesel  mécanique   \n",
       "\n",
       "              Online  \\\n",
       "0  06/07/2018 à 3h47   \n",
       "\n",
       "                                                                                                                                                                                                                                                                                                                                                                                                                                                                                                                                                                                                                                                                                                                                                                                                                                                                                                                                                                                                                                                                                                                                                                                                                                                                                                                                                           Description  \n",
       "0  modele: 308 (2E GENERATION), version: 1.6 HDI FAP 92CH BUSINESS 5P, puissance_fiscale: 4, portes: 5.0, options: banquette arrière 3 places;volant cuir;cache bagages;airbag frontal;banquette 1/3 - 2/3;sièges rang 2 rabattables à plat;vitres teintées;boucliers av et ar couleur caisse;phares av. de jour à LED;airbags rideaux;rétroviseurs électriques et dégivrants;siège conducteur avec réglage lombaire;vitres électriques;feux de freinage d'urgence;banquette rabattable;feux ar. à LED;AFU;contrôle de pression des pneus;airbags front. + lat.;blanc banquise;lampes de lecture à l'arrière;sièges réglables en hauteur;alarme d'oubli d'extinction des feux;EBD;volant sport;température extérieure;système audio;becquet;feux automatiques;fermeture électrique;ESP;fermeture électrique automatique;bacs de portes avant;anti patinage;accoudoir central avant;commandes du système audio au volant;fixations ISOFIX;poches d'aumonières;lampes de lecture à l'avant;lunette arrière dégivrante;essuie-glace arrière;ordinateur de bord;phares halogènes;climatisation;volant réglable en hauteur et profondeur;siège conducteur réglable hauteur;boite à gants réfrigérée;ABS;ceintures avant ajustables en hauteur;prise 12V;ecran tactile multifonction;FAP;3 ceintures ar. 3 points;ouverture des vitres séquentielle, couleur: BLANC BANQUISE  "
      ]
     },
     "execution_count": 5,
     "metadata": {},
     "output_type": "execute_result"
    }
   ],
   "source": [
    "df.head(1)"
   ]
  },
  {
   "cell_type": "code",
   "execution_count": 6,
   "metadata": {},
   "outputs": [
    {
     "data": {
      "text/plain": [
       "Price          float64\n",
       "Make            object\n",
       "Model           object\n",
       "Model_year       int64\n",
       "Mileage         object\n",
       "Fuel            object\n",
       "Gearbox         object\n",
       "Online          object\n",
       "Description     object\n",
       "dtype: object"
      ]
     },
     "execution_count": 6,
     "metadata": {},
     "output_type": "execute_result"
    }
   ],
   "source": [
    "df.dtypes"
   ]
  },
  {
   "cell_type": "code",
   "execution_count": 7,
   "metadata": {},
   "outputs": [
    {
     "data": {
      "text/plain": [
       "object     7\n",
       "float64    1\n",
       "int64      1\n",
       "dtype: int64"
      ]
     },
     "execution_count": 7,
     "metadata": {},
     "output_type": "execute_result"
    }
   ],
   "source": [
    "df.dtypes.value_counts()"
   ]
  },
  {
   "cell_type": "code",
   "execution_count": 8,
   "metadata": {},
   "outputs": [
    {
     "data": {
      "text/html": [
       "<div>\n",
       "<style scoped>\n",
       "    .dataframe tbody tr th:only-of-type {\n",
       "        vertical-align: middle;\n",
       "    }\n",
       "\n",
       "    .dataframe tbody tr th {\n",
       "        vertical-align: top;\n",
       "    }\n",
       "\n",
       "    .dataframe thead th {\n",
       "        text-align: right;\n",
       "    }\n",
       "</style>\n",
       "<table border=\"1\" class=\"dataframe\">\n",
       "  <thead>\n",
       "    <tr style=\"text-align: right;\">\n",
       "      <th></th>\n",
       "      <th>Description</th>\n",
       "    </tr>\n",
       "  </thead>\n",
       "  <tbody>\n",
       "    <tr>\n",
       "      <th>0</th>\n",
       "      <td>modele: 308 (2E GENERATION), version: 1.6 HDI FAP 92CH BUSINESS 5P, puissance_fiscale: 4, portes: 5.0, options: banquette arrière 3 places;volant cuir;cache bagages;airbag frontal;banquette 1/3 - 2/3;sièges rang 2 rabattables à plat;vitres teintées;boucliers av et ar couleur caisse;phares av. de jour à LED;airbags rideaux;rétroviseurs électriques et dégivrants;siège conducteur avec réglage lombaire;vitres électriques;feux de freinage d'urgence;banquette rabattable;feux ar. à LED;AFU;contrôle de pression des pneus;airbags front. + lat.;blanc banquise;lampes de lecture à l'arrière;sièges réglables en hauteur;alarme d'oubli d'extinction des feux;EBD;volant sport;température extérieure;système audio;becquet;feux automatiques;fermeture électrique;ESP;fermeture électrique automatique;bacs de portes avant;anti patinage;accoudoir central avant;commandes du système audio au volant;fixations ISOFIX;poches d'aumonières;lampes de lecture à l'avant;lunette arrière dégivrante;essuie-glace arrière;ordinateur de bord;phares halogènes;climatisation;volant réglable en hauteur et profondeur;siège conducteur réglable hauteur;boite à gants réfrigérée;ABS;ceintures avant ajustables en hauteur;prise 12V;ecran tactile multifonction;FAP;3 ceintures ar. 3 points;ouverture des vitres séquentielle, couleur: BLANC BANQUISE</td>\n",
       "    </tr>\n",
       "  </tbody>\n",
       "</table>\n",
       "</div>"
      ],
      "text/plain": [
       "                                                                                                                                                                                                                                                                                                                                                                                                                                                                                                                                                                                                                                                                                                                                                                                                                                                                                                                                                                                                                                                                                                                                                                                                                                                                                                                                                           Description\n",
       "0  modele: 308 (2E GENERATION), version: 1.6 HDI FAP 92CH BUSINESS 5P, puissance_fiscale: 4, portes: 5.0, options: banquette arrière 3 places;volant cuir;cache bagages;airbag frontal;banquette 1/3 - 2/3;sièges rang 2 rabattables à plat;vitres teintées;boucliers av et ar couleur caisse;phares av. de jour à LED;airbags rideaux;rétroviseurs électriques et dégivrants;siège conducteur avec réglage lombaire;vitres électriques;feux de freinage d'urgence;banquette rabattable;feux ar. à LED;AFU;contrôle de pression des pneus;airbags front. + lat.;blanc banquise;lampes de lecture à l'arrière;sièges réglables en hauteur;alarme d'oubli d'extinction des feux;EBD;volant sport;température extérieure;système audio;becquet;feux automatiques;fermeture électrique;ESP;fermeture électrique automatique;bacs de portes avant;anti patinage;accoudoir central avant;commandes du système audio au volant;fixations ISOFIX;poches d'aumonières;lampes de lecture à l'avant;lunette arrière dégivrante;essuie-glace arrière;ordinateur de bord;phares halogènes;climatisation;volant réglable en hauteur et profondeur;siège conducteur réglable hauteur;boite à gants réfrigérée;ABS;ceintures avant ajustables en hauteur;prise 12V;ecran tactile multifonction;FAP;3 ceintures ar. 3 points;ouverture des vitres séquentielle, couleur: BLANC BANQUISE"
      ]
     },
     "execution_count": 8,
     "metadata": {},
     "output_type": "execute_result"
    }
   ],
   "source": [
    "df[['Description']].head(1)"
   ]
  },
  {
   "cell_type": "markdown",
   "metadata": {},
   "source": [
    "**Description** contient plusieurs sous-champs qui sont séparés par une **','**\n",
    "\n",
    "Le sous-champs Options contient des paramètres séparés par des **';'**\n",
    "\n",
    "Certains paramètres dans Options contiennent des valeurs spécifiques. \n",
    "Leur patern est : **'; parametre : valeur'**. \n",
    "\n",
    "Pour les paramettres suivants dans Options : \n",
    "- finition brillantes pneus \n",
    "- noir anthracite finition brillantes avec pneus\n",
    "- 5 J x 21 Pneus '\n",
    "- réglages électriques des sièges -Conducteur\n",
    "\n",
    "le patern est **', parametre : valeur'**"
   ]
  },
  {
   "cell_type": "code",
   "execution_count": 9,
   "metadata": {},
   "outputs": [
    {
     "name": "stdout",
     "output_type": "stream",
     "text": [
      "Description contient les champs suivant : \n",
      "\n",
      "- portes\n",
      "\n",
      "- couleur\n",
      "\n",
      "- version\n",
      "\n",
      "- puissance_fiscale\n",
      "\n",
      "- modele\n",
      "\n",
      "- options\n",
      "\n"
     ]
    }
   ],
   "source": [
    "# Trouver les détail des champs dans Decription : separation par des ','\n",
    "str_list = df['Description'].str.findall(r'(^.[^,; ]*?:|, [^,; ]*?:)').values.tolist()\n",
    "str_list = list(filter(None, str_list))\n",
    "flat_list = [item for sublist in str_list for item in sublist]\n",
    "details = set(flat_list)\n",
    "details = [w.replace(', ', '') for w in details]\n",
    "details = [w.replace(':', '') for w in details]\n",
    "print(\"Description contient les champs suivant : \\n\")\n",
    "for item in details:\n",
    "    print(\"- \"+ item+\"\\n\")"
   ]
  },
  {
   "cell_type": "markdown",
   "metadata": {},
   "source": [
    "**Traget** : \n",
    "* Price\n",
    "\n",
    "**Pre-processing à faire** :\n",
    "1. Transfomer la colonne **Mileage** en entier\n",
    "2. Transformer **Online** au format datetime et extraire : année, mois, jour ...etc.\n",
    "3. Créer de la colonne **age**\n",
    "3. Extraire les informations depuis **Description**"
   ]
  },
  {
   "cell_type": "code",
   "execution_count": null,
   "metadata": {},
   "outputs": [],
   "source": []
  },
  {
   "cell_type": "markdown",
   "metadata": {},
   "source": [
    "## 2. Pre-processing"
   ]
  },
  {
   "cell_type": "markdown",
   "metadata": {},
   "source": [
    "### 2.1. Champs Mileage, Online et Description"
   ]
  },
  {
   "cell_type": "code",
   "execution_count": 10,
   "metadata": {},
   "outputs": [],
   "source": [
    "def pre_porcessing (df):\n",
    "    # 1. Transfomer la colonne Mileage en entier\n",
    "    df['Mileage'] = df['Mileage'].str.replace(\".0 km\",\"\")\n",
    "    df['Mileage'] = df['Mileage'].astype(\"int64\")\n",
    "\n",
    "    # 2. Transformer **Online** au format datetime et extraire : année, mois, jour ...etc.\n",
    "    df['Online'] = pd.to_datetime(df['Online'], format='%d/%m/%Y à %Hh%M')\n",
    "\n",
    "    df['Online_date'] = df['Online'].dt.date\n",
    "    df['Online_time'] = df['Online'].dt.time\n",
    "\n",
    "    df['Online_year'] = df['Online'].dt.year\n",
    "    df['Online_month'] = df['Online'].dt.month\n",
    "    df['Online_month_day'] = df['Online'].dt.day\n",
    "    df['Online_hour'] = df['Online'].dt.hour\n",
    "    df['Online_minute'] = df['Online'].dt.minute\n",
    "    df['Online_week_day'] = df['Online'].dt.weekday\n",
    "\n",
    "    # 3. Création de la colonne age\n",
    "    df['age'] = df['Online_year'] - df['Model_year']\n",
    "    \n",
    "    # 4. Extraire les informations depuis Description\n",
    "    df['modele'] = df['Description'].str.extract(r'(\\bmodele\\: \\b.*?,)', expand=True) \n",
    "    df['modele'] = df['modele'].str.replace(\"modele: \", \"\")\n",
    "    df['modele'] = df['modele'].str.replace(\",\", \"\")\n",
    "\n",
    "    df['version'] = df['Description'].str.extract(r'(\\bversion\\b.*?,)', expand=True)       \n",
    "    df['version'] = df['version'].str.replace(\"version: \", \"\")\n",
    "    df['version'] = df['version'].str.replace(\",\", \"\")\n",
    "\n",
    "    df['puissance_fiscale'] = df['Description'].str.extract(r'(\\bpuissance_fiscale\\: \\b.*?,)', expand=True)       \n",
    "    df['puissance_fiscale'] = df['puissance_fiscale'].str.replace(\"puissance_fiscale: \", \"\")\n",
    "    df['puissance_fiscale'] = df['puissance_fiscale'].str.replace(\",\", \"\")\n",
    "    df['puissance_fiscale'] = df['puissance_fiscale'].astype(\"int64\")\n",
    "\n",
    "        \n",
    "    df['portes'] = df['Description'].str.extract(r'(\\bportes\\: \\b.*?,)', expand=True)       \n",
    "    df['portes'] = df['portes'].str.replace(\"portes: \", \"\")\n",
    "    df['portes'] = df['portes'].str.replace(\",\", \"\")\n",
    "    df['portes'] = df['portes'].astype(\"float\")\n",
    "\n",
    "    df['couleur'] = df['Description'].str.extract(r'(\\bcouleur\\: \\b.*?$)', expand=True)       \n",
    "    df['couleur'] = df['couleur'].str.replace(\"couleur: \", \"\")\n",
    "    df['couleur'] = df['couleur'].str.upper()\n",
    "\n",
    "    df['options'] = df['Description'].str.extract(r'(\\boptions\\b.*, couleur)', expand=True)       \n",
    "    df['options'] = df['options'].str.replace(\"options: \", \"\")\n",
    "    df['options'] = df['options'].str.replace(\", couleur\", \"\")\n",
    "    \n",
    "    df.drop(columns='Description', inplace=True)\n",
    "    return df"
   ]
  },
  {
   "cell_type": "code",
   "execution_count": 11,
   "metadata": {},
   "outputs": [],
   "source": [
    "data_preproc = pre_porcessing(df.copy())"
   ]
  },
  {
   "cell_type": "code",
   "execution_count": 60,
   "metadata": {},
   "outputs": [
    {
     "data": {
      "text/html": [
       "<div>\n",
       "<style scoped>\n",
       "    .dataframe tbody tr th:only-of-type {\n",
       "        vertical-align: middle;\n",
       "    }\n",
       "\n",
       "    .dataframe tbody tr th {\n",
       "        vertical-align: top;\n",
       "    }\n",
       "\n",
       "    .dataframe thead th {\n",
       "        text-align: right;\n",
       "    }\n",
       "</style>\n",
       "<table border=\"1\" class=\"dataframe\">\n",
       "  <thead>\n",
       "    <tr style=\"text-align: right;\">\n",
       "      <th></th>\n",
       "      <th>Price</th>\n",
       "      <th>Make</th>\n",
       "      <th>Model</th>\n",
       "      <th>Model_year</th>\n",
       "      <th>Mileage</th>\n",
       "      <th>Fuel</th>\n",
       "      <th>Gearbox</th>\n",
       "      <th>Online</th>\n",
       "      <th>Online_date</th>\n",
       "      <th>Online_time</th>\n",
       "      <th>Online_year</th>\n",
       "      <th>Online_month</th>\n",
       "      <th>Online_month_day</th>\n",
       "      <th>Online_hour</th>\n",
       "      <th>Online_minute</th>\n",
       "      <th>Online_week_day</th>\n",
       "      <th>age</th>\n",
       "      <th>modele</th>\n",
       "      <th>version</th>\n",
       "      <th>puissance_fiscale</th>\n",
       "      <th>portes</th>\n",
       "      <th>couleur</th>\n",
       "      <th>options</th>\n",
       "      <th>Cylindree</th>\n",
       "      <th>chevaux_vapeur</th>\n",
       "      <th>couleur_dominante</th>\n",
       "      <th>couleur_type_peinture</th>\n",
       "    </tr>\n",
       "  </thead>\n",
       "  <tbody>\n",
       "    <tr>\n",
       "      <th>0</th>\n",
       "      <td>11220.0</td>\n",
       "      <td>PEUGEOT</td>\n",
       "      <td>308</td>\n",
       "      <td>2014</td>\n",
       "      <td>94341</td>\n",
       "      <td>Diesel</td>\n",
       "      <td>mécanique</td>\n",
       "      <td>2018-07-06 03:47:00</td>\n",
       "      <td>2018-07-06</td>\n",
       "      <td>03:47:00</td>\n",
       "      <td>2018</td>\n",
       "      <td>7</td>\n",
       "      <td>6</td>\n",
       "      <td>3</td>\n",
       "      <td>47</td>\n",
       "      <td>4</td>\n",
       "      <td>4</td>\n",
       "      <td>308 (2E GENERATION)</td>\n",
       "      <td>1.6 HDI FAP 92CH BUSINESS 5P</td>\n",
       "      <td>4</td>\n",
       "      <td>5.0</td>\n",
       "      <td>BLANC BANQUISE</td>\n",
       "      <td>banquette arrière 3 places;volant cuir;cache bagages;airbag frontal;banquette 1/3 - 2/3;sièges rang 2 rabattables à plat;vitres teintées;boucliers av et ar couleur caisse;phares av. de jour à LED;airbags rideaux;rétroviseurs électriques et dégivrants;siège conducteur avec réglage lombaire;vitres électriques;feux de freinage d'urgence;banquette rabattable;feux ar. à LED;AFU;contrôle de pression des pneus;airbags front. + lat.;blanc banquise;lampes de lecture à l'arrière;sièges réglables en hauteur;alarme d'oubli d'extinction des feux;EBD;volant sport;température extérieure;système audio;becquet;feux automatiques;fermeture électrique;ESP;fermeture électrique automatique;bacs de portes avant;anti patinage;accoudoir central avant;commandes du système audio au volant;fixations ISOFIX;poches d'aumonières;lampes de lecture à l'avant;lunette arrière dégivrante;essuie-glace arrière;ordinateur de bord;phares halogènes;climatisation;volant réglable en hauteur et profondeur;siège conducteur réglable hauteur;boite à gants réfrigérée;ABS;ceintures avant ajustables en hauteur;prise 12V;ecran tactile multifonction;FAP;3 ceintures ar. 3 points;ouverture des vitres séquentielle</td>\n",
       "      <td>1.6</td>\n",
       "      <td>92.0</td>\n",
       "      <td>BLANC</td>\n",
       "      <td>NaN</td>\n",
       "    </tr>\n",
       "  </tbody>\n",
       "</table>\n",
       "</div>"
      ],
      "text/plain": [
       "     Price     Make Model  Model_year  Mileage    Fuel    Gearbox  \\\n",
       "0  11220.0  PEUGEOT   308        2014    94341  Diesel  mécanique   \n",
       "\n",
       "               Online Online_date Online_time  Online_year  Online_month  \\\n",
       "0 2018-07-06 03:47:00  2018-07-06    03:47:00         2018             7   \n",
       "\n",
       "   Online_month_day  Online_hour  Online_minute  Online_week_day  age  \\\n",
       "0                 6            3             47                4    4   \n",
       "\n",
       "                modele                       version  puissance_fiscale  \\\n",
       "0  308 (2E GENERATION)  1.6 HDI FAP 92CH BUSINESS 5P                  4   \n",
       "\n",
       "   portes         couleur  \\\n",
       "0     5.0  BLANC BANQUISE   \n",
       "\n",
       "                                                                                                                                                                                                                                                                                                                                                                                                                                                                                                                                                                                                                                                                                                                                                                                                                                                                                                                                                                                                                                                                                                                                                                                                                      options  \\\n",
       "0  banquette arrière 3 places;volant cuir;cache bagages;airbag frontal;banquette 1/3 - 2/3;sièges rang 2 rabattables à plat;vitres teintées;boucliers av et ar couleur caisse;phares av. de jour à LED;airbags rideaux;rétroviseurs électriques et dégivrants;siège conducteur avec réglage lombaire;vitres électriques;feux de freinage d'urgence;banquette rabattable;feux ar. à LED;AFU;contrôle de pression des pneus;airbags front. + lat.;blanc banquise;lampes de lecture à l'arrière;sièges réglables en hauteur;alarme d'oubli d'extinction des feux;EBD;volant sport;température extérieure;système audio;becquet;feux automatiques;fermeture électrique;ESP;fermeture électrique automatique;bacs de portes avant;anti patinage;accoudoir central avant;commandes du système audio au volant;fixations ISOFIX;poches d'aumonières;lampes de lecture à l'avant;lunette arrière dégivrante;essuie-glace arrière;ordinateur de bord;phares halogènes;climatisation;volant réglable en hauteur et profondeur;siège conducteur réglable hauteur;boite à gants réfrigérée;ABS;ceintures avant ajustables en hauteur;prise 12V;ecran tactile multifonction;FAP;3 ceintures ar. 3 points;ouverture des vitres séquentielle   \n",
       "\n",
       "   Cylindree  chevaux_vapeur couleur_dominante couleur_type_peinture  \n",
       "0        1.6            92.0             BLANC                   NaN  "
      ]
     },
     "execution_count": 60,
     "metadata": {},
     "output_type": "execute_result"
    }
   ],
   "source": [
    "data_preproc.head(1)"
   ]
  },
  {
   "cell_type": "code",
   "execution_count": null,
   "metadata": {},
   "outputs": [],
   "source": []
  },
  {
   "cell_type": "markdown",
   "metadata": {},
   "source": [
    "### 2.2. Champs 'version'"
   ]
  },
  {
   "cell_type": "code",
   "execution_count": 13,
   "metadata": {},
   "outputs": [],
   "source": [
    "def pre_proc_version(df):\n",
    "    df['Cylindree'] = df['version'].str.extract(r'(\\d\\.\\d)', expand=True)\n",
    "    df['Cylindree'] = df['Cylindree'].astype(\"float\")\n",
    "\n",
    "    df['chevaux_vapeur'] = df['version'].str.extract(r'( \\d+ |\\d+CH| \\d+$)', expand=True)\n",
    "    df['chevaux_vapeur']= df['chevaux_vapeur'].str.replace(\"CH\", \"\")\n",
    "    df['chevaux_vapeur'] = df['chevaux_vapeur'].str.replace(\" \", \"\")\n",
    "    \n",
    "    df['chevaux_vapeur'] = df['chevaux_vapeur'].astype(\"float\")\n",
    "\n",
    "    return df"
   ]
  },
  {
   "cell_type": "code",
   "execution_count": 14,
   "metadata": {},
   "outputs": [],
   "source": [
    "data_preproc = pre_proc_version(data_preproc)"
   ]
  },
  {
   "cell_type": "markdown",
   "metadata": {},
   "source": [
    "### 2.3. Champs 'option'"
   ]
  },
  {
   "cell_type": "code",
   "execution_count": 15,
   "metadata": {},
   "outputs": [],
   "source": [
    "# suppression des quotes\n",
    "data_preproc['options'] = data_preproc['options'].str.replace(\"\\\"\", \"\")\n",
    "\n",
    "#Replace '' sting with Nan\n",
    "data_preproc['options'].replace('', np.nan, inplace=True)"
   ]
  },
  {
   "cell_type": "code",
   "execution_count": null,
   "metadata": {},
   "outputs": [],
   "source": [
    "### Création de listes d'options\n",
    "#les option sont séparées par des ';'\n",
    "df['options'].str.split(\";\")"
   ]
  },
  {
   "cell_type": "markdown",
   "metadata": {},
   "source": [
    "### 2.4. Champs Couleur"
   ]
  },
  {
   "cell_type": "code",
   "execution_count": 357,
   "metadata": {},
   "outputs": [],
   "source": [
    "#import nltk\n",
    "#from nltk.tokenize import word_tokenize\n",
    "#from nltk.tag import pos_tag"
   ]
  },
  {
   "cell_type": "code",
   "execution_count": 16,
   "metadata": {},
   "outputs": [
    {
     "name": "stdout",
     "output_type": "stream",
     "text": [
      "Nombre de couleurs :  405\n"
     ]
    }
   ],
   "source": [
    "import urllib.request\n",
    "from bs4 import BeautifulSoup\n",
    "\n",
    "html = urllib.request.urlopen('http://www.ludowalsh.com/HTM/Liste_de_couleurs.htm').read()\n",
    "\n",
    "soup = BeautifulSoup(html, 'html.parser')\n",
    "\n",
    "color_tables = soup.find_all('table', class_=\"wikitable\")\n",
    "couleurs = []\n",
    "for table in color_tables:  \n",
    "    couleurs.append(table.find_all(lambda tag: tag.name == \"a\"))\n",
    "    \n",
    "couleurs = [item for sublist in couleurs for item in sublist]\n",
    "\n",
    "couleurs_list = []\n",
    "for item in couleurs:\n",
    "    groups = re.search(r\">.*<\", str(item))\n",
    "    if groups!= None:\n",
    "        #for group in groups.group():\n",
    "        couleurs_list.append(groups.group())\n",
    "\n",
    "couleurs_list = set(couleurs_list)\n",
    "couleurs_all = []\n",
    "for item in couleurs_list:\n",
    "    couleurs_all.append(item.replace('>','').replace('<','').upper())\n",
    "\n",
    "# ordre suivant le nombre de mots: prévéligier les couleurs composées (plus de choix ... parsemé)\n",
    "couleurs_all.sort(key=lambda x: len(x.split()), reverse=False)\n",
    "# ordre suivant le nombre de mots: prévéligier les couleurs unique (agrégé)\n",
    "couleurs_all.sort(key=lambda x: len(x.split()), reverse=True)\n",
    "\n",
    "print(\"Nombre de couleurs : \",len(couleurs_all))"
   ]
  },
  {
   "cell_type": "code",
   "execution_count": 17,
   "metadata": {},
   "outputs": [],
   "source": [
    "def func_couleur(s):\n",
    "    couleur = np.nan\n",
    "    for i in range(len(couleurs_all)):\n",
    "        if couleurs_all[i] in str(s):\n",
    "            couleur = couleurs_all[i]\n",
    "    return couleur\n",
    "\n",
    "def func_type_peinture(s, types_peinture):\n",
    "    type_ = np.nan\n",
    "    for t in types_peinture:\n",
    "        if t in str(s):\n",
    "            type_ = t\n",
    "    return type_\n",
    "\n"
   ]
  },
  {
   "cell_type": "code",
   "execution_count": 18,
   "metadata": {},
   "outputs": [],
   "source": [
    "data_preproc['couleur_dominante'] = data_preproc.apply(lambda row : func_couleur(row['couleur']), axis = 1)\n",
    "\n",
    "types_peinture =['METAL', 'NACRE', 'CHROME', 'CANDY', 'VERNI', ' MAT', 'UNI', 'OPAQE', 'CRISTAL']\n",
    "data_preproc['couleur_type_peinture'] = data_preproc.apply(lambda row : func_type_peinture(row['couleur'],types_peinture), axis = 1)"
   ]
  },
  {
   "cell_type": "markdown",
   "metadata": {},
   "source": [
    "## 3. Analyse des données manquantes"
   ]
  },
  {
   "cell_type": "code",
   "execution_count": 19,
   "metadata": {},
   "outputs": [
    {
     "data": {
      "text/plain": [
       "<matplotlib.axes._subplots.AxesSubplot at 0x128c0e950>"
      ]
     },
     "execution_count": 19,
     "metadata": {},
     "output_type": "execute_result"
    },
    {
     "data": {
      "image/png": "[encoded data removed]",
      "text/plain": [
       "<Figure size 1080x504 with 1 Axes>"
      ]
     },
     "metadata": {
      "needs_background": "light"
     },
     "output_type": "display_data"
    }
   ],
   "source": [
    "# Visualiser les données manquates\n",
    "plt.figure(figsize=(15,7))\n",
    "sns.heatmap(data_preproc.isna(), cbar=False)"
   ]
  },
  {
   "cell_type": "code",
   "execution_count": 20,
   "metadata": {},
   "outputs": [
    {
     "data": {
      "text/plain": [
       "couleur_type_peinture    79.721047\n",
       "Cylindree                18.062929\n",
       "chevaux_vapeur            8.921683\n",
       "couleur_dominante         5.039143\n",
       "options                   2.794925\n",
       "modele                    2.789526\n",
       "portes                    0.773269\n",
       "couleur                   0.064789\n",
       "Fuel                      0.000000\n",
       "Online                    0.000000\n",
       "Gearbox                   0.000000\n",
       "Model                     0.000000\n",
       "Mileage                   0.000000\n",
       "Model_year                0.000000\n",
       "Online_time               0.000000\n",
       "Make                      0.000000\n",
       "Online_date               0.000000\n",
       "Online_hour               0.000000\n",
       "Online_year               0.000000\n",
       "Online_month              0.000000\n",
       "Online_month_day          0.000000\n",
       "Online_minute             0.000000\n",
       "Online_week_day           0.000000\n",
       "age                       0.000000\n",
       "version                   0.000000\n",
       "puissance_fiscale         0.000000\n",
       "Price                     0.000000\n",
       "dtype: float64"
      ]
     },
     "execution_count": 20,
     "metadata": {},
     "output_type": "execute_result"
    }
   ],
   "source": [
    "(data_preproc.isna().sum()/data_preproc.shape[0]*100).sort_values(ascending=False)"
   ]
  },
  {
   "cell_type": "code",
   "execution_count": 21,
   "metadata": {},
   "outputs": [
    {
     "data": {
      "text/plain": [
       "Index(['modele', 'portes', 'couleur', 'options', 'Cylindree', 'chevaux_vapeur',\n",
       "       'couleur_dominante', 'couleur_type_peinture'],\n",
       "      dtype='object')"
      ]
     },
     "execution_count": 21,
     "metadata": {},
     "output_type": "execute_result"
    }
   ],
   "source": [
    "data_preproc.columns[data_preproc.isna().sum()/data_preproc.shape[0] !=0]"
   ]
  },
  {
   "cell_type": "markdown",
   "metadata": {},
   "source": [
    "Il y a des données manquantes dans **couleur_type_peinture**, **Cylindree**, **chevaux_vapeur**, **couleur_dominante**, **option**, **model**, **portes** et **couleur**."
   ]
  },
  {
   "cell_type": "markdown",
   "metadata": {},
   "source": [
    "## 4. Analyse univariable"
   ]
  },
  {
   "cell_type": "markdown",
   "metadata": {},
   "source": [
    "### 4.1. Visualisation de la target"
   ]
  },
  {
   "cell_type": "code",
   "execution_count": 22,
   "metadata": {},
   "outputs": [
    {
     "data": {
      "text/plain": [
       "<matplotlib.axes._subplots.AxesSubplot at 0x133153250>"
      ]
     },
     "execution_count": 22,
     "metadata": {},
     "output_type": "execute_result"
    },
    {
     "data": {
      "image/png": "[encoded data removed]",
      "text/plain": [
       "<Figure size 1440x720 with 1 Axes>"
      ]
     },
     "metadata": {
      "needs_background": "light"
     },
     "output_type": "display_data"
    }
   ],
   "source": [
    "plt.figure(figsize=(20,10))\n",
    "plt.ticklabel_format(style='plain', axis='x')\n",
    "sns.boxplot(data_preproc['Price'])"
   ]
  },
  {
   "cell_type": "code",
   "execution_count": 23,
   "metadata": {},
   "outputs": [
    {
     "data": {
      "text/plain": [
       "<matplotlib.axes._subplots.AxesSubplot at 0x129bf6350>"
      ]
     },
     "execution_count": 23,
     "metadata": {},
     "output_type": "execute_result"
    },
    {
     "data": {
      "image/png": "[encoded data removed]",
      "text/plain": [
       "<Figure size 1440x720 with 1 Axes>"
      ]
     },
     "metadata": {
      "needs_background": "light"
     },
     "output_type": "display_data"
    }
   ],
   "source": [
    "plt.figure(figsize=(20,10))\n",
    "plt.ticklabel_format(style='plain', axis='x')\n",
    "sns.boxplot(data_preproc[data_preproc['Price']<34000]['Price'])"
   ]
  },
  {
   "cell_type": "code",
   "execution_count": 24,
   "metadata": {},
   "outputs": [
    {
     "name": "stdout",
     "output_type": "stream",
     "text": [
      "Prix supérieur à 35.000€ : 9.17 dans le dataset\n",
      "Prix supérieur à 50.000€ : 3.38 dans le dataset\n",
      "Prix supérieur à 75.000€ : 1.11 dans le dataset\n",
      "Prix supérieur à 100.000€ : 0.48 dans le dataset\n",
      "Prix inferieur à 100€ : 0.002 dans le dataset\n"
     ]
    }
   ],
   "source": [
    "print(\"Prix supérieur à 35.000€ : %.2f dans le dataset\" %(data_preproc[data_preproc['Price']>34000].shape[0]/data_preproc.shape[0]*100))\n",
    "print(\"Prix supérieur à 50.000€ : %.2f dans le dataset\" %(data_preproc[data_preproc['Price']>50000].shape[0]/data_preproc.shape[0]*100))\n",
    "print(\"Prix supérieur à 75.000€ : %.2f dans le dataset\" %(data_preproc[data_preproc['Price']>75000].shape[0]/data_preproc.shape[0]*100))\n",
    "print(\"Prix supérieur à 100.000€ : %.2f dans le dataset\" %(data_preproc[data_preproc['Price']>100000].shape[0]/data_preproc.shape[0]*100))\n",
    "print(\"Prix inferieur à 100€ : %.3f dans le dataset\" %(data_preproc[data_preproc['Price']==1].shape[0]/data_preproc.shape[0]*100))"
   ]
  },
  {
   "cell_type": "markdown",
   "metadata": {},
   "source": [
    "**Outliers :** \n",
    "* Les prix supérieurs à 100.000€ sont à 0,5% dans le dataset (806 observation).\n",
    "* Les prix à 1€ sont à 0,002 (4 observations). Des valeurs abérentes\n"
   ]
  },
  {
   "cell_type": "markdown",
   "metadata": {},
   "source": [
    "### 4.2. Visualisation des variables numériques"
   ]
  },
  {
   "cell_type": "code",
   "execution_count": 25,
   "metadata": {},
   "outputs": [
    {
     "data": {
      "text/plain": [
       "<Figure size 432x288 with 0 Axes>"
      ]
     },
     "metadata": {},
     "output_type": "display_data"
    },
    {
     "data": {
      "image/png": "[encoded data removed]",
      "text/plain": [
       "<Figure size 720x216 with 1 Axes>"
      ]
     },
     "metadata": {
      "needs_background": "light"
     },
     "output_type": "display_data"
    },
    {
     "data": {
      "text/plain": [
       "<Figure size 432x288 with 0 Axes>"
      ]
     },
     "metadata": {},
     "output_type": "display_data"
    },
    {
     "data": {
      "image/png": "[encoded data removed]",
      "text/plain": [
       "<Figure size 720x216 with 1 Axes>"
      ]
     },
     "metadata": {
      "needs_background": "light"
     },
     "output_type": "display_data"
    },
    {
     "data": {
      "text/plain": [
       "<Figure size 432x288 with 0 Axes>"
      ]
     },
     "metadata": {},
     "output_type": "display_data"
    },
    {
     "data": {
      "image/png": "[encoded data removed]",
      "text/plain": [
       "<Figure size 720x216 with 1 Axes>"
      ]
     },
     "metadata": {
      "needs_background": "light"
     },
     "output_type": "display_data"
    },
    {
     "data": {
      "text/plain": [
       "<Figure size 432x288 with 0 Axes>"
      ]
     },
     "metadata": {},
     "output_type": "display_data"
    },
    {
     "data": {
      "image/png": "[encoded data removed]",
      "text/plain": [
       "<Figure size 720x216 with 1 Axes>"
      ]
     },
     "metadata": {
      "needs_background": "light"
     },
     "output_type": "display_data"
    },
    {
     "data": {
      "text/plain": [
       "<Figure size 432x288 with 0 Axes>"
      ]
     },
     "metadata": {},
     "output_type": "display_data"
    },
    {
     "data": {
      "image/png": "[encoded data removed]",
      "text/plain": [
       "<Figure size 720x216 with 1 Axes>"
      ]
     },
     "metadata": {
      "needs_background": "light"
     },
     "output_type": "display_data"
    },
    {
     "data": {
      "text/plain": [
       "<Figure size 432x288 with 0 Axes>"
      ]
     },
     "metadata": {},
     "output_type": "display_data"
    },
    {
     "data": {
      "image/png": "[encoded data removed]",
      "text/plain": [
       "<Figure size 720x216 with 1 Axes>"
      ]
     },
     "metadata": {
      "needs_background": "light"
     },
     "output_type": "display_data"
    }
   ],
   "source": [
    "for col in ['Cylindree', 'chevaux_vapeur','puissance_fiscale', 'age', 'Mileage', 'portes']:\n",
    "    plt.figure()\n",
    "    plt.figure(figsize=(10,3))\n",
    "    plt.ticklabel_format(style='plain', axis='x')\n",
    "    sns.boxplot(data_preproc[col])"
   ]
  },
  {
   "cell_type": "code",
   "execution_count": 26,
   "metadata": {},
   "outputs": [
    {
     "name": "stdout",
     "output_type": "stream",
     "text": [
      "Nombre d'observation avec Cylindree > 4 Litres: 137\n",
      "Nombre d'observation avec chevaux_vapeur > 4 Litres: 13\n",
      "Nombre d'observation avec age <0 : 1\n",
      "Nombre d'observation avec age > 25 ans : 365\n",
      "Nombre d'observation avec puissance_fiscale > 200 ans : 4\n",
      "Nombre d'observation avec nombre de portes <2 : 17\n",
      "Nombre d'observation avec nombre de portes >5 : 2\n",
      "Nombre d'observation avec Mileage > 200.000km : 1557\n",
      "Nombre d'observation avec Mileage < 100km : 20653\n"
     ]
    }
   ],
   "source": [
    "# Top 1 Voiture avec 2.110 ch https://www.auto-moto.com/actualite/en-chiffres/voitures-plus-puissantes-monde-classement-202908.html#item=1\n",
    "\n",
    "print(\"Nombre d'observation avec Cylindree > 4 Litres: %d\" %(data_preproc[data_preproc['Cylindree']>6].shape[0]))\n",
    "\n",
    "print(\"Nombre d'observation avec chevaux_vapeur > 4 Litres: %d\" %(data_preproc[data_preproc['chevaux_vapeur']>2110].shape[0]))\n",
    "\n",
    "print(\"Nombre d'observation avec age <0 : %d\" %(data_preproc[data_preproc['age']<0].shape[0]))\n",
    "print(\"Nombre d'observation avec age > 25 ans : %d\" %(data_preproc[data_preproc['age']>25].shape[0]))\n",
    "\n",
    "print(\"Nombre d'observation avec puissance_fiscale > 200 ans : %d\" %(data_preproc[data_preproc['puissance_fiscale']>200].shape[0]))\n",
    "\n",
    "print(\"Nombre d'observation avec nombre de portes <2 : %d\" %(data_preproc[data_preproc['portes']<2].shape[0]))\n",
    "print(\"Nombre d'observation avec nombre de portes >5 : %d\" %(data_preproc[data_preproc['portes']>5].shape[0]))\n",
    "\n",
    "print(\"Nombre d'observation avec Mileage > 200.000km : %d\" %(data_preproc[data_preproc['Mileage']>200000].shape[0]))\n",
    "print(\"Nombre d'observation avec Mileage < 100km : %d\" %(data_preproc[data_preproc['Mileage']<100].shape[0]))\n"
   ]
  },
  {
   "cell_type": "markdown",
   "metadata": {},
   "source": [
    "Supprimer ces outliers par la suite"
   ]
  },
  {
   "cell_type": "markdown",
   "metadata": {},
   "source": [
    "### 4.3. Visualisation des variables Qualitatives"
   ]
  },
  {
   "cell_type": "code",
   "execution_count": 27,
   "metadata": {},
   "outputs": [
    {
     "data": {
      "text/plain": [
       "<matplotlib.axes._subplots.AxesSubplot at 0x13539e850>"
      ]
     },
     "execution_count": 27,
     "metadata": {},
     "output_type": "execute_result"
    },
    {
     "data": {
      "image/png": "[encoded data removed]",
      "text/plain": [
       "<Figure size 864x72 with 1 Axes>"
      ]
     },
     "metadata": {
      "needs_background": "light"
     },
     "output_type": "display_data"
    }
   ],
   "source": [
    "data_preproc['Gearbox'].value_counts().sort_values() \\\n",
    "    .plot(kind='barh', \n",
    "          color=['tomato', 'c'], \n",
    "          figsize=(12,1), \n",
    "          width=0.3 )"
   ]
  },
  {
   "cell_type": "code",
   "execution_count": 28,
   "metadata": {},
   "outputs": [
    {
     "data": {
      "text/plain": [
       "<matplotlib.axes._subplots.AxesSubplot at 0x135836d10>"
      ]
     },
     "execution_count": 28,
     "metadata": {},
     "output_type": "execute_result"
    },
    {
     "data": {
      "image/png": "[encoded data removed]",
      "text/plain": [
       "<Figure size 864x216 with 1 Axes>"
      ]
     },
     "metadata": {
      "needs_background": "light"
     },
     "output_type": "display_data"
    }
   ],
   "source": [
    "data_preproc['Fuel'].value_counts().sort_values() \\\n",
    "    .plot(kind='barh', \n",
    "          color=['tomato', 'c'], \n",
    "          figsize=(12,3), \n",
    "          width=0.3 )"
   ]
  },
  {
   "cell_type": "code",
   "execution_count": 29,
   "metadata": {},
   "outputs": [
    {
     "data": {
      "text/plain": [
       "Bicarburation essence GNV                1\n",
       "Bicarburation essence bioéthanol        21\n",
       "Bicarburation essence GPL               96\n",
       "Hybride diesel électrique              310\n",
       "Electrique                             704\n",
       "Hybride essence électrique            2725\n",
       "Essence                              53392\n",
       "Diesel                              109446\n",
       "Name: Fuel, dtype: int64"
      ]
     },
     "execution_count": 29,
     "metadata": {},
     "output_type": "execute_result"
    }
   ],
   "source": [
    "data_preproc['Fuel'].value_counts().sort_values()"
   ]
  },
  {
   "cell_type": "markdown",
   "metadata": {},
   "source": [
    "Regrouper sous **Essence** les valeurs :\n",
    "- Bicarburation essence GNV, \n",
    "- Bicarburation essence bioéthanol et \n",
    "- Bicarburation essence GPL  "
   ]
  },
  {
   "cell_type": "code",
   "execution_count": 30,
   "metadata": {},
   "outputs": [
    {
     "data": {
      "text/plain": [
       "<matplotlib.axes._subplots.AxesSubplot at 0x13641ec10>"
      ]
     },
     "execution_count": 30,
     "metadata": {},
     "output_type": "execute_result"
    },
    {
     "data": {
      "image/png": "[encoded data removed]",
      "text/plain": [
       "<Figure size 864x720 with 1 Axes>"
      ]
     },
     "metadata": {},
     "output_type": "display_data"
    }
   ],
   "source": [
    "data_preproc['couleur_dominante'].unique()\n",
    "data_preproc['couleur_dominante'].value_counts().plot.pie(figsize=(12,10))\n"
   ]
  },
  {
   "cell_type": "code",
   "execution_count": 31,
   "metadata": {},
   "outputs": [
    {
     "data": {
      "text/plain": [
       "<matplotlib.axes._subplots.AxesSubplot at 0x137253a50>"
      ]
     },
     "execution_count": 31,
     "metadata": {},
     "output_type": "execute_result"
    },
    {
     "data": {
      "image/png": "[encoded data removed]",
      "text/plain": [
       "<Figure size 864x720 with 1 Axes>"
      ]
     },
     "metadata": {},
     "output_type": "display_data"
    }
   ],
   "source": [
    "data_preproc['couleur_type_peinture'].value_counts().plot.pie(figsize=(12,10))\n"
   ]
  },
  {
   "cell_type": "code",
   "execution_count": 32,
   "metadata": {},
   "outputs": [
    {
     "data": {
      "text/plain": [
       "METAL      26305\n",
       "VERNI       3735\n",
       "NACRE       2435\n",
       "UNI          814\n",
       " MAT         227\n",
       "CRISTAL      153\n",
       "CANDY        135\n",
       "Name: couleur_type_peinture, dtype: int64"
      ]
     },
     "execution_count": 32,
     "metadata": {},
     "output_type": "execute_result"
    }
   ],
   "source": [
    "data_preproc['couleur_dominante'].unique()\n",
    "data_preproc['couleur_type_peinture'].value_counts()\n"
   ]
  },
  {
   "cell_type": "code",
   "execution_count": 33,
   "metadata": {},
   "outputs": [],
   "source": [
    "def outliers_prrocessing(df):\n",
    "    df = df[df['Price']<=100000]\n",
    "    df = df[df['Price']!=1]\n",
    "    \n",
    "    df = df[df['Cylindree']<=6]\n",
    "\n",
    "    df = df[df['chevaux_vapeur']<=2110]\n",
    "\n",
    "    df = df[df['age']>=0]\n",
    "    df = df[df['age']<=25]\n",
    "\n",
    "    df = df[df['puissance_fiscale']<=200]\n",
    "\n",
    "    df = df[df['portes']>=2]\n",
    "    df = df[df['portes']<=5]\n",
    "\n",
    "    df = df[df['Mileage']<=200000]\n",
    "    \n",
    "    #df.loc[df['Fuel']==\"Bicarburation essence GNV\", 'Fuel'] = \"Essence\"\n",
    "    #df.loc[df['Fuel']==\"Bicarburation essence bioéthanol\", 'Fuel'] = \"Essence\"\n",
    "    #df.loc[df['Fuel']==\"Bicarburation essence GPL\", 'Fuel'] = \"Essence\"\n",
    "\n",
    "    return df"
   ]
  },
  {
   "cell_type": "code",
   "execution_count": 34,
   "metadata": {},
   "outputs": [],
   "source": [
    "data_outliers = outliers_prrocessing(data_preproc.copy())"
   ]
  },
  {
   "cell_type": "markdown",
   "metadata": {},
   "source": [
    "## 5. Analyse bi-variable par rapport à la target"
   ]
  },
  {
   "cell_type": "markdown",
   "metadata": {},
   "source": [
    "### 5.1. Les variables numériques"
   ]
  },
  {
   "cell_type": "code",
   "execution_count": 142,
   "metadata": {},
   "outputs": [
    {
     "data": {
      "text/plain": [
       "<matplotlib.axes._subplots.AxesSubplot at 0x18e8694d0>"
      ]
     },
     "execution_count": 142,
     "metadata": {},
     "output_type": "execute_result"
    },
    {
     "data": {
      "image/png": "[encoded data removed]",
      "text/plain": [
       "<Figure size 1080x504 with 2 Axes>"
      ]
     },
     "metadata": {
      "needs_background": "light"
     },
     "output_type": "display_data"
    }
   ],
   "source": [
    "plt.figure(figsize=(15,7))\n",
    "corr = data_outliers[['Price', 'age', 'Mileage', 'puissance_fiscale', 'chevaux_vapeur', 'Cylindree', 'portes',\n",
    "                     'Online_year', 'Model_year']].corr()\n",
    "\n",
    "# Generate a mask for the upper triangle\n",
    "mask = np.triu(np.ones_like(corr, dtype=np.bool))\n",
    "sns.heatmap(corr, mask=mask, annot = True, vmin=-1, vmax=1, center= 0)"
   ]
  },
  {
   "cell_type": "markdown",
   "metadata": {},
   "source": [
    "* Il y a correlation positive entre **Price** d'un côté et **puissance_fiscale**, **chevaux_veapeur**, **Cylindree**, et **Model_year** (pas très importante) de l'autre côté.\n",
    "* Il y a une correlation négative entre **Price** et **age** / **Mileage**."
   ]
  },
  {
   "cell_type": "markdown",
   "metadata": {},
   "source": [
    "### 5.2. La variable 'Fuel'"
   ]
  },
  {
   "cell_type": "code",
   "execution_count": 37,
   "metadata": {},
   "outputs": [
    {
     "data": {
      "text/plain": [
       "<matplotlib.axes._subplots.AxesSubplot at 0x13c9ce090>"
      ]
     },
     "execution_count": 37,
     "metadata": {},
     "output_type": "execute_result"
    },
    {
     "data": {
      "image/png": "[encoded data removed]",
      "text/plain": [
       "<Figure size 1440x1080 with 1 Axes>"
      ]
     },
     "metadata": {
      "needs_background": "light"
     },
     "output_type": "display_data"
    }
   ],
   "source": [
    "plt.figure(figsize=(20,15))\n",
    "sns.boxplot('Price', 'Fuel', data=data_outliers)"
   ]
  },
  {
   "cell_type": "markdown",
   "metadata": {},
   "source": [
    "**Les vehicules 'Hybride essence électrique' sont les plus chers en moyenne**"
   ]
  },
  {
   "cell_type": "markdown",
   "metadata": {},
   "source": [
    "### 5.3. La variable 'Gearbox'"
   ]
  },
  {
   "cell_type": "code",
   "execution_count": 38,
   "metadata": {},
   "outputs": [
    {
     "data": {
      "text/plain": [
       "<matplotlib.axes._subplots.AxesSubplot at 0x13d173e10>"
      ]
     },
     "execution_count": 38,
     "metadata": {},
     "output_type": "execute_result"
    },
    {
     "data": {
      "image/png": "[encoded data removed]",
      "text/plain": [
       "<Figure size 1440x720 with 1 Axes>"
      ]
     },
     "metadata": {
      "needs_background": "light"
     },
     "output_type": "display_data"
    }
   ],
   "source": [
    "plt.figure(figsize=(20,10))\n",
    "sns.boxplot('Price', 'Gearbox', data=data_outliers)"
   ]
  },
  {
   "cell_type": "markdown",
   "metadata": {},
   "source": [
    "**Les vehicules 'automatique' sont les plus chers en moyenne**"
   ]
  },
  {
   "cell_type": "markdown",
   "metadata": {},
   "source": [
    "## 6. Modelisation"
   ]
  },
  {
   "cell_type": "code",
   "execution_count": 49,
   "metadata": {},
   "outputs": [],
   "source": [
    "from sklearn.compose import ColumnTransformer\n",
    "from sklearn.preprocessing import StandardScaler, OneHotEncoder, FunctionTransformer\n",
    "from sklearn.impute import SimpleImputer\n",
    "from sklearn import set_config\n",
    "set_config(display='diagram')\n",
    "from sklearn.model_selection import train_test_split\n",
    "\n",
    "from sklearn import linear_model\n",
    "from sklearn.neighbors import KNeighborsRegressor\n",
    "from sklearn.dummy import DummyRegressor\n",
    "from sklearn import ensemble\n",
    "from sklearn.pipeline import Pipeline#, FeatureUnion\n",
    "from sklearn import metrics"
   ]
  },
  {
   "cell_type": "markdown",
   "metadata": {},
   "source": [
    "### 6.1. Définition de la metrique MAPE"
   ]
  },
  {
   "cell_type": "code",
   "execution_count": 42,
   "metadata": {},
   "outputs": [],
   "source": [
    "# Définition de la metrique MAPE\n",
    "def mean_absolute_percentage_error(y_true, y_pred): \n",
    "    y_true, y_pred = np.array(y_true), np.array(y_pred)\n",
    "    return np.mean(np.abs((y_true - y_pred) / y_true)) * 100"
   ]
  },
  {
   "cell_type": "markdown",
   "metadata": {},
   "source": [
    "### 6.2. Définition des transformations de variables"
   ]
  },
  {
   "cell_type": "code",
   "execution_count": 112,
   "metadata": {},
   "outputs": [],
   "source": [
    "## inspéré de : https://angelosalton.github.io/2019/01/29/predicting-car-prices-with-scikit-learn.html\n",
    "\n",
    "def preproc_config(categorical_features, numeric_features, num_strat='median'):\n",
    "    ######\n",
    "    # Traitement des valeurs manquantes\n",
    "    # Application de OneHotEncoder sur les variables qualitatives\n",
    "    # Application de la standardisation sur les variable quantitatives (numériques)\n",
    "    # Parametters: categorical_features, numeric_features, num_strat\n",
    "    # return: ColumnTransformer\n",
    "    ######\n",
    "    \n",
    "    # 1. numerical features\n",
    "    numeric_transformer = Pipeline(steps=[\n",
    "        ('imputer', SimpleImputer(strategy=num_strat)),\n",
    "        ('scaler', StandardScaler())\n",
    "        ])\n",
    "    # 2. quantitaitive features\n",
    "    # run once on full dataset to get all category values\n",
    "    #temp = ColumnTransformer([('cat', OneHotEncoder(), categorical_features)]).fit(X)\n",
    "    #cats = temp.named_transformers_['cat'].categories_\n",
    "\n",
    "    categorical_transformer = Pipeline(steps=[\n",
    "        ('imputer', SimpleImputer(strategy='constant', fill_value='missing')),\n",
    "        ('onehot', OneHotEncoder(#categories=cats,\n",
    "                                 sparse=False, handle_unknown='ignore'))\n",
    "        ])\n",
    "\n",
    "    preprocessor = ColumnTransformer(\n",
    "        transformers=[\n",
    "            ('num', numeric_transformer, numeric_features),\n",
    "            ('cat', categorical_transformer, categorical_features)\n",
    "        ])\n",
    "    return preprocessor"
   ]
  },
  {
   "cell_type": "markdown",
   "metadata": {},
   "source": [
    "### 6.3. Selection d'un échantillon\n",
    "\n",
    "Selection d'un sous-ensemble d'observation afin de gagner en temps pendant l'entrainement de différent modèles (30% du dataset initial)"
   ]
  },
  {
   "cell_type": "code",
   "execution_count": 44,
   "metadata": {},
   "outputs": [
    {
     "data": {
      "text/plain": [
       "((38640, 27), (128800, 27))"
      ]
     },
     "execution_count": 44,
     "metadata": {},
     "output_type": "execute_result"
    }
   ],
   "source": [
    "#data_sample = data_preproc.sample(frac=.3, random_state=42)\n",
    "data_sample = data_outliers.sample(frac=.3, random_state=42)\n",
    "data_sample.shape, data_outliers.shape"
   ]
  },
  {
   "cell_type": "markdown",
   "metadata": {},
   "source": [
    "### 6.4. Selection des features"
   ]
  },
  {
   "cell_type": "code",
   "execution_count": 102,
   "metadata": {},
   "outputs": [],
   "source": [
    "target = 'Price'\n",
    "\n",
    "# categorical features\n",
    "categorical_features = ['Fuel', 'Gearbox', 'Make', 'Model', 'version']\n",
    "\n",
    "# numerical features\n",
    "numeric_features = ['Mileage', 'age', 'puissance_fiscale', 'portes', 'Cylindree','chevaux_vapeur']"
   ]
  },
  {
   "cell_type": "code",
   "execution_count": 103,
   "metadata": {},
   "outputs": [
    {
     "data": {
      "text/plain": [
       "((30912, 11), (7728, 11), (30912,), (7728,))"
      ]
     },
     "execution_count": 103,
     "metadata": {},
     "output_type": "execute_result"
    }
   ],
   "source": [
    "X = data_sample[categorical_features+numeric_features].copy()\n",
    "y = data_sample[target].values.copy() # prices$\n",
    "\n",
    "# generate train and test sets\n",
    "X_train, X_test, y_train, y_test = train_test_split(X, y, test_size=0.2, random_state=42)\n",
    "X_train.shape, X_test.shape, y_train.shape, y_test.shape"
   ]
  },
  {
   "cell_type": "code",
   "execution_count": 104,
   "metadata": {},
   "outputs": [
    {
     "data": {
      "text/html": [
       "<style>div.sk-top-container {color: black;background-color: white;}div.sk-toggleable {background-color: white;}label.sk-toggleable__label {cursor: pointer;display: block;width: 100%;margin-bottom: 0;padding: 0.2em 0.3em;box-sizing: border-box;text-align: center;}div.sk-toggleable__content {max-height: 0;max-width: 0;overflow: hidden;text-align: left;background-color: #f0f8ff;}div.sk-toggleable__content pre {margin: 0.2em;color: black;border-radius: 0.25em;background-color: #f0f8ff;}input.sk-toggleable__control:checked~div.sk-toggleable__content {max-height: 200px;max-width: 100%;overflow: auto;}div.sk-estimator input.sk-toggleable__control:checked~label.sk-toggleable__label {background-color: #d4ebff;}div.sk-label input.sk-toggleable__control:checked~label.sk-toggleable__label {background-color: #d4ebff;}input.sk-hidden--visually {border: 0;clip: rect(1px 1px 1px 1px);clip: rect(1px, 1px, 1px, 1px);height: 1px;margin: -1px;overflow: hidden;padding: 0;position: absolute;width: 1px;}div.sk-estimator {font-family: monospace;background-color: #f0f8ff;margin: 0.25em 0.25em;border: 1px dotted black;border-radius: 0.25em;box-sizing: border-box;}div.sk-estimator:hover {background-color: #d4ebff;}div.sk-parallel-item::after {content: \"\";width: 100%;border-bottom: 1px solid gray;flex-grow: 1;}div.sk-label:hover label.sk-toggleable__label {background-color: #d4ebff;}div.sk-serial::before {content: \"\";position: absolute;border-left: 1px solid gray;box-sizing: border-box;top: 2em;bottom: 0;left: 50%;}div.sk-serial {display: flex;flex-direction: column;align-items: center;background-color: white;}div.sk-item {z-index: 1;}div.sk-parallel {display: flex;align-items: stretch;justify-content: center;background-color: white;}div.sk-parallel-item {display: flex;flex-direction: column;position: relative;background-color: white;}div.sk-parallel-item:first-child::after {align-self: flex-end;width: 50%;}div.sk-parallel-item:last-child::after {align-self: flex-start;width: 50%;}div.sk-parallel-item:only-child::after {width: 0;}div.sk-dashed-wrapped {border: 1px dashed gray;margin: 0.2em;box-sizing: border-box;padding-bottom: 0.1em;background-color: white;position: relative;}div.sk-label label {font-family: monospace;font-weight: bold;background-color: white;display: inline-block;line-height: 1.2em;}div.sk-label-container {position: relative;z-index: 2;text-align: center;}div.sk-container {display: inline-block;position: relative;}</style><div class=\"sk-top-container\"><div class=\"sk-container\"><div class=\"sk-item sk-dashed-wrapped\"><div class=\"sk-label-container\"><div class=\"sk-label sk-toggleable\"><input class=\"sk-toggleable__control sk-hidden--visually\" id=\"f51a8f66-cffb-4bb4-bbee-1de49f743de6\" type=\"checkbox\" ><label class=\"sk-toggleable__label\" for=\"f51a8f66-cffb-4bb4-bbee-1de49f743de6\">ColumnTransformer</label><div class=\"sk-toggleable__content\"><pre>ColumnTransformer(transformers=[('num',\n",
       "                                 Pipeline(steps=[('imputer',\n",
       "                                                  SimpleImputer(strategy='median')),\n",
       "                                                 ('scaler', StandardScaler())]),\n",
       "                                 ['Mileage', 'age', 'puissance_fiscale',\n",
       "                                  'portes', 'Cylindree', 'chevaux_vapeur']),\n",
       "                                ('cat',\n",
       "                                 Pipeline(steps=[('imputer',\n",
       "                                                  SimpleImputer(fill_value='missing',\n",
       "                                                                strategy='constant')),\n",
       "                                                 ('onehot',\n",
       "                                                  OneHotEncoder(categories=[array(['Bicarbur...\n",
       "       'XV', 'YARIS', 'YETI', 'YPSILON', 'Z3', 'Z4', 'ZAFIRA',\n",
       "       'ZAFIRA TOURER'], dtype=object),\n",
       "                                                                            array(['\"1.2 TCE 130 INTENS BOSE \"\"NEUF\"\"\"',\n",
       "       '\"IV 1.2 TCE 130  INTENS \"\"BOSE\"\"\"',\n",
       "       '\"IV 1.5 DCI 110  INTENS \"\"BOSE\"\" EDC\"', ...,\n",
       "       'X-PERIENCE 2.0 TDI 150 DSG7 4DRIVE',\n",
       "       'X-PERIENCE 2.0 TDI S/S 150  DSG7 4DRIVE',\n",
       "       'XCELLENCE 1.0 ECOTSI 95   START/STOP 5CV 112G/KM'], dtype=object)],\n",
       "                                                                handle_unknown='ignore',\n",
       "                                                                sparse=False))]),\n",
       "                                 ['Fuel', 'Gearbox', 'Make', 'Model',\n",
       "                                  'version'])])</pre></div></div></div><div class=\"sk-parallel\"><div class=\"sk-parallel-item\"><div class=\"sk-item\"><div class=\"sk-label-container\"><div class=\"sk-label sk-toggleable\"><input class=\"sk-toggleable__control sk-hidden--visually\" id=\"7c76fba5-bf9c-4b17-8958-5308c491115c\" type=\"checkbox\" ><label class=\"sk-toggleable__label\" for=\"7c76fba5-bf9c-4b17-8958-5308c491115c\">num</label><div class=\"sk-toggleable__content\"><pre>['Mileage', 'age', 'puissance_fiscale', 'portes', 'Cylindree', 'chevaux_vapeur']</pre></div></div></div><div class=\"sk-serial\"><div class=\"sk-item\"><div class=\"sk-serial\"><div class=\"sk-item\"><div class=\"sk-estimator sk-toggleable\"><input class=\"sk-toggleable__control sk-hidden--visually\" id=\"db0f9f4d-426e-4980-948a-8ec549dadd06\" type=\"checkbox\" ><label class=\"sk-toggleable__label\" for=\"db0f9f4d-426e-4980-948a-8ec549dadd06\">SimpleImputer</label><div class=\"sk-toggleable__content\"><pre>SimpleImputer(strategy='median')</pre></div></div></div><div class=\"sk-item\"><div class=\"sk-estimator sk-toggleable\"><input class=\"sk-toggleable__control sk-hidden--visually\" id=\"45300598-7535-4626-b93c-6a6b870b92c7\" type=\"checkbox\" ><label class=\"sk-toggleable__label\" for=\"45300598-7535-4626-b93c-6a6b870b92c7\">StandardScaler</label><div class=\"sk-toggleable__content\"><pre>StandardScaler()</pre></div></div></div></div></div></div></div></div><div class=\"sk-parallel-item\"><div class=\"sk-item\"><div class=\"sk-label-container\"><div class=\"sk-label sk-toggleable\"><input class=\"sk-toggleable__control sk-hidden--visually\" id=\"dd0ebc82-6c45-4f82-89a4-3c1d37df1331\" type=\"checkbox\" ><label class=\"sk-toggleable__label\" for=\"dd0ebc82-6c45-4f82-89a4-3c1d37df1331\">cat</label><div class=\"sk-toggleable__content\"><pre>['Fuel', 'Gearbox', 'Make', 'Model', 'version']</pre></div></div></div><div class=\"sk-serial\"><div class=\"sk-item\"><div class=\"sk-serial\"><div class=\"sk-item\"><div class=\"sk-estimator sk-toggleable\"><input class=\"sk-toggleable__control sk-hidden--visually\" id=\"5818e767-b7e0-4369-98b2-ff43c2641b28\" type=\"checkbox\" ><label class=\"sk-toggleable__label\" for=\"5818e767-b7e0-4369-98b2-ff43c2641b28\">SimpleImputer</label><div class=\"sk-toggleable__content\"><pre>SimpleImputer(fill_value='missing', strategy='constant')</pre></div></div></div><div class=\"sk-item\"><div class=\"sk-estimator sk-toggleable\"><input class=\"sk-toggleable__control sk-hidden--visually\" id=\"11c34cfa-ac30-47e4-b374-17c01c982080\" type=\"checkbox\" ><label class=\"sk-toggleable__label\" for=\"11c34cfa-ac30-47e4-b374-17c01c982080\">OneHotEncoder</label><div class=\"sk-toggleable__content\"><pre>OneHotEncoder(categories=[array(['Bicarburation essence GPL', 'Bicarburation essence bioéthanol',\n",
       "       'Diesel', 'Electrique', 'Essence', 'Hybride diesel électrique',\n",
       "       'Hybride essence électrique'], dtype=object),\n",
       "                          array(['automatique', 'mécanique'], dtype=object),\n",
       "                          array(['ABARTH', 'ALFA ROMEO', 'ASTON MARTIN', 'AUDI', 'BENTLEY', 'BMW',\n",
       "       'CHEVROLET', 'CHRYSLER', 'CITROEN', 'DACIA', 'DAI...\n",
       "       'XC60', 'XC70', 'XC90', 'XE', 'XF', 'XJ', 'XK', 'XK8', 'XSARA',\n",
       "       'XV', 'YARIS', 'YETI', 'YPSILON', 'Z3', 'Z4', 'ZAFIRA',\n",
       "       'ZAFIRA TOURER'], dtype=object),\n",
       "                          array(['\"1.2 TCE 130 INTENS BOSE \"\"NEUF\"\"\"',\n",
       "       '\"IV 1.2 TCE 130  INTENS \"\"BOSE\"\"\"',\n",
       "       '\"IV 1.5 DCI 110  INTENS \"\"BOSE\"\" EDC\"', ...,\n",
       "       'X-PERIENCE 2.0 TDI 150 DSG7 4DRIVE',\n",
       "       'X-PERIENCE 2.0 TDI S/S 150  DSG7 4DRIVE',\n",
       "       'XCELLENCE 1.0 ECOTSI 95   START/STOP 5CV 112G/KM'], dtype=object)],\n",
       "              handle_unknown='ignore', sparse=False)</pre></div></div></div></div></div></div></div></div></div></div></div></div>"
      ],
      "text/plain": [
       "ColumnTransformer(transformers=[('num',\n",
       "                                 Pipeline(steps=[('imputer',\n",
       "                                                  SimpleImputer(strategy='median')),\n",
       "                                                 ('scaler', StandardScaler())]),\n",
       "                                 ['Mileage', 'age', 'puissance_fiscale',\n",
       "                                  'portes', 'Cylindree', 'chevaux_vapeur']),\n",
       "                                ('cat',\n",
       "                                 Pipeline(steps=[('imputer',\n",
       "                                                  SimpleImputer(fill_value='missing',\n",
       "                                                                strategy='constant')),\n",
       "                                                 ('onehot',\n",
       "                                                  OneHotEncoder(categories=[array(['Bicarbur...\n",
       "       'XV', 'YARIS', 'YETI', 'YPSILON', 'Z3', 'Z4', 'ZAFIRA',\n",
       "       'ZAFIRA TOURER'], dtype=object),\n",
       "                                                                            array(['\"1.2 TCE 130 INTENS BOSE \"\"NEUF\"\"\"',\n",
       "       '\"IV 1.2 TCE 130  INTENS \"\"BOSE\"\"\"',\n",
       "       '\"IV 1.5 DCI 110  INTENS \"\"BOSE\"\" EDC\"', ...,\n",
       "       'X-PERIENCE 2.0 TDI 150 DSG7 4DRIVE',\n",
       "       'X-PERIENCE 2.0 TDI S/S 150  DSG7 4DRIVE',\n",
       "       'XCELLENCE 1.0 ECOTSI 95   START/STOP 5CV 112G/KM'], dtype=object)],\n",
       "                                                                handle_unknown='ignore',\n",
       "                                                                sparse=False))]),\n",
       "                                 ['Fuel', 'Gearbox', 'Make', 'Model',\n",
       "                                  'version'])])"
      ]
     },
     "execution_count": 104,
     "metadata": {},
     "output_type": "execute_result"
    }
   ],
   "source": [
    "## Initialisation du ColumnTransformer pour la transformation des données\n",
    "preprocessor = preproc_config(categorical_features, numeric_features)\n",
    "preprocessor"
   ]
  },
  {
   "cell_type": "markdown",
   "metadata": {},
   "source": [
    "### 6.5. Entrainement de plusieurs modèles"
   ]
  },
  {
   "cell_type": "code",
   "execution_count": 56,
   "metadata": {},
   "outputs": [],
   "source": [
    "# Liste des modèles à entrainer\n",
    "models = [DummyRegressor(),\n",
    "          KNeighborsRegressor(),\n",
    "          linear_model.Lasso(),\n",
    "          linear_model.Ridge(),\n",
    "          linear_model.ElasticNet(),\n",
    "          ensemble.GradientBoostingRegressor(),\n",
    "          ensemble.RandomForestRegressor(),\n",
    "          ensemble.ExtraTreesRegressor()]\n",
    "\n",
    "models_names = ['Dummy','K-nn', 'Lasso','Ridge','Elastic','Boost','Forest','Extra']"
   ]
  },
  {
   "cell_type": "code",
   "execution_count": 57,
   "metadata": {},
   "outputs": [],
   "source": [
    "# Liste des métriques pour chaque modèle\n",
    "mape = []\n",
    "scores = []\n",
    "\n",
    "# Utilisation d'un pileline : Transformation de données --> entrainement d'un modèle sur la sortie\n",
    "for model in models:\n",
    "    pipe = Pipeline([\n",
    "    ('preprocessor', preprocessor), # Transformation de données\n",
    "    ('model', model) # entrainement d'un modèle\n",
    "    ])\n",
    "    fits = pipe.fit(X_train,y_train)\n",
    "    mape.append(mean_absolute_percentage_error(y_test, fits.predict(X_test)))\n",
    "    scores.append(metrics.r2_score(y_test, fits.predict(X_test)))\n"
   ]
  },
  {
   "cell_type": "code",
   "execution_count": 58,
   "metadata": {},
   "outputs": [
    {
     "data": {
      "text/plain": [
       "0"
      ]
     },
     "execution_count": 58,
     "metadata": {},
     "output_type": "execute_result"
    }
   ],
   "source": [
    "import os\n",
    "os.system( \"say ayema taaboute louzarrr\" )"
   ]
  },
  {
   "cell_type": "code",
   "execution_count": 61,
   "metadata": {},
   "outputs": [
    {
     "data": {
      "text/html": [
       "<div>\n",
       "<style scoped>\n",
       "    .dataframe tbody tr th:only-of-type {\n",
       "        vertical-align: middle;\n",
       "    }\n",
       "\n",
       "    .dataframe tbody tr th {\n",
       "        vertical-align: top;\n",
       "    }\n",
       "\n",
       "    .dataframe thead th {\n",
       "        text-align: right;\n",
       "    }\n",
       "</style>\n",
       "<table border=\"1\" class=\"dataframe\">\n",
       "  <thead>\n",
       "    <tr style=\"text-align: right;\">\n",
       "      <th></th>\n",
       "      <th>model</th>\n",
       "      <th>mape</th>\n",
       "      <th>scores</th>\n",
       "    </tr>\n",
       "  </thead>\n",
       "  <tbody>\n",
       "    <tr>\n",
       "      <th>0</th>\n",
       "      <td>Dummy</td>\n",
       "      <td>51.116087</td>\n",
       "      <td>-0.000008</td>\n",
       "    </tr>\n",
       "    <tr>\n",
       "      <th>1</th>\n",
       "      <td>K-nn</td>\n",
       "      <td>14.623610</td>\n",
       "      <td>0.926501</td>\n",
       "    </tr>\n",
       "    <tr>\n",
       "      <th>2</th>\n",
       "      <td>Lasso</td>\n",
       "      <td>21.654910</td>\n",
       "      <td>0.872792</td>\n",
       "    </tr>\n",
       "    <tr>\n",
       "      <th>3</th>\n",
       "      <td>Ridge</td>\n",
       "      <td>16.046446</td>\n",
       "      <td>0.915186</td>\n",
       "    </tr>\n",
       "    <tr>\n",
       "      <th>4</th>\n",
       "      <td>Elastic</td>\n",
       "      <td>27.645226</td>\n",
       "      <td>0.695143</td>\n",
       "    </tr>\n",
       "    <tr>\n",
       "      <th>5</th>\n",
       "      <td>Boost</td>\n",
       "      <td>14.040848</td>\n",
       "      <td>0.905655</td>\n",
       "    </tr>\n",
       "    <tr>\n",
       "      <th>6</th>\n",
       "      <td>Forest</td>\n",
       "      <td>9.215177</td>\n",
       "      <td>0.950086</td>\n",
       "    </tr>\n",
       "    <tr>\n",
       "      <th>7</th>\n",
       "      <td>Extra</td>\n",
       "      <td>9.699340</td>\n",
       "      <td>0.954719</td>\n",
       "    </tr>\n",
       "  </tbody>\n",
       "</table>\n",
       "</div>"
      ],
      "text/plain": [
       "     model       mape    scores\n",
       "0    Dummy  51.116087 -0.000008\n",
       "1     K-nn  14.623610  0.926501\n",
       "2    Lasso  21.654910  0.872792\n",
       "3    Ridge  16.046446  0.915186\n",
       "4  Elastic  27.645226  0.695143\n",
       "5    Boost  14.040848  0.905655\n",
       "6   Forest   9.215177  0.950086\n",
       "7    Extra   9.699340  0.954719"
      ]
     },
     "execution_count": 61,
     "metadata": {},
     "output_type": "execute_result"
    }
   ],
   "source": [
    "result_all_models = pd.DataFrame(data=list(zip(models_names, mape, scores)), columns=['model', 'mape', 'scores'])\n",
    "result_all_models"
   ]
  },
  {
   "cell_type": "code",
   "execution_count": 63,
   "metadata": {},
   "outputs": [
    {
     "data": {
      "text/plain": [
       "Text(0, 0.5, 'Score')"
      ]
     },
     "execution_count": 63,
     "metadata": {},
     "output_type": "execute_result"
    },
    {
     "data": {
      "image/png": "[encoded data removed]",
      "text/plain": [
       "<Figure size 1296x432 with 2 Axes>"
      ]
     },
     "metadata": {
      "needs_background": "light"
     },
     "output_type": "display_data"
    }
   ],
   "source": [
    "f, (ax1, ax2 ) = plt.subplots(ncols=2, sharex=True, sharey=False, figsize=(18,6))\n",
    "ax1.bar(result_all_models['model'], result_all_models['mape'])\n",
    "ax1.set_ylabel('Mean absolute percentage error')\n",
    "\n",
    "ax2.bar(result_all_models['model'], result_all_models['scores'])\n",
    "ax2.set_ylabel('Score')"
   ]
  },
  {
   "cell_type": "markdown",
   "metadata": {},
   "source": [
    "**Le meilleur modèle en terme de minimisation de la MAPE est le RandomForest avec une MAPE = 9,22%**"
   ]
  },
  {
   "cell_type": "markdown",
   "metadata": {},
   "source": [
    "### 6.6. Ajout de la feature 'couleur_dominante'"
   ]
  },
  {
   "cell_type": "code",
   "execution_count": 113,
   "metadata": {},
   "outputs": [],
   "source": [
    "target = 'Price'\n",
    "\n",
    "# categorical features\n",
    "categorical_features = ['Fuel', 'Gearbox', 'Make', 'Model', 'version', 'couleur_dominante']\n",
    "\n",
    "# numerical features\n",
    "numeric_features = ['Mileage', 'age', 'puissance_fiscale', 'portes', 'Cylindree','chevaux_vapeur']\n",
    "\n",
    "X = data_sample[categorical_features+numeric_features].copy()\n",
    "y = data_sample[target].values.copy() # prices$\n",
    "\n",
    "# generate train and test sets\n",
    "X_train, X_test, y_train, y_test = train_test_split(X, y, test_size=0.2, random_state=42)\n",
    "\n",
    "## Initialisation du ColumnTransformer pour la transformation des données\n",
    "preprocessor = preproc_config(categorical_features, numeric_features)"
   ]
  },
  {
   "cell_type": "code",
   "execution_count": 114,
   "metadata": {},
   "outputs": [],
   "source": [
    "model = ensemble.RandomForestRegressor()\n",
    "\n",
    "models_names = ['Forest']\n",
    "\n",
    "mape = []\n",
    "scores = []\n",
    "\n",
    "pipe = Pipeline([\n",
    "    ('preprocessor', preprocessor),\n",
    "    ('model', model)\n",
    "    ])\n",
    "fits = pipe.fit(X_train,y_train)\n",
    "mape.append(mean_absolute_percentage_error(y_test, fits.predict(X_test)))\n",
    "scores.append(metrics.r2_score(y_test, fits.predict(X_test)))"
   ]
  },
  {
   "cell_type": "code",
   "execution_count": 118,
   "metadata": {},
   "outputs": [
    {
     "data": {
      "text/html": [
       "<div>\n",
       "<style scoped>\n",
       "    .dataframe tbody tr th:only-of-type {\n",
       "        vertical-align: middle;\n",
       "    }\n",
       "\n",
       "    .dataframe tbody tr th {\n",
       "        vertical-align: top;\n",
       "    }\n",
       "\n",
       "    .dataframe thead th {\n",
       "        text-align: right;\n",
       "    }\n",
       "</style>\n",
       "<table border=\"1\" class=\"dataframe\">\n",
       "  <thead>\n",
       "    <tr style=\"text-align: right;\">\n",
       "      <th></th>\n",
       "      <th>model</th>\n",
       "      <th>mape</th>\n",
       "      <th>scores</th>\n",
       "    </tr>\n",
       "  </thead>\n",
       "  <tbody>\n",
       "    <tr>\n",
       "      <th>0</th>\n",
       "      <td>Forest</td>\n",
       "      <td>9.232104</td>\n",
       "      <td>0.950218</td>\n",
       "    </tr>\n",
       "  </tbody>\n",
       "</table>\n",
       "</div>"
      ],
      "text/plain": [
       "    model      mape    scores\n",
       "0  Forest  9.232104  0.950218"
      ]
     },
     "execution_count": 118,
     "metadata": {},
     "output_type": "execute_result"
    }
   ],
   "source": [
    "result_RF_couleur = pd.DataFrame(data=list(zip(models_names, mape, scores)), columns=['model', 'mape', 'scores'])\n",
    "result_RF_couleur"
   ]
  },
  {
   "cell_type": "markdown",
   "metadata": {},
   "source": [
    "**La couleur n'est pas determinante dans la prédiction du prix**"
   ]
  },
  {
   "cell_type": "markdown",
   "metadata": {},
   "source": [
    "### 6.7. Hyper-paramètre n_estimators=100"
   ]
  },
  {
   "cell_type": "code",
   "execution_count": 65,
   "metadata": {},
   "outputs": [],
   "source": [
    "model = ensemble.RandomForestRegressor(n_estimators=100)\n",
    "\n",
    "models_names = ['Forest']\n",
    "\n",
    "mape = []\n",
    "scores = []\n",
    "\n",
    "pipe = Pipeline([\n",
    "    ('preprocessor', preprocessor),\n",
    "    ('model', model)\n",
    "    ])\n",
    "fits = pipe.fit(X_train,y_train)\n",
    "mape.append(mean_absolute_percentage_error(y_test, fits.predict(X_test)))\n",
    "scores.append(metrics.r2_score(y_test, fits.predict(X_test)))\n"
   ]
  },
  {
   "cell_type": "code",
   "execution_count": 68,
   "metadata": {},
   "outputs": [
    {
     "data": {
      "text/html": [
       "<div>\n",
       "<style scoped>\n",
       "    .dataframe tbody tr th:only-of-type {\n",
       "        vertical-align: middle;\n",
       "    }\n",
       "\n",
       "    .dataframe tbody tr th {\n",
       "        vertical-align: top;\n",
       "    }\n",
       "\n",
       "    .dataframe thead th {\n",
       "        text-align: right;\n",
       "    }\n",
       "</style>\n",
       "<table border=\"1\" class=\"dataframe\">\n",
       "  <thead>\n",
       "    <tr style=\"text-align: right;\">\n",
       "      <th></th>\n",
       "      <th>model</th>\n",
       "      <th>mape</th>\n",
       "      <th>scores</th>\n",
       "    </tr>\n",
       "  </thead>\n",
       "  <tbody>\n",
       "    <tr>\n",
       "      <th>0</th>\n",
       "      <td>Forest</td>\n",
       "      <td>9.200556</td>\n",
       "      <td>0.950516</td>\n",
       "    </tr>\n",
       "  </tbody>\n",
       "</table>\n",
       "</div>"
      ],
      "text/plain": [
       "    model      mape    scores\n",
       "0  Forest  9.200556  0.950516"
      ]
     },
     "execution_count": 68,
     "metadata": {},
     "output_type": "execute_result"
    }
   ],
   "source": [
    "result_RF_100 = pd.DataFrame(data=list(zip(models_names, mape, scores)), columns=['model', 'mape', 'scores'])\n",
    "result_RF_100"
   ]
  },
  {
   "cell_type": "markdown",
   "metadata": {},
   "source": [
    "**La performance de RandomForest peut être améliorée en jouant sur les hyper-paramères du modèle**"
   ]
  },
  {
   "cell_type": "markdown",
   "metadata": {},
   "source": [
    "## 7. Conclusion :\n",
    "\n",
    "* **Données manquantes :**\n",
    "    * Il y a des données manquantes dans couleur_type_peinture, Cylindree, chevaux_vapeur, couleur_dominante, optioon, model, portes et couleur. Merger avec des données externes !\n",
    "\n",
    "* **Variable Target :**\n",
    "    * **Outliers :** \n",
    "        * Les prix supérieurs à 100.000€ sont à 0,5% dans le dataset (806 observation).\n",
    "        * Les prix à 1€ sont à 0,002 (4 observations). Des valeurs abérentes\n",
    "* **Les variables numériques :**\n",
    "    * **Outliers :** \n",
    "        * Cylindree > 4 Litres: 137 observations,\n",
    "        * chevaux_vapeur > 4 Litres: 13 observations,\n",
    "        * age < 0 : 1 observation,\n",
    "        * age > 25 ans : 365 observations,\n",
    "        * puissance_fiscale > 200 ans : 4 observations,\n",
    "        * nombre de portes <2 : 17 observations,\n",
    "        * nombre de portes >5 : 2 observations,\n",
    "        * Mileage > 200 000km : 1557 observations,\n",
    "        * Mileage < 100km : 20653 observations (Ne pas supprimer),\n",
    "* **Analyse bi-variable :**\n",
    "    * Il y a correlation positive entre **Price** d'un côté et **puissance_fiscale**, **chevaux_veapeur**, **Cylindree**, et **Model_year** (pas très importante) de l'autre côté.\n",
    "    * Il y a une correlation négative entre **Price** et **age** / **Mileage**.\n",
    "    * Les vehicules 'Hybride essence électrique' sont les plus chers en moyenne\n",
    "    * Les vehicules 'automatique' sont les plus chers en moyenne\n",
    "* **Modelisation :**\n",
    "    * RandomForest est le meilleur modèle en terme de minimisation de la MAPE (9.22%). \n",
    "    * La performance de RandomForest peut être améliorée en jouant sur les hyper-paramères du modèle."
   ]
  },
  {
   "cell_type": "code",
   "execution_count": 191,
   "metadata": {},
   "outputs": [],
   "source": [
    "# Sauvegarde des types des colonnes\n",
    "target = 'Price'\n",
    "key_categories = ['Make', 'Model', 'Fuel', 'Gearbox', 'modele', 'version', 'couleur', 'options',\n",
    "                 'couleur_dominante','couleur_type_peinture']\n",
    "key_numeriques = ['Mileage', 'age', 'puissance_fiscale', 'portes', 'Cylindree','chevaux_vapeur']\n",
    "other_features = ['Model_year', 'Online', 'Online_date', 'Online_time', 'Online_year', \n",
    "                  'Online_month', 'Online_month_day', 'Online_hour', 'Online_minute', 'Online_week_day']"
   ]
  },
  {
   "cell_type": "code",
   "execution_count": 115,
   "metadata": {},
   "outputs": [
    {
     "data": {
      "text/plain": [
       "0"
      ]
     },
     "execution_count": 115,
     "metadata": {},
     "output_type": "execute_result"
    }
   ],
   "source": [
    "import os\n",
    "os.system( \"say ayema taaboute louzarrr\" )"
   ]
  }
 ],
 "metadata": {
  "kernelspec": {
   "display_name": "Python 3",
   "language": "python",
   "name": "python3"
  },
  "language_info": {
   "codemirror_mode": {
    "name": "ipython",
    "version": 3
   },
   "file_extension": ".py",
   "mimetype": "text/x-python",
   "name": "python",
   "nbconvert_exporter": "python",
   "pygments_lexer": "ipython3",
   "version": "3.7.6"
  }
 },
 "nbformat": 4,
 "nbformat_minor": 4
}
