{
 "cells": [
  {
   "cell_type": "markdown",
   "metadata": {},
   "source": [
    "# 3. Nettoyage des données scrappées et merging avec Data_cars\n",
    "\n",
    "## Objectifs :\n",
    "* Réaliser le preprocessing du dataset scrapé depuis le site [Caradisiac](https://www.caradisiac.com/), notamment de la colone caracteristiques (Voir le notebook **2_Collecte_data_externe** pour la méthode de scarping),\n",
    "* Croisement des données scrappées (caradisiac_dataset) avec le dataset fourni dans le cadre de ce projet (Data_cars.csv)"
   ]
  },
  {
   "cell_type": "markdown",
   "metadata": {},
   "source": [
    "## Plan :\n",
    "1. Preprocessing du dataset scrapé\n",
    "        1.1. Concaténation des datasets scrappés\n",
    "        1.2. Traitement de la variable'Caracteristiques'\n",
    "            1.2.1. Convertion vers le format Json\n",
    "            1.2.2. Récupération de la liste des sous-champs\n",
    "        1.3. Les variables Prix & time\n",
    "2. Merging des datasets\n",
    "        2.1 Création de la variable du merge 'version'\n",
    "        2.2. Déclaration des fonctions de ngrams et GetNeaestN\n",
    "        2.3. Matching\n",
    "        2.4. Merge entre les datasets\n",
    "3. Prochaines étapes"
   ]
  },
  {
   "cell_type": "code",
   "execution_count": 1,
   "metadata": {},
   "outputs": [],
   "source": [
    "import pandas as pd\n",
    "import numpy as np\n",
    "import re\n",
    "from collections import ChainMap\n",
    "import json\n",
    "import re\n",
    "\n",
    "pd.set_option('max_colwidth', 10000)\n",
    "pd.options.display.max_rows = 4000"
   ]
  },
  {
   "cell_type": "code",
   "execution_count": 14,
   "metadata": {},
   "outputs": [
    {
     "data": {
      "text/html": [
       "<style>.dataframe th, td:first-child{background:#3f577c;font-family:monospace;color:white;border:3px solid white;\n",
       "text-align:left !important;}#codex{float:right;}</style>\n"
      ],
      "text/plain": [
       "<IPython.core.display.HTML object>"
      ]
     },
     "metadata": {},
     "output_type": "display_data"
    }
   ],
   "source": [
    "# Fromatage de l'affichage des dataframe\n",
    "%%HTML\n",
    "<style>.dataframe th, td:first-child{background:#3f577c;font-family:monospace;color:white;border:3px solid white;\n",
    "text-align:left !important;}#codex{float:right;}</style>"
   ]
  },
  {
   "cell_type": "markdown",
   "metadata": {},
   "source": [
    "## 1. Preprocessing du dataset scrapé"
   ]
  },
  {
   "cell_type": "markdown",
   "metadata": {},
   "source": [
    "### 1.1. Concaténation des datasets scrappés"
   ]
  },
  {
   "cell_type": "markdown",
   "metadata": {},
   "source": [
    "Suite à des problèmes de connexion, nous n'avons pas pu récupérer un unique dataset des informations de toutes les versions des vehicules présentes sur le site de Caradisiac. <br>\n",
    "Ainsi, nous avons récupéré plusieurs datasets que nous allons concatener dans cette section."
   ]
  },
  {
   "cell_type": "code",
   "execution_count": 2,
   "metadata": {},
   "outputs": [],
   "source": [
    "import glob\n",
    "\n",
    "# Chemin vers le dossier contenant les fichiers csv à concatener\n",
    "# Fichiers contenant les informations des versions présentes sur la premeière page\n",
    "path = r'../Datasets/Caradisiac'\n",
    "\n",
    "# Liste de tous les chemins vers les fichiers csv\n",
    "all_files = glob.glob(path + \"/*.csv\")\n",
    "\n",
    "# Chargement des données dans une liste de Dataframes\n",
    "li = []\n",
    "for filename in all_files:\n",
    "    df = pd.read_csv(filename, index_col=None, header=0)\n",
    "    li.append(df)\n",
    "\n",
    "# Concatenation de la liste des dataframes\n",
    "data_first_pages = pd.concat(li, axis=0, ignore_index=True)\n",
    "\n",
    "# Chemin vers le dossier contenant les fichiers csv à concatener\n",
    "# Fichiers contenant les informations des versions présentes sur les pages suivantes\n",
    "path = r'../Datasets/Caradisiac/next_pages'\n",
    "\n",
    "# Liste de tous les chemins vers les fichiers csv\n",
    "all_files = glob.glob(path + \"/*.csv\")\n",
    "\n",
    "# Chargement des données dans une liste de Dataframes\n",
    "li = []\n",
    "for filename in all_files:\n",
    "    df = pd.read_csv(filename, index_col=None, header=0)\n",
    "    li.append(df)\n",
    "    \n",
    "# Concatenation de la liste des dataframes\n",
    "data_next_pages = pd.concat(li, axis=0, ignore_index=True)"
   ]
  },
  {
   "cell_type": "code",
   "execution_count": 8,
   "metadata": {},
   "outputs": [
    {
     "data": {
      "text/plain": [
       "((123597, 17), (15450, 18))"
      ]
     },
     "execution_count": 8,
     "metadata": {},
     "output_type": "execute_result"
    }
   ],
   "source": [
    "data_first_pages.shape, data_next_pages.shape"
   ]
  },
  {
   "cell_type": "code",
   "execution_count": 3,
   "metadata": {},
   "outputs": [],
   "source": [
    "# Suppression des colonnes inutiles\n",
    "data_first_pages.drop(columns=[\"Unnamed: 0\",\n",
    "                               \"Unnamed: 0.1\", \"model_gamme_url\", \"model_url\", \"fich_tech_href\", \n",
    "                              \"year_url\", \"version_url\"], inplace=True)\n",
    "data_next_pages.drop(columns=[\"Unnamed: 0\", \n",
    "                              \"Unnamed: 0.1\", \"model_gamme_url\", \"model_url\", \"fich_tech_href\", \n",
    "                              \"year_url\", \"version_url\", \"next_page\"], inplace=True)"
   ]
  },
  {
   "cell_type": "code",
   "execution_count": 10,
   "metadata": {},
   "outputs": [
    {
     "data": {
      "text/plain": [
       "((123597, 10), (15450, 10))"
      ]
     },
     "execution_count": 10,
     "metadata": {},
     "output_type": "execute_result"
    }
   ],
   "source": [
    "data_first_pages.shape, data_next_pages.shape"
   ]
  },
  {
   "cell_type": "code",
   "execution_count": 4,
   "metadata": {},
   "outputs": [
    {
     "data": {
      "text/plain": [
       "(139047, 10)"
      ]
     },
     "execution_count": 4,
     "metadata": {},
     "output_type": "execute_result"
    }
   ],
   "source": [
    "# Concatenation des deux dataframes contenant les informations sur \n",
    "#les versions présentes sur les premières page avec celles présentes dans les pages suivantes\n",
    "caradisiac_dataset = pd.concat([data_first_pages, data_next_pages], axis=0, ignore_index=True)\n",
    "caradisiac_dataset.shape"
   ]
  },
  {
   "cell_type": "code",
   "execution_count": 15,
   "metadata": {},
   "outputs": [
    {
     "data": {
      "text/html": [
       "<div>\n",
       "<style scoped>\n",
       "    .dataframe tbody tr th:only-of-type {\n",
       "        vertical-align: middle;\n",
       "    }\n",
       "\n",
       "    .dataframe tbody tr th {\n",
       "        vertical-align: top;\n",
       "    }\n",
       "\n",
       "    .dataframe thead th {\n",
       "        text-align: right;\n",
       "    }\n",
       "</style>\n",
       "<table border=\"1\" class=\"dataframe\">\n",
       "  <thead>\n",
       "    <tr style=\"text-align: right;\">\n",
       "      <th></th>\n",
       "      <th>brand</th>\n",
       "      <th>time</th>\n",
       "      <th>model_gamme</th>\n",
       "      <th>model</th>\n",
       "      <th>year</th>\n",
       "      <th>version_name</th>\n",
       "      <th>prix</th>\n",
       "      <th>caracteristiques</th>\n",
       "      <th>equips_all</th>\n",
       "      <th>options</th>\n",
       "    </tr>\n",
       "  </thead>\n",
       "  <tbody>\n",
       "    <tr>\n",
       "      <th>0</th>\n",
       "      <td>hyundai</td>\n",
       "      <td>Les modèles d'aujourd'hui</td>\n",
       "      <td>hyundai kona</td>\n",
       "      <td>hyundai kona</td>\n",
       "      <td>2018</td>\n",
       "      <td>1.0 T-GDI 120 EXECUTIVE</td>\n",
       "      <td>25 900 €</td>\n",
       "      <td>[{'Date de commercialisation': '01/09/2017'}, {'Date de fin de commercialisation': '15/04/2018'}, {'Durée de la garantie': '60 mois (kilométrage illimité)'}, {'Intervalles de révision en km': 'NC'}, {'Intervalles de révision maxi': 'NC'}, {'Longueur': '4,16 m'}, {'Largeur sans rétros': '1,80 m'}, {'Hauteur': '1,56 m'}, {'Empattement': '2,60 m'}, {'Volume de coffre mini/maxi': '361 l / 1 143 l'}, {'Nombre de portes': '5'}, {'Nombre de places assises': '5'}, {'Poids à vide': '1 308 kg'}, {'Motorisation': 'Essence'}, {'Puissance fiscale': '6 CV'}, {'Moteur': ' 3 cylindres en ligne, 12 soupapes'}, {'Cylindrée': '998 cm3'}, {'Puissance': '120 ch à 6 000 trs/min'}, {'Couple': '172 Nm à 1 500 trs/min'}, {'Type de suralimentation': 'turbo'}, {'Boîte de vitesse, Nb de rapports': 'Mécanique à 6 rapports'}, {'Roues motrices': 'AV'}, {'Vitesse maxi': '181 km/h'}, {'0 à 100 km/h': '12 sec'}, {'Consommation urbaine': '6,30 l / 100 km'}, {'Consommation extra-urbaine': '5 l / 100 km'}, {'Consommation mixte': '5,40 l / 100 km'}, {'Volume du réservoir': '50 l'}, {'Emission de CO2 (NEDC)': '125 g/km'}, {'Bonus / Malus écologique': '--'}, {'NormeEuro': 'EU6'}, {'Suspension avant': 'jambe de force'}, {'Suspension arrière': 'essieu torsionnel'}, {'Taille des pneus avant': '235/45/18'}, {'Taille des pneus arrière': '235/45/18'}, {'Roue de secours': 'NC'}, {'Freins à disque': '4'}, {'Diamètre de braquage entre murs': 'NC'}, {'Diamètre de braquage entre trottoirs': '10,60 m'}, {\"Angle d'attaque\": 'NC'}, {'Angle de fuite': 'NC'}, {'Blocage de différentiel': 'non'}]</td>\n",
       "      <td>[{'Equipements de sécurité': ['6 airbags', 'ESP', 'Airbags rideaux', 'Système détection de collision', 'Indicateur de sous-gonflage des pneus', \"Assistance au freinage d'urgence\", 'Kit anticrevaison', 'Essuie glace capteur de pluie', 'Antipatinage', \"Capteur d'angle mort\", 'ABS', 'Avertisseur de franchissement de ligne', 'Airbags latéraux', 'Aide au démarrage en côte']}, {'Equipements intérieur': ['Système audio écran tactile', 'Bouton démarrage', 'Air conditionné auto', 'Système de navigation', 'Bluetooth inclut musique en streaming, connexion téléphone', 'Régulateur de vitesse', 'Smart card / Smart key', 'Volant cuir', 'Aide au stationnement arrière', 'Tableau de bord vision tête haute', 'Ordinateur de bord', 'Siège avant électrique', 'Lecteur MP3', 'Taille écran navigation 8 pouces', 'Accoudoir central avant', 'Système de navigation info trafic', 'Limiteur de vitesse', 'Rétroviseur jour/nuit', 'Volant multi-fonction', 'Bluetooth', '8 haut-parleurs', 'Air conditionné 1 zones', 'Siège avant chauffant', 'Réglage du volant en hauteur, en profondeur', 'Taille écran multi-fonctions 8 pouces']}, {'Equipements extérieur et chassis': ['Phares à allumage automatique', 'Ampoules de phares LED', 'Feux arrières à LED', 'Antibrouillards avant', 'Rétroviseurs extérieurs réglage électrique', 'Feux de croisement à LED', 'Rétroviseurs extérieurs chauffants', 'Feux de croisement automatiques', 'Rétroviseurs rabattables électriquement']}]</td>\n",
       "      <td>[{'Peinture métallisée': '550 €'}, {'Peinture métallisée bi-ton': '950 €'}, {'Peinture métallisée Velvet Dune': '0 €'}, {'Roue de secours temporaire': '100 €'}]</td>\n",
       "    </tr>\n",
       "  </tbody>\n",
       "</table>\n",
       "</div>"
      ],
      "text/plain": [
       "     brand                       time   model_gamme         model  year  \\\n",
       "0  hyundai  Les modèles d'aujourd'hui  hyundai kona  hyundai kona  2018   \n",
       "\n",
       "              version_name      prix  \\\n",
       "0  1.0 T-GDI 120 EXECUTIVE  25 900 €   \n",
       "\n",
       "                                                                                                                                                                                                                                                                                                                                                                                                                                                                                                                                                                                                                                                                                                                                                                                                                                                                                                                                                                                                                                                                                                                                                                                                                                                                                                                                                                                                                                                                                                                                                                                                                caracteristiques  \\\n",
       "0  [{'Date de commercialisation': '01/09/2017'}, {'Date de fin de commercialisation': '15/04/2018'}, {'Durée de la garantie': '60 mois (kilométrage illimité)'}, {'Intervalles de révision en km': 'NC'}, {'Intervalles de révision maxi': 'NC'}, {'Longueur': '4,16 m'}, {'Largeur sans rétros': '1,80 m'}, {'Hauteur': '1,56 m'}, {'Empattement': '2,60 m'}, {'Volume de coffre mini/maxi': '361 l / 1 143 l'}, {'Nombre de portes': '5'}, {'Nombre de places assises': '5'}, {'Poids à vide': '1 308 kg'}, {'Motorisation': 'Essence'}, {'Puissance fiscale': '6 CV'}, {'Moteur': ' 3 cylindres en ligne, 12 soupapes'}, {'Cylindrée': '998 cm3'}, {'Puissance': '120 ch à 6 000 trs/min'}, {'Couple': '172 Nm à 1 500 trs/min'}, {'Type de suralimentation': 'turbo'}, {'Boîte de vitesse, Nb de rapports': 'Mécanique à 6 rapports'}, {'Roues motrices': 'AV'}, {'Vitesse maxi': '181 km/h'}, {'0 à 100 km/h': '12 sec'}, {'Consommation urbaine': '6,30 l / 100 km'}, {'Consommation extra-urbaine': '5 l / 100 km'}, {'Consommation mixte': '5,40 l / 100 km'}, {'Volume du réservoir': '50 l'}, {'Emission de CO2 (NEDC)': '125 g/km'}, {'Bonus / Malus écologique': '--'}, {'NormeEuro': 'EU6'}, {'Suspension avant': 'jambe de force'}, {'Suspension arrière': 'essieu torsionnel'}, {'Taille des pneus avant': '235/45/18'}, {'Taille des pneus arrière': '235/45/18'}, {'Roue de secours': 'NC'}, {'Freins à disque': '4'}, {'Diamètre de braquage entre murs': 'NC'}, {'Diamètre de braquage entre trottoirs': '10,60 m'}, {\"Angle d'attaque\": 'NC'}, {'Angle de fuite': 'NC'}, {'Blocage de différentiel': 'non'}]   \n",
       "\n",
       "                                                                                                                                                                                                                                                                                                                                                                                                                                                                                                                                                                                                                                                                                                                                                                                                                                                                                                                                                                                                                                                                                                                                                                                                                                                                                                                                                                                                                                                                                              equips_all  \\\n",
       "0  [{'Equipements de sécurité': ['6 airbags', 'ESP', 'Airbags rideaux', 'Système détection de collision', 'Indicateur de sous-gonflage des pneus', \"Assistance au freinage d'urgence\", 'Kit anticrevaison', 'Essuie glace capteur de pluie', 'Antipatinage', \"Capteur d'angle mort\", 'ABS', 'Avertisseur de franchissement de ligne', 'Airbags latéraux', 'Aide au démarrage en côte']}, {'Equipements intérieur': ['Système audio écran tactile', 'Bouton démarrage', 'Air conditionné auto', 'Système de navigation', 'Bluetooth inclut musique en streaming, connexion téléphone', 'Régulateur de vitesse', 'Smart card / Smart key', 'Volant cuir', 'Aide au stationnement arrière', 'Tableau de bord vision tête haute', 'Ordinateur de bord', 'Siège avant électrique', 'Lecteur MP3', 'Taille écran navigation 8 pouces', 'Accoudoir central avant', 'Système de navigation info trafic', 'Limiteur de vitesse', 'Rétroviseur jour/nuit', 'Volant multi-fonction', 'Bluetooth', '8 haut-parleurs', 'Air conditionné 1 zones', 'Siège avant chauffant', 'Réglage du volant en hauteur, en profondeur', 'Taille écran multi-fonctions 8 pouces']}, {'Equipements extérieur et chassis': ['Phares à allumage automatique', 'Ampoules de phares LED', 'Feux arrières à LED', 'Antibrouillards avant', 'Rétroviseurs extérieurs réglage électrique', 'Feux de croisement à LED', 'Rétroviseurs extérieurs chauffants', 'Feux de croisement automatiques', 'Rétroviseurs rabattables électriquement']}]   \n",
       "\n",
       "                                                                                                                                                            options  \n",
       "0  [{'Peinture métallisée': '550 €'}, {'Peinture métallisée bi-ton': '950 €'}, {'Peinture métallisée Velvet Dune': '0 €'}, {'Roue de secours temporaire': '100 €'}]  "
      ]
     },
     "execution_count": 15,
     "metadata": {},
     "output_type": "execute_result"
    }
   ],
   "source": [
    "caradisiac_dataset.head(1)"
   ]
  },
  {
   "cell_type": "code",
   "execution_count": 16,
   "metadata": {},
   "outputs": [
    {
     "data": {
      "text/plain": [
       "brand               object\n",
       "time                object\n",
       "model_gamme         object\n",
       "model               object\n",
       "year                 int64\n",
       "version_name        object\n",
       "prix                object\n",
       "caracteristiques    object\n",
       "equips_all          object\n",
       "options             object\n",
       "dtype: object"
      ]
     },
     "execution_count": 16,
     "metadata": {},
     "output_type": "execute_result"
    }
   ],
   "source": [
    "caradisiac_dataset.dtypes"
   ]
  },
  {
   "cell_type": "markdown",
   "metadata": {},
   "source": [
    "## 1.2. Traitement de la variable 'Caracteristiques'"
   ]
  },
  {
   "cell_type": "code",
   "execution_count": 18,
   "metadata": {},
   "outputs": [
    {
     "data": {
      "text/plain": [
       "0    [{'Date de commercialisation': '01/09/2017'}, {'Date de fin de commercialisation': '15/04/2018'}, {'Durée de la garantie': '60 mois (kilométrage illimité)'}, {'Intervalles de révision en km': 'NC'}, {'Intervalles de révision maxi': 'NC'}, {'Longueur': '4,16 m'}, {'Largeur sans rétros': '1,80 m'}, {'Hauteur': '1,56 m'}, {'Empattement': '2,60 m'}, {'Volume de coffre mini/maxi': '361 l / 1 143 l'}, {'Nombre de portes': '5'}, {'Nombre de places assises': '5'}, {'Poids à vide': '1 308 kg'}, {'Motorisation': 'Essence'}, {'Puissance fiscale': '6 CV'}, {'Moteur': ' 3 cylindres en ligne, 12 soupapes'}, {'Cylindrée': '998 cm3'}, {'Puissance': '120 ch à 6 000 trs/min'}, {'Couple': '172 Nm à 1 500 trs/min'}, {'Type de suralimentation': 'turbo'}, {'Boîte de vitesse, Nb de rapports': 'Mécanique à 6 rapports'}, {'Roues motrices': 'AV'}, {'Vitesse maxi': '181 km/h'}, {'0 à 100 km/h': '12 sec'}, {'Consommation urbaine': '6,30 l / 100 km'}, {'Consommation extra-urbaine': '5 l / 100 km'}, {'Consommation mixte': '5,40 l / 100 km'}, {'Volume du réservoir': '50 l'}, {'Emission de CO2 (NEDC)': '125 g/km'}, {'Bonus / Malus écologique': '--'}, {'NormeEuro': 'EU6'}, {'Suspension avant': 'jambe de force'}, {'Suspension arrière': 'essieu torsionnel'}, {'Taille des pneus avant': '235/45/18'}, {'Taille des pneus arrière': '235/45/18'}, {'Roue de secours': 'NC'}, {'Freins à disque': '4'}, {'Diamètre de braquage entre murs': 'NC'}, {'Diamètre de braquage entre trottoirs': '10,60 m'}, {\"Angle d'attaque\": 'NC'}, {'Angle de fuite': 'NC'}, {'Blocage de différentiel': 'non'}]\n",
       "Name: caracteristiques, dtype: object"
      ]
     },
     "execution_count": 18,
     "metadata": {},
     "output_type": "execute_result"
    }
   ],
   "source": [
    "# Visialisation d'un échantillon\n",
    "caradisiac_dataset['caracteristiques'].head(1)"
   ]
  },
  {
   "cell_type": "markdown",
   "metadata": {},
   "source": [
    "La variable 'Caracteristiques' est sous forme d'une liste de dictionnaires représentées comme des Objets (strings) sous le dataframe.\n",
    "Ainsi, il faut transformer cette variable vers le format Json afin de faciliter sa manipulation. <br>\n",
    "**Le but est de spliter la variable *caracteristiques* en plusieurs variables telles que : Date de commercialisation, Date de fin de commercialisatin, Puissance, Motorisation, Nombre de places assises, Emission de CO2 ....etc.**"
   ]
  },
  {
   "cell_type": "code",
   "execution_count": 548,
   "metadata": {},
   "outputs": [
    {
     "data": {
      "text/plain": [
       "1111"
      ]
     },
     "execution_count": 548,
     "metadata": {},
     "output_type": "execute_result"
    }
   ],
   "source": [
    "# Comptage du nombre de versions qui contiennent des champs avec \"\\\\xa\".\n",
    "# Il faut remplacer \"\\\\xa\" par le vide car cela crée des erreurs lors de la conversion vers le format Json. \n",
    "# problème du backslash\n",
    "\n",
    "#III (2) SPORTBACK 40 E-TRON DESIGN LUXE S TRONIC\n",
    "#III (2) SPORTBACK 40 E-TRON BUSINESS LINE S TRONIC\n",
    "# .... etc.\n",
    "caradisiac_dataset_dict = caradisiac_dataset.to_dict(orient='records')\n",
    "delete = []\n",
    "for elm in caradisiac_dataset_dict:\n",
    "    if elm['caracteristiques'].find(\"\\\\xa\")!=-1:\n",
    "        delete.append(elm['version_name'])\n",
    "len(delete)"
   ]
  },
  {
   "cell_type": "markdown",
   "metadata": {},
   "source": [
    "### 1.2.1. Convertion vers le format Json"
   ]
  },
  {
   "cell_type": "code",
   "execution_count": 5,
   "metadata": {},
   "outputs": [],
   "source": [
    "# Remplacer les ' par des \" afin que la conversion vers le Json soit possible\n",
    "caradisiac_dataset['caracteristiques'] = caradisiac_dataset['caracteristiques'].str.replace(r'{\\'', '{\"',  regex=True)#.replace(\"[\", \"\").replace(\"]\",\"\")\n",
    "caradisiac_dataset['caracteristiques'] = caradisiac_dataset['caracteristiques'].str.replace(r'\\'}', '\"}', regex=True)#.replace(\"[\", \"\").replace(\"]\",\"\")\n",
    "\n",
    "caradisiac_dataset['caracteristiques'] = caradisiac_dataset['caracteristiques'].str.replace(r' \\'', ' \"',  regex=True)#.replace(\"[\", \"\").replace(\"]\",\"\")\n",
    "caradisiac_dataset['caracteristiques'] = caradisiac_dataset['caracteristiques'].str.replace(r'\\':', '\":',  regex=True)#.replace(\"[\", \"\").replace(\"]\",\"\")\n",
    "\n",
    "# Remplacer \"\\\\xa\" par le vide car cela crée des erreurs lors de la conversion vers le format Json  \n",
    "# à cause des backslash\n",
    "caradisiac_dataset['caracteristiques'] = caradisiac_dataset['caracteristiques'].str.replace(r'\\\\xa0', '',  regex=True)#.replace(\"[\", \"\").replace(\"]\",\"\")\n",
    "\n",
    "# Conversion vers Json\n",
    "caradisiac_dataset['caracteristiques'] = caradisiac_dataset.caracteristiques.apply(json.loads)"
   ]
  },
  {
   "cell_type": "markdown",
   "metadata": {},
   "source": [
    "### 1.2.2. Récupération de la liste des sous-champs"
   ]
  },
  {
   "cell_type": "code",
   "execution_count": 23,
   "metadata": {},
   "outputs": [],
   "source": [
    "# Conversion du dataset au format dictionnaire\n",
    "caradisiac_dataset_dict = caradisiac_dataset.to_dict(orient='records')\n",
    "\n",
    "keys_all = []\n",
    "i= 0\n",
    "\n",
    "# récuperer toutes les keys du champs 'caracteristiques'\n",
    "for elm in caradisiac_dataset_dict:\n",
    "    keys = (dict(ChainMap(*elm['caracteristiques']))).keys()\n",
    "    keys_all.append(list(keys))\n",
    "    \n",
    "keys_all = np.concatenate(keys_all).ravel().tolist()\n",
    "keys_all = set(keys_all)"
   ]
  },
  {
   "cell_type": "code",
   "execution_count": 27,
   "metadata": {},
   "outputs": [
    {
     "name": "stdout",
     "output_type": "stream",
     "text": [
      "Il y a 55 variables \n",
      "\n",
      "Liste des variables: \n",
      "{\"Angle d'attaque\", 'Consommation extra-urbaine', 'Volume de coffre mini/maxi', 'Taille des pneus arrière', 'Type de suralimentation', 'Position', 'Roue de secours', 'Roues motrices', 'Poids à vide', 'Location batterie', 'Caractéristiques moteur N°1', 'Date de fin de commercialisation', 'Norme Euro', 'Date de commercialisation', 'Intervalles de révision maxi', 'Consommation urbaine', 'Cylindrée', 'Taille des pneus avant', 'Direction', 'Angle de fuite', 'Emission de CO2 (NEDC)', 'Caractéristiques moteur N°2', 'Suspension arrière', 'Couple cumulé', 'Consommation mixte', 'Vitesse maxi', 'Largeur sans rétros', 'Boîte de vitesse, Nb de rapports', 'Suspension avant', 'Blocage de différentiel', 'Durée de la garantie', 'Type batterie', 'Durée de charge', 'Diamètre de braquage entre murs', 'Nombre de places assises', 'NormeEuro', 'Moteur', 'Freins à disque', 'Autonomie en electrique', 'Volume du réservoir', 'Empattement', 'Capacité batterie', 'Nombre de moteurs', 'Puissance fiscale', 'Longueur', 'Nombre de portes', 'Caractéristiques moteur', 'Bonus / Malus écologique', 'Puissance', 'Diamètre de braquage entre trottoirs', 'Hauteur', 'Intervalles de révision en km', 'Couple', 'Motorisation', '0 à 100 km/h'}\n"
     ]
    }
   ],
   "source": [
    "print(\"Il y a %d variables \\n\"% (len(keys_all)))\n",
    "print(\"Liste des variables: \")\n",
    "print(keys_all)"
   ]
  },
  {
   "cell_type": "code",
   "execution_count": 6,
   "metadata": {},
   "outputs": [],
   "source": [
    "# Dictionnaire contenant les varibales présentes dans le champs 'caracteristiques' avec un renommage\n",
    "car_cols={'Blocage de différentiel' :  'blockage_differentiel',\n",
    "'Diamètre de braquage entre trottoirs' :  'diametre_braquage_entre_trottoirs',\n",
    "'Diamètre de braquage entre murs' :  'diametre_braquage_entre_murs',\n",
    "'Freins à disque' : 'freins_disque' ,\n",
    "'Roue de secours' :  'Roue_secours',\n",
    "'Taille des pneus arrière' :  'Taille_pneus_arriere',\n",
    "'Taille des pneus avant' :  'Taille_pneus_avant',\n",
    "'Suspension arrière' :  'Suspension_arriere',\n",
    "'Suspension avant' :  'Suspension_avant',\n",
    "'NormeEuro' :  'Norme_euro',\n",
    "'Bonus / Malus écologique' :  'Bonus_Malus_ecologique',\n",
    "'Emission de CO2 (NEDC)' :  'Emission_CO2_NEDC',\n",
    "'Volume du réservoir' :  'Volume_reservoir',\n",
    "'Consommation mixte' :  'Consommation_mixte',\n",
    "'Consommation extra-urbaine' :  'Consommation_extra_urbaine',\n",
    "'Consommation urbaine' :  'consommation_urbaine',\n",
    "'0 à 100 km/h' :  '0_a_100km_par_h',\n",
    "'Vitesse maxi' :  'Vitesse_maxi',\n",
    "'Roues motrices' :  'Roues_motrices',\n",
    "'Boîte de vitesse, Nb de rapports' :  'Boite_vitesse_Nb_rapports',\n",
    "'Type de suralimentation' :  'Type_suralimentation',\n",
    "'Couple' :  'Couple',\n",
    "'Puissance' :  'Puissance',\n",
    "'Cylindrée' :  'Cylindree',\n",
    "'Moteur' :  'Moteur',\n",
    "'Puissance fiscale' :  'Puissance_fiscale',\n",
    "'Motorisation' :  'Motorisation',\n",
    "'Poids à vide' :  'Poids_a_vide',\n",
    "'Nombre de places assises' :  'Nb_places_assises',\n",
    "'Nombre de portes' :  'Nombre_portes',\n",
    "'Volume de coffre mini/maxi' :  'Volume_coffre_mini/maxi' ,\n",
    "'Empattement' :  'Empattement',\n",
    "'Hauteur' :  'Hauteur',\n",
    "'Largeur sans rétros' :  'Largeur_sans_retros',\n",
    "'Longueur' :  'Longueur',\n",
    "'Intervalles de révision maxi' :  'Intervalles_revision_maxi',\n",
    "'Intervalles de révision en km' :  'Intervalles_revision_km',\n",
    "'Durée de la garantie' :  'Duree_garantie',\n",
    "'Date de fin de commercialisation' :  'Date_fin_commercialisation',\n",
    "'Date de commercialisation' :  'Date_commercialisation',\n",
    "'Angle dattaque' : 'Angle_attaque',\n",
    "'Angle de fuite' : 'Angle_ fuite',\n",
    "'Autonomie en electrique' : 'Autonomie_electrique',\n",
    "'Boîte de vitesse Nb de rapports' :  'Boite_vitesse_Nb_rapports',\n",
    "'Capacité batterie' : 'Capacite_ batterie',\n",
    "'Caractéristiques moteur' : 'Caracteristiques_moteur',\n",
    "'Caractéristiques moteur N°1' : 'Caractéristiques_moteurN_1',\n",
    "'Caractéristiques moteur N°2' : 'Caractéristiques_moteurN_2',\n",
    "'Couple cumulé' : 'Couple_cumule',\n",
    "'Direction' : 'Direction',\n",
    "'Durée de charge' : 'Duree_ charge',\n",
    "'Location batterie' : 'Location_ batterie',\n",
    "'Nombre de moteurs' : 'Nombre_moteurs',\n",
    "'Norme Euro' :  'Norme_euro',\n",
    "'Position' : 'Position',\n",
    "'Type batterie' : 'Type_batterie'}"
   ]
  },
  {
   "cell_type": "code",
   "execution_count": null,
   "metadata": {},
   "outputs": [],
   "source": [
    "# Création des variables aprtir du champs 'caracteristiques'\n",
    "for key, value in car_cols.items():\n",
    "    caradisiac_dataset[value] = caradisiac_dataset.apply(lambda row: dict(ChainMap(*row['caracteristiques'])).get(key), axis=1)\n",
    "    \n",
    "# Suppression de la variable 'caracteristiques'\n",
    "caradisiac_dataset.drop(columns=\"caracteristiques\", inplace=True)"
   ]
  },
  {
   "cell_type": "code",
   "execution_count": 605,
   "metadata": {
    "scrolled": true
   },
   "outputs": [
    {
     "name": "stdout",
     "output_type": "stream",
     "text": [
      "<class 'pandas.core.frame.DataFrame'>\n",
      "RangeIndex: 139047 entries, 0 to 139046\n",
      "Data columns (total 63 columns):\n",
      "brand                                139047 non-null object\n",
      "time                                 139047 non-null object\n",
      "model_gamme                          139047 non-null object\n",
      "model                                139047 non-null object\n",
      "year                                 139047 non-null int64\n",
      "version_name                         139047 non-null object\n",
      "prix                                 139045 non-null object\n",
      "equips_all                           139047 non-null object\n",
      "options                              139047 non-null object\n",
      "blockage_differentiel                139045 non-null object\n",
      "diametre_braquage_entre_trottoirs    139045 non-null object\n",
      "diametre_braquage_entre_murs         139045 non-null object\n",
      "freins_disque                        139045 non-null object\n",
      "Roue_secours                         139045 non-null object\n",
      "Taille_pneus_arriere                 139045 non-null object\n",
      "Taille_pneus_avant                   139045 non-null object\n",
      "Suspension_arriere                   139045 non-null object\n",
      "Suspension_avant                     139045 non-null object\n",
      "Norme_euro                           756 non-null object\n",
      "Bonus_Malus_ecologique               139045 non-null object\n",
      "Emission_CO2_NEDC                    139045 non-null object\n",
      "Volume_reservoir                     138289 non-null object\n",
      "Consommation_mixte                   138289 non-null object\n",
      "Consommation_extra_urbaine           138289 non-null object\n",
      "consommation_urbaine                 138289 non-null object\n",
      "0_a_100km_par_h                      139045 non-null object\n",
      "Vitesse_maxi                         139045 non-null object\n",
      "Roues_motrices                       138289 non-null object\n",
      "Boite_vitesse_Nb_rapports            0 non-null object\n",
      "Type_suralimentation                 138289 non-null object\n",
      "Couple                               137550 non-null object\n",
      "Puissance                            138791 non-null object\n",
      "Cylindree                            138289 non-null object\n",
      "Moteur                               138289 non-null object\n",
      "Puissance_fiscale                    139045 non-null object\n",
      "Motorisation                         139045 non-null object\n",
      "Poids_a_vide                         139045 non-null object\n",
      "Nb_places_assises                    139045 non-null object\n",
      "Nombre_portes                        139045 non-null object\n",
      "Volume_coffre_mini/maxi              139045 non-null object\n",
      "Empattement                          139045 non-null object\n",
      "Hauteur                              139045 non-null object\n",
      "Largeur_sans_retros                  139045 non-null object\n",
      "Longueur                             139045 non-null object\n",
      "Intervalles_revision_maxi            139045 non-null object\n",
      "Intervalles_revision_km              139045 non-null object\n",
      "Duree_garantie                       139045 non-null object\n",
      "Date_fin_commercialisation           139045 non-null object\n",
      "Date_commercialisation               139045 non-null object\n",
      "Angle_attaque                        0 non-null object\n",
      "Angle_ fuite                         14732 non-null object\n",
      "Autonomie_electrique                 1365 non-null object\n",
      "Capacite_ batterie                   1365 non-null object\n",
      "Caracteristiques_moteur              957 non-null object\n",
      "Caractéristiques_moteurN_1           88 non-null object\n",
      "Caractéristiques_moteurN_2           88 non-null object\n",
      "Couple_cumule                        1495 non-null object\n",
      "Direction                            1495 non-null object\n",
      "Duree_ charge                        1365 non-null object\n",
      "Location_ batterie                   756 non-null object\n",
      "Nombre_moteurs                       1365 non-null object\n",
      "Position                             1495 non-null object\n",
      "Type_batterie                        756 non-null object\n",
      "dtypes: int64(1), object(62)\n",
      "memory usage: 66.8+ MB\n"
     ]
    }
   ],
   "source": [
    "caradisiac_dataset.info()"
   ]
  },
  {
   "cell_type": "markdown",
   "metadata": {},
   "source": [
    "## 1.3. Les variables Prix & time"
   ]
  },
  {
   "cell_type": "code",
   "execution_count": 602,
   "metadata": {},
   "outputs": [],
   "source": [
    "caradisiac_dataset['prix'] = caradisiac_dataset['prix'].str.replace('€', '').str.replace(' ', '')\n",
    "\n",
    "caradisiac_dataset.loc[caradisiac_dataset['time']==\"Les modèles d'aujourd'hui\", 'time'] = \"aujourdhui\"\n",
    "caradisiac_dataset.loc[caradisiac_dataset['time']==\"Les modèles d'aujourd'hui\", 'time'] = \"hier\"\n",
    "caradisiac_dataset.loc[caradisiac_dataset['time']==\"Les modèles d'aujourd'hui\", 'time'] = \"autre\""
   ]
  },
  {
   "cell_type": "markdown",
   "metadata": {},
   "source": [
    "### Save"
   ]
  },
  {
   "cell_type": "code",
   "execution_count": 609,
   "metadata": {},
   "outputs": [],
   "source": [
    "all_pages.to_csv(\"Car_versions_all.csv\")"
   ]
  },
  {
   "cell_type": "markdown",
   "metadata": {},
   "source": [
    "## 2. Merging des datasets"
   ]
  },
  {
   "cell_type": "markdown",
   "metadata": {},
   "source": [
    "Pour le merge, nous avons essayé d'utiliser la librarie FuzzyWuzzy. Mais, elle est très chronophage vu les tailles de nos datasets. <br>\n",
    "Ainsi, nous avons utilisé une méthode de NLP basée sur TF-IDF décrite dans [ici](https://towardsdatascience.com/fuzzy-matching-at-scale-84f2bfd0c536), \n",
    " (Voir le [code](https://colab.research.google.com/drive/1qhBwDRitrgapNhyaHGxCW8uKK5SWJblW#scrollTo=xo-X_nds97UN&forceEdit=true&sandboxMode=true)).\n",
    " \n",
    "La méthode basée sur TF-IDF a pris plus de 8 heures pour faire le matching. D'après la rérérence cette méthode est approximativement 66 000 fois plus rapide que le FuzzyWuzzy (nos tests sur quelques echantillons ont peut le confirmer)"
   ]
  },
  {
   "cell_type": "code",
   "execution_count": 31,
   "metadata": {},
   "outputs": [],
   "source": [
    "import pandas as pd\n",
    "from sklearn.metrics.pairwise import cosine_similarity\n",
    "from sklearn.feature_extraction.text import TfidfVectorizer\n",
    "from sklearn.neighbors import NearestNeighbors\n",
    "\n",
    "import re\n",
    "\n",
    "#!pip install ftfy # amazing text cleaning for decode issues..\n",
    "from ftfy import fix_text\n",
    "\n",
    "pd.set_option('max_colwidth', 10000)"
   ]
  },
  {
   "cell_type": "code",
   "execution_count": 32,
   "metadata": {},
   "outputs": [
    {
     "name": "stderr",
     "output_type": "stream",
     "text": [
      "/anaconda3/envs/Mask_RCNN_env/lib/python3.7/site-packages/IPython/core/interactiveshell.py:3063: DtypeWarning: Columns (54,55,56,57,58,61,62) have mixed types.Specify dtype option on import or set low_memory=False.\n",
      "  interactivity=interactivity, compiler=compiler, result=result)\n"
     ]
    }
   ],
   "source": [
    "datasets_path = r'../Datasets/'\n",
    "caradisiac_dataset = pd.read_csv(datasets_path+'scraped_Car_versions.csv')\n",
    "Data_cars = pd.read_csv(datasets_path+'Data_cars.csv')"
   ]
  },
  {
   "cell_type": "markdown",
   "metadata": {},
   "source": [
    "### 2.1. Création de la variable du merge 'version'"
   ]
  },
  {
   "cell_type": "markdown",
   "metadata": {},
   "source": [
    "Pour Data_cars, on extrait d'abord la variable ***version*** du **Description**. Puis, on concatène les variables :  **Make**, **Model** et **version** afin d'avoir en sortie : **make_model_version**,<br>\n",
    "Pour caradisiac_dataset, on concatène les variables : **model** et **version_name** afin d'avoir en sortie: **model_version**,<br>\n",
    "\n",
    "==> Ainsi, nous obtenons les variables **make_model_version** et **model_version** qui sont assez homogènes pour réaliser le matching entre les deux datasets."
   ]
  },
  {
   "cell_type": "code",
   "execution_count": 34,
   "metadata": {},
   "outputs": [],
   "source": [
    "Data_cars['version'] = Data_cars['Description'].str.extract(r'(\\bversion\\b.*?,)', expand=True)       \n",
    "Data_cars['version'] = Data_cars['version'].str.replace(\"version: \", \"\")\n",
    "Data_cars['version'] = Data_cars['version'].str.replace(\",\", \"\")\n",
    "\n",
    "Data_cars['make_model_version'] = Data_cars['Make'] + \" \" + Data_cars['Model'] + \" \" + Data_cars['version']\n",
    "\n",
    "caradisiac_dataset['model_version'] = caradisiac_dataset['model'] + \" \" +caradisiac_dataset['version_name']\n",
    "\n",
    "# Suppression des modèles qui n'existent pas dans le dataframe 'data' (afin de réduire la taille du 'scraped_data')\n",
    "makes = Data_cars['Make'].unique()\n",
    "caradisiac_dataset_makes = caradisiac_dataset.loc[caradisiac_dataset['brand'].str.upper().isin(makes)]"
   ]
  },
  {
   "cell_type": "code",
   "execution_count": 35,
   "metadata": {},
   "outputs": [
    {
     "data": {
      "text/html": [
       "<div>\n",
       "<style scoped>\n",
       "    .dataframe tbody tr th:only-of-type {\n",
       "        vertical-align: middle;\n",
       "    }\n",
       "\n",
       "    .dataframe tbody tr th {\n",
       "        vertical-align: top;\n",
       "    }\n",
       "\n",
       "    .dataframe thead th {\n",
       "        text-align: right;\n",
       "    }\n",
       "</style>\n",
       "<table border=\"1\" class=\"dataframe\">\n",
       "  <thead>\n",
       "    <tr style=\"text-align: right;\">\n",
       "      <th></th>\n",
       "      <th>Make</th>\n",
       "      <th>Model</th>\n",
       "      <th>version</th>\n",
       "      <th>make_model_version</th>\n",
       "    </tr>\n",
       "  </thead>\n",
       "  <tbody>\n",
       "    <tr>\n",
       "      <th>0</th>\n",
       "      <td>PEUGEOT</td>\n",
       "      <td>308</td>\n",
       "      <td>1.6 HDI FAP 92CH BUSINESS 5P</td>\n",
       "      <td>PEUGEOT 308 1.6 HDI FAP 92CH BUSINESS 5P</td>\n",
       "    </tr>\n",
       "  </tbody>\n",
       "</table>\n",
       "</div>"
      ],
      "text/plain": [
       "      Make Model                       version  \\\n",
       "0  PEUGEOT   308  1.6 HDI FAP 92CH BUSINESS 5P   \n",
       "\n",
       "                         make_model_version  \n",
       "0  PEUGEOT 308 1.6 HDI FAP 92CH BUSINESS 5P  "
      ]
     },
     "execution_count": 35,
     "metadata": {},
     "output_type": "execute_result"
    }
   ],
   "source": [
    "Data_cars[['Make', 'Model','version', 'make_model_version']].head(1)"
   ]
  },
  {
   "cell_type": "code",
   "execution_count": 36,
   "metadata": {},
   "outputs": [
    {
     "data": {
      "text/html": [
       "<div>\n",
       "<style scoped>\n",
       "    .dataframe tbody tr th:only-of-type {\n",
       "        vertical-align: middle;\n",
       "    }\n",
       "\n",
       "    .dataframe tbody tr th {\n",
       "        vertical-align: top;\n",
       "    }\n",
       "\n",
       "    .dataframe thead th {\n",
       "        text-align: right;\n",
       "    }\n",
       "</style>\n",
       "<table border=\"1\" class=\"dataframe\">\n",
       "  <thead>\n",
       "    <tr style=\"text-align: right;\">\n",
       "      <th></th>\n",
       "      <th>model</th>\n",
       "      <th>version_name</th>\n",
       "      <th>model_version</th>\n",
       "    </tr>\n",
       "  </thead>\n",
       "  <tbody>\n",
       "    <tr>\n",
       "      <th>0</th>\n",
       "      <td>abarth 124</td>\n",
       "      <td>II 1.4 TURBO 170</td>\n",
       "      <td>abarth 124 II 1.4 TURBO 170</td>\n",
       "    </tr>\n",
       "  </tbody>\n",
       "</table>\n",
       "</div>"
      ],
      "text/plain": [
       "        model      version_name                model_version\n",
       "0  abarth 124  II 1.4 TURBO 170  abarth 124 II 1.4 TURBO 170"
      ]
     },
     "execution_count": 36,
     "metadata": {},
     "output_type": "execute_result"
    }
   ],
   "source": [
    "caradisiac_dataset_makes[['model', 'version_name' ,'model_version']].head(1)"
   ]
  },
  {
   "cell_type": "markdown",
   "metadata": {},
   "source": [
    "### 2.2. Déclaration des fonctions de ngrams et GetNeaestN\n",
    "Voir [ici](https://towardsdatascience.com/fuzzy-matching-at-scale-84f2bfd0c536) pour plus de détails."
   ]
  },
  {
   "cell_type": "code",
   "execution_count": null,
   "metadata": {},
   "outputs": [],
   "source": [
    "def ngrams(string, n=3):\n",
    "    string = fix_text(string) # fix text\n",
    "    string = string.encode(\"ascii\", errors=\"ignore\").decode() #remove non ascii chars\n",
    "    string = string.lower()\n",
    "    chars_to_remove = [\"|\",\"[\",\"]\",\"{\",\"}\",\"'\"]\n",
    "    rx = '[' + re.escape(''.join(chars_to_remove)) + ']'\n",
    "    string = re.sub(rx, '', string)\n",
    "    string = string.replace('&', 'and')\n",
    "    string = string.replace(',', ' ')\n",
    "    string = string.replace('-', ' ')\n",
    "    string = string.title() # normalise case - capital at start of each word\n",
    "    string = re.sub(' +',' ',string).strip() # get rid of multiple spaces and replace with a single\n",
    "    string = ' '+ string +' ' # pad names for ngrams...\n",
    "    string = re.sub(r'[,-./]|\\sBD',r'', string)\n",
    "    ngrams = zip(*[string[i:] for i in range(n)])\n",
    "    return [''.join(ngram) for ngram in ngrams]\n",
    "\n",
    "###matching query:\n",
    "def getNearestN(query):\n",
    "    queryTFIDF_ = vectorizer.transform(query)\n",
    "    distances, indices = nbrs.kneighbors(queryTFIDF_)\n",
    "    return distances, indices"
   ]
  },
  {
   "cell_type": "markdown",
   "metadata": {},
   "source": [
    "### 2.3. Matching\n",
    "Création d'une dataframe qui match entre **make_model_version** du Data_cars et **model_version** du caradisiac_dataset. Cette dataframe va servir d'intermediaire pour le merge entre Data_cars et caradisiac_dataset."
   ]
  },
  {
   "cell_type": "code",
   "execution_count": null,
   "metadata": {},
   "outputs": [],
   "source": [
    "# Vecorisation des données \n",
    "vectorizer = TfidfVectorizer(min_df=1, analyzer=ngrams, lowercase=False)\n",
    "model_version_scraping = scraped_data_makes['model_version'].unique()\n",
    "#org_names = data_test['make_model_version'].unique()\n",
    "tfidf = vectorizer.fit_transform(model_version_scraping)\n",
    "\n",
    "nbrs = NearestNeighbors(n_neighbors=1, n_jobs=-1).fit(tfidf)"
   ]
  },
  {
   "cell_type": "code",
   "execution_count": null,
   "metadata": {},
   "outputs": [],
   "source": [
    "unique_org = data['make_model_version'].values # colone à matcher avec 'model_version' du 'scraped_data'\n",
    "\n",
    "# réalisation du neast N\n",
    "distances, indices = getNearestN(unique_org)\n",
    "\n",
    "unique_org = list(unique_org) #need to convert back to a list\n",
    "\n",
    "# recherche des matches\n",
    "matches = []\n",
    "\n",
    "for i,j in enumerate(indices):\n",
    "    temp = [round(distances[i][0],2), scraped_data_makes.values[j][0][64],unique_org[i]]\n",
    "    matches.append(temp)\n",
    "\n",
    "# Construction du dataframe des matches \n",
    "matches = pd.DataFrame(matches, columns=['Match confidence (lower is better)','scraped_version','Origional_data'])"
   ]
  },
  {
   "cell_type": "markdown",
   "metadata": {},
   "source": [
    "**Plus de 8 heures d'exécution**"
   ]
  },
  {
   "cell_type": "code",
   "execution_count": null,
   "metadata": {},
   "outputs": [],
   "source": [
    "# Sauvegarde du matches\n",
    "matches.to_csv(datasets_path+'matches.csv')"
   ]
  },
  {
   "cell_type": "code",
   "execution_count": 39,
   "metadata": {},
   "outputs": [
    {
     "data": {
      "text/html": [
       "<div>\n",
       "<style scoped>\n",
       "    .dataframe tbody tr th:only-of-type {\n",
       "        vertical-align: middle;\n",
       "    }\n",
       "\n",
       "    .dataframe tbody tr th {\n",
       "        vertical-align: top;\n",
       "    }\n",
       "\n",
       "    .dataframe thead th {\n",
       "        text-align: right;\n",
       "    }\n",
       "</style>\n",
       "<table border=\"1\" class=\"dataframe\">\n",
       "  <thead>\n",
       "    <tr style=\"text-align: right;\">\n",
       "      <th></th>\n",
       "      <th>Unnamed: 0</th>\n",
       "      <th>Match confidence (lower is better)</th>\n",
       "      <th>scraped_version</th>\n",
       "      <th>Origional_data</th>\n",
       "    </tr>\n",
       "  </thead>\n",
       "  <tbody>\n",
       "    <tr>\n",
       "      <th>0</th>\n",
       "      <td>0</td>\n",
       "      <td>0.76</td>\n",
       "      <td>peugeot 308 1.6 HDI 92 BUSINESS 5P</td>\n",
       "      <td>PEUGEOT 308 1.6 HDI FAP 92CH BUSINESS 5P</td>\n",
       "    </tr>\n",
       "    <tr>\n",
       "      <th>1</th>\n",
       "      <td>1</td>\n",
       "      <td>0.33</td>\n",
       "      <td>bmw x6 f16 (F16) XDRIVE30D 258 M SPORT BVA8</td>\n",
       "      <td>BMW X6 (F16) XDRIVE30D 258 M SPORT BVA8</td>\n",
       "    </tr>\n",
       "    <tr>\n",
       "      <th>2</th>\n",
       "      <td>2</td>\n",
       "      <td>0.48</td>\n",
       "      <td>audi rs6 (3e generation) avant III AVANT 4.0 TFSI 560 QUATTRO TIPTRONIC</td>\n",
       "      <td>AUDI RS6 III AVANT 4.0 TFSI 560 QUATTRO TIPTRONIC</td>\n",
       "    </tr>\n",
       "    <tr>\n",
       "      <th>3</th>\n",
       "      <td>3</td>\n",
       "      <td>0.00</td>\n",
       "      <td>ford ka 1.3 70 FUN</td>\n",
       "      <td>FORD KA 1.3 70 FUN</td>\n",
       "    </tr>\n",
       "    <tr>\n",
       "      <th>4</th>\n",
       "      <td>4</td>\n",
       "      <td>0.46</td>\n",
       "      <td>fiat tipo 2 sw II SW 1.4 95 POP</td>\n",
       "      <td>FIAT TIPO II SW 1.4 95 POP</td>\n",
       "    </tr>\n",
       "  </tbody>\n",
       "</table>\n",
       "</div>"
      ],
      "text/plain": [
       "   Unnamed: 0  Match confidence (lower is better)  \\\n",
       "0           0                                0.76   \n",
       "1           1                                0.33   \n",
       "2           2                                0.48   \n",
       "3           3                                0.00   \n",
       "4           4                                0.46   \n",
       "\n",
       "                                                           scraped_version  \\\n",
       "0                                       peugeot 308 1.6 HDI 92 BUSINESS 5P   \n",
       "1                              bmw x6 f16 (F16) XDRIVE30D 258 M SPORT BVA8   \n",
       "2  audi rs6 (3e generation) avant III AVANT 4.0 TFSI 560 QUATTRO TIPTRONIC   \n",
       "3                                                       ford ka 1.3 70 FUN   \n",
       "4                                          fiat tipo 2 sw II SW 1.4 95 POP   \n",
       "\n",
       "                                      Origional_data  \n",
       "0           PEUGEOT 308 1.6 HDI FAP 92CH BUSINESS 5P  \n",
       "1            BMW X6 (F16) XDRIVE30D 258 M SPORT BVA8  \n",
       "2  AUDI RS6 III AVANT 4.0 TFSI 560 QUATTRO TIPTRONIC  \n",
       "3                                 FORD KA 1.3 70 FUN  \n",
       "4                         FIAT TIPO II SW 1.4 95 POP  "
      ]
     },
     "execution_count": 39,
     "metadata": {},
     "output_type": "execute_result"
    }
   ],
   "source": [
    "matches.head(5)"
   ]
  },
  {
   "cell_type": "markdown",
   "metadata": {},
   "source": [
    "#### Quelques vérifications"
   ]
  },
  {
   "cell_type": "code",
   "execution_count": 40,
   "metadata": {},
   "outputs": [
    {
     "data": {
      "text/plain": [
       "'audi a4 (4e generation) avant IV (2) AVANT 2.0 TDI 177 BUSINESS LINE QUATTRO S TRONIC'"
      ]
     },
     "execution_count": 40,
     "metadata": {},
     "output_type": "execute_result"
    }
   ],
   "source": [
    "matches['scraped_version'][166690]"
   ]
  },
  {
   "cell_type": "code",
   "execution_count": 41,
   "metadata": {},
   "outputs": [
    {
     "data": {
      "text/plain": [
       "'AUDI A4 IV (2) AVANT 2.0 TDI 177 BUSINESS LINE QUATTRO S TRONIC'"
      ]
     },
     "execution_count": 41,
     "metadata": {},
     "output_type": "execute_result"
    }
   ],
   "source": [
    "matches['Origional_data'][166690]"
   ]
  },
  {
   "cell_type": "markdown",
   "metadata": {},
   "source": [
    "Le matching est bien réalisé"
   ]
  },
  {
   "cell_type": "markdown",
   "metadata": {},
   "source": [
    "#### Suppression des doublons dans le match"
   ]
  },
  {
   "cell_type": "code",
   "execution_count": 50,
   "metadata": {},
   "outputs": [],
   "source": [
    "matches_unique = matches.drop_duplicates()"
   ]
  },
  {
   "cell_type": "markdown",
   "metadata": {},
   "source": [
    "### 2.4. Merge entre les datasets\n",
    "Nous utilisons le datasets **matches_unique** pour lier entre **Data_cars** et **caradisiac_dataset_makes**."
   ]
  },
  {
   "cell_type": "code",
   "execution_count": 44,
   "metadata": {},
   "outputs": [],
   "source": [
    "# 1er merge\n",
    "first_merge = pd.merge(Data_cars, matches_unique, left_on='make_model_version', right_on='Origional_data')"
   ]
  },
  {
   "cell_type": "code",
   "execution_count": null,
   "metadata": {},
   "outputs": [],
   "source": [
    "## 2eme merge\n",
    "second_merge = pd.merge(first_merge, caradisiac_dataset_makes, left_on='scraped_version', right_on='model_version')"
   ]
  },
  {
   "cell_type": "markdown",
   "metadata": {},
   "source": [
    "#### Suppression des colonnes redondantes"
   ]
  },
  {
   "cell_type": "code",
   "execution_count": null,
   "metadata": {},
   "outputs": [],
   "source": [
    "# Colonnes à supprimer\n",
    "col_del = ['Match confidence (lower is better)', 'scraped_version', 'Origional_data','make_model_version',\n",
    "'Unnamed: 0', 'model_version', 'year', 'brand', 'model']\n",
    "\n",
    "second_merge = second_merge.drop(columns=col_del)"
   ]
  },
  {
   "cell_type": "code",
   "execution_count": null,
   "metadata": {},
   "outputs": [],
   "source": [
    "# Colonnes à renommer\n",
    "col_rename = {'version_name':'version_name_scr', 'Price':'prix_occasion', 'prix':'prix_neuf'}\n",
    "data_merged = second_merge.rename(columns=col_rename)"
   ]
  },
  {
   "cell_type": "markdown",
   "metadata": {},
   "source": [
    "#### Save"
   ]
  },
  {
   "cell_type": "code",
   "execution_count": null,
   "metadata": {},
   "outputs": [],
   "source": [
    "data_merged.to_csv('../Datasets/Data_merged.csv')"
   ]
  },
  {
   "cell_type": "markdown",
   "metadata": {},
   "source": [
    "## 3. Prochaines étapes\n",
    "* Exploration du datasets final pour améliorer les performances du modèle de prediction basée sur le RandomForest du notebook **1_DataPreExploration**"
   ]
  }
 ],
 "metadata": {
  "kernelspec": {
   "display_name": "Python 3",
   "language": "python",
   "name": "python3"
  },
  "language_info": {
   "codemirror_mode": {
    "name": "ipython",
    "version": 3
   },
   "file_extension": ".py",
   "mimetype": "text/x-python",
   "name": "python",
   "nbconvert_exporter": "python",
   "pygments_lexer": "ipython3",
   "version": "3.7.6"
  }
 },
 "nbformat": 4,
 "nbformat_minor": 4
}
