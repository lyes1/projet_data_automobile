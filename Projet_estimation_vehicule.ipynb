{
 "cells": [
  {
   "cell_type": "markdown",
   "metadata": {},
   "source": [
    "Moteur : http://www.fiches-auto.fr/articles-auto/fonctionnement-d-une-auto/s-1350-savoir-lire-une-fiche-technique.php\n",
    "Couleur : https://code.peinturevoiture.fr/27595.html\n",
    "\n",
    "https://benalexkeen.com/mapping-categorical-data-in-pandas/\n",
    "\n",
    "Chevaux-vapeur: Ch, hp(horsepower), ps\n",
    "Cheval fiscal: cv"
   ]
  },
  {
   "cell_type": "code",
   "execution_count": 75,
   "metadata": {},
   "outputs": [],
   "source": [
    "# Importing required libraries.\n",
    "import pandas as pd\n",
    "import numpy as np\n",
    "import seaborn as sns #visualisation\n",
    "import matplotlib.pyplot as plt #visualisation\n",
    "import re\n",
    "%matplotlib inline \n",
    "sns.set(color_codes=True)\n",
    "\n",
    "#pd.set_option('display.max_rows', 1000)\n",
    "#pd.set_option('display.max_columns', 4)\n",
    "pd.set_option('max_colwidth', 10000)\n",
    "#pd.set_option('display.expand_frame_repr', False)\n",
    "#pd.set_option('display.max_rows', None)\n",
    "\n",
    "# https://regex101.com/\n",
    "# https://docs.python.org/3/library/re.html"
   ]
  },
  {
   "cell_type": "markdown",
   "metadata": {},
   "source": [
    "# I. Preprocessing des données"
   ]
  },
  {
   "cell_type": "code",
   "execution_count": 76,
   "metadata": {},
   "outputs": [],
   "source": [
    "df = pd.read_csv(\"../Data_cars.csv\")"
   ]
  },
  {
   "cell_type": "code",
   "execution_count": 77,
   "metadata": {},
   "outputs": [
    {
     "data": {
      "text/html": [
       "<div>\n",
       "<style scoped>\n",
       "    .dataframe tbody tr th:only-of-type {\n",
       "        vertical-align: middle;\n",
       "    }\n",
       "\n",
       "    .dataframe tbody tr th {\n",
       "        vertical-align: top;\n",
       "    }\n",
       "\n",
       "    .dataframe thead th {\n",
       "        text-align: right;\n",
       "    }\n",
       "</style>\n",
       "<table border=\"1\" class=\"dataframe\">\n",
       "  <thead>\n",
       "    <tr style=\"text-align: right;\">\n",
       "      <th></th>\n",
       "      <th>Price</th>\n",
       "      <th>Make</th>\n",
       "      <th>Model</th>\n",
       "      <th>Model_year</th>\n",
       "      <th>Mileage</th>\n",
       "      <th>Fuel</th>\n",
       "      <th>Gearbox</th>\n",
       "      <th>Online</th>\n",
       "      <th>Description</th>\n",
       "    </tr>\n",
       "  </thead>\n",
       "  <tbody>\n",
       "    <tr>\n",
       "      <th>0</th>\n",
       "      <td>11220.0</td>\n",
       "      <td>PEUGEOT</td>\n",
       "      <td>308</td>\n",
       "      <td>2014</td>\n",
       "      <td>94341.0 km</td>\n",
       "      <td>Diesel</td>\n",
       "      <td>mécanique</td>\n",
       "      <td>06/07/2018 à 3h47</td>\n",
       "      <td>modele: 308 (2E GENERATION), version: 1.6 HDI FAP 92CH BUSINESS 5P, puissance_fiscale: 4, portes: 5.0, options: banquette arrière 3 places;volant cuir;cache bagages;airbag frontal;banquette 1/3 - 2/3;sièges rang 2 rabattables à plat;vitres teintées;boucliers av et ar couleur caisse;phares av. de jour à LED;airbags rideaux;rétroviseurs électriques et dégivrants;siège conducteur avec réglage lombaire;vitres électriques;feux de freinage d'urgence;banquette rabattable;feux ar. à LED;AFU;contrôle de pression des pneus;airbags front. + lat.;blanc banquise;lampes de lecture à l'arrière;sièges réglables en hauteur;alarme d'oubli d'extinction des feux;EBD;volant sport;température extérieure;système audio;becquet;feux automatiques;fermeture électrique;ESP;fermeture électrique automatique;bacs de portes avant;anti patinage;accoudoir central avant;commandes du système audio au volant;fixations ISOFIX;poches d'aumonières;lampes de lecture à l'avant;lunette arrière dégivrante;essuie-glace arrière;ordinateur de bord;phares halogènes;climatisation;volant réglable en hauteur et profondeur;siège conducteur réglable hauteur;boite à gants réfrigérée;ABS;ceintures avant ajustables en hauteur;prise 12V;ecran tactile multifonction;FAP;3 ceintures ar. 3 points;ouverture des vitres séquentielle, couleur: BLANC BANQUISE</td>\n",
       "    </tr>\n",
       "    <tr>\n",
       "      <th>1</th>\n",
       "      <td>57526.0</td>\n",
       "      <td>BMW</td>\n",
       "      <td>X6</td>\n",
       "      <td>2015</td>\n",
       "      <td>39051.0 km</td>\n",
       "      <td>Diesel</td>\n",
       "      <td>automatique</td>\n",
       "      <td>03/04/2018 à 16h41</td>\n",
       "      <td>modele: X6 F16, version: (F16) XDRIVE30D 258 M SPORT BVA8, puissance_fiscale: 16, portes: 5.0, options: triangle de presignalisation et trousse de premiers secours;volant cuir;pack alu;affichage tête haute;GPS;appel d'urgence intelligent;prise 12v additionnelle;sieges advanced pour conducteur et passager avant;projecteurs antibrouillard;climatisation automatique multi zone;pack suspension adaptative;&amp;quotcarbonschwarz&amp;quot metallise;caméra de recul;finition m sport;jantes alu 20&amp;quot;pack innovation;kit fumeurs;rétroviseurs rabattables électriquement;shadow line brillant;information trafic en temps reel rtti (3ans);aide parking;contrôle de pression des pneus;système audio Harman Kardon;surround view;sièges électrique à mémoire;conciergerie (3 ans);fonctions &amp;quotma bmw a distance&amp;quot;pack safety;airbag passager desactivable via la cle;services connecteddrive (bmw online 3 ans + bmw apps);pack M;planche de bord en cuir;info trafic tmc;lave-phares;ciel de pavillon anthracite;services bmw connecteddrive;rétroviseur int. jour/nuit auto;tapis de sol;feux de route anti-eblouissement;pack advanced full led;boulons antivol de roues, couleur: Carbonschwarz metallise</td>\n",
       "    </tr>\n",
       "    <tr>\n",
       "      <th>2</th>\n",
       "      <td>80379.0</td>\n",
       "      <td>AUDI</td>\n",
       "      <td>RS6</td>\n",
       "      <td>2014</td>\n",
       "      <td>75381.0 km</td>\n",
       "      <td>Essence</td>\n",
       "      <td>automatique</td>\n",
       "      <td>30/07/2018 à 1h55</td>\n",
       "      <td>modele: RS6 (3E GENERATION) AVANT, version: III AVANT 4.0 TFSI 560 QUATTRO TIPTRONIC, puissance_fiscale: 47, portes: 5.0, options: banquette arrière 3 places;écran tactile;témoin de bouclage des ceintures av;palettes au volant;volant cuir;régulateur limiteur de vitesse;commande climatisation ar;pack dynamique;cache bagages;sorties d'échappement chromées;affichage tête haute;rétroviseurs électriques;airbag frontal;banquette 1/3 - 2/3;vision périphérique (360°);commandes vocales;vitres teintées;GPS;services connectés;prise audio USB;stations de webradio;poignées ton carrosserie;pare-brise thermique;système d'éclairage intelligent;régulateur de vitesse;siège conducteur à mémoire;inserts de porte carbone;rétroviseurs extérieurs à mémoire;carte main libre;jantes alu;siège passager à réglages électriques;boucliers av et ar couleur caisse;phares av. de jour à LED;airbags rideaux;colonne de direction électr. à mémoire;applications bois noir avec inserts alu;accoudoir central arrière;climatisation automatique multi zone;siège conducteur avec réglage lombaire;vitres électriques;feux de freinage d'urgence;eclairage d'ambiance;toit ouvrant rang 1 entrebaillant;siège passager chauffant;caméra de recul;inserts de tableau de bord carbone;banquette rabattable;filtre à pollen;siège passager avec réglage lombaire;tmc;kit téléphone main libre;rétroviseurs rabattables électriquement;porte-gobelets avant;syst. intelligent gestion des cylindres;répétiteurs de clignotant dans rétro ext;kit fumeur;sièges sport;ecran multifonction couleur;pack carbone;aide parking;AFU;contrôle de pression des pneus;airbags front. + lat.;sièges réglables en hauteur;catadioptres actifs;disque dur multimédia;jas 5 branches doubles noires285/30 r21;essuie-glaces automatiques;EBD;volant sport;température extérieure;système audio MP3;système Start &amp; Stop;système audio;becquet;système d'échappement sport;châssis sport;feux automatiques;fermeture électrique;ceinture de vitrage chromée;noir panthère;ESP;fermeture électrique automatique;bacs de portes avant;radar anti-collision;porte-gobelets arrière;sac à ski;système DVD;miroir de courtoisie conducteur éclairé;anti patinage;accoudoir central avant;commandes du système audio au volant;fixations ISOFIX;siège conducteur chauffant;aide au démarrage en côte;lampes de lecture à l'avant;appel d'urgence localisé;lunette arrière dégivrante;suspension sport;essuie-glace arrière;eclairage statique d'intersection;ordinateur de bord;inserts de porte cuir;rétroviseurs dégivrants;système audio CD;toit ouvrant;volant réglable en hauteur et profondeur;phares adaptatifs;eclairage au sol;barres de toit;traceur GPS;siège conducteur réglable hauteur;kit téléphone main libre bluetooth;boite à gants réfrigérée;ABS;ceintures avant ajustables en hauteur;prise 12V;valcona embossé rs 6 argent lunaire;appel d'assistance localisé;volume automatique de la radio;compte tours;lave-phares;chauffage des sièges avant et arrière;boîtiers de rétros en carbone;3 ceintures ar. 3 points;borne wi-fi;siège conducteur électrique;echappement à double sortie;rétroviseur int. jour/nuit auto;système audio carte SD;alarme;alarme volumétrique;miroir de courtoisie passager éclairé;alarme périmétrique;airbags latéraux aux places arrière;calandre chromée;blocage de différentiel;volant multifonctions;ouverture des vitres séquentielle;toit ouvrant panoramique, couleur: NOIR PANTHERE CRISTAL</td>\n",
       "    </tr>\n",
       "    <tr>\n",
       "      <th>3</th>\n",
       "      <td>2830.0</td>\n",
       "      <td>FORD</td>\n",
       "      <td>KA</td>\n",
       "      <td>2007</td>\n",
       "      <td>92282.0 km</td>\n",
       "      <td>Essence</td>\n",
       "      <td>mécanique</td>\n",
       "      <td>09/07/2018 à 14h12</td>\n",
       "      <td>modele: KA, version: 1.3 70 FUN, puissance_fiscale: 5, portes: 3.0, options: direction assistée;jantes alu;rétroviseurs électriques et dégivrants;vitres électriques;fermeture électrique;climatisation;ABS;airbags frontaux, couleur: JAUNE</td>\n",
       "    </tr>\n",
       "    <tr>\n",
       "      <th>4</th>\n",
       "      <td>12925.0</td>\n",
       "      <td>FIAT</td>\n",
       "      <td>TIPO</td>\n",
       "      <td>2018</td>\n",
       "      <td>10.0 km</td>\n",
       "      <td>Essence</td>\n",
       "      <td>mécanique</td>\n",
       "      <td>19/05/2018 à 3h52</td>\n",
       "      <td>modele: TIPO 2 SW, version: II SW 1.4 95 POP, puissance_fiscale: 5, portes: 5.0, options: Volant alu &amp; cuir;Bluetooth inclut musique en streaming, connexion téléphone;Rétroviseurs extérieurs chauffants;Roue de secours de taille normale;Antibrouillards avant;Taille écran multi-fonctions 5 pouces;Antipatinage;Indicateur de sous-gonflage des pneus;Ouverture du coffre à distance;6 airbags;6 haut-parleurs;Air conditionné manuel;Rétroviseurs extérieurs réglage électrique;Réglage du volant en hauteur, en profondeur;ESP;Airbags rideaux;Airbags latéraux;Aide au démarrage en côte;Ordinateur de bord;ABS;Volant multi-fonction;Assistance au freinage d'urgence;Bluetooth;Ampoules de phares halogènes, couleur: blanc verni</td>\n",
       "    </tr>\n",
       "  </tbody>\n",
       "</table>\n",
       "</div>"
      ],
      "text/plain": [
       "     Price     Make Model  Model_year     Mileage     Fuel      Gearbox  \\\n",
       "0  11220.0  PEUGEOT   308        2014  94341.0 km   Diesel    mécanique   \n",
       "1  57526.0      BMW    X6        2015  39051.0 km   Diesel  automatique   \n",
       "2  80379.0     AUDI   RS6        2014  75381.0 km  Essence  automatique   \n",
       "3   2830.0     FORD    KA        2007  92282.0 km  Essence    mécanique   \n",
       "4  12925.0     FIAT  TIPO        2018     10.0 km  Essence    mécanique   \n",
       "\n",
       "               Online  \\\n",
       "0   06/07/2018 à 3h47   \n",
       "1  03/04/2018 à 16h41   \n",
       "2   30/07/2018 à 1h55   \n",
       "3  09/07/2018 à 14h12   \n",
       "4   19/05/2018 à 3h52   \n",
       "\n",
       "                                                                                                                                                                                                                                                                                                                                                                                                                                                                                                                                                                                                                                                                                                                                                                                                                                                                                                                                                                                                                                                                                                                                                                                                                                                                                                                                                                                                                                                                                                                                                                                                                                                                                                                                                                                                                                                                                                                                                                                                                                                                                                                                                                                                                                                                                                                                                                                                                                                                                                                                                                                                                                                                                                                                                                                                                                                                                                                                                                                                                                                                                                                                                                                                                                                                                                                                                                                                                                                                                                                               Description  \n",
       "0                                                                                                                                                                                                                                                                                                                                                                                                                                                                                                                                                                                                                                                                                                                                                                                                                                                                                                                                                                                                                                                                                                                                                                                                                                                                                                                                                                                                                                                                                                                                                                                                                                                                                                                                                                                                                                                                                                                                                                                                                                                                                                                                                                      modele: 308 (2E GENERATION), version: 1.6 HDI FAP 92CH BUSINESS 5P, puissance_fiscale: 4, portes: 5.0, options: banquette arrière 3 places;volant cuir;cache bagages;airbag frontal;banquette 1/3 - 2/3;sièges rang 2 rabattables à plat;vitres teintées;boucliers av et ar couleur caisse;phares av. de jour à LED;airbags rideaux;rétroviseurs électriques et dégivrants;siège conducteur avec réglage lombaire;vitres électriques;feux de freinage d'urgence;banquette rabattable;feux ar. à LED;AFU;contrôle de pression des pneus;airbags front. + lat.;blanc banquise;lampes de lecture à l'arrière;sièges réglables en hauteur;alarme d'oubli d'extinction des feux;EBD;volant sport;température extérieure;système audio;becquet;feux automatiques;fermeture électrique;ESP;fermeture électrique automatique;bacs de portes avant;anti patinage;accoudoir central avant;commandes du système audio au volant;fixations ISOFIX;poches d'aumonières;lampes de lecture à l'avant;lunette arrière dégivrante;essuie-glace arrière;ordinateur de bord;phares halogènes;climatisation;volant réglable en hauteur et profondeur;siège conducteur réglable hauteur;boite à gants réfrigérée;ABS;ceintures avant ajustables en hauteur;prise 12V;ecran tactile multifonction;FAP;3 ceintures ar. 3 points;ouverture des vitres séquentielle, couleur: BLANC BANQUISE  \n",
       "1                                                                                                                                                                                                                                                                                                                                                                                                                                                                                                                                                                                                                                                                                                                                                                                                                                                                                                                                                                                                                                                                                                                                                                                                                                                                                                                                                                                                                                                                                                                                                                                                                                                                                                                                                                                                                                                                                                                                                                                                                                                                                                                                                                                                                                                                                                                 modele: X6 F16, version: (F16) XDRIVE30D 258 M SPORT BVA8, puissance_fiscale: 16, portes: 5.0, options: triangle de presignalisation et trousse de premiers secours;volant cuir;pack alu;affichage tête haute;GPS;appel d'urgence intelligent;prise 12v additionnelle;sieges advanced pour conducteur et passager avant;projecteurs antibrouillard;climatisation automatique multi zone;pack suspension adaptative;&quotcarbonschwarz&quot metallise;caméra de recul;finition m sport;jantes alu 20&quot;pack innovation;kit fumeurs;rétroviseurs rabattables électriquement;shadow line brillant;information trafic en temps reel rtti (3ans);aide parking;contrôle de pression des pneus;système audio Harman Kardon;surround view;sièges électrique à mémoire;conciergerie (3 ans);fonctions &quotma bmw a distance&quot;pack safety;airbag passager desactivable via la cle;services connecteddrive (bmw online 3 ans + bmw apps);pack M;planche de bord en cuir;info trafic tmc;lave-phares;ciel de pavillon anthracite;services bmw connecteddrive;rétroviseur int. jour/nuit auto;tapis de sol;feux de route anti-eblouissement;pack advanced full led;boulons antivol de roues, couleur: Carbonschwarz metallise  \n",
       "2  modele: RS6 (3E GENERATION) AVANT, version: III AVANT 4.0 TFSI 560 QUATTRO TIPTRONIC, puissance_fiscale: 47, portes: 5.0, options: banquette arrière 3 places;écran tactile;témoin de bouclage des ceintures av;palettes au volant;volant cuir;régulateur limiteur de vitesse;commande climatisation ar;pack dynamique;cache bagages;sorties d'échappement chromées;affichage tête haute;rétroviseurs électriques;airbag frontal;banquette 1/3 - 2/3;vision périphérique (360°);commandes vocales;vitres teintées;GPS;services connectés;prise audio USB;stations de webradio;poignées ton carrosserie;pare-brise thermique;système d'éclairage intelligent;régulateur de vitesse;siège conducteur à mémoire;inserts de porte carbone;rétroviseurs extérieurs à mémoire;carte main libre;jantes alu;siège passager à réglages électriques;boucliers av et ar couleur caisse;phares av. de jour à LED;airbags rideaux;colonne de direction électr. à mémoire;applications bois noir avec inserts alu;accoudoir central arrière;climatisation automatique multi zone;siège conducteur avec réglage lombaire;vitres électriques;feux de freinage d'urgence;eclairage d'ambiance;toit ouvrant rang 1 entrebaillant;siège passager chauffant;caméra de recul;inserts de tableau de bord carbone;banquette rabattable;filtre à pollen;siège passager avec réglage lombaire;tmc;kit téléphone main libre;rétroviseurs rabattables électriquement;porte-gobelets avant;syst. intelligent gestion des cylindres;répétiteurs de clignotant dans rétro ext;kit fumeur;sièges sport;ecran multifonction couleur;pack carbone;aide parking;AFU;contrôle de pression des pneus;airbags front. + lat.;sièges réglables en hauteur;catadioptres actifs;disque dur multimédia;jas 5 branches doubles noires285/30 r21;essuie-glaces automatiques;EBD;volant sport;température extérieure;système audio MP3;système Start & Stop;système audio;becquet;système d'échappement sport;châssis sport;feux automatiques;fermeture électrique;ceinture de vitrage chromée;noir panthère;ESP;fermeture électrique automatique;bacs de portes avant;radar anti-collision;porte-gobelets arrière;sac à ski;système DVD;miroir de courtoisie conducteur éclairé;anti patinage;accoudoir central avant;commandes du système audio au volant;fixations ISOFIX;siège conducteur chauffant;aide au démarrage en côte;lampes de lecture à l'avant;appel d'urgence localisé;lunette arrière dégivrante;suspension sport;essuie-glace arrière;eclairage statique d'intersection;ordinateur de bord;inserts de porte cuir;rétroviseurs dégivrants;système audio CD;toit ouvrant;volant réglable en hauteur et profondeur;phares adaptatifs;eclairage au sol;barres de toit;traceur GPS;siège conducteur réglable hauteur;kit téléphone main libre bluetooth;boite à gants réfrigérée;ABS;ceintures avant ajustables en hauteur;prise 12V;valcona embossé rs 6 argent lunaire;appel d'assistance localisé;volume automatique de la radio;compte tours;lave-phares;chauffage des sièges avant et arrière;boîtiers de rétros en carbone;3 ceintures ar. 3 points;borne wi-fi;siège conducteur électrique;echappement à double sortie;rétroviseur int. jour/nuit auto;système audio carte SD;alarme;alarme volumétrique;miroir de courtoisie passager éclairé;alarme périmétrique;airbags latéraux aux places arrière;calandre chromée;blocage de différentiel;volant multifonctions;ouverture des vitres séquentielle;toit ouvrant panoramique, couleur: NOIR PANTHERE CRISTAL  \n",
       "3                                                                                                                                                                                                                                                                                                                                                                                                                                                                                                                                                                                                                                                                                                                                                                                                                                                                                                                                                                                                                                                                                                                                                                                                                                                                                                                                                                                                                                                                                                                                                                                                                                                                                                                                                                                                                                                                                                                                                                                                                                                                                                                                                                                                                                                                                                                                                                                                                                                                                                                                                                                                                                                                                                                                                                                                                                                                                                                                                                                                                                                                                                                                                                                                                                                                                             modele: KA, version: 1.3 70 FUN, puissance_fiscale: 5, portes: 3.0, options: direction assistée;jantes alu;rétroviseurs électriques et dégivrants;vitres électriques;fermeture électrique;climatisation;ABS;airbags frontaux, couleur: JAUNE  \n",
       "4                                                                                                                                                                                                                                                                                                                                                                                                                                                                                                                                                                                                                                                                                                                                                                                                                                                                                                                                                                                                                                                                                                                                                                                                                                                                                                                                                                                                                                                                                                                                                                                                                                                                                                                                                                                                                                                                                                                                                                                                                                                                                                                                                                                                                                                                                                                                                                                                                                                                                                                                                                                                                                                                                                                                                                                              modele: TIPO 2 SW, version: II SW 1.4 95 POP, puissance_fiscale: 5, portes: 5.0, options: Volant alu & cuir;Bluetooth inclut musique en streaming, connexion téléphone;Rétroviseurs extérieurs chauffants;Roue de secours de taille normale;Antibrouillards avant;Taille écran multi-fonctions 5 pouces;Antipatinage;Indicateur de sous-gonflage des pneus;Ouverture du coffre à distance;6 airbags;6 haut-parleurs;Air conditionné manuel;Rétroviseurs extérieurs réglage électrique;Réglage du volant en hauteur, en profondeur;ESP;Airbags rideaux;Airbags latéraux;Aide au démarrage en côte;Ordinateur de bord;ABS;Volant multi-fonction;Assistance au freinage d'urgence;Bluetooth;Ampoules de phares halogènes, couleur: blanc verni  "
      ]
     },
     "execution_count": 77,
     "metadata": {},
     "output_type": "execute_result"
    }
   ],
   "source": [
    "df.head()"
   ]
  },
  {
   "cell_type": "markdown",
   "metadata": {},
   "source": [
    "**Model_year : fabrication ou de mise en circulation?**"
   ]
  },
  {
   "cell_type": "code",
   "execution_count": 9,
   "metadata": {},
   "outputs": [
    {
     "name": "stdout",
     "output_type": "stream",
     "text": [
      "<class 'pandas.core.frame.DataFrame'>\n",
      "RangeIndex: 166695 entries, 0 to 166694\n",
      "Data columns (total 9 columns):\n",
      " #   Column       Non-Null Count   Dtype  \n",
      "---  ------       --------------   -----  \n",
      " 0   Price        166695 non-null  float64\n",
      " 1   Make         166695 non-null  object \n",
      " 2   Model        166695 non-null  object \n",
      " 3   Model_year   166695 non-null  int64  \n",
      " 4   Mileage      166695 non-null  object \n",
      " 5   Fuel         166695 non-null  object \n",
      " 6   Gearbox      166695 non-null  object \n",
      " 7   Online       166695 non-null  object \n",
      " 8   Description  166695 non-null  object \n",
      "dtypes: float64(1), int64(1), object(7)\n",
      "memory usage: 11.4+ MB\n"
     ]
    }
   ],
   "source": [
    "df.info()"
   ]
  },
  {
   "cell_type": "markdown",
   "metadata": {},
   "source": [
    "* Pas de données manquantes\n",
    "* Mileage, Online and Description doivent être netoyé."
   ]
  },
  {
   "cell_type": "code",
   "execution_count": 78,
   "metadata": {},
   "outputs": [
    {
     "data": {
      "text/plain": [
       "(166695, 9)"
      ]
     },
     "execution_count": 78,
     "metadata": {},
     "output_type": "execute_result"
    }
   ],
   "source": [
    "df.shape"
   ]
  },
  {
   "cell_type": "code",
   "execution_count": 79,
   "metadata": {},
   "outputs": [
    {
     "data": {
      "text/plain": [
       "RENAULT           0.184109\n",
       "PEUGEOT           0.156687\n",
       "CITROEN           0.105636\n",
       "VOLKSWAGEN        0.067435\n",
       "BMW               0.056534\n",
       "                    ...   \n",
       "SECMA             0.000006\n",
       "AUTOBIANCHI       0.000006\n",
       "INTERMECCANICA    0.000006\n",
       "FISKER            0.000006\n",
       "BUGATTI           0.000006\n",
       "Name: Make, Length: 92, dtype: float64"
      ]
     },
     "execution_count": 79,
     "metadata": {},
     "output_type": "execute_result"
    }
   ],
   "source": [
    "maker_frequency = df['Make'].value_counts(normalize=True)\n",
    "maker_frequency"
   ]
  },
  {
   "cell_type": "markdown",
   "metadata": {},
   "source": [
    "**Faire un réequilibrage de données** ...SMOTE ?"
   ]
  },
  {
   "cell_type": "code",
   "execution_count": 80,
   "metadata": {},
   "outputs": [
    {
     "data": {
      "text/plain": [
       "Text(0, 0.5, 'Frequency')"
      ]
     },
     "execution_count": 80,
     "metadata": {},
     "output_type": "execute_result"
    },
    {
     "data": {
      "image/png": "[encoded data removed]",
      "text/plain": [
       "<Figure size 432x288 with 1 Axes>"
      ]
     },
     "metadata": {},
     "output_type": "display_data"
    }
   ],
   "source": [
    "plt.hist(df['Make'])\n",
    "plt.title('Make frequency')\n",
    "plt.xlabel('Make')\n",
    "plt.ylabel('Frequency')"
   ]
  },
  {
   "cell_type": "code",
   "execution_count": 167,
   "metadata": {},
   "outputs": [
    {
     "data": {
      "text/plain": [
       "92"
      ]
     },
     "execution_count": 167,
     "metadata": {},
     "output_type": "execute_result"
    }
   ],
   "source": [
    "len(df['Make'].unique())"
   ]
  },
  {
   "cell_type": "markdown",
   "metadata": {},
   "source": [
    "# Data cleaning"
   ]
  },
  {
   "cell_type": "code",
   "execution_count": 81,
   "metadata": {},
   "outputs": [
    {
     "data": {
      "text/html": [
       "<div>\n",
       "<style scoped>\n",
       "    .dataframe tbody tr th:only-of-type {\n",
       "        vertical-align: middle;\n",
       "    }\n",
       "\n",
       "    .dataframe tbody tr th {\n",
       "        vertical-align: top;\n",
       "    }\n",
       "\n",
       "    .dataframe thead th {\n",
       "        text-align: right;\n",
       "    }\n",
       "</style>\n",
       "<table border=\"1\" class=\"dataframe\">\n",
       "  <thead>\n",
       "    <tr style=\"text-align: right;\">\n",
       "      <th></th>\n",
       "      <th>Mileage</th>\n",
       "    </tr>\n",
       "  </thead>\n",
       "  <tbody>\n",
       "    <tr>\n",
       "      <th>0</th>\n",
       "      <td>94341</td>\n",
       "    </tr>\n",
       "    <tr>\n",
       "      <th>1</th>\n",
       "      <td>39051</td>\n",
       "    </tr>\n",
       "    <tr>\n",
       "      <th>2</th>\n",
       "      <td>75381</td>\n",
       "    </tr>\n",
       "    <tr>\n",
       "      <th>3</th>\n",
       "      <td>92282</td>\n",
       "    </tr>\n",
       "    <tr>\n",
       "      <th>4</th>\n",
       "      <td>10</td>\n",
       "    </tr>\n",
       "  </tbody>\n",
       "</table>\n",
       "</div>"
      ],
      "text/plain": [
       "   Mileage\n",
       "0    94341\n",
       "1    39051\n",
       "2    75381\n",
       "3    92282\n",
       "4       10"
      ]
     },
     "execution_count": 81,
     "metadata": {},
     "output_type": "execute_result"
    }
   ],
   "source": [
    "df['Mileage'] = df['Mileage'].str.replace(\".0 km\",\"\")\n",
    "df['Mileage'] = df['Mileage'].astype(\"int32\")\n",
    "df[['Mileage']].head()"
   ]
  },
  {
   "cell_type": "code",
   "execution_count": 82,
   "metadata": {},
   "outputs": [
    {
     "data": {
      "text/html": [
       "<div>\n",
       "<style scoped>\n",
       "    .dataframe tbody tr th:only-of-type {\n",
       "        vertical-align: middle;\n",
       "    }\n",
       "\n",
       "    .dataframe tbody tr th {\n",
       "        vertical-align: top;\n",
       "    }\n",
       "\n",
       "    .dataframe thead th {\n",
       "        text-align: right;\n",
       "    }\n",
       "</style>\n",
       "<table border=\"1\" class=\"dataframe\">\n",
       "  <thead>\n",
       "    <tr style=\"text-align: right;\">\n",
       "      <th></th>\n",
       "      <th>Online</th>\n",
       "      <th>Online_date</th>\n",
       "      <th>Online_time</th>\n",
       "      <th>Online_year</th>\n",
       "      <th>Online_month</th>\n",
       "      <th>Online_month_day</th>\n",
       "      <th>Online_hour</th>\n",
       "      <th>Online_minute</th>\n",
       "      <th>Online_week_day</th>\n",
       "    </tr>\n",
       "  </thead>\n",
       "  <tbody>\n",
       "    <tr>\n",
       "      <th>0</th>\n",
       "      <td>2018-07-06 03:47:00</td>\n",
       "      <td>2018-07-06</td>\n",
       "      <td>03:47:00</td>\n",
       "      <td>2018</td>\n",
       "      <td>7</td>\n",
       "      <td>6</td>\n",
       "      <td>3</td>\n",
       "      <td>47</td>\n",
       "      <td>4</td>\n",
       "    </tr>\n",
       "    <tr>\n",
       "      <th>1</th>\n",
       "      <td>2018-04-03 16:41:00</td>\n",
       "      <td>2018-04-03</td>\n",
       "      <td>16:41:00</td>\n",
       "      <td>2018</td>\n",
       "      <td>4</td>\n",
       "      <td>3</td>\n",
       "      <td>16</td>\n",
       "      <td>41</td>\n",
       "      <td>1</td>\n",
       "    </tr>\n",
       "  </tbody>\n",
       "</table>\n",
       "</div>"
      ],
      "text/plain": [
       "               Online Online_date Online_time  Online_year  Online_month  \\\n",
       "0 2018-07-06 03:47:00  2018-07-06    03:47:00         2018             7   \n",
       "1 2018-04-03 16:41:00  2018-04-03    16:41:00         2018             4   \n",
       "\n",
       "   Online_month_day  Online_hour  Online_minute  Online_week_day  \n",
       "0                 6            3             47                4  \n",
       "1                 3           16             41                1  "
      ]
     },
     "execution_count": 82,
     "metadata": {},
     "output_type": "execute_result"
    }
   ],
   "source": [
    "df['Online'] = pd.to_datetime(df['Online'], format='%d/%m/%Y à %Hh%M')\n",
    "\n",
    "df['Online_date'] = df['Online'].dt.date\n",
    "df['Online_time'] = df['Online'].dt.time\n",
    "\n",
    "df['Online_year'] = df['Online'].dt.year\n",
    "df['Online_month'] = df['Online'].dt.month\n",
    "df['Online_month_day'] = df['Online'].dt.day\n",
    "df['Online_hour'] = df['Online'].dt.hour\n",
    "df['Online_minute'] = df['Online'].dt.minute\n",
    "df['Online_week_day'] = df['Online'].dt.weekday\n",
    "df[['Online', 'Online_date', 'Online_time', 'Online_year', 'Online_month', 'Online_month_day', 'Online_hour', 'Online_minute', 'Online_week_day']].head(2)"
   ]
  },
  {
   "cell_type": "code",
   "execution_count": 83,
   "metadata": {},
   "outputs": [],
   "source": [
    "df['age'] = df['Online_year'] - df['Model_year']"
   ]
  },
  {
   "cell_type": "code",
   "execution_count": 84,
   "metadata": {},
   "outputs": [
    {
     "data": {
      "text/html": [
       "<div>\n",
       "<style scoped>\n",
       "    .dataframe tbody tr th:only-of-type {\n",
       "        vertical-align: middle;\n",
       "    }\n",
       "\n",
       "    .dataframe tbody tr th {\n",
       "        vertical-align: top;\n",
       "    }\n",
       "\n",
       "    .dataframe thead th {\n",
       "        text-align: right;\n",
       "    }\n",
       "</style>\n",
       "<table border=\"1\" class=\"dataframe\">\n",
       "  <thead>\n",
       "    <tr style=\"text-align: right;\">\n",
       "      <th></th>\n",
       "      <th>Description</th>\n",
       "    </tr>\n",
       "  </thead>\n",
       "  <tbody>\n",
       "    <tr>\n",
       "      <th>0</th>\n",
       "      <td>modele: 308 (2E GENERATION), version: 1.6 HDI FAP 92CH BUSINESS 5P, puissance_fiscale: 4, portes: 5.0, options: banquette arrière 3 places;volant cuir;cache bagages;airbag frontal;banquette 1/3 - 2/3;sièges rang 2 rabattables à plat;vitres teintées;boucliers av et ar couleur caisse;phares av. de jour à LED;airbags rideaux;rétroviseurs électriques et dégivrants;siège conducteur avec réglage lombaire;vitres électriques;feux de freinage d'urgence;banquette rabattable;feux ar. à LED;AFU;contrôle de pression des pneus;airbags front. + lat.;blanc banquise;lampes de lecture à l'arrière;sièges réglables en hauteur;alarme d'oubli d'extinction des feux;EBD;volant sport;température extérieure;système audio;becquet;feux automatiques;fermeture électrique;ESP;fermeture électrique automatique;bacs de portes avant;anti patinage;accoudoir central avant;commandes du système audio au volant;fixations ISOFIX;poches d'aumonières;lampes de lecture à l'avant;lunette arrière dégivrante;essuie-glace arrière;ordinateur de bord;phares halogènes;climatisation;volant réglable en hauteur et profondeur;siège conducteur réglable hauteur;boite à gants réfrigérée;ABS;ceintures avant ajustables en hauteur;prise 12V;ecran tactile multifonction;FAP;3 ceintures ar. 3 points;ouverture des vitres séquentielle, couleur: BLANC BANQUISE</td>\n",
       "    </tr>\n",
       "  </tbody>\n",
       "</table>\n",
       "</div>"
      ],
      "text/plain": [
       "                                                                                                                                                                                                                                                                                                                                                                                                                                                                                                                                                                                                                                                                                                                                                                                                                                                                                                                                                                                                                                                                                                                                                                                                                                                                                                                                                           Description\n",
       "0  modele: 308 (2E GENERATION), version: 1.6 HDI FAP 92CH BUSINESS 5P, puissance_fiscale: 4, portes: 5.0, options: banquette arrière 3 places;volant cuir;cache bagages;airbag frontal;banquette 1/3 - 2/3;sièges rang 2 rabattables à plat;vitres teintées;boucliers av et ar couleur caisse;phares av. de jour à LED;airbags rideaux;rétroviseurs électriques et dégivrants;siège conducteur avec réglage lombaire;vitres électriques;feux de freinage d'urgence;banquette rabattable;feux ar. à LED;AFU;contrôle de pression des pneus;airbags front. + lat.;blanc banquise;lampes de lecture à l'arrière;sièges réglables en hauteur;alarme d'oubli d'extinction des feux;EBD;volant sport;température extérieure;système audio;becquet;feux automatiques;fermeture électrique;ESP;fermeture électrique automatique;bacs de portes avant;anti patinage;accoudoir central avant;commandes du système audio au volant;fixations ISOFIX;poches d'aumonières;lampes de lecture à l'avant;lunette arrière dégivrante;essuie-glace arrière;ordinateur de bord;phares halogènes;climatisation;volant réglable en hauteur et profondeur;siège conducteur réglable hauteur;boite à gants réfrigérée;ABS;ceintures avant ajustables en hauteur;prise 12V;ecran tactile multifonction;FAP;3 ceintures ar. 3 points;ouverture des vitres séquentielle, couleur: BLANC BANQUISE"
      ]
     },
     "execution_count": 84,
     "metadata": {},
     "output_type": "execute_result"
    }
   ],
   "source": [
    "df[['Description']].head(1)"
   ]
  },
  {
   "cell_type": "markdown",
   "metadata": {},
   "source": [
    "Description contient plusieurs sous-champs qui sont séparés par une **','**\n",
    "\n",
    "Le sous-champs Options contient des paramètres séparés par des **';'**\n",
    "\n",
    "Certains paramètres dans Options contiennent des valeurs spécifiques. \n",
    "Leur patern est : **'; parametre : valeur'**. \n",
    "\n",
    "Pour les paramettres suivants dans Options : \n",
    "- finition brillantes pneus \n",
    "- noir anthracite finition brillantes avec pneus\n",
    "- 5 J x 21 Pneus '\n",
    "- réglages électriques des sièges -Conducteur\n",
    "\n",
    "le patern est **', parametre : valeur'**"
   ]
  },
  {
   "cell_type": "code",
   "execution_count": 85,
   "metadata": {},
   "outputs": [
    {
     "data": {
      "text/plain": [
       "{', couleur:',\n",
       " ', finition brillantes pneus :',\n",
       " ', noir anthracite finition brillantes avec pneus :',\n",
       " ', options:',\n",
       " ', portes:',\n",
       " ', puissance_fiscale:',\n",
       " ', réglages électriques des sièges -Conducteur :',\n",
       " ', version:',\n",
       " ',5 J x 21 Pneus :',\n",
       " 'modele:'}"
      ]
     },
     "execution_count": 85,
     "metadata": {},
     "output_type": "execute_result"
    }
   ],
   "source": [
    "# Trouver les détail des champs dans Decription : separation par des ','\n",
    "str_list = df['Description'].str.findall(r'(^.[^,;]*?:|,[^,;]*?:)').values.tolist()\n",
    "str_list = list(filter(None, str_list))\n",
    "flat_list = [item for sublist in str_list for item in sublist]\n",
    "details = set(flat_list)\n",
    "#details = [w.replace(', ', '') for w in details]\n",
    "#details = [w.replace(':', '') for w in details]\n",
    "details"
   ]
  },
  {
   "cell_type": "code",
   "execution_count": 86,
   "metadata": {},
   "outputs": [
    {
     "data": {
      "text/plain": [
       "['puissance_fiscale', 'modele', 'portes', 'couleur', 'options', 'version']"
      ]
     },
     "execution_count": 86,
     "metadata": {},
     "output_type": "execute_result"
    }
   ],
   "source": [
    "# Trouver les détail des champs dans Decription : separation par des ','\n",
    "str_list = df['Description'].str.findall(r'(^.[^,; ]*?:|, [^,; ]*?:)').values.tolist()\n",
    "str_list = list(filter(None, str_list))\n",
    "flat_list = [item for sublist in str_list for item in sublist]\n",
    "details = set(flat_list)\n",
    "details = [w.replace(', ', '') for w in details]\n",
    "details = [w.replace(':', '') for w in details]\n",
    "details"
   ]
  },
  {
   "cell_type": "code",
   "execution_count": null,
   "metadata": {},
   "outputs": [],
   "source": []
  },
  {
   "cell_type": "code",
   "execution_count": 87,
   "metadata": {},
   "outputs": [
    {
     "data": {
      "text/plain": [
       "7213    modele: RS3 (2E GENERATION) SPORTBACK, version: II (2) SPORTBACK 2.5 TFSI 400 QUATTRO S TRONIC, puissance_fiscale: 29, portes: 5.0, options: Rétroviseurs rabattables électriquement;Application décorative Carbone;Système audio carte digitale;Bluetooth inclut musique en streaming, connexion téléphone;Smart card / Smart key;Air conditionné 2 zones;Jantes en aluminium coulé en style Blade à 5 branches en noir anthracite brillant, finition brillantes pneus : 255/30 R19 AV et 235/35 R19 AR (uniquement sur RS 3 Sportback);Palettes au volant;Feux de croisement à LED;Freins régénérateurs;Antipatinage;Limiteur de vitesse;Sorties d'échappement Sport RS pour une sonorité encore plus sportive;Rétroviseurs extérieurs réglables, dégivrants et rabattables électriquement avec position automatique pour manoeuvre de stationnement et fonction jour / nuit automatiquecôté conducteur;Vitres arrière surteintées (Privacy glass);Volant suede & cuir;Alarme;Bang & Olufsen Sound System;Système de navigation info trafic;Audi Phone Box;Chargeur 1 CD;Tapis de sol;Pack Brillance noir Audi exclusive;Pack Confort;Indicateur de sous-gonflage des pneus;Ouverture du coffre à distance;Taille écran navigation 7 pouces;Réseau Wifi;Projecteurs Audi Matrix LED avec clignotants dynamiques (avant et arrière);Feux arrières à LED;Pack Design RS;7 airbags;Rétroviseurs extérieurs réglage électrique;Rétroviseur jour/nuit;Phares à allumage automatique;Fixation pour siège-enfant ISOFIX pour le siège du passager avant;Réglage du volant en hauteur, en profondeur;ESP;Airbags rideaux;Sièges Sport RS à l'avant en cuir Nappa avec surpiqûres diamant;10 haut-parleurs;Airbags latéraux;Kit anticrevaison;Bouton démarrage;Essuie glace capteur de pluie;Régulateur de vitesse;Système détection de collision;Aide au démarrage en côte;Système de navigation;Ordinateur de bord;Accoudoir central avant;Freins Céramique;ABS;Lave-phares;Feux de croisement automatiques;Volant multi-fonction;Capot à soulèvement pour choc piéton;Reconnaissance vocale;Taille écran multi-fonctions 12.3 pouces;Assistance au freinage d'urgence;Système audio lecteur CD et MP3;Ampoules de phares LED;Air conditionné auto;Sièges avant chauffants;Bluetooth;DVD/VCD;Réception radio numérique (DAB), couleur: gris metal   \n",
       "Name: Description, dtype: object"
      ]
     },
     "execution_count": 87,
     "metadata": {},
     "output_type": "execute_result"
    }
   ],
   "source": [
    "df[df['Description'].str.contains(\"finition brillantes pneus :\")]['Description'].head(1)"
   ]
  },
  {
   "cell_type": "code",
   "execution_count": 104,
   "metadata": {},
   "outputs": [],
   "source": [
    "df['modele'] = df['Description'].str.extract(r'(\\bmodele\\: \\b.*?,)', expand=True) \n",
    "df['modele'] = df['modele'].str.replace(\"modele: \", \"\")\n",
    "df['modele'] = df['modele'].str.replace(\",\", \"\")\n",
    "\n",
    "df['version'] = df['Description'].str.extract(r'(\\bversion\\b.*?,)', expand=True)       \n",
    "df['version'] = df['version'].str.replace(\"version: \", \"\")\n",
    "df['version'] = df['version'].str.replace(\",\", \"\")\n",
    "\n",
    "df['puissance_fiscale'] = df['Description'].str.extract(r'(\\bpuissance_fiscale\\: \\b.*?,)', expand=True)       \n",
    "df['puissance_fiscale'] = df['puissance_fiscale'].str.replace(\"puissance_fiscale: \", \"\")\n",
    "df['puissance_fiscale'] = df['puissance_fiscale'].str.replace(\",\", \"\")\n",
    "\n",
    "df['portes'] = df['Description'].str.extract(r'(\\bportes\\: \\b.*?,)', expand=True)       \n",
    "df['portes'] = df['portes'].str.replace(\"portes: \", \"\")\n",
    "df['portes'] = df['portes'].str.replace(\",\", \"\")\n",
    "\n",
    "df['couleur'] = df['Description'].str.extract(r'(\\bcouleur\\: \\b.*?$)', expand=True)       \n",
    "df['couleur'] = df['couleur'].str.replace(\"couleur: \", \"\")\n",
    "df['couleur'] = df['couleur'].str.upper()\n",
    "\n",
    "df['options'] = df['Description'].str.extract(r'(\\boptions\\b.*, couleur)', expand=True)       \n",
    "df['options'] = df['options'].str.replace(\"options: \", \"\")\n",
    "df['options'] = df['options'].str.replace(\", couleur\", \"\")"
   ]
  },
  {
   "cell_type": "code",
   "execution_count": 105,
   "metadata": {},
   "outputs": [
    {
     "data": {
      "text/html": [
       "<div>\n",
       "<style scoped>\n",
       "    .dataframe tbody tr th:only-of-type {\n",
       "        vertical-align: middle;\n",
       "    }\n",
       "\n",
       "    .dataframe tbody tr th {\n",
       "        vertical-align: top;\n",
       "    }\n",
       "\n",
       "    .dataframe thead th {\n",
       "        text-align: right;\n",
       "    }\n",
       "</style>\n",
       "<table border=\"1\" class=\"dataframe\">\n",
       "  <thead>\n",
       "    <tr style=\"text-align: right;\">\n",
       "      <th></th>\n",
       "      <th>Description</th>\n",
       "      <th>modele</th>\n",
       "      <th>version</th>\n",
       "      <th>puissance_fiscale</th>\n",
       "      <th>portes</th>\n",
       "      <th>couleur</th>\n",
       "      <th>options</th>\n",
       "    </tr>\n",
       "  </thead>\n",
       "  <tbody>\n",
       "    <tr>\n",
       "      <th>0</th>\n",
       "      <td>modele: 308 (2E GENERATION), version: 1.6 HDI FAP 92CH BUSINESS 5P, puissance_fiscale: 4, portes: 5.0, options: banquette arrière 3 places;volant cuir;cache bagages;airbag frontal;banquette 1/3 - 2/3;sièges rang 2 rabattables à plat;vitres teintées;boucliers av et ar couleur caisse;phares av. de jour à LED;airbags rideaux;rétroviseurs électriques et dégivrants;siège conducteur avec réglage lombaire;vitres électriques;feux de freinage d'urgence;banquette rabattable;feux ar. à LED;AFU;contrôle de pression des pneus;airbags front. + lat.;blanc banquise;lampes de lecture à l'arrière;sièges réglables en hauteur;alarme d'oubli d'extinction des feux;EBD;volant sport;température extérieure;système audio;becquet;feux automatiques;fermeture électrique;ESP;fermeture électrique automatique;bacs de portes avant;anti patinage;accoudoir central avant;commandes du système audio au volant;fixations ISOFIX;poches d'aumonières;lampes de lecture à l'avant;lunette arrière dégivrante;essuie-glace arrière;ordinateur de bord;phares halogènes;climatisation;volant réglable en hauteur et profondeur;siège conducteur réglable hauteur;boite à gants réfrigérée;ABS;ceintures avant ajustables en hauteur;prise 12V;ecran tactile multifonction;FAP;3 ceintures ar. 3 points;ouverture des vitres séquentielle, couleur: BLANC BANQUISE</td>\n",
       "      <td>308 (2E GENERATION)</td>\n",
       "      <td>1.6 HDI FAP 92CH BUSINESS 5P</td>\n",
       "      <td>4</td>\n",
       "      <td>5.0</td>\n",
       "      <td>BLANC BANQUISE</td>\n",
       "      <td>banquette arrière 3 places;volant cuir;cache bagages;airbag frontal;banquette 1/3 - 2/3;sièges rang 2 rabattables à plat;vitres teintées;boucliers av et ar couleur caisse;phares av. de jour à LED;airbags rideaux;rétroviseurs électriques et dégivrants;siège conducteur avec réglage lombaire;vitres électriques;feux de freinage d'urgence;banquette rabattable;feux ar. à LED;AFU;contrôle de pression des pneus;airbags front. + lat.;blanc banquise;lampes de lecture à l'arrière;sièges réglables en hauteur;alarme d'oubli d'extinction des feux;EBD;volant sport;température extérieure;système audio;becquet;feux automatiques;fermeture électrique;ESP;fermeture électrique automatique;bacs de portes avant;anti patinage;accoudoir central avant;commandes du système audio au volant;fixations ISOFIX;poches d'aumonières;lampes de lecture à l'avant;lunette arrière dégivrante;essuie-glace arrière;ordinateur de bord;phares halogènes;climatisation;volant réglable en hauteur et profondeur;siège conducteur réglable hauteur;boite à gants réfrigérée;ABS;ceintures avant ajustables en hauteur;prise 12V;ecran tactile multifonction;FAP;3 ceintures ar. 3 points;ouverture des vitres séquentielle</td>\n",
       "    </tr>\n",
       "    <tr>\n",
       "      <th>1</th>\n",
       "      <td>modele: X6 F16, version: (F16) XDRIVE30D 258 M SPORT BVA8, puissance_fiscale: 16, portes: 5.0, options: triangle de presignalisation et trousse de premiers secours;volant cuir;pack alu;affichage tête haute;GPS;appel d'urgence intelligent;prise 12v additionnelle;sieges advanced pour conducteur et passager avant;projecteurs antibrouillard;climatisation automatique multi zone;pack suspension adaptative;&amp;quotcarbonschwarz&amp;quot metallise;caméra de recul;finition m sport;jantes alu 20&amp;quot;pack innovation;kit fumeurs;rétroviseurs rabattables électriquement;shadow line brillant;information trafic en temps reel rtti (3ans);aide parking;contrôle de pression des pneus;système audio Harman Kardon;surround view;sièges électrique à mémoire;conciergerie (3 ans);fonctions &amp;quotma bmw a distance&amp;quot;pack safety;airbag passager desactivable via la cle;services connecteddrive (bmw online 3 ans + bmw apps);pack M;planche de bord en cuir;info trafic tmc;lave-phares;ciel de pavillon anthracite;services bmw connecteddrive;rétroviseur int. jour/nuit auto;tapis de sol;feux de route anti-eblouissement;pack advanced full led;boulons antivol de roues, couleur: Carbonschwarz metallise</td>\n",
       "      <td>X6 F16</td>\n",
       "      <td>(F16) XDRIVE30D 258 M SPORT BVA8</td>\n",
       "      <td>16</td>\n",
       "      <td>5.0</td>\n",
       "      <td>CARBONSCHWARZ METALLISE</td>\n",
       "      <td>triangle de presignalisation et trousse de premiers secours;volant cuir;pack alu;affichage tête haute;GPS;appel d'urgence intelligent;prise 12v additionnelle;sieges advanced pour conducteur et passager avant;projecteurs antibrouillard;climatisation automatique multi zone;pack suspension adaptative;&amp;quotcarbonschwarz&amp;quot metallise;caméra de recul;finition m sport;jantes alu 20&amp;quot;pack innovation;kit fumeurs;rétroviseurs rabattables électriquement;shadow line brillant;information trafic en temps reel rtti (3ans);aide parking;contrôle de pression des pneus;système audio Harman Kardon;surround view;sièges électrique à mémoire;conciergerie (3 ans);fonctions &amp;quotma bmw a distance&amp;quot;pack safety;airbag passager desactivable via la cle;services connecteddrive (bmw online 3 ans + bmw apps);pack M;planche de bord en cuir;info trafic tmc;lave-phares;ciel de pavillon anthracite;services bmw connecteddrive;rétroviseur int. jour/nuit auto;tapis de sol;feux de route anti-eblouissement;pack advanced full led;boulons antivol de roues</td>\n",
       "    </tr>\n",
       "  </tbody>\n",
       "</table>\n",
       "</div>"
      ],
      "text/plain": [
       "                                                                                                                                                                                                                                                                                                                                                                                                                                                                                                                                                                                                                                                                                                                                                                                                                                                                                                                                                                                                                                                                                                                                                                                                                                                                                                                                                           Description  \\\n",
       "0  modele: 308 (2E GENERATION), version: 1.6 HDI FAP 92CH BUSINESS 5P, puissance_fiscale: 4, portes: 5.0, options: banquette arrière 3 places;volant cuir;cache bagages;airbag frontal;banquette 1/3 - 2/3;sièges rang 2 rabattables à plat;vitres teintées;boucliers av et ar couleur caisse;phares av. de jour à LED;airbags rideaux;rétroviseurs électriques et dégivrants;siège conducteur avec réglage lombaire;vitres électriques;feux de freinage d'urgence;banquette rabattable;feux ar. à LED;AFU;contrôle de pression des pneus;airbags front. + lat.;blanc banquise;lampes de lecture à l'arrière;sièges réglables en hauteur;alarme d'oubli d'extinction des feux;EBD;volant sport;température extérieure;système audio;becquet;feux automatiques;fermeture électrique;ESP;fermeture électrique automatique;bacs de portes avant;anti patinage;accoudoir central avant;commandes du système audio au volant;fixations ISOFIX;poches d'aumonières;lampes de lecture à l'avant;lunette arrière dégivrante;essuie-glace arrière;ordinateur de bord;phares halogènes;climatisation;volant réglable en hauteur et profondeur;siège conducteur réglable hauteur;boite à gants réfrigérée;ABS;ceintures avant ajustables en hauteur;prise 12V;ecran tactile multifonction;FAP;3 ceintures ar. 3 points;ouverture des vitres séquentielle, couleur: BLANC BANQUISE   \n",
       "1                                                                                                                                             modele: X6 F16, version: (F16) XDRIVE30D 258 M SPORT BVA8, puissance_fiscale: 16, portes: 5.0, options: triangle de presignalisation et trousse de premiers secours;volant cuir;pack alu;affichage tête haute;GPS;appel d'urgence intelligent;prise 12v additionnelle;sieges advanced pour conducteur et passager avant;projecteurs antibrouillard;climatisation automatique multi zone;pack suspension adaptative;&quotcarbonschwarz&quot metallise;caméra de recul;finition m sport;jantes alu 20&quot;pack innovation;kit fumeurs;rétroviseurs rabattables électriquement;shadow line brillant;information trafic en temps reel rtti (3ans);aide parking;contrôle de pression des pneus;système audio Harman Kardon;surround view;sièges électrique à mémoire;conciergerie (3 ans);fonctions &quotma bmw a distance&quot;pack safety;airbag passager desactivable via la cle;services connecteddrive (bmw online 3 ans + bmw apps);pack M;planche de bord en cuir;info trafic tmc;lave-phares;ciel de pavillon anthracite;services bmw connecteddrive;rétroviseur int. jour/nuit auto;tapis de sol;feux de route anti-eblouissement;pack advanced full led;boulons antivol de roues, couleur: Carbonschwarz metallise   \n",
       "\n",
       "                modele                           version puissance_fiscale  \\\n",
       "0  308 (2E GENERATION)      1.6 HDI FAP 92CH BUSINESS 5P                 4   \n",
       "1               X6 F16  (F16) XDRIVE30D 258 M SPORT BVA8                16   \n",
       "\n",
       "  portes                  couleur  \\\n",
       "0    5.0           BLANC BANQUISE   \n",
       "1    5.0  CARBONSCHWARZ METALLISE   \n",
       "\n",
       "                                                                                                                                                                                                                                                                                                                                                                                                                                                                                                                                                                                                                                                                                                                                                                                                                                                                                                                                                                                                                                                                                                                                                                                                                      options  \n",
       "0  banquette arrière 3 places;volant cuir;cache bagages;airbag frontal;banquette 1/3 - 2/3;sièges rang 2 rabattables à plat;vitres teintées;boucliers av et ar couleur caisse;phares av. de jour à LED;airbags rideaux;rétroviseurs électriques et dégivrants;siège conducteur avec réglage lombaire;vitres électriques;feux de freinage d'urgence;banquette rabattable;feux ar. à LED;AFU;contrôle de pression des pneus;airbags front. + lat.;blanc banquise;lampes de lecture à l'arrière;sièges réglables en hauteur;alarme d'oubli d'extinction des feux;EBD;volant sport;température extérieure;système audio;becquet;feux automatiques;fermeture électrique;ESP;fermeture électrique automatique;bacs de portes avant;anti patinage;accoudoir central avant;commandes du système audio au volant;fixations ISOFIX;poches d'aumonières;lampes de lecture à l'avant;lunette arrière dégivrante;essuie-glace arrière;ordinateur de bord;phares halogènes;climatisation;volant réglable en hauteur et profondeur;siège conducteur réglable hauteur;boite à gants réfrigérée;ABS;ceintures avant ajustables en hauteur;prise 12V;ecran tactile multifonction;FAP;3 ceintures ar. 3 points;ouverture des vitres séquentielle  \n",
       "1                                                                                                                                              triangle de presignalisation et trousse de premiers secours;volant cuir;pack alu;affichage tête haute;GPS;appel d'urgence intelligent;prise 12v additionnelle;sieges advanced pour conducteur et passager avant;projecteurs antibrouillard;climatisation automatique multi zone;pack suspension adaptative;&quotcarbonschwarz&quot metallise;caméra de recul;finition m sport;jantes alu 20&quot;pack innovation;kit fumeurs;rétroviseurs rabattables électriquement;shadow line brillant;information trafic en temps reel rtti (3ans);aide parking;contrôle de pression des pneus;système audio Harman Kardon;surround view;sièges électrique à mémoire;conciergerie (3 ans);fonctions &quotma bmw a distance&quot;pack safety;airbag passager desactivable via la cle;services connecteddrive (bmw online 3 ans + bmw apps);pack M;planche de bord en cuir;info trafic tmc;lave-phares;ciel de pavillon anthracite;services bmw connecteddrive;rétroviseur int. jour/nuit auto;tapis de sol;feux de route anti-eblouissement;pack advanced full led;boulons antivol de roues  "
      ]
     },
     "execution_count": 105,
     "metadata": {},
     "output_type": "execute_result"
    }
   ],
   "source": [
    "df[['Description', 'modele', 'version', 'puissance_fiscale', 'portes', 'couleur', 'options']].head(2)"
   ]
  },
  {
   "cell_type": "code",
   "execution_count": 106,
   "metadata": {},
   "outputs": [
    {
     "data": {
      "text/plain": [
       "5.0    138807\n",
       "3.0     11597\n",
       "4.0      8540\n",
       "2.0      6443\n",
       "0.0        17\n",
       "6.0         2\n",
       "Name: portes, dtype: int64"
      ]
     },
     "execution_count": 106,
     "metadata": {},
     "output_type": "execute_result"
    }
   ],
   "source": [
    "df['portes'].value_counts()"
   ]
  },
  {
   "cell_type": "markdown",
   "metadata": {},
   "source": [
    "**0 et 6** des outliers ?"
   ]
  },
  {
   "cell_type": "markdown",
   "metadata": {},
   "source": [
    "## Champs 'version'"
   ]
  },
  {
   "cell_type": "code",
   "execution_count": 113,
   "metadata": {},
   "outputs": [
    {
     "data": {
      "text/plain": [
       "(2) 1.2 PURETECH 82 STYLE 5P               799\n",
       "II (2) 1.2 8V 69 LOUNGE                    686\n",
       "III 1.2 PURETECH 82 FEEL                   664\n",
       "IV 1.6 DCI 130 ENERGY INTENS               633\n",
       "1.6 DCI 130 ENERGY INTENS                  555\n",
       "                                          ... \n",
       "II (2) CABRIOLET D3 XENIUM                   1\n",
       "1.2 PURETECH 130CH S&S STYLE                 1\n",
       "V 1.0 71 MADE IN FRANCE                      1\n",
       "III (2) 1.6 16V 128 GORDINI 5P               1\n",
       "1.6 T-GDI LUXURY LAUNCH EDITION RED 4X4      1\n",
       "Name: version, Length: 31463, dtype: int64"
      ]
     },
     "execution_count": 113,
     "metadata": {},
     "output_type": "execute_result"
    }
   ],
   "source": [
    "df['version'].value_counts()"
   ]
  },
  {
   "cell_type": "code",
   "execution_count": 158,
   "metadata": {},
   "outputs": [],
   "source": [
    "df['Cylindree'] = df['version'].str.extract(r'(\\d\\.\\d)', expand=True)"
   ]
  },
  {
   "cell_type": "code",
   "execution_count": 168,
   "metadata": {},
   "outputs": [
    {
     "data": {
      "text/plain": [
       "30110"
      ]
     },
     "execution_count": 168,
     "metadata": {},
     "output_type": "execute_result"
    }
   ],
   "source": [
    "df['Cylindree'].isna().sum()"
   ]
  },
  {
   "cell_type": "code",
   "execution_count": 146,
   "metadata": {},
   "outputs": [],
   "source": [
    "df['chevaux_vapeur'] = df['version'].str.extract(r'( \\d+ |\\d+CH| \\d+$)', expand=True)"
   ]
  },
  {
   "cell_type": "code",
   "execution_count": 147,
   "metadata": {},
   "outputs": [
    {
     "data": {
      "text/plain": [
       "14872"
      ]
     },
     "execution_count": 147,
     "metadata": {},
     "output_type": "execute_result"
    }
   ],
   "source": [
    "df['chevaux_vapeur']= df['chevaux_vapeur'].str.replace(\"CH\", \"\")\n",
    "df['chevaux_vapeur'] = df['chevaux_vapeur'].str.replace(\" \", \"\")\n",
    "#df['chevaux_vapeur'].astype(int)\n",
    "df['chevaux_vapeur'].isna().sum()"
   ]
  },
  {
   "cell_type": "code",
   "execution_count": 150,
   "metadata": {},
   "outputs": [
    {
     "data": {
      "text/html": [
       "<div>\n",
       "<style scoped>\n",
       "    .dataframe tbody tr th:only-of-type {\n",
       "        vertical-align: middle;\n",
       "    }\n",
       "\n",
       "    .dataframe tbody tr th {\n",
       "        vertical-align: top;\n",
       "    }\n",
       "\n",
       "    .dataframe thead th {\n",
       "        text-align: right;\n",
       "    }\n",
       "</style>\n",
       "<table border=\"1\" class=\"dataframe\">\n",
       "  <thead>\n",
       "    <tr style=\"text-align: right;\">\n",
       "      <th></th>\n",
       "      <th>Make</th>\n",
       "      <th>version</th>\n",
       "      <th>puissance_fiscale</th>\n",
       "    </tr>\n",
       "  </thead>\n",
       "  <tbody>\n",
       "    <tr>\n",
       "      <th>19</th>\n",
       "      <td>TOYOTA</td>\n",
       "      <td>HSD 136H DESIGN</td>\n",
       "      <td>5</td>\n",
       "    </tr>\n",
       "    <tr>\n",
       "      <th>23</th>\n",
       "      <td>BMW</td>\n",
       "      <td>(F20) (2) 116DA M SPORT</td>\n",
       "      <td>6</td>\n",
       "    </tr>\n",
       "    <tr>\n",
       "      <th>24</th>\n",
       "      <td>JAGUAR</td>\n",
       "      <td>CABRIOLET 4.2 V8 SURALIMENTE BVA6</td>\n",
       "      <td>32</td>\n",
       "    </tr>\n",
       "    <tr>\n",
       "      <th>27</th>\n",
       "      <td>BMW</td>\n",
       "      <td>(F20) (2) 118D URBANCHIC 5P</td>\n",
       "      <td>7</td>\n",
       "    </tr>\n",
       "    <tr>\n",
       "      <th>43</th>\n",
       "      <td>PORSCHE</td>\n",
       "      <td>3.0 V6 S DIESEL</td>\n",
       "      <td>16</td>\n",
       "    </tr>\n",
       "    <tr>\n",
       "      <th>...</th>\n",
       "      <td>...</td>\n",
       "      <td>...</td>\n",
       "      <td>...</td>\n",
       "    </tr>\n",
       "    <tr>\n",
       "      <th>166633</th>\n",
       "      <td>PEUGEOT</td>\n",
       "      <td>1.0 TRENDY 2-TRONIC 5P</td>\n",
       "      <td>4</td>\n",
       "    </tr>\n",
       "    <tr>\n",
       "      <th>166650</th>\n",
       "      <td>CITROEN</td>\n",
       "      <td>2.0 HDI PACK</td>\n",
       "      <td>5</td>\n",
       "    </tr>\n",
       "    <tr>\n",
       "      <th>166653</th>\n",
       "      <td>HYUNDAI</td>\n",
       "      <td>2.9 CRDI PACK LUXE BVA</td>\n",
       "      <td>11</td>\n",
       "    </tr>\n",
       "    <tr>\n",
       "      <th>166671</th>\n",
       "      <td>VOLKSWAGEN</td>\n",
       "      <td>COMFORTLINE</td>\n",
       "      <td>7</td>\n",
       "    </tr>\n",
       "    <tr>\n",
       "      <th>166684</th>\n",
       "      <td>BMW</td>\n",
       "      <td>(F48) SDRIVE16D M SPORT</td>\n",
       "      <td>6</td>\n",
       "    </tr>\n",
       "  </tbody>\n",
       "</table>\n",
       "<p>14872 rows × 3 columns</p>\n",
       "</div>"
      ],
      "text/plain": [
       "              Make                            version puissance_fiscale\n",
       "19          TOYOTA                    HSD 136H DESIGN                 5\n",
       "23             BMW            (F20) (2) 116DA M SPORT                 6\n",
       "24          JAGUAR  CABRIOLET 4.2 V8 SURALIMENTE BVA6                32\n",
       "27             BMW        (F20) (2) 118D URBANCHIC 5P                 7\n",
       "43         PORSCHE                    3.0 V6 S DIESEL                16\n",
       "...            ...                                ...               ...\n",
       "166633     PEUGEOT             1.0 TRENDY 2-TRONIC 5P                 4\n",
       "166650     CITROEN                       2.0 HDI PACK                 5\n",
       "166653     HYUNDAI             2.9 CRDI PACK LUXE BVA                11\n",
       "166671  VOLKSWAGEN                        COMFORTLINE                 7\n",
       "166684         BMW            (F48) SDRIVE16D M SPORT                 6\n",
       "\n",
       "[14872 rows x 3 columns]"
      ]
     },
     "execution_count": 150,
     "metadata": {},
     "output_type": "execute_result"
    }
   ],
   "source": [
    "df[df['chevaux_vapeur'].isna()][['Make', 'version','puissance_fiscale']]"
   ]
  },
  {
   "cell_type": "code",
   "execution_count": 165,
   "metadata": {},
   "outputs": [
    {
     "data": {
      "text/plain": [
       "array(['92', '258', '560', '70', '95', '313', '140', '110', '115', '63',\n",
       "       '90', '116', '125', '75', '82', nan, '205', '180', '150', '120',\n",
       "       '320', '130', '170', '136', '105', '200', '190', '160', '350',\n",
       "       '69', '100', '112', '177', '245', '220', '143', '141', '50', '184',\n",
       "       '181', '124', '37', '85', '270', '155', '135', '122', '68', '165',\n",
       "       '65', '240', '156', '286', '109', '80', '500', '60', '175', '192',\n",
       "       '86', '1400', '218', '231', '394', '88', '272', '235', '707',\n",
       "       '142', '241', '420', '84', '6', '208', '430', '280', '605', '300',\n",
       "       '197', '211', '265', '182', '207', '204', '132', '2', '106', '250',\n",
       "       '380', '87', '325', '385', '166', '3', '173', '450', '328', '310',\n",
       "       '510', '111', '1300', '2015', '256', '262', '355', '134', '163',\n",
       "       '129', '210', '381', '117', '203', '61', '225', '520', '94', '147',\n",
       "       '368', '432', '71', '326', '81', '7', '43', '98', '460', '52',\n",
       "       '152', '4', '275', '230', '405', '330', '1250', '306', '400',\n",
       "       '550', '138', '440', '99', '215', '118', '102', '66', '185', '126',\n",
       "       '354', '431', '72', '77', '435', '466', '131', '62', '370', '340',\n",
       "       '128', '367', '67', '345', '610', '252', '1', '408', '45', '73',\n",
       "       '195', '1750', '407', '462', '295', '600', '54', '292', '299',\n",
       "       '416', '151', '334', '78', '575', '233', '339', '1600', '570',\n",
       "       '260', '517', '315', '333', '285', '595', '2012', '55', '477',\n",
       "       '114', '249', '187', '1500', '127', '8', '375', '2017', '284',\n",
       "       '09', '480', '2000', '64', '167', '436', '507', '133', '390',\n",
       "       '955', '571', '580', '290', '186', '331', '113', '30', '224',\n",
       "       '576', '530', '239', '373', '5', '145', '564', '244', '362', '525',\n",
       "       '188', '625', '455', '700', '1507', '2014', '33', '468', '51',\n",
       "       '255', '360', '193', '15', '289', '557', '3500', '264', '608',\n",
       "       '93', '304', '750', '234', '27', '17', '2018', '485', '158', '16',\n",
       "       '540', '26', '253', '948', '121', '736', '490', '171', '528', '40',\n",
       "       '24', '103', '3008', '585', '273', '415', '65000', '153', '444',\n",
       "       '11970', '34949', '1984', '214', '201', '398', '174', '650', '574',\n",
       "       '1942', '512', '659', '232', '35', '00067', '5000', '670', '344',\n",
       "       '254', '14', '194', '228', '32416', '76', '635', '10', '423',\n",
       "       '364', '305', '426', '00012', '97871', '283', '526', '05', '22',\n",
       "       '404', '32', '29', '311', '12', '745', '107', '1000', '9', '740',\n",
       "       '221', '91', '0', '149', '2002', '495', '710', '675', '329', '287',\n",
       "       '465', '476', '13', '1979', '97', '470', '396', '22928', '223',\n",
       "       '40900', '001', '347', '6900', '392', '0035', '157', '630', '372',\n",
       "       '79000', '178', '412', '20', '612', '276'], dtype=object)"
      ]
     },
     "execution_count": 165,
     "metadata": {},
     "output_type": "execute_result"
    }
   ],
   "source": [
    "df['chevaux_vapeur'].unique()"
   ]
  },
  {
   "cell_type": "code",
   "execution_count": 142,
   "metadata": {},
   "outputs": [
    {
     "data": {
      "text/plain": [
       "0    163838\n",
       "dtype: int64"
      ]
     },
     "execution_count": 142,
     "metadata": {},
     "output_type": "execute_result"
    }
   ],
   "source": [
    "df['version'].str.extract(r'(\\d+CV)', expand=True).isna().sum()"
   ]
  },
  {
   "cell_type": "code",
   "execution_count": 140,
   "metadata": {},
   "outputs": [
    {
     "data": {
      "text/plain": [
       "(166695, 26)"
      ]
     },
     "execution_count": 140,
     "metadata": {},
     "output_type": "execute_result"
    }
   ],
   "source": [
    "df.shape"
   ]
  },
  {
   "cell_type": "code",
   "execution_count": 117,
   "metadata": {},
   "outputs": [
    {
     "data": {
      "text/html": [
       "<div>\n",
       "<style scoped>\n",
       "    .dataframe tbody tr th:only-of-type {\n",
       "        vertical-align: middle;\n",
       "    }\n",
       "\n",
       "    .dataframe tbody tr th {\n",
       "        vertical-align: top;\n",
       "    }\n",
       "\n",
       "    .dataframe thead th {\n",
       "        text-align: right;\n",
       "    }\n",
       "</style>\n",
       "<table border=\"1\" class=\"dataframe\">\n",
       "  <thead>\n",
       "    <tr style=\"text-align: right;\">\n",
       "      <th></th>\n",
       "      <th>Price</th>\n",
       "      <th>Make</th>\n",
       "      <th>Model</th>\n",
       "      <th>Model_year</th>\n",
       "      <th>Mileage</th>\n",
       "      <th>Fuel</th>\n",
       "      <th>Gearbox</th>\n",
       "      <th>Online</th>\n",
       "      <th>Description</th>\n",
       "      <th>Online_date</th>\n",
       "      <th>...</th>\n",
       "      <th>Online_minute</th>\n",
       "      <th>Online_week_day</th>\n",
       "      <th>age</th>\n",
       "      <th>modele</th>\n",
       "      <th>version</th>\n",
       "      <th>puissance_fiscale</th>\n",
       "      <th>portes</th>\n",
       "      <th>couleur</th>\n",
       "      <th>options</th>\n",
       "      <th>version_number</th>\n",
       "    </tr>\n",
       "  </thead>\n",
       "  <tbody>\n",
       "    <tr>\n",
       "      <th>216</th>\n",
       "      <td>24132.0</td>\n",
       "      <td>RENAULT</td>\n",
       "      <td>SCENIC</td>\n",
       "      <td>2017</td>\n",
       "      <td>14</td>\n",
       "      <td>Diesel</td>\n",
       "      <td>mécanique</td>\n",
       "      <td>2018-07-17 14:34:00</td>\n",
       "      <td>modele: SCENIC 4, version: IV 1.6 DCI 130 ENERGY INTENS, puissance_fiscale: 7, portes: 5.0, options: écran tactile;témoin de bouclage des ceintures av;radar de recul;volant cuir;régulateur limiteur de vitesse;prises audio auxiliaires;cache bagages;rétroviseurs électriques;airbag frontal;banquette 1/3 - 2/3;miroir surveillance enfant places ar;vitres ar. surteintées;commandes vocales;sièges rang 2 rabattables à plat;système de détection de somnolence;bacs de portes arrière;GPS;services connectés;prise audio USB;6 haut parleurs;poignées ton carrosserie;plafonnier central av et ar à led;système d'éclairage intelligent;régulateur de vitesse;carte main libre;boucliers av et ar couleur caisse;phares av. de jour à LED;airbags rideaux;projecteurs antibrouillard;accoudoir central arrière;blanc glacier;climatisation automatique multi zone;siège conducteur avec réglage lombaire;vitres électriques;eclairage d'ambiance;caméra de recul;stores de vitres latérales;banquette rabattable;filtre à pollen;interface media;siège passager avec réglage lombaire;tmc;rétroviseurs rabattables électriquement;porte-gobelets avant;répétiteurs de clignotant dans rétro ext;ecran multifonction couleur;aide parking;commande mode eco;AFU;contrôle de pression des pneus;airbags front. + lat.;lampes de lecture à l'arrière;système anti-éblouissement;sièges réglables en hauteur;essuie-glaces automatiques;alerte franchissement ligne;EBD;température extérieure;système Start &amp; Stop;témoin de bouclage ceinture conducteur;système audio;feux automatiques;easy park assist;fermeture électrique;ceinture de vitrage chromée;ESP;tablette arrière;fermeture électrique automatique;bacs de portes avant;boite à gants fermée;toit panoramique;miroir de courtoisie conducteur éclairé;anti patinage;accoudoir central avant;commandes du système audio au volant;rangement sous siège conducteur;fixations ISOFIX;poches d'aumonières;aide au démarrage en côte;lampes de lecture à l'avant;reconnaissance panneaux de signalisation;ordinateur de bord;rétroviseurs dégivrants;volant réglable en hauteur et profondeur;eclairage au sol;siège conducteur réglable hauteur;kit téléphone main libre bluetooth;boite à gants réfrigérée;ABS;ceintures avant ajustables en hauteur;prise 12V;frein de parking automatique;compte tours;pommeau de levier vitesse en cuir;3 ceintures ar. 3 points;siège passager avec dossier repliable;rétroviseur int. jour/nuit auto;système audio carte SD;miroir de courtoisie passager éclairé;banquette coulissante;avertisseur d'angle mort;ouverture des vitres séquentielle, couleur: blanc</td>\n",
       "      <td>2018-07-17</td>\n",
       "      <td>...</td>\n",
       "      <td>34</td>\n",
       "      <td>1</td>\n",
       "      <td>1</td>\n",
       "      <td>SCENIC 4</td>\n",
       "      <td>IV 1.6 DCI 130 ENERGY INTENS</td>\n",
       "      <td>7</td>\n",
       "      <td>5.0</td>\n",
       "      <td>BLANC</td>\n",
       "      <td>écran tactile;témoin de bouclage des ceintures av;radar de recul;volant cuir;régulateur limiteur de vitesse;prises audio auxiliaires;cache bagages;rétroviseurs électriques;airbag frontal;banquette 1/3 - 2/3;miroir surveillance enfant places ar;vitres ar. surteintées;commandes vocales;sièges rang 2 rabattables à plat;système de détection de somnolence;bacs de portes arrière;GPS;services connectés;prise audio USB;6 haut parleurs;poignées ton carrosserie;plafonnier central av et ar à led;système d'éclairage intelligent;régulateur de vitesse;carte main libre;boucliers av et ar couleur caisse;phares av. de jour à LED;airbags rideaux;projecteurs antibrouillard;accoudoir central arrière;blanc glacier;climatisation automatique multi zone;siège conducteur avec réglage lombaire;vitres électriques;eclairage d'ambiance;caméra de recul;stores de vitres latérales;banquette rabattable;filtre à pollen;interface media;siège passager avec réglage lombaire;tmc;rétroviseurs rabattables électriquement;porte-gobelets avant;répétiteurs de clignotant dans rétro ext;ecran multifonction couleur;aide parking;commande mode eco;AFU;contrôle de pression des pneus;airbags front. + lat.;lampes de lecture à l'arrière;système anti-éblouissement;sièges réglables en hauteur;essuie-glaces automatiques;alerte franchissement ligne;EBD;température extérieure;système Start &amp; Stop;témoin de bouclage ceinture conducteur;système audio;feux automatiques;easy park assist;fermeture électrique;ceinture de vitrage chromée;ESP;tablette arrière;fermeture électrique automatique;bacs de portes avant;boite à gants fermée;toit panoramique;miroir de courtoisie conducteur éclairé;anti patinage;accoudoir central avant;commandes du système audio au volant;rangement sous siège conducteur;fixations ISOFIX;poches d'aumonières;aide au démarrage en côte;lampes de lecture à l'avant;reconnaissance panneaux de signalisation;ordinateur de bord;rétroviseurs dégivrants;volant réglable en hauteur et profondeur;eclairage au sol;siège conducteur réglable hauteur;kit téléphone main libre bluetooth;boite à gants réfrigérée;ABS;ceintures avant ajustables en hauteur;prise 12V;frein de parking automatique;compte tours;pommeau de levier vitesse en cuir;3 ceintures ar. 3 points;siège passager avec dossier repliable;rétroviseur int. jour/nuit auto;système audio carte SD;miroir de courtoisie passager éclairé;banquette coulissante;avertisseur d'angle mort;ouverture des vitres séquentielle</td>\n",
       "      <td>1.6</td>\n",
       "    </tr>\n",
       "    <tr>\n",
       "      <th>445</th>\n",
       "      <td>18896.0</td>\n",
       "      <td>RENAULT</td>\n",
       "      <td>MEGANE</td>\n",
       "      <td>2016</td>\n",
       "      <td>1</td>\n",
       "      <td>Diesel</td>\n",
       "      <td>mécanique</td>\n",
       "      <td>2018-06-24 16:14:00</td>\n",
       "      <td>modele: MEGANE 4, version: IV 1.6 DCI 130 ENERGY INTENS, puissance_fiscale: 6, portes: 5.0, options: régulateur limiteur de vitesse;rétroviseurs électriques;GPS;régulateur de vitesse;carte main libre;jantes alu;boucliers av et ar couleur caisse;phares av. de jour à LED;projecteurs antibrouillard;climatisation automatique multi zone;rétroviseurs rabattables électriquement;roue de secours 15&amp;quot;aide parking;feux ar. à LED;essuie-glaces automatiques;système Start &amp; Stop;feux automatiques;ESP;accoudoir central avant;reconnaissance panneaux de signalisation;kit téléphone main libre bluetooth;frein de parking automatique;gris titanium, couleur: GRIS TITANIUM</td>\n",
       "      <td>2018-06-24</td>\n",
       "      <td>...</td>\n",
       "      <td>14</td>\n",
       "      <td>6</td>\n",
       "      <td>2</td>\n",
       "      <td>MEGANE 4</td>\n",
       "      <td>IV 1.6 DCI 130 ENERGY INTENS</td>\n",
       "      <td>6</td>\n",
       "      <td>5.0</td>\n",
       "      <td>GRIS TITANIUM</td>\n",
       "      <td>régulateur limiteur de vitesse;rétroviseurs électriques;GPS;régulateur de vitesse;carte main libre;jantes alu;boucliers av et ar couleur caisse;phares av. de jour à LED;projecteurs antibrouillard;climatisation automatique multi zone;rétroviseurs rabattables électriquement;roue de secours 15&amp;quot;aide parking;feux ar. à LED;essuie-glaces automatiques;système Start &amp; Stop;feux automatiques;ESP;accoudoir central avant;reconnaissance panneaux de signalisation;kit téléphone main libre bluetooth;frein de parking automatique;gris titanium</td>\n",
       "      <td>1.6</td>\n",
       "    </tr>\n",
       "    <tr>\n",
       "      <th>678</th>\n",
       "      <td>17846.0</td>\n",
       "      <td>RENAULT</td>\n",
       "      <td>MEGANE</td>\n",
       "      <td>2016</td>\n",
       "      <td>15510</td>\n",
       "      <td>Diesel</td>\n",
       "      <td>mécanique</td>\n",
       "      <td>2018-05-14 02:39:00</td>\n",
       "      <td>modele: MEGANE 4, version: IV 1.6 DCI 130 ENERGY INTENS, puissance_fiscale: 6, portes: 5.0, options: affichage tête haute;vitres ar. surteintées;régulateur de vitesse;carte main libre;vitres électriques;peinture noir etoilé;rétroviseurs rabattables électriquement;essuie-glaces automatiques;cartographie europe;lève-vitres électriques av impulsionnels;frein de parking automatique;roue de secours, couleur: Noir</td>\n",
       "      <td>2018-05-14</td>\n",
       "      <td>...</td>\n",
       "      <td>39</td>\n",
       "      <td>0</td>\n",
       "      <td>2</td>\n",
       "      <td>MEGANE 4</td>\n",
       "      <td>IV 1.6 DCI 130 ENERGY INTENS</td>\n",
       "      <td>6</td>\n",
       "      <td>5.0</td>\n",
       "      <td>NOIR</td>\n",
       "      <td>affichage tête haute;vitres ar. surteintées;régulateur de vitesse;carte main libre;vitres électriques;peinture noir etoilé;rétroviseurs rabattables électriquement;essuie-glaces automatiques;cartographie europe;lève-vitres électriques av impulsionnels;frein de parking automatique;roue de secours</td>\n",
       "      <td>1.6</td>\n",
       "    </tr>\n",
       "    <tr>\n",
       "      <th>885</th>\n",
       "      <td>19750.0</td>\n",
       "      <td>RENAULT</td>\n",
       "      <td>MEGANE</td>\n",
       "      <td>2016</td>\n",
       "      <td>14824</td>\n",
       "      <td>Diesel</td>\n",
       "      <td>mécanique</td>\n",
       "      <td>2018-05-12 13:26:00</td>\n",
       "      <td>modele: MEGANE 4, version: IV 1.6 DCI 130 ENERGY INTENS, puissance_fiscale: 6, portes: 5.0, options: full pack gt-line;roue de secours, couleur: ROUGE FLAMME</td>\n",
       "      <td>2018-05-12</td>\n",
       "      <td>...</td>\n",
       "      <td>26</td>\n",
       "      <td>5</td>\n",
       "      <td>2</td>\n",
       "      <td>MEGANE 4</td>\n",
       "      <td>IV 1.6 DCI 130 ENERGY INTENS</td>\n",
       "      <td>6</td>\n",
       "      <td>5.0</td>\n",
       "      <td>ROUGE FLAMME</td>\n",
       "      <td>full pack gt-line;roue de secours</td>\n",
       "      <td>1.6</td>\n",
       "    </tr>\n",
       "    <tr>\n",
       "      <th>929</th>\n",
       "      <td>21966.0</td>\n",
       "      <td>RENAULT</td>\n",
       "      <td>MEGANE</td>\n",
       "      <td>2017</td>\n",
       "      <td>5000</td>\n",
       "      <td>Diesel</td>\n",
       "      <td>mécanique</td>\n",
       "      <td>2018-08-01 01:46:00</td>\n",
       "      <td>modele: MEGANE 4, version: IV 1.6 DCI 130 ENERGY INTENS, puissance_fiscale: 6, portes: 5.0, options: banquette arrière 3 places;écran tactile;volant cuir;régulateur limiteur de vitesse;prises audio auxiliaires;sorties d'échappement chromées;direction assistée;affichage tête haute;rétroviseurs électriques;airbag frontal;banquette 1/3 - 2/3;vitres ar. surteintées;appui-tête conducteur réglable hauteur;commandes vocales;vitres teintées;bacs de portes arrière;GPS;services connectés;prise audio USB;poignées ton carrosserie;plafonnier central av et ar à led;commande du comportement dynamique;système d'éclairage intelligent;régulateur de vitesse;carte main libre;jantes alu;boucliers av et ar couleur caisse;phares av. de jour à LED;airbags rideaux;projecteurs antibrouillard;climatisation automatique multi zone;siège conducteur avec réglage lombaire;vitres électriques;eclairage d'ambiance;caméra de recul;banquette rabattable;appui-tête passager réglable en hauteur;filtre à pollen;tmc;rétroviseurs rabattables électriquement;répétiteurs de clignotant dans rétro ext;roue de secours 15&amp;quot;ecran multifonction couleur;aide parking;commande mode eco;feux ar. à LED;AFU;kit de réparation crevaison;contrôle de pression des pneus;airbags front. + lat.;sièges réglables en hauteur;essuie-glaces automatiques;alerte franchissement ligne;EBD;système Start &amp; Stop;système audio;feux automatiques;fermeture électrique;ceinture de vitrage chromée;ESP;fermeture électrique automatique;bacs de portes avant;boite à gants fermée;miroir de courtoisie conducteur éclairé;anti patinage;accoudoir central avant;commandes du système audio au volant;fixations ISOFIX;poches d'aumonières;aide au démarrage en côte;lampes de lecture à l'avant;reconnaissance panneaux de signalisation;essuie-glace arrière;rétroviseurs dégivrants;système audio CD;volant réglable en hauteur et profondeur;eclairage au sol;siège conducteur réglable hauteur;kit téléphone main libre bluetooth;ABS;ceintures avant ajustables en hauteur;prise 12V;FAP;frein de parking automatique;compte tours;gris titanium;3 ceintures ar. 3 points;rétroviseur int. jour/nuit auto;miroir de courtoisie passager éclairé;volant multifonctions;ouverture des vitres séquentielle;jantes alu 18&amp;quot, couleur: GRIS</td>\n",
       "      <td>2018-08-01</td>\n",
       "      <td>...</td>\n",
       "      <td>46</td>\n",
       "      <td>2</td>\n",
       "      <td>1</td>\n",
       "      <td>MEGANE 4</td>\n",
       "      <td>IV 1.6 DCI 130 ENERGY INTENS</td>\n",
       "      <td>6</td>\n",
       "      <td>5.0</td>\n",
       "      <td>GRIS</td>\n",
       "      <td>banquette arrière 3 places;écran tactile;volant cuir;régulateur limiteur de vitesse;prises audio auxiliaires;sorties d'échappement chromées;direction assistée;affichage tête haute;rétroviseurs électriques;airbag frontal;banquette 1/3 - 2/3;vitres ar. surteintées;appui-tête conducteur réglable hauteur;commandes vocales;vitres teintées;bacs de portes arrière;GPS;services connectés;prise audio USB;poignées ton carrosserie;plafonnier central av et ar à led;commande du comportement dynamique;système d'éclairage intelligent;régulateur de vitesse;carte main libre;jantes alu;boucliers av et ar couleur caisse;phares av. de jour à LED;airbags rideaux;projecteurs antibrouillard;climatisation automatique multi zone;siège conducteur avec réglage lombaire;vitres électriques;eclairage d'ambiance;caméra de recul;banquette rabattable;appui-tête passager réglable en hauteur;filtre à pollen;tmc;rétroviseurs rabattables électriquement;répétiteurs de clignotant dans rétro ext;roue de secours 15&amp;quot;ecran multifonction couleur;aide parking;commande mode eco;feux ar. à LED;AFU;kit de réparation crevaison;contrôle de pression des pneus;airbags front. + lat.;sièges réglables en hauteur;essuie-glaces automatiques;alerte franchissement ligne;EBD;système Start &amp; Stop;système audio;feux automatiques;fermeture électrique;ceinture de vitrage chromée;ESP;fermeture électrique automatique;bacs de portes avant;boite à gants fermée;miroir de courtoisie conducteur éclairé;anti patinage;accoudoir central avant;commandes du système audio au volant;fixations ISOFIX;poches d'aumonières;aide au démarrage en côte;lampes de lecture à l'avant;reconnaissance panneaux de signalisation;essuie-glace arrière;rétroviseurs dégivrants;système audio CD;volant réglable en hauteur et profondeur;eclairage au sol;siège conducteur réglable hauteur;kit téléphone main libre bluetooth;ABS;ceintures avant ajustables en hauteur;prise 12V;FAP;frein de parking automatique;compte tours;gris titanium;3 ceintures ar. 3 points;rétroviseur int. jour/nuit auto;miroir de courtoisie passager éclairé;volant multifonctions;ouverture des vitres séquentielle;jantes alu 18&amp;quot</td>\n",
       "      <td>1.6</td>\n",
       "    </tr>\n",
       "    <tr>\n",
       "      <th>...</th>\n",
       "      <td>...</td>\n",
       "      <td>...</td>\n",
       "      <td>...</td>\n",
       "      <td>...</td>\n",
       "      <td>...</td>\n",
       "      <td>...</td>\n",
       "      <td>...</td>\n",
       "      <td>...</td>\n",
       "      <td>...</td>\n",
       "      <td>...</td>\n",
       "      <td>...</td>\n",
       "      <td>...</td>\n",
       "      <td>...</td>\n",
       "      <td>...</td>\n",
       "      <td>...</td>\n",
       "      <td>...</td>\n",
       "      <td>...</td>\n",
       "      <td>...</td>\n",
       "      <td>...</td>\n",
       "      <td>...</td>\n",
       "      <td>...</td>\n",
       "    </tr>\n",
       "    <tr>\n",
       "      <th>166449</th>\n",
       "      <td>24196.0</td>\n",
       "      <td>RENAULT</td>\n",
       "      <td>SCENIC</td>\n",
       "      <td>2017</td>\n",
       "      <td>313</td>\n",
       "      <td>Diesel</td>\n",
       "      <td>mécanique</td>\n",
       "      <td>2018-05-26 20:25:00</td>\n",
       "      <td>modele: SCENIC 4, version: IV 1.6 DCI 130 ENERGY INTENS, puissance_fiscale: 7, portes: 5.0, options: écran tactile;témoin de bouclage des ceintures av;radar de recul;volant cuir;régulateur limiteur de vitesse;prises audio auxiliaires;cache bagages;rétroviseurs électriques;airbag frontal;banquette 1/3 - 2/3;miroir surveillance enfant places ar;vitres ar. surteintées;commandes vocales;sièges rang 2 rabattables à plat;système de détection de somnolence;bacs de portes arrière;GPS;services connectés;prise audio USB;6 haut parleurs;poignées ton carrosserie;plafonnier central av et ar à led;système d'éclairage intelligent;régulateur de vitesse;carte main libre;boucliers av et ar couleur caisse;phares av. de jour à LED;airbags rideaux;projecteurs antibrouillard;accoudoir central arrière;blanc glacier;climatisation automatique multi zone;siège conducteur avec réglage lombaire;vitres électriques;eclairage d'ambiance;caméra de recul;stores de vitres latérales;banquette rabattable;filtre à pollen;interface media;siège passager avec réglage lombaire;tmc;rétroviseurs rabattables électriquement;porte-gobelets avant;répétiteurs de clignotant dans rétro ext;ecran multifonction couleur;aide parking;commande mode eco;AFU;contrôle de pression des pneus;airbags front. + lat.;lampes de lecture à l'arrière;système anti-éblouissement;sièges réglables en hauteur;essuie-glaces automatiques;alerte franchissement ligne;EBD;température extérieure;système Start &amp; Stop;témoin de bouclage ceinture conducteur;système audio;feux automatiques;fermeture électrique;ceinture de vitrage chromée;ESP;tablette arrière;fermeture électrique automatique;bacs de portes avant;boite à gants fermée;miroir de courtoisie conducteur éclairé;anti patinage;accoudoir central avant;commandes du système audio au volant;rangement sous siège conducteur;fixations ISOFIX;poches d'aumonières;aide au démarrage en côte;lampes de lecture à l'avant;reconnaissance panneaux de signalisation;ordinateur de bord;rétroviseurs dégivrants;volant réglable en hauteur et profondeur;eclairage au sol;siège conducteur réglable hauteur;kit téléphone main libre bluetooth;boite à gants réfrigérée;ABS;ceintures avant ajustables en hauteur;prise 12V;frein de parking automatique;compte tours;pommeau de levier vitesse en cuir;3 ceintures ar. 3 points;siège passager avec dossier repliable;rétroviseur int. jour/nuit auto;système audio carte SD;miroir de courtoisie passager éclairé;banquette coulissante;avertisseur d'angle mort;ouverture des vitres séquentielle, couleur: NOIR ETOILE</td>\n",
       "      <td>2018-05-26</td>\n",
       "      <td>...</td>\n",
       "      <td>25</td>\n",
       "      <td>5</td>\n",
       "      <td>1</td>\n",
       "      <td>SCENIC 4</td>\n",
       "      <td>IV 1.6 DCI 130 ENERGY INTENS</td>\n",
       "      <td>7</td>\n",
       "      <td>5.0</td>\n",
       "      <td>NOIR ETOILE</td>\n",
       "      <td>écran tactile;témoin de bouclage des ceintures av;radar de recul;volant cuir;régulateur limiteur de vitesse;prises audio auxiliaires;cache bagages;rétroviseurs électriques;airbag frontal;banquette 1/3 - 2/3;miroir surveillance enfant places ar;vitres ar. surteintées;commandes vocales;sièges rang 2 rabattables à plat;système de détection de somnolence;bacs de portes arrière;GPS;services connectés;prise audio USB;6 haut parleurs;poignées ton carrosserie;plafonnier central av et ar à led;système d'éclairage intelligent;régulateur de vitesse;carte main libre;boucliers av et ar couleur caisse;phares av. de jour à LED;airbags rideaux;projecteurs antibrouillard;accoudoir central arrière;blanc glacier;climatisation automatique multi zone;siège conducteur avec réglage lombaire;vitres électriques;eclairage d'ambiance;caméra de recul;stores de vitres latérales;banquette rabattable;filtre à pollen;interface media;siège passager avec réglage lombaire;tmc;rétroviseurs rabattables électriquement;porte-gobelets avant;répétiteurs de clignotant dans rétro ext;ecran multifonction couleur;aide parking;commande mode eco;AFU;contrôle de pression des pneus;airbags front. + lat.;lampes de lecture à l'arrière;système anti-éblouissement;sièges réglables en hauteur;essuie-glaces automatiques;alerte franchissement ligne;EBD;température extérieure;système Start &amp; Stop;témoin de bouclage ceinture conducteur;système audio;feux automatiques;fermeture électrique;ceinture de vitrage chromée;ESP;tablette arrière;fermeture électrique automatique;bacs de portes avant;boite à gants fermée;miroir de courtoisie conducteur éclairé;anti patinage;accoudoir central avant;commandes du système audio au volant;rangement sous siège conducteur;fixations ISOFIX;poches d'aumonières;aide au démarrage en côte;lampes de lecture à l'avant;reconnaissance panneaux de signalisation;ordinateur de bord;rétroviseurs dégivrants;volant réglable en hauteur et profondeur;eclairage au sol;siège conducteur réglable hauteur;kit téléphone main libre bluetooth;boite à gants réfrigérée;ABS;ceintures avant ajustables en hauteur;prise 12V;frein de parking automatique;compte tours;pommeau de levier vitesse en cuir;3 ceintures ar. 3 points;siège passager avec dossier repliable;rétroviseur int. jour/nuit auto;système audio carte SD;miroir de courtoisie passager éclairé;banquette coulissante;avertisseur d'angle mort;ouverture des vitres séquentielle</td>\n",
       "      <td>1.6</td>\n",
       "    </tr>\n",
       "    <tr>\n",
       "      <th>166454</th>\n",
       "      <td>18016.0</td>\n",
       "      <td>RENAULT</td>\n",
       "      <td>MEGANE</td>\n",
       "      <td>2016</td>\n",
       "      <td>21685</td>\n",
       "      <td>Diesel</td>\n",
       "      <td>mécanique</td>\n",
       "      <td>2018-07-15 03:26:00</td>\n",
       "      <td>modele: MEGANE 4, version: IV 1.6 DCI 130 ENERGY INTENS, puissance_fiscale: 6, portes: 5.0, options: affichage tête haute;carte main libre;caméra de recul;aide parking;cartographie europe;peinture métallisée;climatisation automatique;roue de secours;détecteur de pluie, couleur: gris</td>\n",
       "      <td>2018-07-15</td>\n",
       "      <td>...</td>\n",
       "      <td>26</td>\n",
       "      <td>6</td>\n",
       "      <td>2</td>\n",
       "      <td>MEGANE 4</td>\n",
       "      <td>IV 1.6 DCI 130 ENERGY INTENS</td>\n",
       "      <td>6</td>\n",
       "      <td>5.0</td>\n",
       "      <td>GRIS</td>\n",
       "      <td>affichage tête haute;carte main libre;caméra de recul;aide parking;cartographie europe;peinture métallisée;climatisation automatique;roue de secours;détecteur de pluie</td>\n",
       "      <td>1.6</td>\n",
       "    </tr>\n",
       "    <tr>\n",
       "      <th>166493</th>\n",
       "      <td>20365.0</td>\n",
       "      <td>RENAULT</td>\n",
       "      <td>MEGANE</td>\n",
       "      <td>2018</td>\n",
       "      <td>10</td>\n",
       "      <td>Diesel</td>\n",
       "      <td>mécanique</td>\n",
       "      <td>2018-07-18 17:30:00</td>\n",
       "      <td>modele: MEGANE 4, version: IV 1.6 DCI 130 ENERGY INTENS, puissance_fiscale: 6, portes: 5.0, options: banquette arrière 3 places;écran tactile;volant cuir;régulateur limiteur de vitesse;système de récupération d'énergie au freinage;prises audio auxiliaires;sorties d'échappement chromées;direction assistée;affichage tête haute;rétroviseurs électriques;airbag frontal;banquette 1/3 - 2/3;vitres ar. surteintées;appui-tête conducteur réglable hauteur;commandes vocales;vitres teintées;bacs de portes arrière;GPS;services connectés;prise audio USB;poignées ton carrosserie;plafonnier central av et ar à led;commande du comportement dynamique;système d'éclairage intelligent;régulateur de vitesse;carte main libre;jantes alu;boucliers av et ar couleur caisse;phares av. de jour à LED;airbags rideaux;projecteurs antibrouillard;blanc glacier;climatisation automatique multi zone;siège conducteur avec réglage lombaire;vitres électriques;eclairage d'ambiance;caméra de recul;banquette rabattable;appui-tête passager réglable en hauteur;filtre à pollen;interface media;tmc;rétroviseurs rabattables électriquement;répétiteurs de clignotant dans rétro ext;ecran multifonction couleur;aide parking;commande mode eco;feux ar. à LED;AFU;kit de réparation crevaison;contrôle de pression des pneus;airbags front. + lat.;sièges réglables en hauteur;essuie-glaces automatiques;régulateur de vitesse adaptatif;alerte franchissement ligne;EBD;sellerie mixte similicuir / velour noir;système Start &amp; Stop;système audio;feux automatiques;fermeture électrique;ceinture de vitrage chromée;ESP;fermeture électrique automatique;bacs de portes avant;boite à gants fermée;miroir de courtoisie conducteur éclairé;anti patinage;accoudoir central avant;commandes du système audio au volant;fixations ISOFIX;poches d'aumonières;aide au démarrage en côte;lampes de lecture à l'avant;reconnaissance panneaux de signalisation;essuie-glace arrière;rétroviseurs dégivrants;système audio CD;volant réglable en hauteur et profondeur;eclairage au sol;siège conducteur réglable hauteur;kit téléphone main libre bluetooth;ABS;ceintures avant ajustables en hauteur;prise 12V;FAP;frein de parking automatique;compte tours;pommeau de levier vitesse en cuir;gris titanium;3 ceintures ar. 3 points;pack easy parking;rétroviseur int. jour/nuit auto;système audio BOSE;miroir de courtoisie passager éclairé;volant multifonctions;ouverture des vitres séquentielle, couleur: GRIS TITANIUM</td>\n",
       "      <td>2018-07-18</td>\n",
       "      <td>...</td>\n",
       "      <td>30</td>\n",
       "      <td>2</td>\n",
       "      <td>0</td>\n",
       "      <td>MEGANE 4</td>\n",
       "      <td>IV 1.6 DCI 130 ENERGY INTENS</td>\n",
       "      <td>6</td>\n",
       "      <td>5.0</td>\n",
       "      <td>GRIS TITANIUM</td>\n",
       "      <td>banquette arrière 3 places;écran tactile;volant cuir;régulateur limiteur de vitesse;système de récupération d'énergie au freinage;prises audio auxiliaires;sorties d'échappement chromées;direction assistée;affichage tête haute;rétroviseurs électriques;airbag frontal;banquette 1/3 - 2/3;vitres ar. surteintées;appui-tête conducteur réglable hauteur;commandes vocales;vitres teintées;bacs de portes arrière;GPS;services connectés;prise audio USB;poignées ton carrosserie;plafonnier central av et ar à led;commande du comportement dynamique;système d'éclairage intelligent;régulateur de vitesse;carte main libre;jantes alu;boucliers av et ar couleur caisse;phares av. de jour à LED;airbags rideaux;projecteurs antibrouillard;blanc glacier;climatisation automatique multi zone;siège conducteur avec réglage lombaire;vitres électriques;eclairage d'ambiance;caméra de recul;banquette rabattable;appui-tête passager réglable en hauteur;filtre à pollen;interface media;tmc;rétroviseurs rabattables électriquement;répétiteurs de clignotant dans rétro ext;ecran multifonction couleur;aide parking;commande mode eco;feux ar. à LED;AFU;kit de réparation crevaison;contrôle de pression des pneus;airbags front. + lat.;sièges réglables en hauteur;essuie-glaces automatiques;régulateur de vitesse adaptatif;alerte franchissement ligne;EBD;sellerie mixte similicuir / velour noir;système Start &amp; Stop;système audio;feux automatiques;fermeture électrique;ceinture de vitrage chromée;ESP;fermeture électrique automatique;bacs de portes avant;boite à gants fermée;miroir de courtoisie conducteur éclairé;anti patinage;accoudoir central avant;commandes du système audio au volant;fixations ISOFIX;poches d'aumonières;aide au démarrage en côte;lampes de lecture à l'avant;reconnaissance panneaux de signalisation;essuie-glace arrière;rétroviseurs dégivrants;système audio CD;volant réglable en hauteur et profondeur;eclairage au sol;siège conducteur réglable hauteur;kit téléphone main libre bluetooth;ABS;ceintures avant ajustables en hauteur;prise 12V;FAP;frein de parking automatique;compte tours;pommeau de levier vitesse en cuir;gris titanium;3 ceintures ar. 3 points;pack easy parking;rétroviseur int. jour/nuit auto;système audio BOSE;miroir de courtoisie passager éclairé;volant multifonctions;ouverture des vitres séquentielle</td>\n",
       "      <td>1.6</td>\n",
       "    </tr>\n",
       "    <tr>\n",
       "      <th>166518</th>\n",
       "      <td>20069.0</td>\n",
       "      <td>RENAULT</td>\n",
       "      <td>MEGANE</td>\n",
       "      <td>2016</td>\n",
       "      <td>5602</td>\n",
       "      <td>Diesel</td>\n",
       "      <td>mécanique</td>\n",
       "      <td>2018-09-14 14:44:00</td>\n",
       "      <td>modele: MEGANE 4, version: IV 1.6 DCI 130 ENERGY INTENS, puissance_fiscale: 6, portes: 5.0, options: vitres ar. surteintées;régulateur de vitesse;carte main libre;projecteurs antibrouillard;vitres électriques;rétroviseurs rabattables électriquement;essuie-glaces automatiques;cartographie europe;lève-vitres électriques av impulsionnels;ABS;frein de parking automatique;roue de secours;rétroviseur int. jour/nuit auto, couleur: Gris clair</td>\n",
       "      <td>2018-09-14</td>\n",
       "      <td>...</td>\n",
       "      <td>44</td>\n",
       "      <td>4</td>\n",
       "      <td>2</td>\n",
       "      <td>MEGANE 4</td>\n",
       "      <td>IV 1.6 DCI 130 ENERGY INTENS</td>\n",
       "      <td>6</td>\n",
       "      <td>5.0</td>\n",
       "      <td>GRIS CLAIR</td>\n",
       "      <td>vitres ar. surteintées;régulateur de vitesse;carte main libre;projecteurs antibrouillard;vitres électriques;rétroviseurs rabattables électriquement;essuie-glaces automatiques;cartographie europe;lève-vitres électriques av impulsionnels;ABS;frein de parking automatique;roue de secours;rétroviseur int. jour/nuit auto</td>\n",
       "      <td>1.6</td>\n",
       "    </tr>\n",
       "    <tr>\n",
       "      <th>166607</th>\n",
       "      <td>23579.0</td>\n",
       "      <td>RENAULT</td>\n",
       "      <td>SCENIC</td>\n",
       "      <td>2017</td>\n",
       "      <td>10</td>\n",
       "      <td>Diesel</td>\n",
       "      <td>mécanique</td>\n",
       "      <td>2018-05-24 12:24:00</td>\n",
       "      <td>modele: SCENIC 4, version: IV 1.6 DCI 130 ENERGY INTENS, puissance_fiscale: 7, portes: 5.0, options: régulateur limiteur de vitesse;affichage tête haute;airbags latéraux;régulateur de vitesse;commutation automatique des feux de route/croisement;carte main libre;jantes alu;phares av. de jour à LED;airbags rideaux;projecteurs antibrouillard;vitres électriques;caméra de recul;jantes alu 20&amp;quot;alerte détection de fatigue;rétroviseurs rabattables électriquement;aide au parking latéral;aide parking;alerte de survitesse avec reconnaissance des panneaux de signalisation;AFU;carnet d'entretien;alerte franchissement ligne;harmonie carbone foncé;siège passager av avec réglage lombaire;android auto &amp; apple carplay;avertisseurs d'angles morts;fixations ISOFIX;aide au démarrage en côte;console centrale de rangement coulissante avec accoudoir;teinte bi-ton;modularité one-touch;ABS;prise 12V;frein de parking automatique;climatisation automatique;roue de secours;rideaux pare soleil;rétroviseur int. jour/nuit auto;airbags frontaux;vitres surteintées;r-link 2 navigation avec cartographie europe, couleur: blanc</td>\n",
       "      <td>2018-05-24</td>\n",
       "      <td>...</td>\n",
       "      <td>24</td>\n",
       "      <td>3</td>\n",
       "      <td>1</td>\n",
       "      <td>SCENIC 4</td>\n",
       "      <td>IV 1.6 DCI 130 ENERGY INTENS</td>\n",
       "      <td>7</td>\n",
       "      <td>5.0</td>\n",
       "      <td>BLANC</td>\n",
       "      <td>régulateur limiteur de vitesse;affichage tête haute;airbags latéraux;régulateur de vitesse;commutation automatique des feux de route/croisement;carte main libre;jantes alu;phares av. de jour à LED;airbags rideaux;projecteurs antibrouillard;vitres électriques;caméra de recul;jantes alu 20&amp;quot;alerte détection de fatigue;rétroviseurs rabattables électriquement;aide au parking latéral;aide parking;alerte de survitesse avec reconnaissance des panneaux de signalisation;AFU;carnet d'entretien;alerte franchissement ligne;harmonie carbone foncé;siège passager av avec réglage lombaire;android auto &amp; apple carplay;avertisseurs d'angles morts;fixations ISOFIX;aide au démarrage en côte;console centrale de rangement coulissante avec accoudoir;teinte bi-ton;modularité one-touch;ABS;prise 12V;frein de parking automatique;climatisation automatique;roue de secours;rideaux pare soleil;rétroviseur int. jour/nuit auto;airbags frontaux;vitres surteintées;r-link 2 navigation avec cartographie europe</td>\n",
       "      <td>1.6</td>\n",
       "    </tr>\n",
       "  </tbody>\n",
       "</table>\n",
       "<p>633 rows × 25 columns</p>\n",
       "</div>"
      ],
      "text/plain": [
       "          Price     Make   Model  Model_year  Mileage    Fuel    Gearbox  \\\n",
       "216     24132.0  RENAULT  SCENIC        2017       14  Diesel  mécanique   \n",
       "445     18896.0  RENAULT  MEGANE        2016        1  Diesel  mécanique   \n",
       "678     17846.0  RENAULT  MEGANE        2016    15510  Diesel  mécanique   \n",
       "885     19750.0  RENAULT  MEGANE        2016    14824  Diesel  mécanique   \n",
       "929     21966.0  RENAULT  MEGANE        2017     5000  Diesel  mécanique   \n",
       "...         ...      ...     ...         ...      ...     ...        ...   \n",
       "166449  24196.0  RENAULT  SCENIC        2017      313  Diesel  mécanique   \n",
       "166454  18016.0  RENAULT  MEGANE        2016    21685  Diesel  mécanique   \n",
       "166493  20365.0  RENAULT  MEGANE        2018       10  Diesel  mécanique   \n",
       "166518  20069.0  RENAULT  MEGANE        2016     5602  Diesel  mécanique   \n",
       "166607  23579.0  RENAULT  SCENIC        2017       10  Diesel  mécanique   \n",
       "\n",
       "                    Online  \\\n",
       "216    2018-07-17 14:34:00   \n",
       "445    2018-06-24 16:14:00   \n",
       "678    2018-05-14 02:39:00   \n",
       "885    2018-05-12 13:26:00   \n",
       "929    2018-08-01 01:46:00   \n",
       "...                    ...   \n",
       "166449 2018-05-26 20:25:00   \n",
       "166454 2018-07-15 03:26:00   \n",
       "166493 2018-07-18 17:30:00   \n",
       "166518 2018-09-14 14:44:00   \n",
       "166607 2018-05-24 12:24:00   \n",
       "\n",
       "                                                                                                                                                                                                                                                                                                                                                                                                                                                                                                                                                                                                                                                                                                                                                                                                                                                                                                                                                                                                                                                                                                                                                                                                                                                                                                                                                                                                                                                                                                                                                                                                                                                                                                                                                                                                                                                                                                                                                                                                                                                                                                                                                                                                                                                                                                                                                                                                                                                                                                                                                                                                                                                                    Description  \\\n",
       "216     modele: SCENIC 4, version: IV 1.6 DCI 130 ENERGY INTENS, puissance_fiscale: 7, portes: 5.0, options: écran tactile;témoin de bouclage des ceintures av;radar de recul;volant cuir;régulateur limiteur de vitesse;prises audio auxiliaires;cache bagages;rétroviseurs électriques;airbag frontal;banquette 1/3 - 2/3;miroir surveillance enfant places ar;vitres ar. surteintées;commandes vocales;sièges rang 2 rabattables à plat;système de détection de somnolence;bacs de portes arrière;GPS;services connectés;prise audio USB;6 haut parleurs;poignées ton carrosserie;plafonnier central av et ar à led;système d'éclairage intelligent;régulateur de vitesse;carte main libre;boucliers av et ar couleur caisse;phares av. de jour à LED;airbags rideaux;projecteurs antibrouillard;accoudoir central arrière;blanc glacier;climatisation automatique multi zone;siège conducteur avec réglage lombaire;vitres électriques;eclairage d'ambiance;caméra de recul;stores de vitres latérales;banquette rabattable;filtre à pollen;interface media;siège passager avec réglage lombaire;tmc;rétroviseurs rabattables électriquement;porte-gobelets avant;répétiteurs de clignotant dans rétro ext;ecran multifonction couleur;aide parking;commande mode eco;AFU;contrôle de pression des pneus;airbags front. + lat.;lampes de lecture à l'arrière;système anti-éblouissement;sièges réglables en hauteur;essuie-glaces automatiques;alerte franchissement ligne;EBD;température extérieure;système Start & Stop;témoin de bouclage ceinture conducteur;système audio;feux automatiques;easy park assist;fermeture électrique;ceinture de vitrage chromée;ESP;tablette arrière;fermeture électrique automatique;bacs de portes avant;boite à gants fermée;toit panoramique;miroir de courtoisie conducteur éclairé;anti patinage;accoudoir central avant;commandes du système audio au volant;rangement sous siège conducteur;fixations ISOFIX;poches d'aumonières;aide au démarrage en côte;lampes de lecture à l'avant;reconnaissance panneaux de signalisation;ordinateur de bord;rétroviseurs dégivrants;volant réglable en hauteur et profondeur;eclairage au sol;siège conducteur réglable hauteur;kit téléphone main libre bluetooth;boite à gants réfrigérée;ABS;ceintures avant ajustables en hauteur;prise 12V;frein de parking automatique;compte tours;pommeau de levier vitesse en cuir;3 ceintures ar. 3 points;siège passager avec dossier repliable;rétroviseur int. jour/nuit auto;système audio carte SD;miroir de courtoisie passager éclairé;banquette coulissante;avertisseur d'angle mort;ouverture des vitres séquentielle, couleur: blanc   \n",
       "445                                                                                                                                                                                                                                                                                                                                                                                                                                                                                                                                                                                                                                                                                                                                                                                                                                                                                                                                                                                                                                                                                                                                                                                                                                                                                                                                                                                                                                                                                                                                                                                                                                                                                                                                                                                                                                                                                                                                                                                      modele: MEGANE 4, version: IV 1.6 DCI 130 ENERGY INTENS, puissance_fiscale: 6, portes: 5.0, options: régulateur limiteur de vitesse;rétroviseurs électriques;GPS;régulateur de vitesse;carte main libre;jantes alu;boucliers av et ar couleur caisse;phares av. de jour à LED;projecteurs antibrouillard;climatisation automatique multi zone;rétroviseurs rabattables électriquement;roue de secours 15&quot;aide parking;feux ar. à LED;essuie-glaces automatiques;système Start & Stop;feux automatiques;ESP;accoudoir central avant;reconnaissance panneaux de signalisation;kit téléphone main libre bluetooth;frein de parking automatique;gris titanium, couleur: GRIS TITANIUM   \n",
       "678                                                                                                                                                                                                                                                                                                                                                                                                                                                                                                                                                                                                                                                                                                                                                                                                                                                                                                                                                                                                                                                                                                                                                                                                                                                                                                                                                                                                                                                                                                                                                                                                                                                                                                                                                                                                                                                                                                                                                                                                                                                                                                                                                                                                                                                 modele: MEGANE 4, version: IV 1.6 DCI 130 ENERGY INTENS, puissance_fiscale: 6, portes: 5.0, options: affichage tête haute;vitres ar. surteintées;régulateur de vitesse;carte main libre;vitres électriques;peinture noir etoilé;rétroviseurs rabattables électriquement;essuie-glaces automatiques;cartographie europe;lève-vitres électriques av impulsionnels;frein de parking automatique;roue de secours, couleur: Noir   \n",
       "885                                                                                                                                                                                                                                                                                                                                                                                                                                                                                                                                                                                                                                                                                                                                                                                                                                                                                                                                                                                                                                                                                                                                                                                                                                                                                                                                                                                                                                                                                                                                                                                                                                                                                                                                                                                                                                                                                                                                                                                                                                                                                                                                                                                                                                                                                                                                                                                                                                                                                                               modele: MEGANE 4, version: IV 1.6 DCI 130 ENERGY INTENS, puissance_fiscale: 6, portes: 5.0, options: full pack gt-line;roue de secours, couleur: ROUGE FLAMME   \n",
       "929                                                                                                                                                                                                                                                                                                                              modele: MEGANE 4, version: IV 1.6 DCI 130 ENERGY INTENS, puissance_fiscale: 6, portes: 5.0, options: banquette arrière 3 places;écran tactile;volant cuir;régulateur limiteur de vitesse;prises audio auxiliaires;sorties d'échappement chromées;direction assistée;affichage tête haute;rétroviseurs électriques;airbag frontal;banquette 1/3 - 2/3;vitres ar. surteintées;appui-tête conducteur réglable hauteur;commandes vocales;vitres teintées;bacs de portes arrière;GPS;services connectés;prise audio USB;poignées ton carrosserie;plafonnier central av et ar à led;commande du comportement dynamique;système d'éclairage intelligent;régulateur de vitesse;carte main libre;jantes alu;boucliers av et ar couleur caisse;phares av. de jour à LED;airbags rideaux;projecteurs antibrouillard;climatisation automatique multi zone;siège conducteur avec réglage lombaire;vitres électriques;eclairage d'ambiance;caméra de recul;banquette rabattable;appui-tête passager réglable en hauteur;filtre à pollen;tmc;rétroviseurs rabattables électriquement;répétiteurs de clignotant dans rétro ext;roue de secours 15&quot;ecran multifonction couleur;aide parking;commande mode eco;feux ar. à LED;AFU;kit de réparation crevaison;contrôle de pression des pneus;airbags front. + lat.;sièges réglables en hauteur;essuie-glaces automatiques;alerte franchissement ligne;EBD;système Start & Stop;système audio;feux automatiques;fermeture électrique;ceinture de vitrage chromée;ESP;fermeture électrique automatique;bacs de portes avant;boite à gants fermée;miroir de courtoisie conducteur éclairé;anti patinage;accoudoir central avant;commandes du système audio au volant;fixations ISOFIX;poches d'aumonières;aide au démarrage en côte;lampes de lecture à l'avant;reconnaissance panneaux de signalisation;essuie-glace arrière;rétroviseurs dégivrants;système audio CD;volant réglable en hauteur et profondeur;eclairage au sol;siège conducteur réglable hauteur;kit téléphone main libre bluetooth;ABS;ceintures avant ajustables en hauteur;prise 12V;FAP;frein de parking automatique;compte tours;gris titanium;3 ceintures ar. 3 points;rétroviseur int. jour/nuit auto;miroir de courtoisie passager éclairé;volant multifonctions;ouverture des vitres séquentielle;jantes alu 18&quot, couleur: GRIS   \n",
       "...                                                                                                                                                                                                                                                                                                                                                                                                                                                                                                                                                                                                                                                                                                                                                                                                                                                                                                                                                                                                                                                                                                                                                                                                                                                                                                                                                                                                                                                                                                                                                                                                                                                                                                                                                                                                                                                                                                                                                                                                                                                                                                                                                                                                                                                                                                                                                                                                                                                                                                                                                                                                                                                                         ...   \n",
       "166449                              modele: SCENIC 4, version: IV 1.6 DCI 130 ENERGY INTENS, puissance_fiscale: 7, portes: 5.0, options: écran tactile;témoin de bouclage des ceintures av;radar de recul;volant cuir;régulateur limiteur de vitesse;prises audio auxiliaires;cache bagages;rétroviseurs électriques;airbag frontal;banquette 1/3 - 2/3;miroir surveillance enfant places ar;vitres ar. surteintées;commandes vocales;sièges rang 2 rabattables à plat;système de détection de somnolence;bacs de portes arrière;GPS;services connectés;prise audio USB;6 haut parleurs;poignées ton carrosserie;plafonnier central av et ar à led;système d'éclairage intelligent;régulateur de vitesse;carte main libre;boucliers av et ar couleur caisse;phares av. de jour à LED;airbags rideaux;projecteurs antibrouillard;accoudoir central arrière;blanc glacier;climatisation automatique multi zone;siège conducteur avec réglage lombaire;vitres électriques;eclairage d'ambiance;caméra de recul;stores de vitres latérales;banquette rabattable;filtre à pollen;interface media;siège passager avec réglage lombaire;tmc;rétroviseurs rabattables électriquement;porte-gobelets avant;répétiteurs de clignotant dans rétro ext;ecran multifonction couleur;aide parking;commande mode eco;AFU;contrôle de pression des pneus;airbags front. + lat.;lampes de lecture à l'arrière;système anti-éblouissement;sièges réglables en hauteur;essuie-glaces automatiques;alerte franchissement ligne;EBD;température extérieure;système Start & Stop;témoin de bouclage ceinture conducteur;système audio;feux automatiques;fermeture électrique;ceinture de vitrage chromée;ESP;tablette arrière;fermeture électrique automatique;bacs de portes avant;boite à gants fermée;miroir de courtoisie conducteur éclairé;anti patinage;accoudoir central avant;commandes du système audio au volant;rangement sous siège conducteur;fixations ISOFIX;poches d'aumonières;aide au démarrage en côte;lampes de lecture à l'avant;reconnaissance panneaux de signalisation;ordinateur de bord;rétroviseurs dégivrants;volant réglable en hauteur et profondeur;eclairage au sol;siège conducteur réglable hauteur;kit téléphone main libre bluetooth;boite à gants réfrigérée;ABS;ceintures avant ajustables en hauteur;prise 12V;frein de parking automatique;compte tours;pommeau de levier vitesse en cuir;3 ceintures ar. 3 points;siège passager avec dossier repliable;rétroviseur int. jour/nuit auto;système audio carte SD;miroir de courtoisie passager éclairé;banquette coulissante;avertisseur d'angle mort;ouverture des vitres séquentielle, couleur: NOIR ETOILE   \n",
       "166454                                                                                                                                                                                                                                                                                                                                                                                                                                                                                                                                                                                                                                                                                                                                                                                                                                                                                                                                                                                                                                                                                                                                                                                                                                                                                                                                                                                                                                                                                                                                                                                                                                                                                                                                                                                                                                                                                                                                                                                                                                                                                                                                                                                                                                                                                                                                                                              modele: MEGANE 4, version: IV 1.6 DCI 130 ENERGY INTENS, puissance_fiscale: 6, portes: 5.0, options: affichage tête haute;carte main libre;caméra de recul;aide parking;cartographie europe;peinture métallisée;climatisation automatique;roue de secours;détecteur de pluie, couleur: gris   \n",
       "166493                                                                                                                                  modele: MEGANE 4, version: IV 1.6 DCI 130 ENERGY INTENS, puissance_fiscale: 6, portes: 5.0, options: banquette arrière 3 places;écran tactile;volant cuir;régulateur limiteur de vitesse;système de récupération d'énergie au freinage;prises audio auxiliaires;sorties d'échappement chromées;direction assistée;affichage tête haute;rétroviseurs électriques;airbag frontal;banquette 1/3 - 2/3;vitres ar. surteintées;appui-tête conducteur réglable hauteur;commandes vocales;vitres teintées;bacs de portes arrière;GPS;services connectés;prise audio USB;poignées ton carrosserie;plafonnier central av et ar à led;commande du comportement dynamique;système d'éclairage intelligent;régulateur de vitesse;carte main libre;jantes alu;boucliers av et ar couleur caisse;phares av. de jour à LED;airbags rideaux;projecteurs antibrouillard;blanc glacier;climatisation automatique multi zone;siège conducteur avec réglage lombaire;vitres électriques;eclairage d'ambiance;caméra de recul;banquette rabattable;appui-tête passager réglable en hauteur;filtre à pollen;interface media;tmc;rétroviseurs rabattables électriquement;répétiteurs de clignotant dans rétro ext;ecran multifonction couleur;aide parking;commande mode eco;feux ar. à LED;AFU;kit de réparation crevaison;contrôle de pression des pneus;airbags front. + lat.;sièges réglables en hauteur;essuie-glaces automatiques;régulateur de vitesse adaptatif;alerte franchissement ligne;EBD;sellerie mixte similicuir / velour noir;système Start & Stop;système audio;feux automatiques;fermeture électrique;ceinture de vitrage chromée;ESP;fermeture électrique automatique;bacs de portes avant;boite à gants fermée;miroir de courtoisie conducteur éclairé;anti patinage;accoudoir central avant;commandes du système audio au volant;fixations ISOFIX;poches d'aumonières;aide au démarrage en côte;lampes de lecture à l'avant;reconnaissance panneaux de signalisation;essuie-glace arrière;rétroviseurs dégivrants;système audio CD;volant réglable en hauteur et profondeur;eclairage au sol;siège conducteur réglable hauteur;kit téléphone main libre bluetooth;ABS;ceintures avant ajustables en hauteur;prise 12V;FAP;frein de parking automatique;compte tours;pommeau de levier vitesse en cuir;gris titanium;3 ceintures ar. 3 points;pack easy parking;rétroviseur int. jour/nuit auto;système audio BOSE;miroir de courtoisie passager éclairé;volant multifonctions;ouverture des vitres séquentielle, couleur: GRIS TITANIUM   \n",
       "166518                                                                                                                                                                                                                                                                                                                                                                                                                                                                                                                                                                                                                                                                                                                                                                                                                                                                                                                                                                                                                                                                                                                                                                                                                                                                                                                                                                                                                                                                                                                                                                                                                                                                                                                                                                                                                                                                                                                                                                                                                                                                                                                                                                                                                   modele: MEGANE 4, version: IV 1.6 DCI 130 ENERGY INTENS, puissance_fiscale: 6, portes: 5.0, options: vitres ar. surteintées;régulateur de vitesse;carte main libre;projecteurs antibrouillard;vitres électriques;rétroviseurs rabattables électriquement;essuie-glaces automatiques;cartographie europe;lève-vitres électriques av impulsionnels;ABS;frein de parking automatique;roue de secours;rétroviseur int. jour/nuit auto, couleur: Gris clair   \n",
       "166607                                                                                                                                                                                                                                                                                                                                                                                                                                                                                                                                                                                                                                                                                                                                                                                                                                                                                                                                                                                                                                                                                                                                                                                                                                                                                                                                                                                                                                                                                                                   modele: SCENIC 4, version: IV 1.6 DCI 130 ENERGY INTENS, puissance_fiscale: 7, portes: 5.0, options: régulateur limiteur de vitesse;affichage tête haute;airbags latéraux;régulateur de vitesse;commutation automatique des feux de route/croisement;carte main libre;jantes alu;phares av. de jour à LED;airbags rideaux;projecteurs antibrouillard;vitres électriques;caméra de recul;jantes alu 20&quot;alerte détection de fatigue;rétroviseurs rabattables électriquement;aide au parking latéral;aide parking;alerte de survitesse avec reconnaissance des panneaux de signalisation;AFU;carnet d'entretien;alerte franchissement ligne;harmonie carbone foncé;siège passager av avec réglage lombaire;android auto & apple carplay;avertisseurs d'angles morts;fixations ISOFIX;aide au démarrage en côte;console centrale de rangement coulissante avec accoudoir;teinte bi-ton;modularité one-touch;ABS;prise 12V;frein de parking automatique;climatisation automatique;roue de secours;rideaux pare soleil;rétroviseur int. jour/nuit auto;airbags frontaux;vitres surteintées;r-link 2 navigation avec cartographie europe, couleur: blanc   \n",
       "\n",
       "       Online_date  ... Online_minute  Online_week_day  age    modele  \\\n",
       "216     2018-07-17  ...            34                1    1  SCENIC 4   \n",
       "445     2018-06-24  ...            14                6    2  MEGANE 4   \n",
       "678     2018-05-14  ...            39                0    2  MEGANE 4   \n",
       "885     2018-05-12  ...            26                5    2  MEGANE 4   \n",
       "929     2018-08-01  ...            46                2    1  MEGANE 4   \n",
       "...            ...  ...           ...              ...  ...       ...   \n",
       "166449  2018-05-26  ...            25                5    1  SCENIC 4   \n",
       "166454  2018-07-15  ...            26                6    2  MEGANE 4   \n",
       "166493  2018-07-18  ...            30                2    0  MEGANE 4   \n",
       "166518  2018-09-14  ...            44                4    2  MEGANE 4   \n",
       "166607  2018-05-24  ...            24                3    1  SCENIC 4   \n",
       "\n",
       "                             version  puissance_fiscale  portes  \\\n",
       "216     IV 1.6 DCI 130 ENERGY INTENS                  7     5.0   \n",
       "445     IV 1.6 DCI 130 ENERGY INTENS                  6     5.0   \n",
       "678     IV 1.6 DCI 130 ENERGY INTENS                  6     5.0   \n",
       "885     IV 1.6 DCI 130 ENERGY INTENS                  6     5.0   \n",
       "929     IV 1.6 DCI 130 ENERGY INTENS                  6     5.0   \n",
       "...                              ...                ...     ...   \n",
       "166449  IV 1.6 DCI 130 ENERGY INTENS                  7     5.0   \n",
       "166454  IV 1.6 DCI 130 ENERGY INTENS                  6     5.0   \n",
       "166493  IV 1.6 DCI 130 ENERGY INTENS                  6     5.0   \n",
       "166518  IV 1.6 DCI 130 ENERGY INTENS                  6     5.0   \n",
       "166607  IV 1.6 DCI 130 ENERGY INTENS                  7     5.0   \n",
       "\n",
       "              couleur  \\\n",
       "216             BLANC   \n",
       "445     GRIS TITANIUM   \n",
       "678              NOIR   \n",
       "885      ROUGE FLAMME   \n",
       "929              GRIS   \n",
       "...               ...   \n",
       "166449    NOIR ETOILE   \n",
       "166454           GRIS   \n",
       "166493  GRIS TITANIUM   \n",
       "166518     GRIS CLAIR   \n",
       "166607          BLANC   \n",
       "\n",
       "                                                                                                                                                                                                                                                                                                                                                                                                                                                                                                                                                                                                                                                                                                                                                                                                                                                                                                                                                                                                                                                                                                                                                                                                                                                                                                                                                                                                                                                                                                                                                                                                                                                                                                                                                                                                                                                                                                                                                                                                                                                                                                                                                                                                                                                                                                                                                                                                                                                                                                                                                   options  \\\n",
       "216     écran tactile;témoin de bouclage des ceintures av;radar de recul;volant cuir;régulateur limiteur de vitesse;prises audio auxiliaires;cache bagages;rétroviseurs électriques;airbag frontal;banquette 1/3 - 2/3;miroir surveillance enfant places ar;vitres ar. surteintées;commandes vocales;sièges rang 2 rabattables à plat;système de détection de somnolence;bacs de portes arrière;GPS;services connectés;prise audio USB;6 haut parleurs;poignées ton carrosserie;plafonnier central av et ar à led;système d'éclairage intelligent;régulateur de vitesse;carte main libre;boucliers av et ar couleur caisse;phares av. de jour à LED;airbags rideaux;projecteurs antibrouillard;accoudoir central arrière;blanc glacier;climatisation automatique multi zone;siège conducteur avec réglage lombaire;vitres électriques;eclairage d'ambiance;caméra de recul;stores de vitres latérales;banquette rabattable;filtre à pollen;interface media;siège passager avec réglage lombaire;tmc;rétroviseurs rabattables électriquement;porte-gobelets avant;répétiteurs de clignotant dans rétro ext;ecran multifonction couleur;aide parking;commande mode eco;AFU;contrôle de pression des pneus;airbags front. + lat.;lampes de lecture à l'arrière;système anti-éblouissement;sièges réglables en hauteur;essuie-glaces automatiques;alerte franchissement ligne;EBD;température extérieure;système Start & Stop;témoin de bouclage ceinture conducteur;système audio;feux automatiques;easy park assist;fermeture électrique;ceinture de vitrage chromée;ESP;tablette arrière;fermeture électrique automatique;bacs de portes avant;boite à gants fermée;toit panoramique;miroir de courtoisie conducteur éclairé;anti patinage;accoudoir central avant;commandes du système audio au volant;rangement sous siège conducteur;fixations ISOFIX;poches d'aumonières;aide au démarrage en côte;lampes de lecture à l'avant;reconnaissance panneaux de signalisation;ordinateur de bord;rétroviseurs dégivrants;volant réglable en hauteur et profondeur;eclairage au sol;siège conducteur réglable hauteur;kit téléphone main libre bluetooth;boite à gants réfrigérée;ABS;ceintures avant ajustables en hauteur;prise 12V;frein de parking automatique;compte tours;pommeau de levier vitesse en cuir;3 ceintures ar. 3 points;siège passager avec dossier repliable;rétroviseur int. jour/nuit auto;système audio carte SD;miroir de courtoisie passager éclairé;banquette coulissante;avertisseur d'angle mort;ouverture des vitres séquentielle   \n",
       "445                                                                                                                                                                                                                                                                                                                                                                                                                                                                                                                                                                                                                                                                                                                                                                                                                                                                                                                                                                                                                                                                                                                                                                                                                                                                                                                                                                                                                                                                                                                                                                                                                                                                                                                                                                                                                                                                                                                                                                                              régulateur limiteur de vitesse;rétroviseurs électriques;GPS;régulateur de vitesse;carte main libre;jantes alu;boucliers av et ar couleur caisse;phares av. de jour à LED;projecteurs antibrouillard;climatisation automatique multi zone;rétroviseurs rabattables électriquement;roue de secours 15&quot;aide parking;feux ar. à LED;essuie-glaces automatiques;système Start & Stop;feux automatiques;ESP;accoudoir central avant;reconnaissance panneaux de signalisation;kit téléphone main libre bluetooth;frein de parking automatique;gris titanium   \n",
       "678                                                                                                                                                                                                                                                                                                                                                                                                                                                                                                                                                                                                                                                                                                                                                                                                                                                                                                                                                                                                                                                                                                                                                                                                                                                                                                                                                                                                                                                                                                                                                                                                                                                                                                                                                                                                                                                                                                                                                                                                                                                                                                                                                                                                                                                affichage tête haute;vitres ar. surteintées;régulateur de vitesse;carte main libre;vitres électriques;peinture noir etoilé;rétroviseurs rabattables électriquement;essuie-glaces automatiques;cartographie europe;lève-vitres électriques av impulsionnels;frein de parking automatique;roue de secours   \n",
       "885                                                                                                                                                                                                                                                                                                                                                                                                                                                                                                                                                                                                                                                                                                                                                                                                                                                                                                                                                                                                                                                                                                                                                                                                                                                                                                                                                                                                                                                                                                                                                                                                                                                                                                                                                                                                                                                                                                                                                                                                                                                                                                                                                                                                                                                                                                                                                                                                                                                                                                                      full pack gt-line;roue de secours   \n",
       "929                                                                                                                                                                                                                                                                                                                             banquette arrière 3 places;écran tactile;volant cuir;régulateur limiteur de vitesse;prises audio auxiliaires;sorties d'échappement chromées;direction assistée;affichage tête haute;rétroviseurs électriques;airbag frontal;banquette 1/3 - 2/3;vitres ar. surteintées;appui-tête conducteur réglable hauteur;commandes vocales;vitres teintées;bacs de portes arrière;GPS;services connectés;prise audio USB;poignées ton carrosserie;plafonnier central av et ar à led;commande du comportement dynamique;système d'éclairage intelligent;régulateur de vitesse;carte main libre;jantes alu;boucliers av et ar couleur caisse;phares av. de jour à LED;airbags rideaux;projecteurs antibrouillard;climatisation automatique multi zone;siège conducteur avec réglage lombaire;vitres électriques;eclairage d'ambiance;caméra de recul;banquette rabattable;appui-tête passager réglable en hauteur;filtre à pollen;tmc;rétroviseurs rabattables électriquement;répétiteurs de clignotant dans rétro ext;roue de secours 15&quot;ecran multifonction couleur;aide parking;commande mode eco;feux ar. à LED;AFU;kit de réparation crevaison;contrôle de pression des pneus;airbags front. + lat.;sièges réglables en hauteur;essuie-glaces automatiques;alerte franchissement ligne;EBD;système Start & Stop;système audio;feux automatiques;fermeture électrique;ceinture de vitrage chromée;ESP;fermeture électrique automatique;bacs de portes avant;boite à gants fermée;miroir de courtoisie conducteur éclairé;anti patinage;accoudoir central avant;commandes du système audio au volant;fixations ISOFIX;poches d'aumonières;aide au démarrage en côte;lampes de lecture à l'avant;reconnaissance panneaux de signalisation;essuie-glace arrière;rétroviseurs dégivrants;système audio CD;volant réglable en hauteur et profondeur;eclairage au sol;siège conducteur réglable hauteur;kit téléphone main libre bluetooth;ABS;ceintures avant ajustables en hauteur;prise 12V;FAP;frein de parking automatique;compte tours;gris titanium;3 ceintures ar. 3 points;rétroviseur int. jour/nuit auto;miroir de courtoisie passager éclairé;volant multifonctions;ouverture des vitres séquentielle;jantes alu 18&quot   \n",
       "...                                                                                                                                                                                                                                                                                                                                                                                                                                                                                                                                                                                                                                                                                                                                                                                                                                                                                                                                                                                                                                                                                                                                                                                                                                                                                                                                                                                                                                                                                                                                                                                                                                                                                                                                                                                                                                                                                                                                                                                                                                                                                                                                                                                                                                                                                                                                                                                                                                                                                                                                                    ...   \n",
       "166449                                    écran tactile;témoin de bouclage des ceintures av;radar de recul;volant cuir;régulateur limiteur de vitesse;prises audio auxiliaires;cache bagages;rétroviseurs électriques;airbag frontal;banquette 1/3 - 2/3;miroir surveillance enfant places ar;vitres ar. surteintées;commandes vocales;sièges rang 2 rabattables à plat;système de détection de somnolence;bacs de portes arrière;GPS;services connectés;prise audio USB;6 haut parleurs;poignées ton carrosserie;plafonnier central av et ar à led;système d'éclairage intelligent;régulateur de vitesse;carte main libre;boucliers av et ar couleur caisse;phares av. de jour à LED;airbags rideaux;projecteurs antibrouillard;accoudoir central arrière;blanc glacier;climatisation automatique multi zone;siège conducteur avec réglage lombaire;vitres électriques;eclairage d'ambiance;caméra de recul;stores de vitres latérales;banquette rabattable;filtre à pollen;interface media;siège passager avec réglage lombaire;tmc;rétroviseurs rabattables électriquement;porte-gobelets avant;répétiteurs de clignotant dans rétro ext;ecran multifonction couleur;aide parking;commande mode eco;AFU;contrôle de pression des pneus;airbags front. + lat.;lampes de lecture à l'arrière;système anti-éblouissement;sièges réglables en hauteur;essuie-glaces automatiques;alerte franchissement ligne;EBD;température extérieure;système Start & Stop;témoin de bouclage ceinture conducteur;système audio;feux automatiques;fermeture électrique;ceinture de vitrage chromée;ESP;tablette arrière;fermeture électrique automatique;bacs de portes avant;boite à gants fermée;miroir de courtoisie conducteur éclairé;anti patinage;accoudoir central avant;commandes du système audio au volant;rangement sous siège conducteur;fixations ISOFIX;poches d'aumonières;aide au démarrage en côte;lampes de lecture à l'avant;reconnaissance panneaux de signalisation;ordinateur de bord;rétroviseurs dégivrants;volant réglable en hauteur et profondeur;eclairage au sol;siège conducteur réglable hauteur;kit téléphone main libre bluetooth;boite à gants réfrigérée;ABS;ceintures avant ajustables en hauteur;prise 12V;frein de parking automatique;compte tours;pommeau de levier vitesse en cuir;3 ceintures ar. 3 points;siège passager avec dossier repliable;rétroviseur int. jour/nuit auto;système audio carte SD;miroir de courtoisie passager éclairé;banquette coulissante;avertisseur d'angle mort;ouverture des vitres séquentielle   \n",
       "166454                                                                                                                                                                                                                                                                                                                                                                                                                                                                                                                                                                                                                                                                                                                                                                                                                                                                                                                                                                                                                                                                                                                                                                                                                                                                                                                                                                                                                                                                                                                                                                                                                                                                                                                                                                                                                                                                                                                                                                                                                                                                                                                                                                                                                                                                                                                                                                             affichage tête haute;carte main libre;caméra de recul;aide parking;cartographie europe;peinture métallisée;climatisation automatique;roue de secours;détecteur de pluie   \n",
       "166493                                                                                                                                          banquette arrière 3 places;écran tactile;volant cuir;régulateur limiteur de vitesse;système de récupération d'énergie au freinage;prises audio auxiliaires;sorties d'échappement chromées;direction assistée;affichage tête haute;rétroviseurs électriques;airbag frontal;banquette 1/3 - 2/3;vitres ar. surteintées;appui-tête conducteur réglable hauteur;commandes vocales;vitres teintées;bacs de portes arrière;GPS;services connectés;prise audio USB;poignées ton carrosserie;plafonnier central av et ar à led;commande du comportement dynamique;système d'éclairage intelligent;régulateur de vitesse;carte main libre;jantes alu;boucliers av et ar couleur caisse;phares av. de jour à LED;airbags rideaux;projecteurs antibrouillard;blanc glacier;climatisation automatique multi zone;siège conducteur avec réglage lombaire;vitres électriques;eclairage d'ambiance;caméra de recul;banquette rabattable;appui-tête passager réglable en hauteur;filtre à pollen;interface media;tmc;rétroviseurs rabattables électriquement;répétiteurs de clignotant dans rétro ext;ecran multifonction couleur;aide parking;commande mode eco;feux ar. à LED;AFU;kit de réparation crevaison;contrôle de pression des pneus;airbags front. + lat.;sièges réglables en hauteur;essuie-glaces automatiques;régulateur de vitesse adaptatif;alerte franchissement ligne;EBD;sellerie mixte similicuir / velour noir;système Start & Stop;système audio;feux automatiques;fermeture électrique;ceinture de vitrage chromée;ESP;fermeture électrique automatique;bacs de portes avant;boite à gants fermée;miroir de courtoisie conducteur éclairé;anti patinage;accoudoir central avant;commandes du système audio au volant;fixations ISOFIX;poches d'aumonières;aide au démarrage en côte;lampes de lecture à l'avant;reconnaissance panneaux de signalisation;essuie-glace arrière;rétroviseurs dégivrants;système audio CD;volant réglable en hauteur et profondeur;eclairage au sol;siège conducteur réglable hauteur;kit téléphone main libre bluetooth;ABS;ceintures avant ajustables en hauteur;prise 12V;FAP;frein de parking automatique;compte tours;pommeau de levier vitesse en cuir;gris titanium;3 ceintures ar. 3 points;pack easy parking;rétroviseur int. jour/nuit auto;système audio BOSE;miroir de courtoisie passager éclairé;volant multifonctions;ouverture des vitres séquentielle   \n",
       "166518                                                                                                                                                                                                                                                                                                                                                                                                                                                                                                                                                                                                                                                                                                                                                                                                                                                                                                                                                                                                                                                                                                                                                                                                                                                                                                                                                                                                                                                                                                                                                                                                                                                                                                                                                                                                                                                                                                                                                                                                                                                                                                                                                                                                                        vitres ar. surteintées;régulateur de vitesse;carte main libre;projecteurs antibrouillard;vitres électriques;rétroviseurs rabattables électriquement;essuie-glaces automatiques;cartographie europe;lève-vitres électriques av impulsionnels;ABS;frein de parking automatique;roue de secours;rétroviseur int. jour/nuit auto   \n",
       "166607                                                                                                                                                                                                                                                                                                                                                                                                                                                                                                                                                                                                                                                                                                                                                                                                                                                                                                                                                                                                                                                                                                                                                                                                                                                                                                                                                                                                                                                                                                                   régulateur limiteur de vitesse;affichage tête haute;airbags latéraux;régulateur de vitesse;commutation automatique des feux de route/croisement;carte main libre;jantes alu;phares av. de jour à LED;airbags rideaux;projecteurs antibrouillard;vitres électriques;caméra de recul;jantes alu 20&quot;alerte détection de fatigue;rétroviseurs rabattables électriquement;aide au parking latéral;aide parking;alerte de survitesse avec reconnaissance des panneaux de signalisation;AFU;carnet d'entretien;alerte franchissement ligne;harmonie carbone foncé;siège passager av avec réglage lombaire;android auto & apple carplay;avertisseurs d'angles morts;fixations ISOFIX;aide au démarrage en côte;console centrale de rangement coulissante avec accoudoir;teinte bi-ton;modularité one-touch;ABS;prise 12V;frein de parking automatique;climatisation automatique;roue de secours;rideaux pare soleil;rétroviseur int. jour/nuit auto;airbags frontaux;vitres surteintées;r-link 2 navigation avec cartographie europe   \n",
       "\n",
       "       version_number  \n",
       "216               1.6  \n",
       "445               1.6  \n",
       "678               1.6  \n",
       "885               1.6  \n",
       "929               1.6  \n",
       "...               ...  \n",
       "166449            1.6  \n",
       "166454            1.6  \n",
       "166493            1.6  \n",
       "166518            1.6  \n",
       "166607            1.6  \n",
       "\n",
       "[633 rows x 25 columns]"
      ]
     },
     "execution_count": 117,
     "metadata": {},
     "output_type": "execute_result"
    }
   ],
   "source": [
    "df.loc[df['version']==\"IV 1.6 DCI 130 ENERGY INTENS\"]"
   ]
  },
  {
   "cell_type": "code",
   "execution_count": 116,
   "metadata": {},
   "outputs": [
    {
     "data": {
      "text/html": [
       "<div>\n",
       "<style scoped>\n",
       "    .dataframe tbody tr th:only-of-type {\n",
       "        vertical-align: middle;\n",
       "    }\n",
       "\n",
       "    .dataframe tbody tr th {\n",
       "        vertical-align: top;\n",
       "    }\n",
       "\n",
       "    .dataframe thead th {\n",
       "        text-align: right;\n",
       "    }\n",
       "</style>\n",
       "<table border=\"1\" class=\"dataframe\">\n",
       "  <thead>\n",
       "    <tr style=\"text-align: right;\">\n",
       "      <th></th>\n",
       "      <th>0</th>\n",
       "    </tr>\n",
       "  </thead>\n",
       "  <tbody>\n",
       "    <tr>\n",
       "      <th>0</th>\n",
       "      <td>92CH</td>\n",
       "    </tr>\n",
       "    <tr>\n",
       "      <th>1</th>\n",
       "      <td>NaN</td>\n",
       "    </tr>\n",
       "    <tr>\n",
       "      <th>2</th>\n",
       "      <td>NaN</td>\n",
       "    </tr>\n",
       "    <tr>\n",
       "      <th>3</th>\n",
       "      <td>NaN</td>\n",
       "    </tr>\n",
       "    <tr>\n",
       "      <th>4</th>\n",
       "      <td>NaN</td>\n",
       "    </tr>\n",
       "    <tr>\n",
       "      <th>...</th>\n",
       "      <td>...</td>\n",
       "    </tr>\n",
       "    <tr>\n",
       "      <th>166690</th>\n",
       "      <td>NaN</td>\n",
       "    </tr>\n",
       "    <tr>\n",
       "      <th>166691</th>\n",
       "      <td>NaN</td>\n",
       "    </tr>\n",
       "    <tr>\n",
       "      <th>166692</th>\n",
       "      <td>NaN</td>\n",
       "    </tr>\n",
       "    <tr>\n",
       "      <th>166693</th>\n",
       "      <td>NaN</td>\n",
       "    </tr>\n",
       "    <tr>\n",
       "      <th>166694</th>\n",
       "      <td>NaN</td>\n",
       "    </tr>\n",
       "  </tbody>\n",
       "</table>\n",
       "<p>166695 rows × 1 columns</p>\n",
       "</div>"
      ],
      "text/plain": [
       "           0\n",
       "0       92CH\n",
       "1        NaN\n",
       "2        NaN\n",
       "3        NaN\n",
       "4        NaN\n",
       "...      ...\n",
       "166690   NaN\n",
       "166691   NaN\n",
       "166692   NaN\n",
       "166693   NaN\n",
       "166694   NaN\n",
       "\n",
       "[166695 rows x 1 columns]"
      ]
     },
     "execution_count": 116,
     "metadata": {},
     "output_type": "execute_result"
    }
   ],
   "source": [
    "df['version'].str.extract(r'(\\d+CH)', expand=True)"
   ]
  },
  {
   "cell_type": "code",
   "execution_count": null,
   "metadata": {},
   "outputs": [],
   "source": []
  },
  {
   "cell_type": "code",
   "execution_count": null,
   "metadata": {},
   "outputs": [],
   "source": []
  },
  {
   "cell_type": "markdown",
   "metadata": {},
   "source": [
    "## Nettoyage du champs 'options'"
   ]
  },
  {
   "cell_type": "code",
   "execution_count": 152,
   "metadata": {},
   "outputs": [
    {
     "data": {
      "text/plain": [
       "6    \"anti démarrage;radar de recul;prises audio auxiliaires;direction assistée;banquette 1/3 - 2/3;airbags;régulateur de vitesse;phares av. de jour à LED;projecteurs antibrouillard;climatisation automatique multi zone;kit téléphone main libre;rétroviseurs rabattables électriquement;jantes alu 17\"\";sièges sport;aide parking;sièges réglables en hauteur;carnet d'entretien;système audio carte SD MP3;feux automatiques;anti patinage;fixations ISOFIX;4 vitres électriques;ordinateur de bord;système audio CD;volant réglable en hauteur et profondeur;kit téléphone main libre bluetooth;4 roues motrices;feux et essuie-glaces automatiques;ABS;peinture métallisée;volant multifonctions;détecteur de pluie\"\n",
       "Name: options, dtype: object"
      ]
     },
     "execution_count": 152,
     "metadata": {},
     "output_type": "execute_result"
    }
   ],
   "source": [
    "#1. options avec quotes\n",
    "df[df['Description'].str.contains(\"options: \\\"\")]['options'].head(1)"
   ]
  },
  {
   "cell_type": "code",
   "execution_count": 153,
   "metadata": {},
   "outputs": [],
   "source": [
    "# suppression des quotes\n",
    "df['options'] = df['options'].str.replace(\"\\\"\", \"\")"
   ]
  },
  {
   "cell_type": "code",
   "execution_count": 154,
   "metadata": {},
   "outputs": [
    {
     "data": {
      "text/plain": [
       "6    anti démarrage;radar de recul;prises audio auxiliaires;direction assistée;banquette 1/3 - 2/3;airbags;régulateur de vitesse;phares av. de jour à LED;projecteurs antibrouillard;climatisation automatique multi zone;kit téléphone main libre;rétroviseurs rabattables électriquement;jantes alu 17;sièges sport;aide parking;sièges réglables en hauteur;carnet d'entretien;système audio carte SD MP3;feux automatiques;anti patinage;fixations ISOFIX;4 vitres électriques;ordinateur de bord;système audio CD;volant réglable en hauteur et profondeur;kit téléphone main libre bluetooth;4 roues motrices;feux et essuie-glaces automatiques;ABS;peinture métallisée;volant multifonctions;détecteur de pluie\n",
       "Name: options, dtype: object"
      ]
     },
     "execution_count": 154,
     "metadata": {},
     "output_type": "execute_result"
    }
   ],
   "source": [
    "df[df['Description'].str.contains(\"options: \\\"\")]['options'].head(1)"
   ]
  },
  {
   "cell_type": "code",
   "execution_count": 155,
   "metadata": {},
   "outputs": [
    {
     "data": {
      "text/plain": [
       "8    modele: C-MAX 2, version: II 1.6 TDCI 115 FAP TITANIUM BVM6, puissance_fiscale: 6, portes: 5.0, options: , couleur: brun\n",
       "Name: Description, dtype: object"
      ]
     },
     "execution_count": 155,
     "metadata": {},
     "output_type": "execute_result"
    }
   ],
   "source": [
    "#2. options vide\n",
    "df[df['Description'].str.contains(\"options: ,\")]['Description'].head(1) "
   ]
  },
  {
   "cell_type": "code",
   "execution_count": 156,
   "metadata": {},
   "outputs": [],
   "source": [
    "#Replace '' sting with Nan\n",
    "df['options'].replace('', np.nan, inplace=True)"
   ]
  },
  {
   "cell_type": "code",
   "execution_count": null,
   "metadata": {},
   "outputs": [],
   "source": []
  },
  {
   "cell_type": "code",
   "execution_count": 162,
   "metadata": {},
   "outputs": [
    {
     "data": {
      "text/html": [
       "<div>\n",
       "<style scoped>\n",
       "    .dataframe tbody tr th:only-of-type {\n",
       "        vertical-align: middle;\n",
       "    }\n",
       "\n",
       "    .dataframe tbody tr th {\n",
       "        vertical-align: top;\n",
       "    }\n",
       "\n",
       "    .dataframe thead th {\n",
       "        text-align: right;\n",
       "    }\n",
       "</style>\n",
       "<table border=\"1\" class=\"dataframe\">\n",
       "  <thead>\n",
       "    <tr style=\"text-align: right;\">\n",
       "      <th></th>\n",
       "      <th>Description</th>\n",
       "      <th>options</th>\n",
       "    </tr>\n",
       "  </thead>\n",
       "  <tbody>\n",
       "    <tr>\n",
       "      <th>0</th>\n",
       "      <td>modele: 308 (2E GENERATION), version: 1.6 HDI FAP 92CH BUSINESS 5P, puissance_fiscale: 4, portes: 5.0, options: banquette arrière 3 places;volant cuir;cache bagages;airbag frontal;banquette 1/3 - 2/3;sièges rang 2 rabattables à plat;vitres teintées;boucliers av et ar couleur caisse;phares av. de jour à LED;airbags rideaux;rétroviseurs électriques et dégivrants;siège conducteur avec réglage lombaire;vitres électriques;feux de freinage d'urgence;banquette rabattable;feux ar. à LED;AFU;contrôle de pression des pneus;airbags front. + lat.;blanc banquise;lampes de lecture à l'arrière;sièges réglables en hauteur;alarme d'oubli d'extinction des feux;EBD;volant sport;température extérieure;système audio;becquet;feux automatiques;fermeture électrique;ESP;fermeture électrique automatique;bacs de portes avant;anti patinage;accoudoir central avant;commandes du système audio au volant;fixations ISOFIX;poches d'aumonières;lampes de lecture à l'avant;lunette arrière dégivrante;essuie-glace arrière;ordinateur de bord;phares halogènes;climatisation;volant réglable en hauteur et profondeur;siège conducteur réglable hauteur;boite à gants réfrigérée;ABS;ceintures avant ajustables en hauteur;prise 12V;ecran tactile multifonction;FAP;3 ceintures ar. 3 points;ouverture des vitres séquentielle, couleur: BLANC BANQUISE</td>\n",
       "      <td>banquette arrière 3 places;volant cuir;cache bagages;airbag frontal;banquette 1/3 - 2/3;sièges rang 2 rabattables à plat;vitres teintées;boucliers av et ar couleur caisse;phares av. de jour à LED;airbags rideaux;rétroviseurs électriques et dégivrants;siège conducteur avec réglage lombaire;vitres électriques;feux de freinage d'urgence;banquette rabattable;feux ar. à LED;AFU;contrôle de pression des pneus;airbags front. + lat.;blanc banquise;lampes de lecture à l'arrière;sièges réglables en hauteur;alarme d'oubli d'extinction des feux;EBD;volant sport;température extérieure;système audio;becquet;feux automatiques;fermeture électrique;ESP;fermeture électrique automatique;bacs de portes avant;anti patinage;accoudoir central avant;commandes du système audio au volant;fixations ISOFIX;poches d'aumonières;lampes de lecture à l'avant;lunette arrière dégivrante;essuie-glace arrière;ordinateur de bord;phares halogènes;climatisation;volant réglable en hauteur et profondeur;siège conducteur réglable hauteur;boite à gants réfrigérée;ABS;ceintures avant ajustables en hauteur;prise 12V;ecran tactile multifonction;FAP;3 ceintures ar. 3 points;ouverture des vitres séquentielle</td>\n",
       "    </tr>\n",
       "    <tr>\n",
       "      <th>1</th>\n",
       "      <td>modele: X6 F16, version: (F16) XDRIVE30D 258 M SPORT BVA8, puissance_fiscale: 16, portes: 5.0, options: triangle de presignalisation et trousse de premiers secours;volant cuir;pack alu;affichage tête haute;GPS;appel d'urgence intelligent;prise 12v additionnelle;sieges advanced pour conducteur et passager avant;projecteurs antibrouillard;climatisation automatique multi zone;pack suspension adaptative;&amp;quotcarbonschwarz&amp;quot metallise;caméra de recul;finition m sport;jantes alu 20&amp;quot;pack innovation;kit fumeurs;rétroviseurs rabattables électriquement;shadow line brillant;information trafic en temps reel rtti (3ans);aide parking;contrôle de pression des pneus;système audio Harman Kardon;surround view;sièges électrique à mémoire;conciergerie (3 ans);fonctions &amp;quotma bmw a distance&amp;quot;pack safety;airbag passager desactivable via la cle;services connecteddrive (bmw online 3 ans + bmw apps);pack M;planche de bord en cuir;info trafic tmc;lave-phares;ciel de pavillon anthracite;services bmw connecteddrive;rétroviseur int. jour/nuit auto;tapis de sol;feux de route anti-eblouissement;pack advanced full led;boulons antivol de roues, couleur: Carbonschwarz metallise</td>\n",
       "      <td>triangle de presignalisation et trousse de premiers secours;volant cuir;pack alu;affichage tête haute;GPS;appel d'urgence intelligent;prise 12v additionnelle;sieges advanced pour conducteur et passager avant;projecteurs antibrouillard;climatisation automatique multi zone;pack suspension adaptative;&amp;quotcarbonschwarz&amp;quot metallise;caméra de recul;finition m sport;jantes alu 20&amp;quot;pack innovation;kit fumeurs;rétroviseurs rabattables électriquement;shadow line brillant;information trafic en temps reel rtti (3ans);aide parking;contrôle de pression des pneus;système audio Harman Kardon;surround view;sièges électrique à mémoire;conciergerie (3 ans);fonctions &amp;quotma bmw a distance&amp;quot;pack safety;airbag passager desactivable via la cle;services connecteddrive (bmw online 3 ans + bmw apps);pack M;planche de bord en cuir;info trafic tmc;lave-phares;ciel de pavillon anthracite;services bmw connecteddrive;rétroviseur int. jour/nuit auto;tapis de sol;feux de route anti-eblouissement;pack advanced full led;boulons antivol de roues</td>\n",
       "    </tr>\n",
       "    <tr>\n",
       "      <th>2</th>\n",
       "      <td>modele: RS6 (3E GENERATION) AVANT, version: III AVANT 4.0 TFSI 560 QUATTRO TIPTRONIC, puissance_fiscale: 47, portes: 5.0, options: banquette arrière 3 places;écran tactile;témoin de bouclage des ceintures av;palettes au volant;volant cuir;régulateur limiteur de vitesse;commande climatisation ar;pack dynamique;cache bagages;sorties d'échappement chromées;affichage tête haute;rétroviseurs électriques;airbag frontal;banquette 1/3 - 2/3;vision périphérique (360°);commandes vocales;vitres teintées;GPS;services connectés;prise audio USB;stations de webradio;poignées ton carrosserie;pare-brise thermique;système d'éclairage intelligent;régulateur de vitesse;siège conducteur à mémoire;inserts de porte carbone;rétroviseurs extérieurs à mémoire;carte main libre;jantes alu;siège passager à réglages électriques;boucliers av et ar couleur caisse;phares av. de jour à LED;airbags rideaux;colonne de direction électr. à mémoire;applications bois noir avec inserts alu;accoudoir central arrière;climatisation automatique multi zone;siège conducteur avec réglage lombaire;vitres électriques;feux de freinage d'urgence;eclairage d'ambiance;toit ouvrant rang 1 entrebaillant;siège passager chauffant;caméra de recul;inserts de tableau de bord carbone;banquette rabattable;filtre à pollen;siège passager avec réglage lombaire;tmc;kit téléphone main libre;rétroviseurs rabattables électriquement;porte-gobelets avant;syst. intelligent gestion des cylindres;répétiteurs de clignotant dans rétro ext;kit fumeur;sièges sport;ecran multifonction couleur;pack carbone;aide parking;AFU;contrôle de pression des pneus;airbags front. + lat.;sièges réglables en hauteur;catadioptres actifs;disque dur multimédia;jas 5 branches doubles noires285/30 r21;essuie-glaces automatiques;EBD;volant sport;température extérieure;système audio MP3;système Start &amp; Stop;système audio;becquet;système d'échappement sport;châssis sport;feux automatiques;fermeture électrique;ceinture de vitrage chromée;noir panthère;ESP;fermeture électrique automatique;bacs de portes avant;radar anti-collision;porte-gobelets arrière;sac à ski;système DVD;miroir de courtoisie conducteur éclairé;anti patinage;accoudoir central avant;commandes du système audio au volant;fixations ISOFIX;siège conducteur chauffant;aide au démarrage en côte;lampes de lecture à l'avant;appel d'urgence localisé;lunette arrière dégivrante;suspension sport;essuie-glace arrière;eclairage statique d'intersection;ordinateur de bord;inserts de porte cuir;rétroviseurs dégivrants;système audio CD;toit ouvrant;volant réglable en hauteur et profondeur;phares adaptatifs;eclairage au sol;barres de toit;traceur GPS;siège conducteur réglable hauteur;kit téléphone main libre bluetooth;boite à gants réfrigérée;ABS;ceintures avant ajustables en hauteur;prise 12V;valcona embossé rs 6 argent lunaire;appel d'assistance localisé;volume automatique de la radio;compte tours;lave-phares;chauffage des sièges avant et arrière;boîtiers de rétros en carbone;3 ceintures ar. 3 points;borne wi-fi;siège conducteur électrique;echappement à double sortie;rétroviseur int. jour/nuit auto;système audio carte SD;alarme;alarme volumétrique;miroir de courtoisie passager éclairé;alarme périmétrique;airbags latéraux aux places arrière;calandre chromée;blocage de différentiel;volant multifonctions;ouverture des vitres séquentielle;toit ouvrant panoramique, couleur: NOIR PANTHERE CRISTAL</td>\n",
       "      <td>banquette arrière 3 places;écran tactile;témoin de bouclage des ceintures av;palettes au volant;volant cuir;régulateur limiteur de vitesse;commande climatisation ar;pack dynamique;cache bagages;sorties d'échappement chromées;affichage tête haute;rétroviseurs électriques;airbag frontal;banquette 1/3 - 2/3;vision périphérique (360°);commandes vocales;vitres teintées;GPS;services connectés;prise audio USB;stations de webradio;poignées ton carrosserie;pare-brise thermique;système d'éclairage intelligent;régulateur de vitesse;siège conducteur à mémoire;inserts de porte carbone;rétroviseurs extérieurs à mémoire;carte main libre;jantes alu;siège passager à réglages électriques;boucliers av et ar couleur caisse;phares av. de jour à LED;airbags rideaux;colonne de direction électr. à mémoire;applications bois noir avec inserts alu;accoudoir central arrière;climatisation automatique multi zone;siège conducteur avec réglage lombaire;vitres électriques;feux de freinage d'urgence;eclairage d'ambiance;toit ouvrant rang 1 entrebaillant;siège passager chauffant;caméra de recul;inserts de tableau de bord carbone;banquette rabattable;filtre à pollen;siège passager avec réglage lombaire;tmc;kit téléphone main libre;rétroviseurs rabattables électriquement;porte-gobelets avant;syst. intelligent gestion des cylindres;répétiteurs de clignotant dans rétro ext;kit fumeur;sièges sport;ecran multifonction couleur;pack carbone;aide parking;AFU;contrôle de pression des pneus;airbags front. + lat.;sièges réglables en hauteur;catadioptres actifs;disque dur multimédia;jas 5 branches doubles noires285/30 r21;essuie-glaces automatiques;EBD;volant sport;température extérieure;système audio MP3;système Start &amp; Stop;système audio;becquet;système d'échappement sport;châssis sport;feux automatiques;fermeture électrique;ceinture de vitrage chromée;noir panthère;ESP;fermeture électrique automatique;bacs de portes avant;radar anti-collision;porte-gobelets arrière;sac à ski;système DVD;miroir de courtoisie conducteur éclairé;anti patinage;accoudoir central avant;commandes du système audio au volant;fixations ISOFIX;siège conducteur chauffant;aide au démarrage en côte;lampes de lecture à l'avant;appel d'urgence localisé;lunette arrière dégivrante;suspension sport;essuie-glace arrière;eclairage statique d'intersection;ordinateur de bord;inserts de porte cuir;rétroviseurs dégivrants;système audio CD;toit ouvrant;volant réglable en hauteur et profondeur;phares adaptatifs;eclairage au sol;barres de toit;traceur GPS;siège conducteur réglable hauteur;kit téléphone main libre bluetooth;boite à gants réfrigérée;ABS;ceintures avant ajustables en hauteur;prise 12V;valcona embossé rs 6 argent lunaire;appel d'assistance localisé;volume automatique de la radio;compte tours;lave-phares;chauffage des sièges avant et arrière;boîtiers de rétros en carbone;3 ceintures ar. 3 points;borne wi-fi;siège conducteur électrique;echappement à double sortie;rétroviseur int. jour/nuit auto;système audio carte SD;alarme;alarme volumétrique;miroir de courtoisie passager éclairé;alarme périmétrique;airbags latéraux aux places arrière;calandre chromée;blocage de différentiel;volant multifonctions;ouverture des vitres séquentielle;toit ouvrant panoramique</td>\n",
       "    </tr>\n",
       "    <tr>\n",
       "      <th>3</th>\n",
       "      <td>modele: KA, version: 1.3 70 FUN, puissance_fiscale: 5, portes: 3.0, options: direction assistée;jantes alu;rétroviseurs électriques et dégivrants;vitres électriques;fermeture électrique;climatisation;ABS;airbags frontaux, couleur: JAUNE</td>\n",
       "      <td>direction assistée;jantes alu;rétroviseurs électriques et dégivrants;vitres électriques;fermeture électrique;climatisation;ABS;airbags frontaux</td>\n",
       "    </tr>\n",
       "    <tr>\n",
       "      <th>4</th>\n",
       "      <td>modele: TIPO 2 SW, version: II SW 1.4 95 POP, puissance_fiscale: 5, portes: 5.0, options: Volant alu &amp; cuir;Bluetooth inclut musique en streaming, connexion téléphone;Rétroviseurs extérieurs chauffants;Roue de secours de taille normale;Antibrouillards avant;Taille écran multi-fonctions 5 pouces;Antipatinage;Indicateur de sous-gonflage des pneus;Ouverture du coffre à distance;6 airbags;6 haut-parleurs;Air conditionné manuel;Rétroviseurs extérieurs réglage électrique;Réglage du volant en hauteur, en profondeur;ESP;Airbags rideaux;Airbags latéraux;Aide au démarrage en côte;Ordinateur de bord;ABS;Volant multi-fonction;Assistance au freinage d'urgence;Bluetooth;Ampoules de phares halogènes, couleur: blanc verni</td>\n",
       "      <td>Volant alu &amp; cuir;Bluetooth inclut musique en streaming, connexion téléphone;Rétroviseurs extérieurs chauffants;Roue de secours de taille normale;Antibrouillards avant;Taille écran multi-fonctions 5 pouces;Antipatinage;Indicateur de sous-gonflage des pneus;Ouverture du coffre à distance;6 airbags;6 haut-parleurs;Air conditionné manuel;Rétroviseurs extérieurs réglage électrique;Réglage du volant en hauteur, en profondeur;ESP;Airbags rideaux;Airbags latéraux;Aide au démarrage en côte;Ordinateur de bord;ABS;Volant multi-fonction;Assistance au freinage d'urgence;Bluetooth;Ampoules de phares halogènes</td>\n",
       "    </tr>\n",
       "    <tr>\n",
       "      <th>...</th>\n",
       "      <td>...</td>\n",
       "      <td>...</td>\n",
       "    </tr>\n",
       "    <tr>\n",
       "      <th>166690</th>\n",
       "      <td>modele: A4 (4E GENERATION) AVANT, version: IV (2) AVANT 2.0 TDI 177 BUSINESS LINE QUATTRO S TRONIC, puissance_fiscale: 10, portes: 5.0, options: banquette arrière 3 places;prise 220v;volant cuir;régulateur limiteur de vitesse;cache bagages;rétroviseurs électriques;airbag frontal;banquette 1/3 - 2/3;commandes vocales;vitres teintées;bacs de portes arrière;GPS;prise audio USB;régulateur de vitesse;jantes alu;sièges chauffants;boucliers av et ar couleur caisse;phares av. de jour à LED;airbags rideaux;projecteurs antibrouillard;accoudoir central arrière;vitres électriques;banquette rabattable;filtre à pollen;tmc;rétroviseurs rabattables électriquement;porte-gobelets avant;projecteurs bi-xénon;répétiteurs de clignotant dans rétro ext;kit fumeur;sièges sport;ecran multifonction couleur;aide parking;feux ar. à LED;AFU;contrôle de pression des pneus;airbags front. + lat.;sièges réglables en hauteur;essuie-glaces automatiques;EBD;température extérieure;buses de lave-glace chauffantes;système Start &amp; Stop;inserts de tableau de bord métal;becquet;feux automatiques;fermeture électrique;ceinture de vitrage chromée;différentiel arrière à glissement limité;ESP;fermeture électrique automatique;bacs de portes avant;porte-gobelets arrière;boite à gants fermée;miroir de courtoisie conducteur éclairé;anti patinage;fixations ISOFIX;poches d'aumonières;lampes de lecture à l'avant;essuie-glace arrière;ordinateur de bord;rétroviseurs dégivrants;gps advanced;inserts de porte métal;volant réglable en hauteur et profondeur;phares adaptatifs;barres de toit;siège conducteur réglable hauteur;kit téléphone main libre bluetooth;système audio CD MP3;ABS;levier vitesse cuir;ceintures avant ajustables en hauteur;prise 12V;volume automatique de la radio;FAP;frein de parking automatique;compte tours;lave-phares;climatisation automatique;3 ceintures ar. 3 points;echappement à double sortie;système audio carte SD;support lombaires;miroir de courtoisie passager éclairé;volant multifonctions;ouverture des vitres séquentielle, couleur: gris fonce</td>\n",
       "      <td>banquette arrière 3 places;prise 220v;volant cuir;régulateur limiteur de vitesse;cache bagages;rétroviseurs électriques;airbag frontal;banquette 1/3 - 2/3;commandes vocales;vitres teintées;bacs de portes arrière;GPS;prise audio USB;régulateur de vitesse;jantes alu;sièges chauffants;boucliers av et ar couleur caisse;phares av. de jour à LED;airbags rideaux;projecteurs antibrouillard;accoudoir central arrière;vitres électriques;banquette rabattable;filtre à pollen;tmc;rétroviseurs rabattables électriquement;porte-gobelets avant;projecteurs bi-xénon;répétiteurs de clignotant dans rétro ext;kit fumeur;sièges sport;ecran multifonction couleur;aide parking;feux ar. à LED;AFU;contrôle de pression des pneus;airbags front. + lat.;sièges réglables en hauteur;essuie-glaces automatiques;EBD;température extérieure;buses de lave-glace chauffantes;système Start &amp; Stop;inserts de tableau de bord métal;becquet;feux automatiques;fermeture électrique;ceinture de vitrage chromée;différentiel arrière à glissement limité;ESP;fermeture électrique automatique;bacs de portes avant;porte-gobelets arrière;boite à gants fermée;miroir de courtoisie conducteur éclairé;anti patinage;fixations ISOFIX;poches d'aumonières;lampes de lecture à l'avant;essuie-glace arrière;ordinateur de bord;rétroviseurs dégivrants;gps advanced;inserts de porte métal;volant réglable en hauteur et profondeur;phares adaptatifs;barres de toit;siège conducteur réglable hauteur;kit téléphone main libre bluetooth;système audio CD MP3;ABS;levier vitesse cuir;ceintures avant ajustables en hauteur;prise 12V;volume automatique de la radio;FAP;frein de parking automatique;compte tours;lave-phares;climatisation automatique;3 ceintures ar. 3 points;echappement à double sortie;système audio carte SD;support lombaires;miroir de courtoisie passager éclairé;volant multifonctions;ouverture des vitres séquentielle</td>\n",
       "    </tr>\n",
       "    <tr>\n",
       "      <th>166691</th>\n",
       "      <td>modele: GOLF 7, version: VII 2.0 TDI 150 BLUEMOTION TECHNOLOGY CONFORTLINE BUSINESS DSG6 5P, puissance_fiscale: 8, portes: 5.0, options: Peinture métallisée;Système audio écran tactile, carte digitale, CD;Rétroviseurs rabattables électriquement;prises audio auxiliaires;banquette 1/3 - 2/3;Bluetooth inclut musique en streaming, connexion téléphone;Rétroviseurs extérieurs chauffants;prise audio USB;Air conditionné 2 zones;éclairage intérieur temporisé;jantes alu;8 haut-parleurs;boite séquentielle;Antibrouillards avant;GPS tactile;Antipatinage;Limiteur de vitesse;projecteurs antibrouillard;Système de navigation info trafic;climatisation automatique multi zone;Tapis de sol;Taille écran navigation 6.5 pouces;banquette rabattable;Indicateur de sous-gonflage des pneus;Ouverture du coffre à distance;Régulateur de vitesse adaptatif;Accoudoir central arrière, avant;boite automatique;carnet d'entretien;contrat entretien;7 airbags;non fumeur;Rétroviseurs extérieurs réglage électrique;Rétroviseur jour/nuit;Phares à allumage automatique;système Start &amp; Stop;Réglage du volant en hauteur, en profondeur;ESP;Airbags rideaux;Airbags latéraux;accoudoir central avant;Essuie glace capteur de pluie;fixations ISOFIX;Système détection de collision;Aide au démarrage en côte;Ordinateur de bord;Volant cuir;volant réglable en hauteur et profondeur;kit téléphone main libre bluetooth;feux et essuie-glaces automatiques;ABS;frein de parking automatique;Volant multi-fonction;Assistance au freinage d'urgence;Système audio lecteur CD et MP3;rétroviseur int. jour/nuit auto;support lombaires;Air conditionné auto;Ampoules de phares halogènes;aide parking av/ar, couleur: noir metal</td>\n",
       "      <td>Peinture métallisée;Système audio écran tactile, carte digitale, CD;Rétroviseurs rabattables électriquement;prises audio auxiliaires;banquette 1/3 - 2/3;Bluetooth inclut musique en streaming, connexion téléphone;Rétroviseurs extérieurs chauffants;prise audio USB;Air conditionné 2 zones;éclairage intérieur temporisé;jantes alu;8 haut-parleurs;boite séquentielle;Antibrouillards avant;GPS tactile;Antipatinage;Limiteur de vitesse;projecteurs antibrouillard;Système de navigation info trafic;climatisation automatique multi zone;Tapis de sol;Taille écran navigation 6.5 pouces;banquette rabattable;Indicateur de sous-gonflage des pneus;Ouverture du coffre à distance;Régulateur de vitesse adaptatif;Accoudoir central arrière, avant;boite automatique;carnet d'entretien;contrat entretien;7 airbags;non fumeur;Rétroviseurs extérieurs réglage électrique;Rétroviseur jour/nuit;Phares à allumage automatique;système Start &amp; Stop;Réglage du volant en hauteur, en profondeur;ESP;Airbags rideaux;Airbags latéraux;accoudoir central avant;Essuie glace capteur de pluie;fixations ISOFIX;Système détection de collision;Aide au démarrage en côte;Ordinateur de bord;Volant cuir;volant réglable en hauteur et profondeur;kit téléphone main libre bluetooth;feux et essuie-glaces automatiques;ABS;frein de parking automatique;Volant multi-fonction;Assistance au freinage d'urgence;Système audio lecteur CD et MP3;rétroviseur int. jour/nuit auto;support lombaires;Air conditionné auto;Ampoules de phares halogènes;aide parking av/ar</td>\n",
       "    </tr>\n",
       "    <tr>\n",
       "      <th>166692</th>\n",
       "      <td>modele: FIESTA 5, version: V (2) 1.0 ECOBOOST 100 S&amp;S EDITION 5P, puissance_fiscale: 5, portes: 5.0, options: banquette arrière 3 places;témoin de bouclage des ceintures av;volant cuir;cache bagages;rétroviseurs électriques;airbag frontal;banquette 1/3 - 2/3;vitres ar. surteintées;commandes vocales;vitres teintées;services connectés;prise audio USB;6 haut parleurs;poignées ton carrosserie;carte main libre;jantes alu;boucliers av et ar couleur caisse;phares av. de jour à LED;airbags rideaux;projecteurs antibrouillard;vitres électriques;feux de freinage d'urgence;banquette rabattable;filtre à pollen;porte-gobelets avant;répétiteurs de clignotant dans rétro ext;ecran multifonction couleur;AFU;frein à main en cuir;contrôle de pression des pneus;airbags front. + lat.;EBD;système audio MP3;système Start &amp; Stop;système audio;becquet;fermeture électrique;ESP;bacs de portes avant;boite à gants fermée;anti patinage;commandes du système audio au volant;airbag genoux anti sous-marinage;fixations ISOFIX;poches d'aumonières;aide au démarrage en côte;essuie-glace arrière;ordinateur de bord;phares halogènes;rétroviseurs dégivrants;système audio CD;climatisation;volant réglable en hauteur et profondeur;siège conducteur réglable hauteur;kit téléphone main libre bluetooth;ABS;ceintures avant ajustables en hauteur;compte tours;pommeau de levier vitesse en cuir;3 ceintures ar. 3 points;calandre chromée;volant multifonctions;ouverture des vitres séquentielle, couleur: Noir</td>\n",
       "      <td>banquette arrière 3 places;témoin de bouclage des ceintures av;volant cuir;cache bagages;rétroviseurs électriques;airbag frontal;banquette 1/3 - 2/3;vitres ar. surteintées;commandes vocales;vitres teintées;services connectés;prise audio USB;6 haut parleurs;poignées ton carrosserie;carte main libre;jantes alu;boucliers av et ar couleur caisse;phares av. de jour à LED;airbags rideaux;projecteurs antibrouillard;vitres électriques;feux de freinage d'urgence;banquette rabattable;filtre à pollen;porte-gobelets avant;répétiteurs de clignotant dans rétro ext;ecran multifonction couleur;AFU;frein à main en cuir;contrôle de pression des pneus;airbags front. + lat.;EBD;système audio MP3;système Start &amp; Stop;système audio;becquet;fermeture électrique;ESP;bacs de portes avant;boite à gants fermée;anti patinage;commandes du système audio au volant;airbag genoux anti sous-marinage;fixations ISOFIX;poches d'aumonières;aide au démarrage en côte;essuie-glace arrière;ordinateur de bord;phares halogènes;rétroviseurs dégivrants;système audio CD;climatisation;volant réglable en hauteur et profondeur;siège conducteur réglable hauteur;kit téléphone main libre bluetooth;ABS;ceintures avant ajustables en hauteur;compte tours;pommeau de levier vitesse en cuir;3 ceintures ar. 3 points;calandre chromée;volant multifonctions;ouverture des vitres séquentielle</td>\n",
       "    </tr>\n",
       "    <tr>\n",
       "      <th>166693</th>\n",
       "      <td>modele: OCTAVIA 3, version: III 2.0 TDI 150 GREEN TEC BUSINESS PLUS DSG6, puissance_fiscale: 8, portes: 5.0, options: écran tactile;prises audio auxiliaires;cache bagages;direction assistée;airbags latéraux;airbag frontal;commandes vocales;GPS;régulateur de vitesse;attelage;airbags rideaux;projecteurs antibrouillard;rétroviseurs électriques et dégivrants;vitres électriques;siège passager avec réglage lombaire;5 places;répétiteurs de clignotant dans rétro ext;aide parking;AFU;contrôle de pression des pneus;volant réglable;sièges réglables en hauteur;système audio MP3;système Start &amp; Stop;feux automatiques;fermeture électrique;ESP;radar arrière de détection d'obstacles;anti patinage;rangement sous siège conducteur;fixations ISOFIX;aide au démarrage en côte;ordinateur de bord;système audio CD;volant réglable en hauteur et profondeur;siège conducteur réglable hauteur;système audio CD MP3;ABS;prise 12V;pommeau de levier vitesse en cuir;climatisation automatique;roue de secours;écran multifonction;rétroviseur int. jour/nuit auto;support lombaires;airbags frontaux;Bluetooth;vitres surteintées;volant multifonctions;ouverture des vitres séquentielle;détecteur de pluie, couleur: gris</td>\n",
       "      <td>écran tactile;prises audio auxiliaires;cache bagages;direction assistée;airbags latéraux;airbag frontal;commandes vocales;GPS;régulateur de vitesse;attelage;airbags rideaux;projecteurs antibrouillard;rétroviseurs électriques et dégivrants;vitres électriques;siège passager avec réglage lombaire;5 places;répétiteurs de clignotant dans rétro ext;aide parking;AFU;contrôle de pression des pneus;volant réglable;sièges réglables en hauteur;système audio MP3;système Start &amp; Stop;feux automatiques;fermeture électrique;ESP;radar arrière de détection d'obstacles;anti patinage;rangement sous siège conducteur;fixations ISOFIX;aide au démarrage en côte;ordinateur de bord;système audio CD;volant réglable en hauteur et profondeur;siège conducteur réglable hauteur;système audio CD MP3;ABS;prise 12V;pommeau de levier vitesse en cuir;climatisation automatique;roue de secours;écran multifonction;rétroviseur int. jour/nuit auto;support lombaires;airbags frontaux;Bluetooth;vitres surteintées;volant multifonctions;ouverture des vitres séquentielle;détecteur de pluie</td>\n",
       "    </tr>\n",
       "    <tr>\n",
       "      <th>166694</th>\n",
       "      <td>modele: KOLEOS 2, version: II 2.0 DCI 175 ENERGY INTENS 4X2 X-TRONIC, puissance_fiscale: 10, portes: 5.0, options: régulateur limiteur de vitesse;airbags;carte main libre;climatisation automatique multi zone;aide parking;feux automatiques;fermeture électrique;r-link 2;frein de parking automatique;abs + assistance au freinage d?urgence + ebv;aide parking av/ar, couleur: Gris clair</td>\n",
       "      <td>régulateur limiteur de vitesse;airbags;carte main libre;climatisation automatique multi zone;aide parking;feux automatiques;fermeture électrique;r-link 2;frein de parking automatique;abs + assistance au freinage d?urgence + ebv;aide parking av/ar</td>\n",
       "    </tr>\n",
       "  </tbody>\n",
       "</table>\n",
       "<p>166695 rows × 2 columns</p>\n",
       "</div>"
      ],
      "text/plain": [
       "                                                                                                                                                                                                                                                                                                                                                                                                                                                                                                                                                                                                                                                                                                                                                                                                                                                                                                                                                                                                                                                                                                                                                                                                                                                                                                                                                                                                                                                                                                                                                                                                                                                                                                                                                                                                                                                                                                                                                                                                                                                                                                                                                                                                                                                                                                                                                                                                                                                                                                                                                                                                                                                                                                                                                                                                                                                                                                                                                                                                                                                                                                                                                                                                                                                                                                                                                                                                                                                                                                                                    Description  \\\n",
       "0                                                                                                                                                                                                                                                                                                                                                                                                                                                                                                                                                                                                                                                                                                                                                                                                                                                                                                                                                                                                                                                                                                                                                                                                                                                                                                                                                                                                                                                                                                                                                                                                                                                                                                                                                                                                                                                                                                                                                                                                                                                                                                                                                                           modele: 308 (2E GENERATION), version: 1.6 HDI FAP 92CH BUSINESS 5P, puissance_fiscale: 4, portes: 5.0, options: banquette arrière 3 places;volant cuir;cache bagages;airbag frontal;banquette 1/3 - 2/3;sièges rang 2 rabattables à plat;vitres teintées;boucliers av et ar couleur caisse;phares av. de jour à LED;airbags rideaux;rétroviseurs électriques et dégivrants;siège conducteur avec réglage lombaire;vitres électriques;feux de freinage d'urgence;banquette rabattable;feux ar. à LED;AFU;contrôle de pression des pneus;airbags front. + lat.;blanc banquise;lampes de lecture à l'arrière;sièges réglables en hauteur;alarme d'oubli d'extinction des feux;EBD;volant sport;température extérieure;système audio;becquet;feux automatiques;fermeture électrique;ESP;fermeture électrique automatique;bacs de portes avant;anti patinage;accoudoir central avant;commandes du système audio au volant;fixations ISOFIX;poches d'aumonières;lampes de lecture à l'avant;lunette arrière dégivrante;essuie-glace arrière;ordinateur de bord;phares halogènes;climatisation;volant réglable en hauteur et profondeur;siège conducteur réglable hauteur;boite à gants réfrigérée;ABS;ceintures avant ajustables en hauteur;prise 12V;ecran tactile multifonction;FAP;3 ceintures ar. 3 points;ouverture des vitres séquentielle, couleur: BLANC BANQUISE   \n",
       "1                                                                                                                                                                                                                                                                                                                                                                                                                                                                                                                                                                                                                                                                                                                                                                                                                                                                                                                                                                                                                                                                                                                                                                                                                                                                                                                                                                                                                                                                                                                                                                                                                                                                                                                                                                                                                                                                                                                                                                                                                                                                                                                                                                                                                                                                                                                      modele: X6 F16, version: (F16) XDRIVE30D 258 M SPORT BVA8, puissance_fiscale: 16, portes: 5.0, options: triangle de presignalisation et trousse de premiers secours;volant cuir;pack alu;affichage tête haute;GPS;appel d'urgence intelligent;prise 12v additionnelle;sieges advanced pour conducteur et passager avant;projecteurs antibrouillard;climatisation automatique multi zone;pack suspension adaptative;&quotcarbonschwarz&quot metallise;caméra de recul;finition m sport;jantes alu 20&quot;pack innovation;kit fumeurs;rétroviseurs rabattables électriquement;shadow line brillant;information trafic en temps reel rtti (3ans);aide parking;contrôle de pression des pneus;système audio Harman Kardon;surround view;sièges électrique à mémoire;conciergerie (3 ans);fonctions &quotma bmw a distance&quot;pack safety;airbag passager desactivable via la cle;services connecteddrive (bmw online 3 ans + bmw apps);pack M;planche de bord en cuir;info trafic tmc;lave-phares;ciel de pavillon anthracite;services bmw connecteddrive;rétroviseur int. jour/nuit auto;tapis de sol;feux de route anti-eblouissement;pack advanced full led;boulons antivol de roues, couleur: Carbonschwarz metallise   \n",
       "2       modele: RS6 (3E GENERATION) AVANT, version: III AVANT 4.0 TFSI 560 QUATTRO TIPTRONIC, puissance_fiscale: 47, portes: 5.0, options: banquette arrière 3 places;écran tactile;témoin de bouclage des ceintures av;palettes au volant;volant cuir;régulateur limiteur de vitesse;commande climatisation ar;pack dynamique;cache bagages;sorties d'échappement chromées;affichage tête haute;rétroviseurs électriques;airbag frontal;banquette 1/3 - 2/3;vision périphérique (360°);commandes vocales;vitres teintées;GPS;services connectés;prise audio USB;stations de webradio;poignées ton carrosserie;pare-brise thermique;système d'éclairage intelligent;régulateur de vitesse;siège conducteur à mémoire;inserts de porte carbone;rétroviseurs extérieurs à mémoire;carte main libre;jantes alu;siège passager à réglages électriques;boucliers av et ar couleur caisse;phares av. de jour à LED;airbags rideaux;colonne de direction électr. à mémoire;applications bois noir avec inserts alu;accoudoir central arrière;climatisation automatique multi zone;siège conducteur avec réglage lombaire;vitres électriques;feux de freinage d'urgence;eclairage d'ambiance;toit ouvrant rang 1 entrebaillant;siège passager chauffant;caméra de recul;inserts de tableau de bord carbone;banquette rabattable;filtre à pollen;siège passager avec réglage lombaire;tmc;kit téléphone main libre;rétroviseurs rabattables électriquement;porte-gobelets avant;syst. intelligent gestion des cylindres;répétiteurs de clignotant dans rétro ext;kit fumeur;sièges sport;ecran multifonction couleur;pack carbone;aide parking;AFU;contrôle de pression des pneus;airbags front. + lat.;sièges réglables en hauteur;catadioptres actifs;disque dur multimédia;jas 5 branches doubles noires285/30 r21;essuie-glaces automatiques;EBD;volant sport;température extérieure;système audio MP3;système Start & Stop;système audio;becquet;système d'échappement sport;châssis sport;feux automatiques;fermeture électrique;ceinture de vitrage chromée;noir panthère;ESP;fermeture électrique automatique;bacs de portes avant;radar anti-collision;porte-gobelets arrière;sac à ski;système DVD;miroir de courtoisie conducteur éclairé;anti patinage;accoudoir central avant;commandes du système audio au volant;fixations ISOFIX;siège conducteur chauffant;aide au démarrage en côte;lampes de lecture à l'avant;appel d'urgence localisé;lunette arrière dégivrante;suspension sport;essuie-glace arrière;eclairage statique d'intersection;ordinateur de bord;inserts de porte cuir;rétroviseurs dégivrants;système audio CD;toit ouvrant;volant réglable en hauteur et profondeur;phares adaptatifs;eclairage au sol;barres de toit;traceur GPS;siège conducteur réglable hauteur;kit téléphone main libre bluetooth;boite à gants réfrigérée;ABS;ceintures avant ajustables en hauteur;prise 12V;valcona embossé rs 6 argent lunaire;appel d'assistance localisé;volume automatique de la radio;compte tours;lave-phares;chauffage des sièges avant et arrière;boîtiers de rétros en carbone;3 ceintures ar. 3 points;borne wi-fi;siège conducteur électrique;echappement à double sortie;rétroviseur int. jour/nuit auto;système audio carte SD;alarme;alarme volumétrique;miroir de courtoisie passager éclairé;alarme périmétrique;airbags latéraux aux places arrière;calandre chromée;blocage de différentiel;volant multifonctions;ouverture des vitres séquentielle;toit ouvrant panoramique, couleur: NOIR PANTHERE CRISTAL   \n",
       "3                                                                                                                                                                                                                                                                                                                                                                                                                                                                                                                                                                                                                                                                                                                                                                                                                                                                                                                                                                                                                                                                                                                                                                                                                                                                                                                                                                                                                                                                                                                                                                                                                                                                                                                                                                                                                                                                                                                                                                                                                                                                                                                                                                                                                                                                                                                                                                                                                                                                                                                                                                                                                                                                                                                                                                                                                                                                                                                                                                                                                                                                                                                                                                                                                                                                                                  modele: KA, version: 1.3 70 FUN, puissance_fiscale: 5, portes: 3.0, options: direction assistée;jantes alu;rétroviseurs électriques et dégivrants;vitres électriques;fermeture électrique;climatisation;ABS;airbags frontaux, couleur: JAUNE   \n",
       "4                                                                                                                                                                                                                                                                                                                                                                                                                                                                                                                                                                                                                                                                                                                                                                                                                                                                                                                                                                                                                                                                                                                                                                                                                                                                                                                                                                                                                                                                                                                                                                                                                                                                                                                                                                                                                                                                                                                                                                                                                                                                                                                                                                                                                                                                                                                                                                                                                                                                                                                                                                                                                                                                                                                                                                                                   modele: TIPO 2 SW, version: II SW 1.4 95 POP, puissance_fiscale: 5, portes: 5.0, options: Volant alu & cuir;Bluetooth inclut musique en streaming, connexion téléphone;Rétroviseurs extérieurs chauffants;Roue de secours de taille normale;Antibrouillards avant;Taille écran multi-fonctions 5 pouces;Antipatinage;Indicateur de sous-gonflage des pneus;Ouverture du coffre à distance;6 airbags;6 haut-parleurs;Air conditionné manuel;Rétroviseurs extérieurs réglage électrique;Réglage du volant en hauteur, en profondeur;ESP;Airbags rideaux;Airbags latéraux;Aide au démarrage en côte;Ordinateur de bord;ABS;Volant multi-fonction;Assistance au freinage d'urgence;Bluetooth;Ampoules de phares halogènes, couleur: blanc verni   \n",
       "...                                                                                                                                                                                                                                                                                                                                                                                                                                                                                                                                                                                                                                                                                                                                                                                                                                                                                                                                                                                                                                                                                                                                                                                                                                                                                                                                                                                                                                                                                                                                                                                                                                                                                                                                                                                                                                                                                                                                                                                                                                                                                                                                                                                                                                                                                                                                                                                                                                                                                                                                                                                                                                                                                                                                                                                                                                                                                                                                                                                                                                                                                                                                                                                                                                                                                                                                                                                                                                                                                                                                         ...   \n",
       "166690                                                                                                                                                                                                                                                                                                                                                                                                                                                                                                                                                                                                                                                                                                                                                                                                                                                                                                                                                                                                                                                                                                                                                                                                                                                                                                                                                                                                                 modele: A4 (4E GENERATION) AVANT, version: IV (2) AVANT 2.0 TDI 177 BUSINESS LINE QUATTRO S TRONIC, puissance_fiscale: 10, portes: 5.0, options: banquette arrière 3 places;prise 220v;volant cuir;régulateur limiteur de vitesse;cache bagages;rétroviseurs électriques;airbag frontal;banquette 1/3 - 2/3;commandes vocales;vitres teintées;bacs de portes arrière;GPS;prise audio USB;régulateur de vitesse;jantes alu;sièges chauffants;boucliers av et ar couleur caisse;phares av. de jour à LED;airbags rideaux;projecteurs antibrouillard;accoudoir central arrière;vitres électriques;banquette rabattable;filtre à pollen;tmc;rétroviseurs rabattables électriquement;porte-gobelets avant;projecteurs bi-xénon;répétiteurs de clignotant dans rétro ext;kit fumeur;sièges sport;ecran multifonction couleur;aide parking;feux ar. à LED;AFU;contrôle de pression des pneus;airbags front. + lat.;sièges réglables en hauteur;essuie-glaces automatiques;EBD;température extérieure;buses de lave-glace chauffantes;système Start & Stop;inserts de tableau de bord métal;becquet;feux automatiques;fermeture électrique;ceinture de vitrage chromée;différentiel arrière à glissement limité;ESP;fermeture électrique automatique;bacs de portes avant;porte-gobelets arrière;boite à gants fermée;miroir de courtoisie conducteur éclairé;anti patinage;fixations ISOFIX;poches d'aumonières;lampes de lecture à l'avant;essuie-glace arrière;ordinateur de bord;rétroviseurs dégivrants;gps advanced;inserts de porte métal;volant réglable en hauteur et profondeur;phares adaptatifs;barres de toit;siège conducteur réglable hauteur;kit téléphone main libre bluetooth;système audio CD MP3;ABS;levier vitesse cuir;ceintures avant ajustables en hauteur;prise 12V;volume automatique de la radio;FAP;frein de parking automatique;compte tours;lave-phares;climatisation automatique;3 ceintures ar. 3 points;echappement à double sortie;système audio carte SD;support lombaires;miroir de courtoisie passager éclairé;volant multifonctions;ouverture des vitres séquentielle, couleur: gris fonce   \n",
       "166691                                                                                                                                                                                                                                                                                                                                                                                                                                                                                                                                                                                                                                                                                                                                                                                                                                                                                                                                                                                                                                                                                                                                                                                                                                                                                                                                                                                                                                                                                                                                                                                                                                                                                                                                                                                              modele: GOLF 7, version: VII 2.0 TDI 150 BLUEMOTION TECHNOLOGY CONFORTLINE BUSINESS DSG6 5P, puissance_fiscale: 8, portes: 5.0, options: Peinture métallisée;Système audio écran tactile, carte digitale, CD;Rétroviseurs rabattables électriquement;prises audio auxiliaires;banquette 1/3 - 2/3;Bluetooth inclut musique en streaming, connexion téléphone;Rétroviseurs extérieurs chauffants;prise audio USB;Air conditionné 2 zones;éclairage intérieur temporisé;jantes alu;8 haut-parleurs;boite séquentielle;Antibrouillards avant;GPS tactile;Antipatinage;Limiteur de vitesse;projecteurs antibrouillard;Système de navigation info trafic;climatisation automatique multi zone;Tapis de sol;Taille écran navigation 6.5 pouces;banquette rabattable;Indicateur de sous-gonflage des pneus;Ouverture du coffre à distance;Régulateur de vitesse adaptatif;Accoudoir central arrière, avant;boite automatique;carnet d'entretien;contrat entretien;7 airbags;non fumeur;Rétroviseurs extérieurs réglage électrique;Rétroviseur jour/nuit;Phares à allumage automatique;système Start & Stop;Réglage du volant en hauteur, en profondeur;ESP;Airbags rideaux;Airbags latéraux;accoudoir central avant;Essuie glace capteur de pluie;fixations ISOFIX;Système détection de collision;Aide au démarrage en côte;Ordinateur de bord;Volant cuir;volant réglable en hauteur et profondeur;kit téléphone main libre bluetooth;feux et essuie-glaces automatiques;ABS;frein de parking automatique;Volant multi-fonction;Assistance au freinage d'urgence;Système audio lecteur CD et MP3;rétroviseur int. jour/nuit auto;support lombaires;Air conditionné auto;Ampoules de phares halogènes;aide parking av/ar, couleur: noir metal        \n",
       "166692                                                                                                                                                                                                                                                                                                                                                                                                                                                                                                                                                                                                                                                                                                                                                                                                                                                                                                                                                                                                                                                                                                                                                                                                                                                                                                                                                                                                                                                                                                                                                                                                                                                                                                                                                                                                                                                                                                                                                                                                      modele: FIESTA 5, version: V (2) 1.0 ECOBOOST 100 S&S EDITION 5P, puissance_fiscale: 5, portes: 5.0, options: banquette arrière 3 places;témoin de bouclage des ceintures av;volant cuir;cache bagages;rétroviseurs électriques;airbag frontal;banquette 1/3 - 2/3;vitres ar. surteintées;commandes vocales;vitres teintées;services connectés;prise audio USB;6 haut parleurs;poignées ton carrosserie;carte main libre;jantes alu;boucliers av et ar couleur caisse;phares av. de jour à LED;airbags rideaux;projecteurs antibrouillard;vitres électriques;feux de freinage d'urgence;banquette rabattable;filtre à pollen;porte-gobelets avant;répétiteurs de clignotant dans rétro ext;ecran multifonction couleur;AFU;frein à main en cuir;contrôle de pression des pneus;airbags front. + lat.;EBD;système audio MP3;système Start & Stop;système audio;becquet;fermeture électrique;ESP;bacs de portes avant;boite à gants fermée;anti patinage;commandes du système audio au volant;airbag genoux anti sous-marinage;fixations ISOFIX;poches d'aumonières;aide au démarrage en côte;essuie-glace arrière;ordinateur de bord;phares halogènes;rétroviseurs dégivrants;système audio CD;climatisation;volant réglable en hauteur et profondeur;siège conducteur réglable hauteur;kit téléphone main libre bluetooth;ABS;ceintures avant ajustables en hauteur;compte tours;pommeau de levier vitesse en cuir;3 ceintures ar. 3 points;calandre chromée;volant multifonctions;ouverture des vitres séquentielle, couleur: Noir   \n",
       "166693                                                                                                                                                                                                                                                                                                                                                                                                                                                                                                                                                                                                                                                                                                                                                                                                                                                                                                                                                                                                                                                                                                                                                                                                                                                                                                                                                                                                                                                                                                                                                                                                                                                                                                                                                                                                                                                                                                                                                                                                                                                                                                                                                                                                                                                                                                 modele: OCTAVIA 3, version: III 2.0 TDI 150 GREEN TEC BUSINESS PLUS DSG6, puissance_fiscale: 8, portes: 5.0, options: écran tactile;prises audio auxiliaires;cache bagages;direction assistée;airbags latéraux;airbag frontal;commandes vocales;GPS;régulateur de vitesse;attelage;airbags rideaux;projecteurs antibrouillard;rétroviseurs électriques et dégivrants;vitres électriques;siège passager avec réglage lombaire;5 places;répétiteurs de clignotant dans rétro ext;aide parking;AFU;contrôle de pression des pneus;volant réglable;sièges réglables en hauteur;système audio MP3;système Start & Stop;feux automatiques;fermeture électrique;ESP;radar arrière de détection d'obstacles;anti patinage;rangement sous siège conducteur;fixations ISOFIX;aide au démarrage en côte;ordinateur de bord;système audio CD;volant réglable en hauteur et profondeur;siège conducteur réglable hauteur;système audio CD MP3;ABS;prise 12V;pommeau de levier vitesse en cuir;climatisation automatique;roue de secours;écran multifonction;rétroviseur int. jour/nuit auto;support lombaires;airbags frontaux;Bluetooth;vitres surteintées;volant multifonctions;ouverture des vitres séquentielle;détecteur de pluie, couleur: gris   \n",
       "166694                                                                                                                                                                                                                                                                                                                                                                                                                                                                                                                                                                                                                                                                                                                                                                                                                                                                                                                                                                                                                                                                                                                                                                                                                                                                                                                                                                                                                                                                                                                                                                                                                                                                                                                                                                                                                                                                                                                                                                                                                                                                                                                                                                                                                                                                                                                                                                                                                                                                                                                                                                                                                                                                                                                                                                                                                                                                                                                                                                                                                                                                                                                                           modele: KOLEOS 2, version: II 2.0 DCI 175 ENERGY INTENS 4X2 X-TRONIC, puissance_fiscale: 10, portes: 5.0, options: régulateur limiteur de vitesse;airbags;carte main libre;climatisation automatique multi zone;aide parking;feux automatiques;fermeture électrique;r-link 2;frein de parking automatique;abs + assistance au freinage d?urgence + ebv;aide parking av/ar, couleur: Gris clair   \n",
       "\n",
       "                                                                                                                                                                                                                                                                                                                                                                                                                                                                                                                                                                                                                                                                                                                                                                                                                                                                                                                                                                                                                                                                                                                                                                                                                                                                                                                                                                                                                                                                                                                                                                                                                                                                                                                                                                                                                                                                                                                                                                                                                                                                                                                                                                                                                                                                                                                                                                                                                                                                                                                                                                                                                                                                                                                                                                                                                                                                                                                                                                                                                                                                                                                                                                                                                                                                                                                                                                     options  \n",
       "0                                                                                                                                                                                                                                                                                                                                                                                                                                                                                                                                                                                                                                                                                                                                                                                                                                                                                                                                                                                                                                                                                                                                                                                                                                                                                                                                                                                                                                                                                                                                                                                                                                                                                                                                                                                                                                                                                                                                                                                                                                                                                                                                                 banquette arrière 3 places;volant cuir;cache bagages;airbag frontal;banquette 1/3 - 2/3;sièges rang 2 rabattables à plat;vitres teintées;boucliers av et ar couleur caisse;phares av. de jour à LED;airbags rideaux;rétroviseurs électriques et dégivrants;siège conducteur avec réglage lombaire;vitres électriques;feux de freinage d'urgence;banquette rabattable;feux ar. à LED;AFU;contrôle de pression des pneus;airbags front. + lat.;blanc banquise;lampes de lecture à l'arrière;sièges réglables en hauteur;alarme d'oubli d'extinction des feux;EBD;volant sport;température extérieure;système audio;becquet;feux automatiques;fermeture électrique;ESP;fermeture électrique automatique;bacs de portes avant;anti patinage;accoudoir central avant;commandes du système audio au volant;fixations ISOFIX;poches d'aumonières;lampes de lecture à l'avant;lunette arrière dégivrante;essuie-glace arrière;ordinateur de bord;phares halogènes;climatisation;volant réglable en hauteur et profondeur;siège conducteur réglable hauteur;boite à gants réfrigérée;ABS;ceintures avant ajustables en hauteur;prise 12V;ecran tactile multifonction;FAP;3 ceintures ar. 3 points;ouverture des vitres séquentielle  \n",
       "1                                                                                                                                                                                                                                                                                                                                                                                                                                                                                                                                                                                                                                                                                                                                                                                                                                                                                                                                                                                                                                                                                                                                                                                                                                                                                                                                                                                                                                                                                                                                                                                                                                                                                                                                                                                                                                                                                                                                                                                                                                                                                                                                                                                                                                                                                             triangle de presignalisation et trousse de premiers secours;volant cuir;pack alu;affichage tête haute;GPS;appel d'urgence intelligent;prise 12v additionnelle;sieges advanced pour conducteur et passager avant;projecteurs antibrouillard;climatisation automatique multi zone;pack suspension adaptative;&quotcarbonschwarz&quot metallise;caméra de recul;finition m sport;jantes alu 20&quot;pack innovation;kit fumeurs;rétroviseurs rabattables électriquement;shadow line brillant;information trafic en temps reel rtti (3ans);aide parking;contrôle de pression des pneus;système audio Harman Kardon;surround view;sièges électrique à mémoire;conciergerie (3 ans);fonctions &quotma bmw a distance&quot;pack safety;airbag passager desactivable via la cle;services connecteddrive (bmw online 3 ans + bmw apps);pack M;planche de bord en cuir;info trafic tmc;lave-phares;ciel de pavillon anthracite;services bmw connecteddrive;rétroviseur int. jour/nuit auto;tapis de sol;feux de route anti-eblouissement;pack advanced full led;boulons antivol de roues  \n",
       "2       banquette arrière 3 places;écran tactile;témoin de bouclage des ceintures av;palettes au volant;volant cuir;régulateur limiteur de vitesse;commande climatisation ar;pack dynamique;cache bagages;sorties d'échappement chromées;affichage tête haute;rétroviseurs électriques;airbag frontal;banquette 1/3 - 2/3;vision périphérique (360°);commandes vocales;vitres teintées;GPS;services connectés;prise audio USB;stations de webradio;poignées ton carrosserie;pare-brise thermique;système d'éclairage intelligent;régulateur de vitesse;siège conducteur à mémoire;inserts de porte carbone;rétroviseurs extérieurs à mémoire;carte main libre;jantes alu;siège passager à réglages électriques;boucliers av et ar couleur caisse;phares av. de jour à LED;airbags rideaux;colonne de direction électr. à mémoire;applications bois noir avec inserts alu;accoudoir central arrière;climatisation automatique multi zone;siège conducteur avec réglage lombaire;vitres électriques;feux de freinage d'urgence;eclairage d'ambiance;toit ouvrant rang 1 entrebaillant;siège passager chauffant;caméra de recul;inserts de tableau de bord carbone;banquette rabattable;filtre à pollen;siège passager avec réglage lombaire;tmc;kit téléphone main libre;rétroviseurs rabattables électriquement;porte-gobelets avant;syst. intelligent gestion des cylindres;répétiteurs de clignotant dans rétro ext;kit fumeur;sièges sport;ecran multifonction couleur;pack carbone;aide parking;AFU;contrôle de pression des pneus;airbags front. + lat.;sièges réglables en hauteur;catadioptres actifs;disque dur multimédia;jas 5 branches doubles noires285/30 r21;essuie-glaces automatiques;EBD;volant sport;température extérieure;système audio MP3;système Start & Stop;système audio;becquet;système d'échappement sport;châssis sport;feux automatiques;fermeture électrique;ceinture de vitrage chromée;noir panthère;ESP;fermeture électrique automatique;bacs de portes avant;radar anti-collision;porte-gobelets arrière;sac à ski;système DVD;miroir de courtoisie conducteur éclairé;anti patinage;accoudoir central avant;commandes du système audio au volant;fixations ISOFIX;siège conducteur chauffant;aide au démarrage en côte;lampes de lecture à l'avant;appel d'urgence localisé;lunette arrière dégivrante;suspension sport;essuie-glace arrière;eclairage statique d'intersection;ordinateur de bord;inserts de porte cuir;rétroviseurs dégivrants;système audio CD;toit ouvrant;volant réglable en hauteur et profondeur;phares adaptatifs;eclairage au sol;barres de toit;traceur GPS;siège conducteur réglable hauteur;kit téléphone main libre bluetooth;boite à gants réfrigérée;ABS;ceintures avant ajustables en hauteur;prise 12V;valcona embossé rs 6 argent lunaire;appel d'assistance localisé;volume automatique de la radio;compte tours;lave-phares;chauffage des sièges avant et arrière;boîtiers de rétros en carbone;3 ceintures ar. 3 points;borne wi-fi;siège conducteur électrique;echappement à double sortie;rétroviseur int. jour/nuit auto;système audio carte SD;alarme;alarme volumétrique;miroir de courtoisie passager éclairé;alarme périmétrique;airbags latéraux aux places arrière;calandre chromée;blocage de différentiel;volant multifonctions;ouverture des vitres séquentielle;toit ouvrant panoramique  \n",
       "3                                                                                                                                                                                                                                                                                                                                                                                                                                                                                                                                                                                                                                                                                                                                                                                                                                                                                                                                                                                                                                                                                                                                                                                                                                                                                                                                                                                                                                                                                                                                                                                                                                                                                                                                                                                                                                                                                                                                                                                                                                                                                                                                                                                                                                                                                                                                                                                                                                                                                                                                                                                                                                                                                                                                                                                                                                                                                                                                                                                                                                                                                                                                                                                                                            direction assistée;jantes alu;rétroviseurs électriques et dégivrants;vitres électriques;fermeture électrique;climatisation;ABS;airbags frontaux  \n",
       "4                                                                                                                                                                                                                                                                                                                                                                                                                                                                                                                                                                                                                                                                                                                                                                                                                                                                                                                                                                                                                                                                                                                                                                                                                                                                                                                                                                                                                                                                                                                                                                                                                                                                                                                                                                                                                                                                                                                                                                                                                                                                                                                                                                                                                                                                                                                                                                                                                                                                                                                                                                                                                                                                                                                                                Volant alu & cuir;Bluetooth inclut musique en streaming, connexion téléphone;Rétroviseurs extérieurs chauffants;Roue de secours de taille normale;Antibrouillards avant;Taille écran multi-fonctions 5 pouces;Antipatinage;Indicateur de sous-gonflage des pneus;Ouverture du coffre à distance;6 airbags;6 haut-parleurs;Air conditionné manuel;Rétroviseurs extérieurs réglage électrique;Réglage du volant en hauteur, en profondeur;ESP;Airbags rideaux;Airbags latéraux;Aide au démarrage en côte;Ordinateur de bord;ABS;Volant multi-fonction;Assistance au freinage d'urgence;Bluetooth;Ampoules de phares halogènes  \n",
       "...                                                                                                                                                                                                                                                                                                                                                                                                                                                                                                                                                                                                                                                                                                                                                                                                                                                                                                                                                                                                                                                                                                                                                                                                                                                                                                                                                                                                                                                                                                                                                                                                                                                                                                                                                                                                                                                                                                                                                                                                                                                                                                                                                                                                                                                                                                                                                                                                                                                                                                                                                                                                                                                                                                                                                                                                                                                                                                                                                                                                                                                                                                                                                                                                                                                                                                                                                                      ...  \n",
       "166690                                                                                                                                                                                                                                                                                                                                                                                                                                                                                                                                                                                                                                                                                                                                                                                                                                                                                                                                                                                                                                                                                                                                                                                                                                                                                                                                                                                                                    banquette arrière 3 places;prise 220v;volant cuir;régulateur limiteur de vitesse;cache bagages;rétroviseurs électriques;airbag frontal;banquette 1/3 - 2/3;commandes vocales;vitres teintées;bacs de portes arrière;GPS;prise audio USB;régulateur de vitesse;jantes alu;sièges chauffants;boucliers av et ar couleur caisse;phares av. de jour à LED;airbags rideaux;projecteurs antibrouillard;accoudoir central arrière;vitres électriques;banquette rabattable;filtre à pollen;tmc;rétroviseurs rabattables électriquement;porte-gobelets avant;projecteurs bi-xénon;répétiteurs de clignotant dans rétro ext;kit fumeur;sièges sport;ecran multifonction couleur;aide parking;feux ar. à LED;AFU;contrôle de pression des pneus;airbags front. + lat.;sièges réglables en hauteur;essuie-glaces automatiques;EBD;température extérieure;buses de lave-glace chauffantes;système Start & Stop;inserts de tableau de bord métal;becquet;feux automatiques;fermeture électrique;ceinture de vitrage chromée;différentiel arrière à glissement limité;ESP;fermeture électrique automatique;bacs de portes avant;porte-gobelets arrière;boite à gants fermée;miroir de courtoisie conducteur éclairé;anti patinage;fixations ISOFIX;poches d'aumonières;lampes de lecture à l'avant;essuie-glace arrière;ordinateur de bord;rétroviseurs dégivrants;gps advanced;inserts de porte métal;volant réglable en hauteur et profondeur;phares adaptatifs;barres de toit;siège conducteur réglable hauteur;kit téléphone main libre bluetooth;système audio CD MP3;ABS;levier vitesse cuir;ceintures avant ajustables en hauteur;prise 12V;volume automatique de la radio;FAP;frein de parking automatique;compte tours;lave-phares;climatisation automatique;3 ceintures ar. 3 points;echappement à double sortie;système audio carte SD;support lombaires;miroir de courtoisie passager éclairé;volant multifonctions;ouverture des vitres séquentielle  \n",
       "166691                                                                                                                                                                                                                                                                                                                                                                                                                                                                                                                                                                                                                                                                                                                                                                                                                                                                                                                                                                                                                                                                                                                                                                                                                                                                                                                                                                                                                                                                                                                                                                                                                                                                                                                                                                                              Peinture métallisée;Système audio écran tactile, carte digitale, CD;Rétroviseurs rabattables électriquement;prises audio auxiliaires;banquette 1/3 - 2/3;Bluetooth inclut musique en streaming, connexion téléphone;Rétroviseurs extérieurs chauffants;prise audio USB;Air conditionné 2 zones;éclairage intérieur temporisé;jantes alu;8 haut-parleurs;boite séquentielle;Antibrouillards avant;GPS tactile;Antipatinage;Limiteur de vitesse;projecteurs antibrouillard;Système de navigation info trafic;climatisation automatique multi zone;Tapis de sol;Taille écran navigation 6.5 pouces;banquette rabattable;Indicateur de sous-gonflage des pneus;Ouverture du coffre à distance;Régulateur de vitesse adaptatif;Accoudoir central arrière, avant;boite automatique;carnet d'entretien;contrat entretien;7 airbags;non fumeur;Rétroviseurs extérieurs réglage électrique;Rétroviseur jour/nuit;Phares à allumage automatique;système Start & Stop;Réglage du volant en hauteur, en profondeur;ESP;Airbags rideaux;Airbags latéraux;accoudoir central avant;Essuie glace capteur de pluie;fixations ISOFIX;Système détection de collision;Aide au démarrage en côte;Ordinateur de bord;Volant cuir;volant réglable en hauteur et profondeur;kit téléphone main libre bluetooth;feux et essuie-glaces automatiques;ABS;frein de parking automatique;Volant multi-fonction;Assistance au freinage d'urgence;Système audio lecteur CD et MP3;rétroviseur int. jour/nuit auto;support lombaires;Air conditionné auto;Ampoules de phares halogènes;aide parking av/ar  \n",
       "166692                                                                                                                                                                                                                                                                                                                                                                                                                                                                                                                                                                                                                                                                                                                                                                                                                                                                                                                                                                                                                                                                                                                                                                                                                                                                                                                                                                                                                                                                                                                                                                                                                                                                                                                                                                                                                                                                                                                                                                banquette arrière 3 places;témoin de bouclage des ceintures av;volant cuir;cache bagages;rétroviseurs électriques;airbag frontal;banquette 1/3 - 2/3;vitres ar. surteintées;commandes vocales;vitres teintées;services connectés;prise audio USB;6 haut parleurs;poignées ton carrosserie;carte main libre;jantes alu;boucliers av et ar couleur caisse;phares av. de jour à LED;airbags rideaux;projecteurs antibrouillard;vitres électriques;feux de freinage d'urgence;banquette rabattable;filtre à pollen;porte-gobelets avant;répétiteurs de clignotant dans rétro ext;ecran multifonction couleur;AFU;frein à main en cuir;contrôle de pression des pneus;airbags front. + lat.;EBD;système audio MP3;système Start & Stop;système audio;becquet;fermeture électrique;ESP;bacs de portes avant;boite à gants fermée;anti patinage;commandes du système audio au volant;airbag genoux anti sous-marinage;fixations ISOFIX;poches d'aumonières;aide au démarrage en côte;essuie-glace arrière;ordinateur de bord;phares halogènes;rétroviseurs dégivrants;système audio CD;climatisation;volant réglable en hauteur et profondeur;siège conducteur réglable hauteur;kit téléphone main libre bluetooth;ABS;ceintures avant ajustables en hauteur;compte tours;pommeau de levier vitesse en cuir;3 ceintures ar. 3 points;calandre chromée;volant multifonctions;ouverture des vitres séquentielle  \n",
       "166693                                                                                                                                                                                                                                                                                                                                                                                                                                                                                                                                                                                                                                                                                                                                                                                                                                                                                                                                                                                                                                                                                                                                                                                                                                                                                                                                                                                                                                                                                                                                                                                                                                                                                                                                                                                                                                                                                                                                                                                                                                                                                                                                                                                                                                                                   écran tactile;prises audio auxiliaires;cache bagages;direction assistée;airbags latéraux;airbag frontal;commandes vocales;GPS;régulateur de vitesse;attelage;airbags rideaux;projecteurs antibrouillard;rétroviseurs électriques et dégivrants;vitres électriques;siège passager avec réglage lombaire;5 places;répétiteurs de clignotant dans rétro ext;aide parking;AFU;contrôle de pression des pneus;volant réglable;sièges réglables en hauteur;système audio MP3;système Start & Stop;feux automatiques;fermeture électrique;ESP;radar arrière de détection d'obstacles;anti patinage;rangement sous siège conducteur;fixations ISOFIX;aide au démarrage en côte;ordinateur de bord;système audio CD;volant réglable en hauteur et profondeur;siège conducteur réglable hauteur;système audio CD MP3;ABS;prise 12V;pommeau de levier vitesse en cuir;climatisation automatique;roue de secours;écran multifonction;rétroviseur int. jour/nuit auto;support lombaires;airbags frontaux;Bluetooth;vitres surteintées;volant multifonctions;ouverture des vitres séquentielle;détecteur de pluie  \n",
       "166694                                                                                                                                                                                                                                                                                                                                                                                                                                                                                                                                                                                                                                                                                                                                                                                                                                                                                                                                                                                                                                                                                                                                                                                                                                                                                                                                                                                                                                                                                                                                                                                                                                                                                                                                                                                                                                                                                                                                                                                                                                                                                                                                                                                                                                                                                                                                                                                                                                                                                                                                                                                                                                                                                                                                                                                                                                                                                                                                                                                                                                                                                                                régulateur limiteur de vitesse;airbags;carte main libre;climatisation automatique multi zone;aide parking;feux automatiques;fermeture électrique;r-link 2;frein de parking automatique;abs + assistance au freinage d?urgence + ebv;aide parking av/ar  \n",
       "\n",
       "[166695 rows x 2 columns]"
      ]
     },
     "execution_count": 162,
     "metadata": {},
     "output_type": "execute_result"
    }
   ],
   "source": [
    "df[['Description','options']]"
   ]
  },
  {
   "cell_type": "markdown",
   "metadata": {},
   "source": [
    "### Création de listes d'options"
   ]
  },
  {
   "cell_type": "code",
   "execution_count": 32,
   "metadata": {},
   "outputs": [
    {
     "data": {
      "text/plain": [
       "0    [banquette arrière 3 places, volant cuir, cache bagages, airbag frontal, banquette 1/3 - 2/3, sièges rang 2 rabattables à plat, vitres teintées, boucliers av et ar couleur caisse, phares av. de jour à LED, airbags rideaux, rétroviseurs électriques et dégivrants, siège conducteur avec réglage lombaire, vitres électriques, feux de freinage d'urgence, banquette rabattable, feux ar. à LED, AFU, contrôle de pression des pneus, airbags front. + lat., blanc banquise, lampes de lecture à l'arrière, sièges réglables en hauteur, alarme d'oubli d'extinction des feux, EBD, volant sport, température extérieure, système audio, becquet, feux automatiques, fermeture électrique, ESP, fermeture électrique automatique, bacs de portes avant, anti patinage, accoudoir central avant, commandes du système audio au volant, fixations ISOFIX, poches d'aumonières, lampes de lecture à l'avant, lunette arrière dégivrante, essuie-glace arrière, ordinateur de bord, phares halogènes, climatisation, volant réglable en hauteur et profondeur, siège conducteur réglable hauteur, boite à gants réfrigérée, ABS, ceintures avant ajustables en hauteur, prise 12V, ecran tactile multifonction, FAP, 3 ceintures ar. 3 points, ouverture des vitres séquentielle]\n",
       "Name: options, dtype: object"
      ]
     },
     "execution_count": 32,
     "metadata": {},
     "output_type": "execute_result"
    }
   ],
   "source": [
    "#les option sont séparées par des ';'\n",
    "df['options'].str.split(\";\").head(1)"
   ]
  },
  {
   "cell_type": "markdown",
   "metadata": {},
   "source": [
    "#### Cas spécifiques\n",
    "Voir avec le prof si:\n",
    "\n",
    "'Jantes en aluminium coulé en style Blade à 5 branches en noir anthracite brillant, finition brillantes pneus : 255/30 R19 AV et 235/35 R19 AR (uniquement sur RS 3 Sportback)',\n",
    "\n",
    "est une seule option"
   ]
  },
  {
   "cell_type": "code",
   "execution_count": 33,
   "metadata": {
    "scrolled": true
   },
   "outputs": [
    {
     "ename": "KeyError",
     "evalue": "'options_list'",
     "output_type": "error",
     "traceback": [
      "\u001b[0;31m---------------------------------------------------------------------------\u001b[0m",
      "\u001b[0;31mTypeError\u001b[0m                                 Traceback (most recent call last)",
      "\u001b[0;32m/anaconda3/lib/python3.7/site-packages/pandas/core/indexes/base.py\u001b[0m in \u001b[0;36mget_value\u001b[0;34m(self, series, key)\u001b[0m\n\u001b[1;32m   4410\u001b[0m             \u001b[0;32mtry\u001b[0m\u001b[0;34m:\u001b[0m\u001b[0;34m\u001b[0m\u001b[0;34m\u001b[0m\u001b[0m\n\u001b[0;32m-> 4411\u001b[0;31m                 \u001b[0;32mreturn\u001b[0m \u001b[0mlibindex\u001b[0m\u001b[0;34m.\u001b[0m\u001b[0mget_value_at\u001b[0m\u001b[0;34m(\u001b[0m\u001b[0ms\u001b[0m\u001b[0;34m,\u001b[0m \u001b[0mkey\u001b[0m\u001b[0;34m)\u001b[0m\u001b[0;34m\u001b[0m\u001b[0;34m\u001b[0m\u001b[0m\n\u001b[0m\u001b[1;32m   4412\u001b[0m             \u001b[0;32mexcept\u001b[0m \u001b[0mIndexError\u001b[0m\u001b[0;34m:\u001b[0m\u001b[0;34m\u001b[0m\u001b[0;34m\u001b[0m\u001b[0m\n",
      "\u001b[0;32mpandas/_libs/index.pyx\u001b[0m in \u001b[0;36mpandas._libs.index.get_value_at\u001b[0;34m()\u001b[0m\n",
      "\u001b[0;32mpandas/_libs/index.pyx\u001b[0m in \u001b[0;36mpandas._libs.index.get_value_at\u001b[0;34m()\u001b[0m\n",
      "\u001b[0;32mpandas/_libs/util.pxd\u001b[0m in \u001b[0;36mpandas._libs.util.get_value_at\u001b[0;34m()\u001b[0m\n",
      "\u001b[0;32mpandas/_libs/util.pxd\u001b[0m in \u001b[0;36mpandas._libs.util.validate_indexer\u001b[0;34m()\u001b[0m\n",
      "\u001b[0;31mTypeError\u001b[0m: 'str' object cannot be interpreted as an integer",
      "\nDuring handling of the above exception, another exception occurred:\n",
      "\u001b[0;31mKeyError\u001b[0m                                  Traceback (most recent call last)",
      "\u001b[0;32m<ipython-input-33-f3a3b84c185d>\u001b[0m in \u001b[0;36m<module>\u001b[0;34m\u001b[0m\n\u001b[0;32m----> 1\u001b[0;31m \u001b[0mdf\u001b[0m\u001b[0;34m.\u001b[0m\u001b[0miloc\u001b[0m\u001b[0;34m[\u001b[0m\u001b[0;36m7213\u001b[0m\u001b[0;34m]\u001b[0m\u001b[0;34m[\u001b[0m\u001b[0;34m'options_list'\u001b[0m\u001b[0;34m]\u001b[0m\u001b[0;34m\u001b[0m\u001b[0;34m\u001b[0m\u001b[0m\n\u001b[0m",
      "\u001b[0;32m/anaconda3/lib/python3.7/site-packages/pandas/core/series.py\u001b[0m in \u001b[0;36m__getitem__\u001b[0;34m(self, key)\u001b[0m\n\u001b[1;32m    869\u001b[0m         \u001b[0mkey\u001b[0m \u001b[0;34m=\u001b[0m \u001b[0mcom\u001b[0m\u001b[0;34m.\u001b[0m\u001b[0mapply_if_callable\u001b[0m\u001b[0;34m(\u001b[0m\u001b[0mkey\u001b[0m\u001b[0;34m,\u001b[0m \u001b[0mself\u001b[0m\u001b[0;34m)\u001b[0m\u001b[0;34m\u001b[0m\u001b[0;34m\u001b[0m\u001b[0m\n\u001b[1;32m    870\u001b[0m         \u001b[0;32mtry\u001b[0m\u001b[0;34m:\u001b[0m\u001b[0;34m\u001b[0m\u001b[0;34m\u001b[0m\u001b[0m\n\u001b[0;32m--> 871\u001b[0;31m             \u001b[0mresult\u001b[0m \u001b[0;34m=\u001b[0m \u001b[0mself\u001b[0m\u001b[0;34m.\u001b[0m\u001b[0mindex\u001b[0m\u001b[0;34m.\u001b[0m\u001b[0mget_value\u001b[0m\u001b[0;34m(\u001b[0m\u001b[0mself\u001b[0m\u001b[0;34m,\u001b[0m \u001b[0mkey\u001b[0m\u001b[0;34m)\u001b[0m\u001b[0;34m\u001b[0m\u001b[0;34m\u001b[0m\u001b[0m\n\u001b[0m\u001b[1;32m    872\u001b[0m \u001b[0;34m\u001b[0m\u001b[0m\n\u001b[1;32m    873\u001b[0m             \u001b[0;32mif\u001b[0m \u001b[0;32mnot\u001b[0m \u001b[0mis_scalar\u001b[0m\u001b[0;34m(\u001b[0m\u001b[0mresult\u001b[0m\u001b[0;34m)\u001b[0m\u001b[0;34m:\u001b[0m\u001b[0;34m\u001b[0m\u001b[0;34m\u001b[0m\u001b[0m\n",
      "\u001b[0;32m/anaconda3/lib/python3.7/site-packages/pandas/core/indexes/base.py\u001b[0m in \u001b[0;36mget_value\u001b[0;34m(self, series, key)\u001b[0m\n\u001b[1;32m   4417\u001b[0m                     \u001b[0;32mraise\u001b[0m \u001b[0mInvalidIndexError\u001b[0m\u001b[0;34m(\u001b[0m\u001b[0mkey\u001b[0m\u001b[0;34m)\u001b[0m\u001b[0;34m\u001b[0m\u001b[0;34m\u001b[0m\u001b[0m\n\u001b[1;32m   4418\u001b[0m                 \u001b[0;32melse\u001b[0m\u001b[0;34m:\u001b[0m\u001b[0;34m\u001b[0m\u001b[0;34m\u001b[0m\u001b[0m\n\u001b[0;32m-> 4419\u001b[0;31m                     \u001b[0;32mraise\u001b[0m \u001b[0me1\u001b[0m\u001b[0;34m\u001b[0m\u001b[0;34m\u001b[0m\u001b[0m\n\u001b[0m\u001b[1;32m   4420\u001b[0m             \u001b[0;32mexcept\u001b[0m \u001b[0mException\u001b[0m\u001b[0;34m:\u001b[0m\u001b[0;34m\u001b[0m\u001b[0;34m\u001b[0m\u001b[0m\n\u001b[1;32m   4421\u001b[0m                 \u001b[0;32mraise\u001b[0m \u001b[0me1\u001b[0m\u001b[0;34m\u001b[0m\u001b[0;34m\u001b[0m\u001b[0m\n",
      "\u001b[0;32m/anaconda3/lib/python3.7/site-packages/pandas/core/indexes/base.py\u001b[0m in \u001b[0;36mget_value\u001b[0;34m(self, series, key)\u001b[0m\n\u001b[1;32m   4403\u001b[0m         \u001b[0mk\u001b[0m \u001b[0;34m=\u001b[0m \u001b[0mself\u001b[0m\u001b[0;34m.\u001b[0m\u001b[0m_convert_scalar_indexer\u001b[0m\u001b[0;34m(\u001b[0m\u001b[0mk\u001b[0m\u001b[0;34m,\u001b[0m \u001b[0mkind\u001b[0m\u001b[0;34m=\u001b[0m\u001b[0;34m\"getitem\"\u001b[0m\u001b[0;34m)\u001b[0m\u001b[0;34m\u001b[0m\u001b[0;34m\u001b[0m\u001b[0m\n\u001b[1;32m   4404\u001b[0m         \u001b[0;32mtry\u001b[0m\u001b[0;34m:\u001b[0m\u001b[0;34m\u001b[0m\u001b[0;34m\u001b[0m\u001b[0m\n\u001b[0;32m-> 4405\u001b[0;31m             \u001b[0;32mreturn\u001b[0m \u001b[0mself\u001b[0m\u001b[0;34m.\u001b[0m\u001b[0m_engine\u001b[0m\u001b[0;34m.\u001b[0m\u001b[0mget_value\u001b[0m\u001b[0;34m(\u001b[0m\u001b[0ms\u001b[0m\u001b[0;34m,\u001b[0m \u001b[0mk\u001b[0m\u001b[0;34m,\u001b[0m \u001b[0mtz\u001b[0m\u001b[0;34m=\u001b[0m\u001b[0mgetattr\u001b[0m\u001b[0;34m(\u001b[0m\u001b[0mseries\u001b[0m\u001b[0;34m.\u001b[0m\u001b[0mdtype\u001b[0m\u001b[0;34m,\u001b[0m \u001b[0;34m\"tz\"\u001b[0m\u001b[0;34m,\u001b[0m \u001b[0;32mNone\u001b[0m\u001b[0;34m)\u001b[0m\u001b[0;34m)\u001b[0m\u001b[0;34m\u001b[0m\u001b[0;34m\u001b[0m\u001b[0m\n\u001b[0m\u001b[1;32m   4406\u001b[0m         \u001b[0;32mexcept\u001b[0m \u001b[0mKeyError\u001b[0m \u001b[0;32mas\u001b[0m \u001b[0me1\u001b[0m\u001b[0;34m:\u001b[0m\u001b[0;34m\u001b[0m\u001b[0;34m\u001b[0m\u001b[0m\n\u001b[1;32m   4407\u001b[0m             \u001b[0;32mif\u001b[0m \u001b[0mlen\u001b[0m\u001b[0;34m(\u001b[0m\u001b[0mself\u001b[0m\u001b[0;34m)\u001b[0m \u001b[0;34m>\u001b[0m \u001b[0;36m0\u001b[0m \u001b[0;32mand\u001b[0m \u001b[0;34m(\u001b[0m\u001b[0mself\u001b[0m\u001b[0;34m.\u001b[0m\u001b[0mholds_integer\u001b[0m\u001b[0;34m(\u001b[0m\u001b[0;34m)\u001b[0m \u001b[0;32mor\u001b[0m \u001b[0mself\u001b[0m\u001b[0;34m.\u001b[0m\u001b[0mis_boolean\u001b[0m\u001b[0;34m(\u001b[0m\u001b[0;34m)\u001b[0m\u001b[0;34m)\u001b[0m\u001b[0;34m:\u001b[0m\u001b[0;34m\u001b[0m\u001b[0;34m\u001b[0m\u001b[0m\n",
      "\u001b[0;32mpandas/_libs/index.pyx\u001b[0m in \u001b[0;36mpandas._libs.index.IndexEngine.get_value\u001b[0;34m()\u001b[0m\n",
      "\u001b[0;32mpandas/_libs/index.pyx\u001b[0m in \u001b[0;36mpandas._libs.index.IndexEngine.get_value\u001b[0;34m()\u001b[0m\n",
      "\u001b[0;32mpandas/_libs/index.pyx\u001b[0m in \u001b[0;36mpandas._libs.index.IndexEngine.get_loc\u001b[0;34m()\u001b[0m\n",
      "\u001b[0;32mpandas/_libs/hashtable_class_helper.pxi\u001b[0m in \u001b[0;36mpandas._libs.hashtable.PyObjectHashTable.get_item\u001b[0;34m()\u001b[0m\n",
      "\u001b[0;32mpandas/_libs/hashtable_class_helper.pxi\u001b[0m in \u001b[0;36mpandas._libs.hashtable.PyObjectHashTable.get_item\u001b[0;34m()\u001b[0m\n",
      "\u001b[0;31mKeyError\u001b[0m: 'options_list'"
     ]
    }
   ],
   "source": [
    "df.iloc[7213]['options_list']"
   ]
  },
  {
   "cell_type": "markdown",
   "metadata": {},
   "source": [
    "**Utiliser le traitement du texte pour automatiser ????**"
   ]
  },
  {
   "cell_type": "code",
   "execution_count": 47,
   "metadata": {},
   "outputs": [],
   "source": [
    "#\n",
    "def func (liste):\n",
    "    res =[]\n",
    "    for sublist in liste:\n",
    "        if isinstance(sublist, list):\n",
    "            for item in sublist:\n",
    "                res.append(item) \n",
    "        else:\n",
    "            res.append(sublist)\n",
    "    #liste = [item for sublist in liste for item in sublist]\n",
    "    return res\n",
    "#df['test'] = df['options_list'].apply(lambda x: func(x))\n",
    "\n",
    "#df.iloc[138747]['test']"
   ]
  },
  {
   "cell_type": "markdown",
   "metadata": {},
   "source": [
    "## Netoyage du champs Couleur"
   ]
  },
  {
   "cell_type": "code",
   "execution_count": 34,
   "metadata": {},
   "outputs": [
    {
     "data": {
      "text/plain": [
       "GRIS                    20934\n",
       "BLANC                   20509\n",
       "NOIR                    18362\n",
       "ROUGE                    4527\n",
       "BLEU                     4158\n",
       "                        ...  \n",
       "JAUNE / NOIR                1\n",
       "BRUN MANGARO (METALL        1\n",
       "NOIRN                       1\n",
       "NOIR OPAQUE                 1\n",
       "NOIR MÉTALLIQUE             1\n",
       "Name: couleur, Length: 6672, dtype: int64"
      ]
     },
     "execution_count": 34,
     "metadata": {},
     "output_type": "execute_result"
    }
   ],
   "source": [
    "df['couleur'].value_counts()"
   ]
  },
  {
   "cell_type": "code",
   "execution_count": 35,
   "metadata": {},
   "outputs": [],
   "source": [
    "import nltk\n",
    "from nltk.tokenize import word_tokenize\n",
    "from nltk.tag import pos_tag\n",
    "#nltk.download('averaged_perceptron_tagger')\n",
    "\n",
    "#df['couleur_token'] = df['couleur'].apply(lambda s : word_tokenize(str(s)))\n",
    "#couleur_token = [item for sublist in df['couleur_token'].tolist() for item in sublist]\n",
    "#couleur_token = set(couleur_token)"
   ]
  },
  {
   "cell_type": "code",
   "execution_count": 36,
   "metadata": {},
   "outputs": [
    {
     "name": "stdout",
     "output_type": "stream",
     "text": [
      "Nombre de couleurs :  405\n"
     ]
    }
   ],
   "source": [
    "import urllib.request\n",
    "from bs4 import BeautifulSoup\n",
    "\n",
    "html = urllib.request.urlopen('http://www.ludowalsh.com/HTM/Liste_de_couleurs.htm').read()\n",
    "\n",
    "soup = BeautifulSoup(html, 'html.parser')\n",
    "\n",
    "color_tables = soup.find_all('table', class_=\"wikitable\")\n",
    "couleurs = []\n",
    "for table in color_tables:  \n",
    "    couleurs.append(table.find_all(lambda tag: tag.name == \"a\"))\n",
    "    \n",
    "couleurs = [item for sublist in couleurs for item in sublist]\n",
    "\n",
    "couleurs_list = []\n",
    "for item in couleurs:\n",
    "    groups = re.search(r\">.*<\", str(item))\n",
    "    if groups!= None:\n",
    "        #for group in groups.group():\n",
    "        couleurs_list.append(groups.group())\n",
    "\n",
    "couleurs_list = set(couleurs_list)\n",
    "couleurs_all = []\n",
    "for item in couleurs_list:\n",
    "    couleurs_all.append(item.replace('>','').replace('<','').upper())\n",
    "\n",
    "# ordre suivant le nombre de mots: prévéligier les couleurs composées (plus de choix ... parsemé)\n",
    "couleurs_all.sort(key=lambda x: len(x.split()), reverse=False)\n",
    "# ordre suivant le nombre de mots: prévéligier les couleurs unique (agrégé)\n",
    "couleurs_all.sort(key=lambda x: len(x.split()), reverse=True)\n",
    "\n",
    "print(\"Nombre de couleurs : \",len(couleurs_all))"
   ]
  },
  {
   "cell_type": "code",
   "execution_count": 37,
   "metadata": {},
   "outputs": [],
   "source": [
    "def func_couleur(s):\n",
    "    couleur = np.nan\n",
    "    for i in range(len(couleurs_all)):\n",
    "        if couleurs_all[i] in str(s):\n",
    "            couleur = couleurs_all[i]\n",
    "    return couleur\n",
    "\n",
    "df['couleur_dominante'] = df.apply(lambda row : func_couleur(row['couleur']), axis = 1)"
   ]
  },
  {
   "cell_type": "code",
   "execution_count": 38,
   "metadata": {},
   "outputs": [
    {
     "data": {
      "text/html": [
       "<div>\n",
       "<style scoped>\n",
       "    .dataframe tbody tr th:only-of-type {\n",
       "        vertical-align: middle;\n",
       "    }\n",
       "\n",
       "    .dataframe tbody tr th {\n",
       "        vertical-align: top;\n",
       "    }\n",
       "\n",
       "    .dataframe thead th {\n",
       "        text-align: right;\n",
       "    }\n",
       "</style>\n",
       "<table border=\"1\" class=\"dataframe\">\n",
       "  <thead>\n",
       "    <tr style=\"text-align: right;\">\n",
       "      <th></th>\n",
       "      <th>couleur</th>\n",
       "      <th>couleur_dominante</th>\n",
       "    </tr>\n",
       "  </thead>\n",
       "  <tbody>\n",
       "    <tr>\n",
       "      <th>0</th>\n",
       "      <td>BLANC BANQUISE</td>\n",
       "      <td>BLANC</td>\n",
       "    </tr>\n",
       "    <tr>\n",
       "      <th>1</th>\n",
       "      <td>CARBONSCHWARZ METALLISE</td>\n",
       "      <td>NaN</td>\n",
       "    </tr>\n",
       "    <tr>\n",
       "      <th>2</th>\n",
       "      <td>NOIR PANTHERE CRISTAL</td>\n",
       "      <td>NOIR</td>\n",
       "    </tr>\n",
       "    <tr>\n",
       "      <th>3</th>\n",
       "      <td>JAUNE</td>\n",
       "      <td>JAUNE</td>\n",
       "    </tr>\n",
       "    <tr>\n",
       "      <th>4</th>\n",
       "      <td>BLANC VERNI</td>\n",
       "      <td>BLANC</td>\n",
       "    </tr>\n",
       "    <tr>\n",
       "      <th>...</th>\n",
       "      <td>...</td>\n",
       "      <td>...</td>\n",
       "    </tr>\n",
       "    <tr>\n",
       "      <th>166690</th>\n",
       "      <td>GRIS FONCE</td>\n",
       "      <td>GRIS</td>\n",
       "    </tr>\n",
       "    <tr>\n",
       "      <th>166691</th>\n",
       "      <td>NOIR METAL</td>\n",
       "      <td>NOIR</td>\n",
       "    </tr>\n",
       "    <tr>\n",
       "      <th>166692</th>\n",
       "      <td>NOIR</td>\n",
       "      <td>NOIR</td>\n",
       "    </tr>\n",
       "    <tr>\n",
       "      <th>166693</th>\n",
       "      <td>GRIS</td>\n",
       "      <td>GRIS</td>\n",
       "    </tr>\n",
       "    <tr>\n",
       "      <th>166694</th>\n",
       "      <td>GRIS CLAIR</td>\n",
       "      <td>GRIS</td>\n",
       "    </tr>\n",
       "  </tbody>\n",
       "</table>\n",
       "<p>166695 rows × 2 columns</p>\n",
       "</div>"
      ],
      "text/plain": [
       "                        couleur couleur_dominante\n",
       "0                BLANC BANQUISE             BLANC\n",
       "1       CARBONSCHWARZ METALLISE               NaN\n",
       "2         NOIR PANTHERE CRISTAL              NOIR\n",
       "3                         JAUNE             JAUNE\n",
       "4                   BLANC VERNI             BLANC\n",
       "...                         ...               ...\n",
       "166690               GRIS FONCE              GRIS\n",
       "166691          NOIR METAL                   NOIR\n",
       "166692                     NOIR              NOIR\n",
       "166693                     GRIS              GRIS\n",
       "166694               GRIS CLAIR              GRIS\n",
       "\n",
       "[166695 rows x 2 columns]"
      ]
     },
     "execution_count": 38,
     "metadata": {},
     "output_type": "execute_result"
    }
   ],
   "source": [
    "df[['couleur','couleur_dominante']]"
   ]
  },
  {
   "cell_type": "code",
   "execution_count": 39,
   "metadata": {},
   "outputs": [],
   "source": [
    "types_peinture =['METAL', 'NACRE', 'CHROME', 'CANDY', 'VERNI', ' MAT', 'UNI', 'OPAQE', 'CRISTAL']\n",
    "\n",
    "def func_type_peinture(s):\n",
    "    type_ = np.nan\n",
    "    for t in types_peinture:\n",
    "        if t in str(s):\n",
    "            type_ = t\n",
    "    return type_\n",
    "\n",
    "df['couleur_type_peinture'] = df.apply(lambda row : func_type_peinture(row['couleur']), axis = 1)"
   ]
  },
  {
   "cell_type": "code",
   "execution_count": 40,
   "metadata": {},
   "outputs": [
    {
     "ename": "ValueError",
     "evalue": "cannot mask with array containing NA / NaN values",
     "output_type": "error",
     "traceback": [
      "\u001b[0;31m---------------------------------------------------------------------------\u001b[0m",
      "\u001b[0;31mValueError\u001b[0m                                Traceback (most recent call last)",
      "\u001b[0;32m<ipython-input-40-83ab6a4f4388>\u001b[0m in \u001b[0;36m<module>\u001b[0;34m\u001b[0m\n\u001b[1;32m      1\u001b[0m \u001b[0;31m#df.loc[df['couleur'].isna(),'couleur'] = ''\u001b[0m\u001b[0;34m\u001b[0m\u001b[0;34m\u001b[0m\u001b[0;34m\u001b[0m\u001b[0m\n\u001b[0;32m----> 2\u001b[0;31m \u001b[0mdf\u001b[0m\u001b[0;34m[\u001b[0m\u001b[0mdf\u001b[0m\u001b[0;34m[\u001b[0m\u001b[0;34m'couleur'\u001b[0m\u001b[0;34m]\u001b[0m\u001b[0;34m.\u001b[0m\u001b[0mstr\u001b[0m\u001b[0;34m.\u001b[0m\u001b[0mcontains\u001b[0m\u001b[0;34m(\u001b[0m\u001b[0;34m'CRISTAL'\u001b[0m\u001b[0;34m)\u001b[0m\u001b[0;34m]\u001b[0m\u001b[0;34m[\u001b[0m\u001b[0;34m'couleur'\u001b[0m\u001b[0;34m]\u001b[0m\u001b[0;34m.\u001b[0m\u001b[0mvalue_counts\u001b[0m\u001b[0;34m(\u001b[0m\u001b[0;34m)\u001b[0m\u001b[0;34m\u001b[0m\u001b[0;34m\u001b[0m\u001b[0m\n\u001b[0m",
      "\u001b[0;32m/anaconda3/lib/python3.7/site-packages/pandas/core/frame.py\u001b[0m in \u001b[0;36m__getitem__\u001b[0;34m(self, key)\u001b[0m\n\u001b[1;32m   2788\u001b[0m \u001b[0;34m\u001b[0m\u001b[0m\n\u001b[1;32m   2789\u001b[0m         \u001b[0;31m# Do we have a (boolean) 1d indexer?\u001b[0m\u001b[0;34m\u001b[0m\u001b[0;34m\u001b[0m\u001b[0;34m\u001b[0m\u001b[0m\n\u001b[0;32m-> 2790\u001b[0;31m         \u001b[0;32mif\u001b[0m \u001b[0mcom\u001b[0m\u001b[0;34m.\u001b[0m\u001b[0mis_bool_indexer\u001b[0m\u001b[0;34m(\u001b[0m\u001b[0mkey\u001b[0m\u001b[0;34m)\u001b[0m\u001b[0;34m:\u001b[0m\u001b[0;34m\u001b[0m\u001b[0;34m\u001b[0m\u001b[0m\n\u001b[0m\u001b[1;32m   2791\u001b[0m             \u001b[0;32mreturn\u001b[0m \u001b[0mself\u001b[0m\u001b[0;34m.\u001b[0m\u001b[0m_getitem_bool_array\u001b[0m\u001b[0;34m(\u001b[0m\u001b[0mkey\u001b[0m\u001b[0;34m)\u001b[0m\u001b[0;34m\u001b[0m\u001b[0;34m\u001b[0m\u001b[0m\n\u001b[1;32m   2792\u001b[0m \u001b[0;34m\u001b[0m\u001b[0m\n",
      "\u001b[0;32m/anaconda3/lib/python3.7/site-packages/pandas/core/common.py\u001b[0m in \u001b[0;36mis_bool_indexer\u001b[0;34m(key)\u001b[0m\n\u001b[1;32m    134\u001b[0m             \u001b[0;32mif\u001b[0m \u001b[0;32mnot\u001b[0m \u001b[0mlib\u001b[0m\u001b[0;34m.\u001b[0m\u001b[0mis_bool_array\u001b[0m\u001b[0;34m(\u001b[0m\u001b[0mkey\u001b[0m\u001b[0;34m)\u001b[0m\u001b[0;34m:\u001b[0m\u001b[0;34m\u001b[0m\u001b[0;34m\u001b[0m\u001b[0m\n\u001b[1;32m    135\u001b[0m                 \u001b[0;32mif\u001b[0m \u001b[0misna\u001b[0m\u001b[0;34m(\u001b[0m\u001b[0mkey\u001b[0m\u001b[0;34m)\u001b[0m\u001b[0;34m.\u001b[0m\u001b[0many\u001b[0m\u001b[0;34m(\u001b[0m\u001b[0;34m)\u001b[0m\u001b[0;34m:\u001b[0m\u001b[0;34m\u001b[0m\u001b[0;34m\u001b[0m\u001b[0m\n\u001b[0;32m--> 136\u001b[0;31m                     \u001b[0;32mraise\u001b[0m \u001b[0mValueError\u001b[0m\u001b[0;34m(\u001b[0m\u001b[0mna_msg\u001b[0m\u001b[0;34m)\u001b[0m\u001b[0;34m\u001b[0m\u001b[0;34m\u001b[0m\u001b[0m\n\u001b[0m\u001b[1;32m    137\u001b[0m                 \u001b[0;32mreturn\u001b[0m \u001b[0;32mFalse\u001b[0m\u001b[0;34m\u001b[0m\u001b[0;34m\u001b[0m\u001b[0m\n\u001b[1;32m    138\u001b[0m             \u001b[0;32mreturn\u001b[0m \u001b[0;32mTrue\u001b[0m\u001b[0;34m\u001b[0m\u001b[0;34m\u001b[0m\u001b[0m\n",
      "\u001b[0;31mValueError\u001b[0m: cannot mask with array containing NA / NaN values"
     ]
    }
   ],
   "source": [
    "#df.loc[df['couleur'].isna(),'couleur'] = ''\n",
    "df[df['couleur'].str.contains('CRISTAL')]['couleur'].value_counts()"
   ]
  },
  {
   "cell_type": "code",
   "execution_count": 41,
   "metadata": {},
   "outputs": [
    {
     "data": {
      "text/plain": [
       "132891"
      ]
     },
     "execution_count": 41,
     "metadata": {},
     "output_type": "execute_result"
    }
   ],
   "source": [
    "df['couleur_type_peinture'].isna().sum()"
   ]
  },
  {
   "cell_type": "code",
   "execution_count": null,
   "metadata": {},
   "outputs": [],
   "source": []
  },
  {
   "cell_type": "markdown",
   "metadata": {},
   "source": [
    "## Trasformation de données"
   ]
  },
  {
   "cell_type": "code",
   "execution_count": 43,
   "metadata": {},
   "outputs": [],
   "source": [
    "from sklearn.compose import ColumnTransformer\n",
    "from sklearn.preprocessing import StandardScaler, OneHotEncoder, FunctionTransformer\n",
    "from sklearn.model_selection import train_test_split\n",
    "\n",
    "X = df.drop(['Price'], axis=1).copy()\n",
    "y = df['Price'].values.copy() # prices in R$\n",
    "\n",
    "# generate train and test sets\n",
    "X_train, X_test, y_train, y_test = train_test_split(X, y, test_size=0.2, random_state=42)\n",
    "\n",
    "# categorical features\n",
    "cat_ft = ['Gearbox', 'Fuel', 'Model', 'Make']\n",
    "\n",
    "# run once on full dataset to get all category values\n",
    "temp = ColumnTransformer([('cat', OneHotEncoder(), cat_ft)]).fit(X)\n",
    "cats = temp.named_transformers_['cat'].categories_\n",
    "\n",
    "cat_tr = OneHotEncoder(categories=cats, sparse=False)\n",
    "\n",
    "# numerical features\n",
    "num_ft = ['puissance_fiscale', 'Mileage', 'Model_year', 'age']\n",
    "num_tr = StandardScaler()\n",
    "#num_tr = FunctionTransformer(func=None)\n",
    "\n",
    "# data transformer\n",
    "data_tr = ColumnTransformer([('num', num_tr, num_ft), ('cat', cat_tr, cat_ft)])\n",
    "\n",
    "#Mean absolute percentage error (MAPE)\n"
   ]
  },
  {
   "cell_type": "code",
   "execution_count": 179,
   "metadata": {},
   "outputs": [
    {
     "data": {
      "text/plain": [
       "sklearn.compose._column_transformer.ColumnTransformer"
      ]
     },
     "execution_count": 179,
     "metadata": {},
     "output_type": "execute_result"
    }
   ],
   "source": [
    "type(data_tr)"
   ]
  },
  {
   "cell_type": "code",
   "execution_count": 44,
   "metadata": {},
   "outputs": [],
   "source": [
    "df['couleur_dominante'] = df['couleur_dominante'].astype(\"category\").cat.codes\n",
    "df['couleur_type_peinture'] = df['couleur_type_peinture'].astype(\"category\").cat.codes"
   ]
  },
  {
   "cell_type": "code",
   "execution_count": 69,
   "metadata": {},
   "outputs": [
    {
     "data": {
      "text/plain": [
       "mécanique      113014\n",
       "automatique     53681\n",
       "Name: Gearbox, dtype: int64"
      ]
     },
     "execution_count": 69,
     "metadata": {},
     "output_type": "execute_result"
    }
   ],
   "source": [
    "df['Gearbox'].value_counts()"
   ]
  },
  {
   "cell_type": "code",
   "execution_count": 70,
   "metadata": {},
   "outputs": [
    {
     "data": {
      "text/plain": [
       "1    113014\n",
       "0     53681\n",
       "Name: Gearbox, dtype: int64"
      ]
     },
     "execution_count": 70,
     "metadata": {},
     "output_type": "execute_result"
    }
   ],
   "source": [
    "df['Gearbox'] = df['Gearbox'].astype(\"category\").cat.codes\n",
    "df['Gearbox'].value_counts()"
   ]
  },
  {
   "cell_type": "code",
   "execution_count": 67,
   "metadata": {},
   "outputs": [
    {
     "data": {
      "text/plain": [
       "Diesel                              109446\n",
       "Essence                              53392\n",
       "Hybride essence électrique            2725\n",
       "Electrique                             704\n",
       "Hybride diesel électrique              310\n",
       "Bicarburation essence GPL               96\n",
       "Bicarburation essence bioéthanol        21\n",
       "Bicarburation essence GNV                1\n",
       "Name: Fuel, dtype: int64"
      ]
     },
     "execution_count": 67,
     "metadata": {},
     "output_type": "execute_result"
    }
   ],
   "source": [
    "df['Fuel'].value_counts()"
   ]
  },
  {
   "cell_type": "markdown",
   "metadata": {},
   "source": [
    "https://achat-voiture.ooreka.fr/astuce/voir/634491/bicarburation-essence-gpl"
   ]
  },
  {
   "cell_type": "code",
   "execution_count": 71,
   "metadata": {},
   "outputs": [
    {
     "data": {
      "text/plain": [
       "3    109446\n",
       "5     53392\n",
       "7      2725\n",
       "4       704\n",
       "6       310\n",
       "1        96\n",
       "2        21\n",
       "0         1\n",
       "Name: Fuel, dtype: int64"
      ]
     },
     "execution_count": 71,
     "metadata": {},
     "output_type": "execute_result"
    }
   ],
   "source": [
    "df['Fuel'] = df['Fuel'].astype(\"category\").cat.codes\n",
    "df['Fuel'].value_counts()"
   ]
  },
  {
   "cell_type": "code",
   "execution_count": 73,
   "metadata": {},
   "outputs": [
    {
     "data": {
      "text/plain": [
       "CLIO         7967\n",
       "308          6123\n",
       "208          6053\n",
       "MEGANE       5212\n",
       "CAPTUR       4410\n",
       "             ... \n",
       "550             1\n",
       "K5 BLAZER       1\n",
       "400             1\n",
       "504             1\n",
       "SC              1\n",
       "Name: Model, Length: 846, dtype: int64"
      ]
     },
     "execution_count": 73,
     "metadata": {},
     "output_type": "execute_result"
    }
   ],
   "source": [
    "df['Model'].value_counts()"
   ]
  },
  {
   "cell_type": "code",
   "execution_count": 74,
   "metadata": {},
   "outputs": [
    {
     "data": {
      "text/plain": [
       "251    7967\n",
       "46     6123\n",
       "31     6053\n",
       "507    5212\n",
       "213    4410\n",
       "       ... \n",
       "677       1\n",
       "805       1\n",
       "422       1\n",
       "678       1\n",
       "441       1\n",
       "Name: Model, Length: 846, dtype: int64"
      ]
     },
     "execution_count": 74,
     "metadata": {},
     "output_type": "execute_result"
    }
   ],
   "source": [
    "df['Model'] = df['Model'].astype(\"category\").cat.codes\n",
    "df['Model'].value_counts()"
   ]
  },
  {
   "cell_type": "markdown",
   "metadata": {},
   "source": [
    "## Valeurs extrême"
   ]
  },
  {
   "cell_type": "code",
   "execution_count": 92,
   "metadata": {},
   "outputs": [
    {
     "data": {
      "text/plain": [
       "0"
      ]
     },
     "execution_count": 92,
     "metadata": {},
     "output_type": "execute_result"
    }
   ],
   "source": [
    "df['puissance_fiscale'].isna().sum()"
   ]
  },
  {
   "cell_type": "markdown",
   "metadata": {},
   "source": [
    "## Valeur manquantes"
   ]
  },
  {
   "cell_type": "markdown",
   "metadata": {},
   "source": [
    "## Dataset spletting"
   ]
  },
  {
   "cell_type": "markdown",
   "metadata": {},
   "source": [
    "Les features à utiliser : \n",
    "* Model\n",
    "* Mileage\n",
    "* Fuel\n",
    "* Gearbox\n",
    "* Model_year\n",
    "* Make\n",
    "* portes\n",
    "* puissance_fiscale"
   ]
  },
  {
   "cell_type": "code",
   "execution_count": 97,
   "metadata": {},
   "outputs": [],
   "source": [
    "input_features = ['Model', 'Mileage', 'Fuel', 'Gearbox', 'Model_year', 'puissance_fiscale']\n",
    "X = df[input_features].copy()\n",
    "y = df['Price']"
   ]
  },
  {
   "cell_type": "code",
   "execution_count": 98,
   "metadata": {},
   "outputs": [],
   "source": []
  },
  {
   "cell_type": "code",
   "execution_count": 99,
   "metadata": {},
   "outputs": [
    {
     "data": {
      "text/plain": [
       "((111685, 6), (55010, 6))"
      ]
     },
     "execution_count": 99,
     "metadata": {},
     "output_type": "execute_result"
    }
   ],
   "source": [
    "X_train.shape, X_test.shape"
   ]
  },
  {
   "cell_type": "markdown",
   "metadata": {},
   "source": [
    "## Comparaison des modèles"
   ]
  },
  {
   "cell_type": "code",
   "execution_count": 45,
   "metadata": {},
   "outputs": [],
   "source": [
    "def mean_absolute_percentage_error(y_true, y_pred): \n",
    "    y_true, y_pred = np.array(y_true), np.array(y_pred)\n",
    "    return np.mean(np.abs((y_true - y_pred) / y_true)) * 100"
   ]
  },
  {
   "cell_type": "code",
   "execution_count": 47,
   "metadata": {},
   "outputs": [],
   "source": [
    "## inspéré de : https://angelosalton.github.io/2019/01/29/predicting-car-prices-with-scikit-learn.html\n",
    "from sklearn import linear_model\n",
    "from sklearn.neighbors import KNeighborsRegressor\n",
    "from sklearn.dummy import DummyRegressor\n",
    "from sklearn import ensemble\n",
    "from sklearn.pipeline import Pipeline#, FeatureUnion\n",
    "from sklearn import metrics\n",
    "\n",
    "models = [DummyRegressor(),\n",
    "          KNeighborsRegressor(),\n",
    "          linear_model.LinearRegression(), # ommited because of negative scores\n",
    "          linear_model.Lasso(),\n",
    "          linear_model.Ridge(),\n",
    "          linear_model.ElasticNet(),\n",
    "          ensemble.GradientBoostingRegressor(),\n",
    "          ensemble.RandomForestRegressor(),\n",
    "          ensemble.ExtraTreesRegressor()]\n",
    "\n",
    "models_names = ['Dummy','K-nn',\n",
    "                'LinearRegres',\n",
    "                'Lasso','Ridge','Elastic','Boost','Forest','Extra']\n"
   ]
  },
  {
   "cell_type": "code",
   "execution_count": 48,
   "metadata": {},
   "outputs": [
    {
     "name": "stderr",
     "output_type": "stream",
     "text": [
      "/anaconda3/lib/python3.7/site-packages/sklearn/linear_model/_coordinate_descent.py:476: ConvergenceWarning: Objective did not converge. You might want to increase the number of iterations. Duality gap: 5877059109.166016, tolerance: 3571539745.5676055\n",
      "  positive)\n"
     ]
    }
   ],
   "source": [
    "mape = []\n",
    "\n",
    "for model in models:\n",
    "    pipe = Pipeline([\n",
    "    ('features', data_tr),\n",
    "    ('model', model)\n",
    "    ])\n",
    "    fits = pipe.fit(X_train,y_train)\n",
    "    mape.append(mean_absolute_percentage_error(y_test, fits.predict(X_test)))\n",
    "\n"
   ]
  },
  {
   "cell_type": "code",
   "execution_count": 50,
   "metadata": {},
   "outputs": [
    {
     "data": {
      "text/html": [
       "<div>\n",
       "<style scoped>\n",
       "    .dataframe tbody tr th:only-of-type {\n",
       "        vertical-align: middle;\n",
       "    }\n",
       "\n",
       "    .dataframe tbody tr th {\n",
       "        vertical-align: top;\n",
       "    }\n",
       "\n",
       "    .dataframe thead th {\n",
       "        text-align: right;\n",
       "    }\n",
       "</style>\n",
       "<table border=\"1\" class=\"dataframe\">\n",
       "  <thead>\n",
       "    <tr style=\"text-align: right;\">\n",
       "      <th></th>\n",
       "      <th>model</th>\n",
       "      <th>mape</th>\n",
       "    </tr>\n",
       "  </thead>\n",
       "  <tbody>\n",
       "    <tr>\n",
       "      <th>0</th>\n",
       "      <td>Dummy</td>\n",
       "      <td>1.260230e+02</td>\n",
       "    </tr>\n",
       "    <tr>\n",
       "      <th>1</th>\n",
       "      <td>K-nn</td>\n",
       "      <td>2.495647e+01</td>\n",
       "    </tr>\n",
       "    <tr>\n",
       "      <th>2</th>\n",
       "      <td>LinearRegres</td>\n",
       "      <td>5.872732e+08</td>\n",
       "    </tr>\n",
       "    <tr>\n",
       "      <th>3</th>\n",
       "      <td>Lasso</td>\n",
       "      <td>5.074189e+01</td>\n",
       "    </tr>\n",
       "    <tr>\n",
       "      <th>4</th>\n",
       "      <td>Ridge</td>\n",
       "      <td>5.029392e+01</td>\n",
       "    </tr>\n",
       "    <tr>\n",
       "      <th>5</th>\n",
       "      <td>Elastic</td>\n",
       "      <td>7.406347e+01</td>\n",
       "    </tr>\n",
       "    <tr>\n",
       "      <th>6</th>\n",
       "      <td>Boost</td>\n",
       "      <td>3.429634e+01</td>\n",
       "    </tr>\n",
       "    <tr>\n",
       "      <th>7</th>\n",
       "      <td>Forest</td>\n",
       "      <td>2.332951e+01</td>\n",
       "    </tr>\n",
       "    <tr>\n",
       "      <th>8</th>\n",
       "      <td>Extra</td>\n",
       "      <td>2.373786e+01</td>\n",
       "    </tr>\n",
       "  </tbody>\n",
       "</table>\n",
       "</div>"
      ],
      "text/plain": [
       "          model          mape\n",
       "0         Dummy  1.260230e+02\n",
       "1          K-nn  2.495647e+01\n",
       "2  LinearRegres  5.872732e+08\n",
       "3         Lasso  5.074189e+01\n",
       "4         Ridge  5.029392e+01\n",
       "5       Elastic  7.406347e+01\n",
       "6         Boost  3.429634e+01\n",
       "7        Forest  2.332951e+01\n",
       "8         Extra  2.373786e+01"
      ]
     },
     "execution_count": 50,
     "metadata": {},
     "output_type": "execute_result"
    }
   ],
   "source": [
    "result = pd.DataFrame(data=list(zip(models_names, mape)), columns=['model', 'mape'])\n",
    "result"
   ]
  },
  {
   "cell_type": "code",
   "execution_count": 69,
   "metadata": {},
   "outputs": [
    {
     "data": {
      "text/plain": [
       "Text(0, 0.5, 'Mean absolute percentage error')"
      ]
     },
     "execution_count": 69,
     "metadata": {},
     "output_type": "execute_result"
    },
    {
     "data": {
      "image/png": "[encoded data removed]",
      "text/plain": [
       "<Figure size 1296x432 with 1 Axes>"
      ]
     },
     "metadata": {},
     "output_type": "display_data"
    }
   ],
   "source": [
    "#result.plot.bar(x='model', y='mape', rot=0)#, rot=0\n",
    "f, ax = plt.subplots(ncols=1, sharex=True, sharey=False, figsize=(18,6))\n",
    "ax.bar(result['model'], result['mape'])\n",
    "ax.set_ylabel('Mean absolute percentage error')"
   ]
  },
  {
   "cell_type": "code",
   "execution_count": 70,
   "metadata": {},
   "outputs": [
    {
     "data": {
      "text/plain": [
       "Text(0, 0.5, 'Mean absolute percentage error')"
      ]
     },
     "execution_count": 70,
     "metadata": {},
     "output_type": "execute_result"
    },
    {
     "data": {
      "image/png": "[encoded data removed]",
      "text/plain": [
       "<Figure size 1296x432 with 1 Axes>"
      ]
     },
     "metadata": {},
     "output_type": "display_data"
    }
   ],
   "source": [
    "f, ax = plt.subplots(ncols=1, sharex=True, sharey=False, figsize=(18,6))\n",
    "ax.bar(result.loc[result['model']!='LinearRegres']['model'], result.loc[result['model']!='LinearRegres']['mape'])\n",
    "ax.set_ylabel('Mean absolute percentage error')\n",
    "#result.loc[result['model']!='LinearRegres'].plot.bar(x='model', y='mape', rot=0)"
   ]
  },
  {
   "cell_type": "code",
   "execution_count": null,
   "metadata": {},
   "outputs": [],
   "source": []
  },
  {
   "cell_type": "markdown",
   "metadata": {},
   "source": [
    "Nous remarquons que le meilleur score est donné par le modèle Extra suivi de Random forest. Alors que  "
   ]
  },
  {
   "cell_type": "code",
   "execution_count": null,
   "metadata": {},
   "outputs": [],
   "source": []
  },
  {
   "cell_type": "code",
   "execution_count": 142,
   "metadata": {},
   "outputs": [
    {
     "name": "stdout",
     "output_type": "stream",
     "text": [
      "Accuracy: 0.74 (+/- 0.14)\n"
     ]
    }
   ],
   "source": [
    "model = ensemble.RandomForestRegressor()\n",
    "scores = cross_val_score(model, X_train, y_train, cv=5)\n",
    "print(\"Accuracy: %0.2f (+/- %0.2f)\" % (scores.mean(), scores.std() * 2))"
   ]
  },
  {
   "cell_type": "code",
   "execution_count": 143,
   "metadata": {},
   "outputs": [
    {
     "data": {
      "text/plain": [
       "RandomForestRegressor(bootstrap=True, ccp_alpha=0.0, criterion='mse',\n",
       "                      max_depth=None, max_features='auto', max_leaf_nodes=None,\n",
       "                      max_samples=None, min_impurity_decrease=0.0,\n",
       "                      min_impurity_split=None, min_samples_leaf=1,\n",
       "                      min_samples_split=2, min_weight_fraction_leaf=0.0,\n",
       "                      n_estimators=100, n_jobs=None, oob_score=False,\n",
       "                      random_state=None, verbose=0, warm_start=False)"
      ]
     },
     "execution_count": 143,
     "metadata": {},
     "output_type": "execute_result"
    }
   ],
   "source": [
    "model.fit(X_train, y_train)"
   ]
  },
  {
   "cell_type": "markdown",
   "metadata": {},
   "source": [
    "## Amélioration du modèle selectionné"
   ]
  },
  {
   "cell_type": "markdown",
   "metadata": {},
   "source": [
    "## Entrainement du modèle final"
   ]
  },
  {
   "cell_type": "code",
   "execution_count": 144,
   "metadata": {},
   "outputs": [],
   "source": [
    "pred = model.predict(X_test)"
   ]
  },
  {
   "cell_type": "code",
   "execution_count": 145,
   "metadata": {},
   "outputs": [
    {
     "data": {
      "text/html": [
       "<div>\n",
       "<style scoped>\n",
       "    .dataframe tbody tr th:only-of-type {\n",
       "        vertical-align: middle;\n",
       "    }\n",
       "\n",
       "    .dataframe tbody tr th {\n",
       "        vertical-align: top;\n",
       "    }\n",
       "\n",
       "    .dataframe thead th {\n",
       "        text-align: right;\n",
       "    }\n",
       "</style>\n",
       "<table border=\"1\" class=\"dataframe\">\n",
       "  <thead>\n",
       "    <tr style=\"text-align: right;\">\n",
       "      <th></th>\n",
       "      <th>predicted</th>\n",
       "      <th>true</th>\n",
       "      <th>difference</th>\n",
       "    </tr>\n",
       "  </thead>\n",
       "  <tbody>\n",
       "    <tr>\n",
       "      <th>51504</th>\n",
       "      <td>6729.170000</td>\n",
       "      <td>7942.0</td>\n",
       "      <td>-1212.830000</td>\n",
       "    </tr>\n",
       "    <tr>\n",
       "      <th>18650</th>\n",
       "      <td>9755.810000</td>\n",
       "      <td>8936.0</td>\n",
       "      <td>819.810000</td>\n",
       "    </tr>\n",
       "    <tr>\n",
       "      <th>101152</th>\n",
       "      <td>10561.050000</td>\n",
       "      <td>11651.0</td>\n",
       "      <td>-1089.950000</td>\n",
       "    </tr>\n",
       "    <tr>\n",
       "      <th>63336</th>\n",
       "      <td>18728.030000</td>\n",
       "      <td>18206.0</td>\n",
       "      <td>522.030000</td>\n",
       "    </tr>\n",
       "    <tr>\n",
       "      <th>136178</th>\n",
       "      <td>8809.440000</td>\n",
       "      <td>8102.0</td>\n",
       "      <td>707.440000</td>\n",
       "    </tr>\n",
       "    <tr>\n",
       "      <th>...</th>\n",
       "      <td>...</td>\n",
       "      <td>...</td>\n",
       "      <td>...</td>\n",
       "    </tr>\n",
       "    <tr>\n",
       "      <th>38775</th>\n",
       "      <td>19342.930000</td>\n",
       "      <td>16287.0</td>\n",
       "      <td>3055.930000</td>\n",
       "    </tr>\n",
       "    <tr>\n",
       "      <th>158408</th>\n",
       "      <td>11603.450000</td>\n",
       "      <td>11393.0</td>\n",
       "      <td>210.450000</td>\n",
       "    </tr>\n",
       "    <tr>\n",
       "      <th>81665</th>\n",
       "      <td>9035.290000</td>\n",
       "      <td>7539.0</td>\n",
       "      <td>1496.290000</td>\n",
       "    </tr>\n",
       "    <tr>\n",
       "      <th>71902</th>\n",
       "      <td>11945.890000</td>\n",
       "      <td>9405.0</td>\n",
       "      <td>2540.890000</td>\n",
       "    </tr>\n",
       "    <tr>\n",
       "      <th>37222</th>\n",
       "      <td>17351.261667</td>\n",
       "      <td>15078.0</td>\n",
       "      <td>2273.261667</td>\n",
       "    </tr>\n",
       "  </tbody>\n",
       "</table>\n",
       "<p>55010 rows × 3 columns</p>\n",
       "</div>"
      ],
      "text/plain": [
       "           predicted     true   difference\n",
       "51504    6729.170000   7942.0 -1212.830000\n",
       "18650    9755.810000   8936.0   819.810000\n",
       "101152  10561.050000  11651.0 -1089.950000\n",
       "63336   18728.030000  18206.0   522.030000\n",
       "136178   8809.440000   8102.0   707.440000\n",
       "...              ...      ...          ...\n",
       "38775   19342.930000  16287.0  3055.930000\n",
       "158408  11603.450000  11393.0   210.450000\n",
       "81665    9035.290000   7539.0  1496.290000\n",
       "71902   11945.890000   9405.0  2540.890000\n",
       "37222   17351.261667  15078.0  2273.261667\n",
       "\n",
       "[55010 rows x 3 columns]"
      ]
     },
     "execution_count": 145,
     "metadata": {},
     "output_type": "execute_result"
    }
   ],
   "source": [
    "pred = pd.DataFrame.from_dict({'predicted':pred, 'true':y_test})\n",
    "pred['difference'] = pred.predicted - pred.true\n",
    "pred\n",
    "pred['difference'].sum()"
   ]
  },
  {
   "cell_type": "code",
   "execution_count": 146,
   "metadata": {},
   "outputs": [
    {
     "data": {
      "text/plain": [
       "2083276.4351860587"
      ]
     },
     "execution_count": 146,
     "metadata": {},
     "output_type": "execute_result"
    }
   ],
   "source": [
    "pred['difference'].sum()"
   ]
  },
  {
   "cell_type": "code",
   "execution_count": 147,
   "metadata": {},
   "outputs": [
    {
     "name": "stdout",
     "output_type": "stream",
     "text": [
      "Accuracy: 0.22 (+/- 0.06)\n"
     ]
    }
   ],
   "source": [
    "from sklearn.neighbors import KNeighborsRegressor\n",
    "model = KNeighborsRegressor()\n",
    "scores = cross_val_score(model, X_train, y_train, cv=5)\n",
    "print(\"Accuracy: %0.2f (+/- %0.2f)\" % (scores.mean(), scores.std() * 2))"
   ]
  },
  {
   "cell_type": "code",
   "execution_count": 148,
   "metadata": {},
   "outputs": [
    {
     "data": {
      "text/plain": [
       "KNeighborsRegressor(algorithm='auto', leaf_size=30, metric='minkowski',\n",
       "                    metric_params=None, n_jobs=None, n_neighbors=5, p=2,\n",
       "                    weights='uniform')"
      ]
     },
     "execution_count": 148,
     "metadata": {},
     "output_type": "execute_result"
    }
   ],
   "source": [
    "model.fit(X_train, y_train)"
   ]
  },
  {
   "cell_type": "code",
   "execution_count": 149,
   "metadata": {},
   "outputs": [],
   "source": [
    "pred = model.predict(X_test)"
   ]
  },
  {
   "cell_type": "code",
   "execution_count": 150,
   "metadata": {},
   "outputs": [
    {
     "data": {
      "text/html": [
       "<div>\n",
       "<style scoped>\n",
       "    .dataframe tbody tr th:only-of-type {\n",
       "        vertical-align: middle;\n",
       "    }\n",
       "\n",
       "    .dataframe tbody tr th {\n",
       "        vertical-align: top;\n",
       "    }\n",
       "\n",
       "    .dataframe thead th {\n",
       "        text-align: right;\n",
       "    }\n",
       "</style>\n",
       "<table border=\"1\" class=\"dataframe\">\n",
       "  <thead>\n",
       "    <tr style=\"text-align: right;\">\n",
       "      <th></th>\n",
       "      <th>predicted</th>\n",
       "      <th>true</th>\n",
       "      <th>difference</th>\n",
       "    </tr>\n",
       "  </thead>\n",
       "  <tbody>\n",
       "    <tr>\n",
       "      <th>51504</th>\n",
       "      <td>6415.8</td>\n",
       "      <td>7942.0</td>\n",
       "      <td>-1526.2</td>\n",
       "    </tr>\n",
       "    <tr>\n",
       "      <th>18650</th>\n",
       "      <td>15070.6</td>\n",
       "      <td>8936.0</td>\n",
       "      <td>6134.6</td>\n",
       "    </tr>\n",
       "    <tr>\n",
       "      <th>101152</th>\n",
       "      <td>10384.6</td>\n",
       "      <td>11651.0</td>\n",
       "      <td>-1266.4</td>\n",
       "    </tr>\n",
       "    <tr>\n",
       "      <th>63336</th>\n",
       "      <td>18651.6</td>\n",
       "      <td>18206.0</td>\n",
       "      <td>445.6</td>\n",
       "    </tr>\n",
       "    <tr>\n",
       "      <th>136178</th>\n",
       "      <td>7807.0</td>\n",
       "      <td>8102.0</td>\n",
       "      <td>-295.0</td>\n",
       "    </tr>\n",
       "    <tr>\n",
       "      <th>...</th>\n",
       "      <td>...</td>\n",
       "      <td>...</td>\n",
       "      <td>...</td>\n",
       "    </tr>\n",
       "    <tr>\n",
       "      <th>38775</th>\n",
       "      <td>15527.6</td>\n",
       "      <td>16287.0</td>\n",
       "      <td>-759.4</td>\n",
       "    </tr>\n",
       "    <tr>\n",
       "      <th>158408</th>\n",
       "      <td>23709.0</td>\n",
       "      <td>11393.0</td>\n",
       "      <td>12316.0</td>\n",
       "    </tr>\n",
       "    <tr>\n",
       "      <th>81665</th>\n",
       "      <td>21079.2</td>\n",
       "      <td>7539.0</td>\n",
       "      <td>13540.2</td>\n",
       "    </tr>\n",
       "    <tr>\n",
       "      <th>71902</th>\n",
       "      <td>13116.0</td>\n",
       "      <td>9405.0</td>\n",
       "      <td>3711.0</td>\n",
       "    </tr>\n",
       "    <tr>\n",
       "      <th>37222</th>\n",
       "      <td>17071.4</td>\n",
       "      <td>15078.0</td>\n",
       "      <td>1993.4</td>\n",
       "    </tr>\n",
       "  </tbody>\n",
       "</table>\n",
       "<p>55010 rows × 3 columns</p>\n",
       "</div>"
      ],
      "text/plain": [
       "        predicted     true  difference\n",
       "51504      6415.8   7942.0     -1526.2\n",
       "18650     15070.6   8936.0      6134.6\n",
       "101152    10384.6  11651.0     -1266.4\n",
       "63336     18651.6  18206.0       445.6\n",
       "136178     7807.0   8102.0      -295.0\n",
       "...           ...      ...         ...\n",
       "38775     15527.6  16287.0      -759.4\n",
       "158408    23709.0  11393.0     12316.0\n",
       "81665     21079.2   7539.0     13540.2\n",
       "71902     13116.0   9405.0      3711.0\n",
       "37222     17071.4  15078.0      1993.4\n",
       "\n",
       "[55010 rows x 3 columns]"
      ]
     },
     "execution_count": 150,
     "metadata": {},
     "output_type": "execute_result"
    }
   ],
   "source": [
    "pred = pd.DataFrame.from_dict({'predicted':pred, 'true':y_test})\n",
    "pred['difference'] = pred.predicted - pred.true\n",
    "pred\n"
   ]
  },
  {
   "cell_type": "code",
   "execution_count": 151,
   "metadata": {},
   "outputs": [
    {
     "data": {
      "text/plain": [
       "-32303189.399999995"
      ]
     },
     "execution_count": 151,
     "metadata": {},
     "output_type": "execute_result"
    }
   ],
   "source": [
    "pred['difference'].sum()"
   ]
  },
  {
   "cell_type": "code",
   "execution_count": 421,
   "metadata": {},
   "outputs": [
    {
     "data": {
      "text/plain": [
       "81354    [Peinture métallisée, Alarme antivol, Rétroviseurs rabattables électriquement, Fermerture électrique du coffre, Système audio carte digitale, Bluetooth inclut musique en streaming, connexion téléphone, Rétroviseurs extérieurs chauffants, Pack Assistance Stationnement, Smart card / Smart key, Audi park assist, Palettes au volant, Taille écran multi-fonctions 7 pouces, Feux de croisement à LED, Jantes en aluminium coulé style 5 branches doubles en V (style S), gris contrasté, partiellement polies 8,5 J x 21 Pneus : 255/40 R 21, Freins régénérateurs, Antipatinage, Limiteur de vitesse, Pack Éclairage d'ambiance (en plus du pack Éclairage [QQ1]), Système de navigation info trafic, Adaptive cruise control, Chargeur 1 CD, Tapis de sol, Eléments de commande en cuir Audi exclusive, Affichage tête haute, Indicateur de sous-gonflage des pneus, Siège avant chauffant, Étriers de frein peints en rouge à l'avant et à l'arrière avec inscription S, Ouverture du coffre à distance, Accoudoir central arrière, avant, Air conditionné 3 zones, Réseau Wifi, Lecteur MP3, 6 airbags, Siège avant électrique, Feux arrières à LED, Système de lecture des panneaux de signalisation par caméra, Pack Esthétique noir titane Audi exclusive, Connexion Internet, Rétroviseurs extérieurs réglage électrique, Rétroviseur jour/nuit, Phares à allumage automatique, Sellerie en cuir Nappa avec logo S line, Pack Assistance Route, Sièges avant et arrière chauffants, Réglage du volant en hauteur, en profondeur, ESP, Airbags rideaux, 10 haut-parleurs, Airbags latéraux, Kit anticrevaison, Bouton démarrage, Applications décoratives piano laqué noir, Essuie glace capteur de pluie, Régulateur de vitesse, Système détection de collision, Système de navigation, Ordinateur de bord, Volant cuir, Rampes de pavillon noires, Chauffage stationnaire programmable inclaunt télécomande, Audi Active Lane assist, Tapis de sol Audi exclusive, ABS, Lave-phares, Volant multi-fonction, Phares Audi Matrix LED, Capot à soulèvement pour choc piéton, Reconnaissance vocale, Assistance au freinage d'urgence, Système audio lecteur CD et MP3, Bang & Olufsen Sound System avec son en 3D, Assistant de feux de route, Ampoules de phares LED, Air conditionné auto, Bluetooth, Toit ouvrant panoramique en verre (en deux parties), Réception radio numérique (DAB)]\n",
       "Name: options_list, dtype: object"
      ]
     },
     "execution_count": 421,
     "metadata": {},
     "output_type": "execute_result"
    }
   ],
   "source": [
    "#df['parametres'].apply(lambda x : type(x))#.str.replace(')\n",
    "#df['parametres']#.values.replace(',','n')\n",
    "#df['parametres'] \n",
    "df[df['Description'].str.contains(\",5 J x 21 Pneus :\")]['options_list'].head(1)"
   ]
  },
  {
   "cell_type": "code",
   "execution_count": 1,
   "metadata": {},
   "outputs": [
    {
     "ename": "NameError",
     "evalue": "name 'df' is not defined",
     "output_type": "error",
     "traceback": [
      "\u001b[0;31m---------------------------------------------------------------------------\u001b[0m",
      "\u001b[0;31mNameError\u001b[0m                                 Traceback (most recent call last)",
      "\u001b[0;32m<ipython-input-1-d4b6d1a2ef3e>\u001b[0m in \u001b[0;36m<module>\u001b[0;34m\u001b[0m\n\u001b[0;32m----> 1\u001b[0;31m \u001b[0mdf\u001b[0m\u001b[0;34m[\u001b[0m\u001b[0mdf\u001b[0m\u001b[0;34m[\u001b[0m\u001b[0;34m'Description'\u001b[0m\u001b[0;34m]\u001b[0m\u001b[0;34m.\u001b[0m\u001b[0mstr\u001b[0m\u001b[0;34m.\u001b[0m\u001b[0mcontains\u001b[0m\u001b[0;34m(\u001b[0m\u001b[0;34m\"pneus :\"\u001b[0m\u001b[0;34m)\u001b[0m\u001b[0;34m]\u001b[0m\u001b[0;34m[\u001b[0m\u001b[0;34m'Description'\u001b[0m\u001b[0;34m]\u001b[0m\u001b[0;34m.\u001b[0m\u001b[0mhead\u001b[0m\u001b[0;34m(\u001b[0m\u001b[0;36m1\u001b[0m\u001b[0;34m)\u001b[0m\u001b[0;34m\u001b[0m\u001b[0;34m\u001b[0m\u001b[0m\n\u001b[0m",
      "\u001b[0;31mNameError\u001b[0m: name 'df' is not defined"
     ]
    }
   ],
   "source": [
    "df[df['Description'].str.contains(\"pneus :\")]['Description'].head(1)"
   ]
  },
  {
   "cell_type": "code",
   "execution_count": 143,
   "metadata": {},
   "outputs": [
    {
     "data": {
      "text/plain": [
       "['Peinture métallisée',\n",
       " 'Alarme antivol',\n",
       " 'Rétroviseurs rabattables électriquement',\n",
       " 'Fermerture électrique du coffre',\n",
       " 'Système audio carte digitale',\n",
       " 'Bluetooth inclut musique en streaming, connexion téléphone',\n",
       " 'Rétroviseurs extérieurs chauffants',\n",
       " 'Pack Assistance Stationnement',\n",
       " 'Smart card / Smart key',\n",
       " 'Audi park assist',\n",
       " 'Palettes au volant',\n",
       " 'Taille écran multi-fonctions 7 pouces',\n",
       " 'Feux de croisement à LED',\n",
       " 'Jantes en aluminium coulé style 5 branches doubles en V (style S), gris contrasté, partiellement polies 8,5 J x 21 Pneus : 255/40 R 21',\n",
       " 'Freins régénérateurs',\n",
       " 'Antipatinage',\n",
       " 'Limiteur de vitesse',\n",
       " \"Pack Éclairage d'ambiance (en plus du pack Éclairage [QQ1])\",\n",
       " 'Système de navigation info trafic',\n",
       " 'Adaptive cruise control',\n",
       " 'Chargeur 1 CD',\n",
       " 'Tapis de sol',\n",
       " 'Eléments de commande en cuir Audi exclusive',\n",
       " 'Affichage tête haute',\n",
       " 'Indicateur de sous-gonflage des pneus',\n",
       " 'Siège avant chauffant',\n",
       " \"Étriers de frein peints en rouge à l'avant et à l'arrière avec inscription S\",\n",
       " 'Ouverture du coffre à distance',\n",
       " 'Accoudoir central arrière, avant',\n",
       " 'Air conditionné 3 zones',\n",
       " 'Réseau Wifi',\n",
       " 'Lecteur MP3',\n",
       " '6 airbags',\n",
       " 'Siège avant électrique',\n",
       " 'Feux arrières à LED',\n",
       " 'Système de lecture des panneaux de signalisation par caméra',\n",
       " 'Pack Esthétique noir titane Audi exclusive',\n",
       " 'Connexion Internet',\n",
       " 'Rétroviseurs extérieurs réglage électrique',\n",
       " 'Rétroviseur jour/nuit',\n",
       " 'Phares à allumage automatique',\n",
       " 'Sellerie en cuir Nappa avec logo S line',\n",
       " 'Pack Assistance Route',\n",
       " 'Sièges avant et arrière chauffants',\n",
       " 'Réglage du volant en hauteur, en profondeur',\n",
       " 'ESP',\n",
       " 'Airbags rideaux',\n",
       " '10 haut-parleurs',\n",
       " 'Airbags latéraux',\n",
       " 'Kit anticrevaison',\n",
       " 'Bouton démarrage',\n",
       " 'Applications décoratives piano laqué noir',\n",
       " 'Essuie glace capteur de pluie',\n",
       " 'Régulateur de vitesse',\n",
       " 'Système détection de collision',\n",
       " 'Système de navigation',\n",
       " 'Ordinateur de bord',\n",
       " 'Volant cuir',\n",
       " 'Rampes de pavillon noires',\n",
       " 'Chauffage stationnaire programmable inclaunt télécomande',\n",
       " 'Audi Active Lane assist',\n",
       " 'Tapis de sol Audi exclusive',\n",
       " 'ABS',\n",
       " 'Lave-phares',\n",
       " 'Volant multi-fonction',\n",
       " 'Phares Audi Matrix LED',\n",
       " 'Capot à soulèvement pour choc piéton',\n",
       " 'Reconnaissance vocale',\n",
       " \"Assistance au freinage d'urgence\",\n",
       " 'Système audio lecteur CD et MP3',\n",
       " 'Bang & Olufsen Sound System avec son en 3D',\n",
       " 'Assistant de feux de route',\n",
       " 'Ampoules de phares LED',\n",
       " 'Air conditionné auto',\n",
       " 'Bluetooth',\n",
       " 'Toit ouvrant panoramique en verre (en deux parties)',\n",
       " 'Réception radio numérique (DAB)']"
      ]
     },
     "execution_count": 143,
     "metadata": {},
     "output_type": "execute_result"
    }
   ],
   "source": [
    "df.iloc[81354]['options_list']"
   ]
  },
  {
   "cell_type": "code",
   "execution_count": null,
   "metadata": {},
   "outputs": [],
   "source": []
  }
 ],
 "metadata": {
  "kernelspec": {
   "display_name": "Python 3",
   "language": "python",
   "name": "python3"
  },
  "language_info": {
   "codemirror_mode": {
    "name": "ipython",
    "version": 3
   },
   "file_extension": ".py",
   "mimetype": "text/x-python",
   "name": "python",
   "nbconvert_exporter": "python",
   "pygments_lexer": "ipython3",
   "version": "3.7.6"
  }
 },
 "nbformat": 4,
 "nbformat_minor": 4
}
