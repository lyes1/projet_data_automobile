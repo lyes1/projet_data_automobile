{
 "cells": [
  {
   "cell_type": "markdown",
   "metadata": {},
   "source": [
    "Moteur : http://www.fiches-auto.fr/articles-auto/fonctionnement-d-une-auto/s-1350-savoir-lire-une-fiche-technique.php\n",
    "Couleur : https://code.peinturevoiture.fr/27595.html\n",
    "\n",
    "https://benalexkeen.com/mapping-categorical-data-in-pandas/"
   ]
  },
  {
   "cell_type": "code",
   "execution_count": 3,
   "metadata": {},
   "outputs": [],
   "source": [
    "# Importing required libraries.\n",
    "import pandas as pd\n",
    "import numpy as np\n",
    "import seaborn as sns #visualisation\n",
    "import matplotlib.pyplot as plt #visualisation\n",
    "import re\n",
    "%matplotlib inline \n",
    "sns.set(color_codes=True)\n",
    "\n",
    "#pd.set_option('display.max_rows', 1000)\n",
    "#pd.set_option('display.max_columns', 4)\n",
    "pd.set_option('max_colwidth', 10000)\n",
    "#pd.set_option('display.expand_frame_repr', False)\n",
    "#pd.set_option('display.max_rows', None)\n",
    "\n",
    "# https://regex101.com/\n",
    "# https://docs.python.org/3/library/re.html"
   ]
  },
  {
   "cell_type": "markdown",
   "metadata": {},
   "source": [
    "# I. Preprocessing des données"
   ]
  },
  {
   "cell_type": "code",
   "execution_count": 154,
   "metadata": {},
   "outputs": [],
   "source": [
    "df = pd.read_csv(\"../Data_cars.csv\")"
   ]
  },
  {
   "cell_type": "code",
   "execution_count": 5,
   "metadata": {},
   "outputs": [
    {
     "data": {
      "text/html": [
       "<div>\n",
       "<style scoped>\n",
       "    .dataframe tbody tr th:only-of-type {\n",
       "        vertical-align: middle;\n",
       "    }\n",
       "\n",
       "    .dataframe tbody tr th {\n",
       "        vertical-align: top;\n",
       "    }\n",
       "\n",
       "    .dataframe thead th {\n",
       "        text-align: right;\n",
       "    }\n",
       "</style>\n",
       "<table border=\"1\" class=\"dataframe\">\n",
       "  <thead>\n",
       "    <tr style=\"text-align: right;\">\n",
       "      <th></th>\n",
       "      <th>Price</th>\n",
       "      <th>Make</th>\n",
       "      <th>Model</th>\n",
       "      <th>Model_year</th>\n",
       "      <th>Mileage</th>\n",
       "      <th>Fuel</th>\n",
       "      <th>Gearbox</th>\n",
       "      <th>Online</th>\n",
       "      <th>Description</th>\n",
       "    </tr>\n",
       "  </thead>\n",
       "  <tbody>\n",
       "    <tr>\n",
       "      <th>0</th>\n",
       "      <td>11220.0</td>\n",
       "      <td>PEUGEOT</td>\n",
       "      <td>308</td>\n",
       "      <td>2014</td>\n",
       "      <td>94341.0 km</td>\n",
       "      <td>Diesel</td>\n",
       "      <td>mécanique</td>\n",
       "      <td>06/07/2018 à 3h47</td>\n",
       "      <td>modele: 308 (2E GENERATION), version: 1.6 HDI FAP 92CH BUSINESS 5P, puissance_fiscale: 4, portes: 5.0, options: banquette arrière 3 places;volant cuir;cache bagages;airbag frontal;banquette 1/3 - 2/3;sièges rang 2 rabattables à plat;vitres teintées;boucliers av et ar couleur caisse;phares av. de jour à LED;airbags rideaux;rétroviseurs électriques et dégivrants;siège conducteur avec réglage lombaire;vitres électriques;feux de freinage d'urgence;banquette rabattable;feux ar. à LED;AFU;contrôle de pression des pneus;airbags front. + lat.;blanc banquise;lampes de lecture à l'arrière;sièges réglables en hauteur;alarme d'oubli d'extinction des feux;EBD;volant sport;température extérieure;système audio;becquet;feux automatiques;fermeture électrique;ESP;fermeture électrique automatique;bacs de portes avant;anti patinage;accoudoir central avant;commandes du système audio au volant;fixations ISOFIX;poches d'aumonières;lampes de lecture à l'avant;lunette arrière dégivrante;essuie-glace arrière;ordinateur de bord;phares halogènes;climatisation;volant réglable en hauteur et profondeur;siège conducteur réglable hauteur;boite à gants réfrigérée;ABS;ceintures avant ajustables en hauteur;prise 12V;ecran tactile multifonction;FAP;3 ceintures ar. 3 points;ouverture des vitres séquentielle, couleur: BLANC BANQUISE</td>\n",
       "    </tr>\n",
       "  </tbody>\n",
       "</table>\n",
       "</div>"
      ],
      "text/plain": [
       "     Price     Make Model  Model_year     Mileage    Fuel    Gearbox  \\\n",
       "0  11220.0  PEUGEOT   308        2014  94341.0 km  Diesel  mécanique   \n",
       "\n",
       "              Online  \\\n",
       "0  06/07/2018 à 3h47   \n",
       "\n",
       "                                                                                                                                                                                                                                                                                                                                                                                                                                                                                                                                                                                                                                                                                                                                                                                                                                                                                                                                                                                                                                                                                                                                                                                                                                                                                                                                                           Description  \n",
       "0  modele: 308 (2E GENERATION), version: 1.6 HDI FAP 92CH BUSINESS 5P, puissance_fiscale: 4, portes: 5.0, options: banquette arrière 3 places;volant cuir;cache bagages;airbag frontal;banquette 1/3 - 2/3;sièges rang 2 rabattables à plat;vitres teintées;boucliers av et ar couleur caisse;phares av. de jour à LED;airbags rideaux;rétroviseurs électriques et dégivrants;siège conducteur avec réglage lombaire;vitres électriques;feux de freinage d'urgence;banquette rabattable;feux ar. à LED;AFU;contrôle de pression des pneus;airbags front. + lat.;blanc banquise;lampes de lecture à l'arrière;sièges réglables en hauteur;alarme d'oubli d'extinction des feux;EBD;volant sport;température extérieure;système audio;becquet;feux automatiques;fermeture électrique;ESP;fermeture électrique automatique;bacs de portes avant;anti patinage;accoudoir central avant;commandes du système audio au volant;fixations ISOFIX;poches d'aumonières;lampes de lecture à l'avant;lunette arrière dégivrante;essuie-glace arrière;ordinateur de bord;phares halogènes;climatisation;volant réglable en hauteur et profondeur;siège conducteur réglable hauteur;boite à gants réfrigérée;ABS;ceintures avant ajustables en hauteur;prise 12V;ecran tactile multifonction;FAP;3 ceintures ar. 3 points;ouverture des vitres séquentielle, couleur: BLANC BANQUISE  "
      ]
     },
     "execution_count": 5,
     "metadata": {},
     "output_type": "execute_result"
    }
   ],
   "source": [
    "df.head(1)"
   ]
  },
  {
   "cell_type": "markdown",
   "metadata": {},
   "source": [
    "**Model_year : fabrication ou de mise en circulation?**"
   ]
  },
  {
   "cell_type": "code",
   "execution_count": 6,
   "metadata": {},
   "outputs": [
    {
     "name": "stdout",
     "output_type": "stream",
     "text": [
      "<class 'pandas.core.frame.DataFrame'>\n",
      "RangeIndex: 166695 entries, 0 to 166694\n",
      "Data columns (total 9 columns):\n",
      " #   Column       Non-Null Count   Dtype  \n",
      "---  ------       --------------   -----  \n",
      " 0   Price        166695 non-null  float64\n",
      " 1   Make         166695 non-null  object \n",
      " 2   Model        166695 non-null  object \n",
      " 3   Model_year   166695 non-null  int64  \n",
      " 4   Mileage      166695 non-null  object \n",
      " 5   Fuel         166695 non-null  object \n",
      " 6   Gearbox      166695 non-null  object \n",
      " 7   Online       166695 non-null  object \n",
      " 8   Description  166695 non-null  object \n",
      "dtypes: float64(1), int64(1), object(7)\n",
      "memory usage: 11.4+ MB\n"
     ]
    }
   ],
   "source": [
    "df.info()"
   ]
  },
  {
   "cell_type": "markdown",
   "metadata": {},
   "source": [
    "* Pas de données manquantes\n",
    "* Mileage, Online and Description doivent être netoyé."
   ]
  },
  {
   "cell_type": "code",
   "execution_count": 7,
   "metadata": {},
   "outputs": [
    {
     "data": {
      "text/plain": [
       "(166695, 9)"
      ]
     },
     "execution_count": 7,
     "metadata": {},
     "output_type": "execute_result"
    }
   ],
   "source": [
    "df.shape"
   ]
  },
  {
   "cell_type": "code",
   "execution_count": 155,
   "metadata": {},
   "outputs": [
    {
     "data": {
      "text/plain": [
       "RENAULT        0.184109\n",
       "PEUGEOT        0.156687\n",
       "CITROEN        0.105636\n",
       "VOLKSWAGEN     0.067435\n",
       "BMW            0.056534\n",
       "                 ...   \n",
       "BURBY S        0.000006\n",
       "BELLIER        0.000006\n",
       "SHELBY         0.000006\n",
       "AUTOBIANCHI    0.000006\n",
       "MATRA          0.000006\n",
       "Name: Make, Length: 92, dtype: float64"
      ]
     },
     "execution_count": 155,
     "metadata": {},
     "output_type": "execute_result"
    }
   ],
   "source": [
    "maker_frequency = df['Make'].value_counts(normalize=True)\n",
    "maker_frequency"
   ]
  },
  {
   "cell_type": "markdown",
   "metadata": {},
   "source": [
    "**Faire un réequilibrage de données** ...SMOTE ?"
   ]
  },
  {
   "cell_type": "code",
   "execution_count": 9,
   "metadata": {},
   "outputs": [
    {
     "data": {
      "text/plain": [
       "Text(0, 0.5, 'Frequency')"
      ]
     },
     "execution_count": 9,
     "metadata": {},
     "output_type": "execute_result"
    },
    {
     "data": {
      "image/png": "[encoded data removed]",
      "text/plain": [
       "<Figure size 432x288 with 1 Axes>"
      ]
     },
     "metadata": {},
     "output_type": "display_data"
    }
   ],
   "source": [
    "plt.hist(df['Make'])\n",
    "plt.title('Make frequency')\n",
    "plt.xlabel('Make')\n",
    "plt.ylabel('Frequency')"
   ]
  },
  {
   "cell_type": "markdown",
   "metadata": {},
   "source": [
    "# Data cleaning"
   ]
  },
  {
   "cell_type": "code",
   "execution_count": 156,
   "metadata": {},
   "outputs": [
    {
     "data": {
      "text/html": [
       "<div>\n",
       "<style scoped>\n",
       "    .dataframe tbody tr th:only-of-type {\n",
       "        vertical-align: middle;\n",
       "    }\n",
       "\n",
       "    .dataframe tbody tr th {\n",
       "        vertical-align: top;\n",
       "    }\n",
       "\n",
       "    .dataframe thead th {\n",
       "        text-align: right;\n",
       "    }\n",
       "</style>\n",
       "<table border=\"1\" class=\"dataframe\">\n",
       "  <thead>\n",
       "    <tr style=\"text-align: right;\">\n",
       "      <th></th>\n",
       "      <th>Mileage</th>\n",
       "    </tr>\n",
       "  </thead>\n",
       "  <tbody>\n",
       "    <tr>\n",
       "      <th>0</th>\n",
       "      <td>94341</td>\n",
       "    </tr>\n",
       "    <tr>\n",
       "      <th>1</th>\n",
       "      <td>39051</td>\n",
       "    </tr>\n",
       "    <tr>\n",
       "      <th>2</th>\n",
       "      <td>75381</td>\n",
       "    </tr>\n",
       "    <tr>\n",
       "      <th>3</th>\n",
       "      <td>92282</td>\n",
       "    </tr>\n",
       "    <tr>\n",
       "      <th>4</th>\n",
       "      <td>10</td>\n",
       "    </tr>\n",
       "  </tbody>\n",
       "</table>\n",
       "</div>"
      ],
      "text/plain": [
       "   Mileage\n",
       "0    94341\n",
       "1    39051\n",
       "2    75381\n",
       "3    92282\n",
       "4       10"
      ]
     },
     "execution_count": 156,
     "metadata": {},
     "output_type": "execute_result"
    }
   ],
   "source": [
    "df['Mileage'] = df['Mileage'].str.replace(\".0 km\",\"\")\n",
    "df['Mileage'] = df['Mileage'].astype(\"int32\")\n",
    "df[['Mileage']].head()"
   ]
  },
  {
   "cell_type": "code",
   "execution_count": 157,
   "metadata": {},
   "outputs": [
    {
     "data": {
      "text/html": [
       "<div>\n",
       "<style scoped>\n",
       "    .dataframe tbody tr th:only-of-type {\n",
       "        vertical-align: middle;\n",
       "    }\n",
       "\n",
       "    .dataframe tbody tr th {\n",
       "        vertical-align: top;\n",
       "    }\n",
       "\n",
       "    .dataframe thead th {\n",
       "        text-align: right;\n",
       "    }\n",
       "</style>\n",
       "<table border=\"1\" class=\"dataframe\">\n",
       "  <thead>\n",
       "    <tr style=\"text-align: right;\">\n",
       "      <th></th>\n",
       "      <th>Online</th>\n",
       "      <th>Online_date</th>\n",
       "      <th>Online_time</th>\n",
       "      <th>Online_year</th>\n",
       "      <th>Online_month</th>\n",
       "      <th>Online_month_day</th>\n",
       "      <th>Online_hour</th>\n",
       "      <th>Online_minute</th>\n",
       "      <th>Online_week_day</th>\n",
       "    </tr>\n",
       "  </thead>\n",
       "  <tbody>\n",
       "    <tr>\n",
       "      <th>0</th>\n",
       "      <td>2018-07-06 03:47:00</td>\n",
       "      <td>2018-07-06</td>\n",
       "      <td>03:47:00</td>\n",
       "      <td>2018</td>\n",
       "      <td>7</td>\n",
       "      <td>6</td>\n",
       "      <td>3</td>\n",
       "      <td>47</td>\n",
       "      <td>4</td>\n",
       "    </tr>\n",
       "    <tr>\n",
       "      <th>1</th>\n",
       "      <td>2018-04-03 16:41:00</td>\n",
       "      <td>2018-04-03</td>\n",
       "      <td>16:41:00</td>\n",
       "      <td>2018</td>\n",
       "      <td>4</td>\n",
       "      <td>3</td>\n",
       "      <td>16</td>\n",
       "      <td>41</td>\n",
       "      <td>1</td>\n",
       "    </tr>\n",
       "  </tbody>\n",
       "</table>\n",
       "</div>"
      ],
      "text/plain": [
       "               Online Online_date Online_time  Online_year  Online_month  \\\n",
       "0 2018-07-06 03:47:00  2018-07-06    03:47:00         2018             7   \n",
       "1 2018-04-03 16:41:00  2018-04-03    16:41:00         2018             4   \n",
       "\n",
       "   Online_month_day  Online_hour  Online_minute  Online_week_day  \n",
       "0                 6            3             47                4  \n",
       "1                 3           16             41                1  "
      ]
     },
     "execution_count": 157,
     "metadata": {},
     "output_type": "execute_result"
    }
   ],
   "source": [
    "df['Online'] = pd.to_datetime(df['Online'], format='%d/%m/%Y à %Hh%M')\n",
    "\n",
    "df['Online_date'] = df['Online'].dt.date\n",
    "df['Online_time'] = df['Online'].dt.time\n",
    "\n",
    "df['Online_year'] = df['Online'].dt.year\n",
    "df['Online_month'] = df['Online'].dt.month\n",
    "df['Online_month_day'] = df['Online'].dt.day\n",
    "df['Online_hour'] = df['Online'].dt.hour\n",
    "df['Online_minute'] = df['Online'].dt.minute\n",
    "df['Online_week_day'] = df['Online'].dt.weekday\n",
    "df[['Online', 'Online_date', 'Online_time', 'Online_year', 'Online_month', 'Online_month_day', 'Online_hour', 'Online_minute', 'Online_week_day']].head(2)"
   ]
  },
  {
   "cell_type": "code",
   "execution_count": 12,
   "metadata": {},
   "outputs": [
    {
     "data": {
      "text/html": [
       "<div>\n",
       "<style scoped>\n",
       "    .dataframe tbody tr th:only-of-type {\n",
       "        vertical-align: middle;\n",
       "    }\n",
       "\n",
       "    .dataframe tbody tr th {\n",
       "        vertical-align: top;\n",
       "    }\n",
       "\n",
       "    .dataframe thead th {\n",
       "        text-align: right;\n",
       "    }\n",
       "</style>\n",
       "<table border=\"1\" class=\"dataframe\">\n",
       "  <thead>\n",
       "    <tr style=\"text-align: right;\">\n",
       "      <th></th>\n",
       "      <th>Description</th>\n",
       "    </tr>\n",
       "  </thead>\n",
       "  <tbody>\n",
       "    <tr>\n",
       "      <th>0</th>\n",
       "      <td>modele: 308 (2E GENERATION), version: 1.6 HDI FAP 92CH BUSINESS 5P, puissance_fiscale: 4, portes: 5.0, options: banquette arrière 3 places;volant cuir;cache bagages;airbag frontal;banquette 1/3 - 2/3;sièges rang 2 rabattables à plat;vitres teintées;boucliers av et ar couleur caisse;phares av. de jour à LED;airbags rideaux;rétroviseurs électriques et dégivrants;siège conducteur avec réglage lombaire;vitres électriques;feux de freinage d'urgence;banquette rabattable;feux ar. à LED;AFU;contrôle de pression des pneus;airbags front. + lat.;blanc banquise;lampes de lecture à l'arrière;sièges réglables en hauteur;alarme d'oubli d'extinction des feux;EBD;volant sport;température extérieure;système audio;becquet;feux automatiques;fermeture électrique;ESP;fermeture électrique automatique;bacs de portes avant;anti patinage;accoudoir central avant;commandes du système audio au volant;fixations ISOFIX;poches d'aumonières;lampes de lecture à l'avant;lunette arrière dégivrante;essuie-glace arrière;ordinateur de bord;phares halogènes;climatisation;volant réglable en hauteur et profondeur;siège conducteur réglable hauteur;boite à gants réfrigérée;ABS;ceintures avant ajustables en hauteur;prise 12V;ecran tactile multifonction;FAP;3 ceintures ar. 3 points;ouverture des vitres séquentielle, couleur: BLANC BANQUISE</td>\n",
       "    </tr>\n",
       "  </tbody>\n",
       "</table>\n",
       "</div>"
      ],
      "text/plain": [
       "                                                                                                                                                                                                                                                                                                                                                                                                                                                                                                                                                                                                                                                                                                                                                                                                                                                                                                                                                                                                                                                                                                                                                                                                                                                                                                                                                           Description\n",
       "0  modele: 308 (2E GENERATION), version: 1.6 HDI FAP 92CH BUSINESS 5P, puissance_fiscale: 4, portes: 5.0, options: banquette arrière 3 places;volant cuir;cache bagages;airbag frontal;banquette 1/3 - 2/3;sièges rang 2 rabattables à plat;vitres teintées;boucliers av et ar couleur caisse;phares av. de jour à LED;airbags rideaux;rétroviseurs électriques et dégivrants;siège conducteur avec réglage lombaire;vitres électriques;feux de freinage d'urgence;banquette rabattable;feux ar. à LED;AFU;contrôle de pression des pneus;airbags front. + lat.;blanc banquise;lampes de lecture à l'arrière;sièges réglables en hauteur;alarme d'oubli d'extinction des feux;EBD;volant sport;température extérieure;système audio;becquet;feux automatiques;fermeture électrique;ESP;fermeture électrique automatique;bacs de portes avant;anti patinage;accoudoir central avant;commandes du système audio au volant;fixations ISOFIX;poches d'aumonières;lampes de lecture à l'avant;lunette arrière dégivrante;essuie-glace arrière;ordinateur de bord;phares halogènes;climatisation;volant réglable en hauteur et profondeur;siège conducteur réglable hauteur;boite à gants réfrigérée;ABS;ceintures avant ajustables en hauteur;prise 12V;ecran tactile multifonction;FAP;3 ceintures ar. 3 points;ouverture des vitres séquentielle, couleur: BLANC BANQUISE"
      ]
     },
     "execution_count": 12,
     "metadata": {},
     "output_type": "execute_result"
    }
   ],
   "source": [
    "df[['Description']].head(1)"
   ]
  },
  {
   "cell_type": "markdown",
   "metadata": {},
   "source": [
    "Description contient plusieurs sous-champs qui sont séparés par une **','**\n",
    "\n",
    "Le sous-champs Options contient des paramètres séparés par des **';'**\n",
    "\n",
    "Certains paramètres dans Options contiennent des valeurs spécifiques. \n",
    "Leur patern est : **'; parametre : valeur'**. \n",
    "\n",
    "Pour les paramettres suivants dans Options : \n",
    "- finition brillantes pneus \n",
    "- noir anthracite finition brillantes avec pneus\n",
    "- 5 J x 21 Pneus '\n",
    "- réglages électriques des sièges -Conducteur\n",
    "\n",
    "le patern est **', parametre : valeur'**"
   ]
  },
  {
   "cell_type": "code",
   "execution_count": 13,
   "metadata": {},
   "outputs": [
    {
     "data": {
      "text/plain": [
       "{', couleur:',\n",
       " ', finition brillantes pneus :',\n",
       " ', noir anthracite finition brillantes avec pneus :',\n",
       " ', options:',\n",
       " ', portes:',\n",
       " ', puissance_fiscale:',\n",
       " ', réglages électriques des sièges -Conducteur :',\n",
       " ', version:',\n",
       " ',5 J x 21 Pneus :',\n",
       " 'modele:'}"
      ]
     },
     "execution_count": 13,
     "metadata": {},
     "output_type": "execute_result"
    }
   ],
   "source": [
    "# Trouver les détail des champs dans Decription : separation par des ','\n",
    "str_list = df['Description'].str.findall(r'(^.[^,;]*?:|,[^,;]*?:)').values.tolist()\n",
    "str_list = list(filter(None, str_list))\n",
    "flat_list = [item for sublist in str_list for item in sublist]\n",
    "details = set(flat_list)\n",
    "#details = [w.replace(', ', '') for w in details]\n",
    "#details = [w.replace(':', '') for w in details]\n",
    "details"
   ]
  },
  {
   "cell_type": "code",
   "execution_count": 14,
   "metadata": {},
   "outputs": [
    {
     "data": {
      "text/plain": [
       "['modele', 'couleur', 'version', 'options', 'puissance_fiscale', 'portes']"
      ]
     },
     "execution_count": 14,
     "metadata": {},
     "output_type": "execute_result"
    }
   ],
   "source": [
    "# Trouver les détail des champs dans Decription : separation par des ','\n",
    "str_list = df['Description'].str.findall(r'(^.[^,; ]*?:|, [^,; ]*?:)').values.tolist()\n",
    "str_list = list(filter(None, str_list))\n",
    "flat_list = [item for sublist in str_list for item in sublist]\n",
    "details = set(flat_list)\n",
    "details = [w.replace(', ', '') for w in details]\n",
    "details = [w.replace(':', '') for w in details]\n",
    "details"
   ]
  },
  {
   "cell_type": "code",
   "execution_count": null,
   "metadata": {},
   "outputs": [],
   "source": []
  },
  {
   "cell_type": "code",
   "execution_count": 15,
   "metadata": {},
   "outputs": [
    {
     "data": {
      "text/plain": [
       "7213    modele: RS3 (2E GENERATION) SPORTBACK, version: II (2) SPORTBACK 2.5 TFSI 400 QUATTRO S TRONIC, puissance_fiscale: 29, portes: 5.0, options: Rétroviseurs rabattables électriquement;Application décorative Carbone;Système audio carte digitale;Bluetooth inclut musique en streaming, connexion téléphone;Smart card / Smart key;Air conditionné 2 zones;Jantes en aluminium coulé en style Blade à 5 branches en noir anthracite brillant, finition brillantes pneus : 255/30 R19 AV et 235/35 R19 AR (uniquement sur RS 3 Sportback);Palettes au volant;Feux de croisement à LED;Freins régénérateurs;Antipatinage;Limiteur de vitesse;Sorties d'échappement Sport RS pour une sonorité encore plus sportive;Rétroviseurs extérieurs réglables, dégivrants et rabattables électriquement avec position automatique pour manoeuvre de stationnement et fonction jour / nuit automatiquecôté conducteur;Vitres arrière surteintées (Privacy glass);Volant suede & cuir;Alarme;Bang & Olufsen Sound System;Système de navigation info trafic;Audi Phone Box;Chargeur 1 CD;Tapis de sol;Pack Brillance noir Audi exclusive;Pack Confort;Indicateur de sous-gonflage des pneus;Ouverture du coffre à distance;Taille écran navigation 7 pouces;Réseau Wifi;Projecteurs Audi Matrix LED avec clignotants dynamiques (avant et arrière);Feux arrières à LED;Pack Design RS;7 airbags;Rétroviseurs extérieurs réglage électrique;Rétroviseur jour/nuit;Phares à allumage automatique;Fixation pour siège-enfant ISOFIX pour le siège du passager avant;Réglage du volant en hauteur, en profondeur;ESP;Airbags rideaux;Sièges Sport RS à l'avant en cuir Nappa avec surpiqûres diamant;10 haut-parleurs;Airbags latéraux;Kit anticrevaison;Bouton démarrage;Essuie glace capteur de pluie;Régulateur de vitesse;Système détection de collision;Aide au démarrage en côte;Système de navigation;Ordinateur de bord;Accoudoir central avant;Freins Céramique;ABS;Lave-phares;Feux de croisement automatiques;Volant multi-fonction;Capot à soulèvement pour choc piéton;Reconnaissance vocale;Taille écran multi-fonctions 12.3 pouces;Assistance au freinage d'urgence;Système audio lecteur CD et MP3;Ampoules de phares LED;Air conditionné auto;Sièges avant chauffants;Bluetooth;DVD/VCD;Réception radio numérique (DAB), couleur: gris metal   \n",
       "Name: Description, dtype: object"
      ]
     },
     "execution_count": 15,
     "metadata": {},
     "output_type": "execute_result"
    }
   ],
   "source": [
    "df[df['Description'].str.contains(\"finition brillantes pneus :\")]['Description'].head(1)"
   ]
  },
  {
   "cell_type": "code",
   "execution_count": 158,
   "metadata": {},
   "outputs": [],
   "source": [
    "df['modele'] = df['Description'].str.extract(r'(\\bmodele\\: \\b.*?,)', expand=True) \n",
    "df['modele'] = df['modele'].str.replace(\"modele: \", \"\")\n",
    "df['modele'] = df['modele'].str.replace(\",\", \"\")\n",
    "\n",
    "df['version'] = df['Description'].str.extract(r'(\\bversion\\: \\b.*?,)', expand=True)       \n",
    "df['version'] = df['version'].str.replace(\"version: \", \"\")\n",
    "df['version'] = df['version'].str.replace(\",\", \"\")\n",
    "\n",
    "df['puissance_fiscale'] = df['Description'].str.extract(r'(\\bpuissance_fiscale\\: \\b.*?,)', expand=True)       \n",
    "df['puissance_fiscale'] = df['puissance_fiscale'].str.replace(\"puissance_fiscale: \", \"\")\n",
    "df['puissance_fiscale'] = df['puissance_fiscale'].str.replace(\",\", \"\")\n",
    "\n",
    "df['portes'] = df['Description'].str.extract(r'(\\bportes\\: \\b.*?,)', expand=True)       \n",
    "df['portes'] = df['portes'].str.replace(\"portes: \", \"\")\n",
    "df['portes'] = df['portes'].str.replace(\",\", \"\")\n",
    "\n",
    "df['couleur'] = df['Description'].str.extract(r'(\\bcouleur\\: \\b.*?$)', expand=True)       \n",
    "df['couleur'] = df['couleur'].str.replace(\"couleur: \", \"\")\n",
    "df['couleur'] = df['couleur'].str.upper()\n",
    "\n",
    "df['options'] = df['Description'].str.extract(r'(\\boptions\\b.*, couleur)', expand=True)       \n",
    "df['options'] = df['options'].str.replace(\"options: \", \"\")\n",
    "df['options'] = df['options'].str.replace(\", couleur\", \"\")"
   ]
  },
  {
   "cell_type": "code",
   "execution_count": 17,
   "metadata": {},
   "outputs": [
    {
     "data": {
      "text/html": [
       "<div>\n",
       "<style scoped>\n",
       "    .dataframe tbody tr th:only-of-type {\n",
       "        vertical-align: middle;\n",
       "    }\n",
       "\n",
       "    .dataframe tbody tr th {\n",
       "        vertical-align: top;\n",
       "    }\n",
       "\n",
       "    .dataframe thead th {\n",
       "        text-align: right;\n",
       "    }\n",
       "</style>\n",
       "<table border=\"1\" class=\"dataframe\">\n",
       "  <thead>\n",
       "    <tr style=\"text-align: right;\">\n",
       "      <th></th>\n",
       "      <th>Description</th>\n",
       "      <th>modele</th>\n",
       "      <th>version</th>\n",
       "      <th>puissance_fiscale</th>\n",
       "      <th>portes</th>\n",
       "      <th>couleur</th>\n",
       "      <th>options</th>\n",
       "    </tr>\n",
       "  </thead>\n",
       "  <tbody>\n",
       "    <tr>\n",
       "      <th>0</th>\n",
       "      <td>modele: 308 (2E GENERATION), version: 1.6 HDI FAP 92CH BUSINESS 5P, puissance_fiscale: 4, portes: 5.0, options: banquette arrière 3 places;volant cuir;cache bagages;airbag frontal;banquette 1/3 - 2/3;sièges rang 2 rabattables à plat;vitres teintées;boucliers av et ar couleur caisse;phares av. de jour à LED;airbags rideaux;rétroviseurs électriques et dégivrants;siège conducteur avec réglage lombaire;vitres électriques;feux de freinage d'urgence;banquette rabattable;feux ar. à LED;AFU;contrôle de pression des pneus;airbags front. + lat.;blanc banquise;lampes de lecture à l'arrière;sièges réglables en hauteur;alarme d'oubli d'extinction des feux;EBD;volant sport;température extérieure;système audio;becquet;feux automatiques;fermeture électrique;ESP;fermeture électrique automatique;bacs de portes avant;anti patinage;accoudoir central avant;commandes du système audio au volant;fixations ISOFIX;poches d'aumonières;lampes de lecture à l'avant;lunette arrière dégivrante;essuie-glace arrière;ordinateur de bord;phares halogènes;climatisation;volant réglable en hauteur et profondeur;siège conducteur réglable hauteur;boite à gants réfrigérée;ABS;ceintures avant ajustables en hauteur;prise 12V;ecran tactile multifonction;FAP;3 ceintures ar. 3 points;ouverture des vitres séquentielle, couleur: BLANC BANQUISE</td>\n",
       "      <td>308 (2E GENERATION)</td>\n",
       "      <td>1.6 HDI FAP 92CH BUSINESS 5P</td>\n",
       "      <td>4</td>\n",
       "      <td>5.0</td>\n",
       "      <td>BLANC BANQUISE</td>\n",
       "      <td>banquette arrière 3 places;volant cuir;cache bagages;airbag frontal;banquette 1/3 - 2/3;sièges rang 2 rabattables à plat;vitres teintées;boucliers av et ar couleur caisse;phares av. de jour à LED;airbags rideaux;rétroviseurs électriques et dégivrants;siège conducteur avec réglage lombaire;vitres électriques;feux de freinage d'urgence;banquette rabattable;feux ar. à LED;AFU;contrôle de pression des pneus;airbags front. + lat.;blanc banquise;lampes de lecture à l'arrière;sièges réglables en hauteur;alarme d'oubli d'extinction des feux;EBD;volant sport;température extérieure;système audio;becquet;feux automatiques;fermeture électrique;ESP;fermeture électrique automatique;bacs de portes avant;anti patinage;accoudoir central avant;commandes du système audio au volant;fixations ISOFIX;poches d'aumonières;lampes de lecture à l'avant;lunette arrière dégivrante;essuie-glace arrière;ordinateur de bord;phares halogènes;climatisation;volant réglable en hauteur et profondeur;siège conducteur réglable hauteur;boite à gants réfrigérée;ABS;ceintures avant ajustables en hauteur;prise 12V;ecran tactile multifonction;FAP;3 ceintures ar. 3 points;ouverture des vitres séquentielle</td>\n",
       "    </tr>\n",
       "  </tbody>\n",
       "</table>\n",
       "</div>"
      ],
      "text/plain": [
       "                                                                                                                                                                                                                                                                                                                                                                                                                                                                                                                                                                                                                                                                                                                                                                                                                                                                                                                                                                                                                                                                                                                                                                                                                                                                                                                                                           Description  \\\n",
       "0  modele: 308 (2E GENERATION), version: 1.6 HDI FAP 92CH BUSINESS 5P, puissance_fiscale: 4, portes: 5.0, options: banquette arrière 3 places;volant cuir;cache bagages;airbag frontal;banquette 1/3 - 2/3;sièges rang 2 rabattables à plat;vitres teintées;boucliers av et ar couleur caisse;phares av. de jour à LED;airbags rideaux;rétroviseurs électriques et dégivrants;siège conducteur avec réglage lombaire;vitres électriques;feux de freinage d'urgence;banquette rabattable;feux ar. à LED;AFU;contrôle de pression des pneus;airbags front. + lat.;blanc banquise;lampes de lecture à l'arrière;sièges réglables en hauteur;alarme d'oubli d'extinction des feux;EBD;volant sport;température extérieure;système audio;becquet;feux automatiques;fermeture électrique;ESP;fermeture électrique automatique;bacs de portes avant;anti patinage;accoudoir central avant;commandes du système audio au volant;fixations ISOFIX;poches d'aumonières;lampes de lecture à l'avant;lunette arrière dégivrante;essuie-glace arrière;ordinateur de bord;phares halogènes;climatisation;volant réglable en hauteur et profondeur;siège conducteur réglable hauteur;boite à gants réfrigérée;ABS;ceintures avant ajustables en hauteur;prise 12V;ecran tactile multifonction;FAP;3 ceintures ar. 3 points;ouverture des vitres séquentielle, couleur: BLANC BANQUISE   \n",
       "\n",
       "                modele                       version puissance_fiscale portes  \\\n",
       "0  308 (2E GENERATION)  1.6 HDI FAP 92CH BUSINESS 5P                 4    5.0   \n",
       "\n",
       "          couleur  \\\n",
       "0  BLANC BANQUISE   \n",
       "\n",
       "                                                                                                                                                                                                                                                                                                                                                                                                                                                                                                                                                                                                                                                                                                                                                                                                                                                                                                                                                                                                                                                                                                                                                                                                                      options  \n",
       "0  banquette arrière 3 places;volant cuir;cache bagages;airbag frontal;banquette 1/3 - 2/3;sièges rang 2 rabattables à plat;vitres teintées;boucliers av et ar couleur caisse;phares av. de jour à LED;airbags rideaux;rétroviseurs électriques et dégivrants;siège conducteur avec réglage lombaire;vitres électriques;feux de freinage d'urgence;banquette rabattable;feux ar. à LED;AFU;contrôle de pression des pneus;airbags front. + lat.;blanc banquise;lampes de lecture à l'arrière;sièges réglables en hauteur;alarme d'oubli d'extinction des feux;EBD;volant sport;température extérieure;système audio;becquet;feux automatiques;fermeture électrique;ESP;fermeture électrique automatique;bacs de portes avant;anti patinage;accoudoir central avant;commandes du système audio au volant;fixations ISOFIX;poches d'aumonières;lampes de lecture à l'avant;lunette arrière dégivrante;essuie-glace arrière;ordinateur de bord;phares halogènes;climatisation;volant réglable en hauteur et profondeur;siège conducteur réglable hauteur;boite à gants réfrigérée;ABS;ceintures avant ajustables en hauteur;prise 12V;ecran tactile multifonction;FAP;3 ceintures ar. 3 points;ouverture des vitres séquentielle  "
      ]
     },
     "execution_count": 17,
     "metadata": {},
     "output_type": "execute_result"
    }
   ],
   "source": [
    "df[['Description', 'modele', 'version', 'puissance_fiscale', 'portes', 'couleur', 'options']].head(1)"
   ]
  },
  {
   "cell_type": "code",
   "execution_count": 18,
   "metadata": {},
   "outputs": [
    {
     "data": {
      "text/plain": [
       "5.0    138807\n",
       "3.0     11597\n",
       "4.0      8540\n",
       "2.0      6443\n",
       "0.0        17\n",
       "6.0         2\n",
       "Name: portes, dtype: int64"
      ]
     },
     "execution_count": 18,
     "metadata": {},
     "output_type": "execute_result"
    }
   ],
   "source": [
    "df['portes'].value_counts()"
   ]
  },
  {
   "cell_type": "markdown",
   "metadata": {},
   "source": [
    "**0 et 6** des outliers ?"
   ]
  },
  {
   "cell_type": "markdown",
   "metadata": {},
   "source": [
    "## Netoyage du champs 'options'"
   ]
  },
  {
   "cell_type": "code",
   "execution_count": 159,
   "metadata": {},
   "outputs": [
    {
     "data": {
      "text/plain": [
       "6    \"anti démarrage;radar de recul;prises audio auxiliaires;direction assistée;banquette 1/3 - 2/3;airbags;régulateur de vitesse;phares av. de jour à LED;projecteurs antibrouillard;climatisation automatique multi zone;kit téléphone main libre;rétroviseurs rabattables électriquement;jantes alu 17\"\";sièges sport;aide parking;sièges réglables en hauteur;carnet d'entretien;système audio carte SD MP3;feux automatiques;anti patinage;fixations ISOFIX;4 vitres électriques;ordinateur de bord;système audio CD;volant réglable en hauteur et profondeur;kit téléphone main libre bluetooth;4 roues motrices;feux et essuie-glaces automatiques;ABS;peinture métallisée;volant multifonctions;détecteur de pluie\"\n",
       "Name: options, dtype: object"
      ]
     },
     "execution_count": 159,
     "metadata": {},
     "output_type": "execute_result"
    }
   ],
   "source": [
    "#1. options avec quotes\n",
    "df[df['Description'].str.contains(\"options: \\\"\")]['options'].head(1)"
   ]
  },
  {
   "cell_type": "code",
   "execution_count": 160,
   "metadata": {},
   "outputs": [],
   "source": [
    "# suppression des quotes\n",
    "df['options'] = df['options'].str.replace(\"\\\"\", \"\")"
   ]
  },
  {
   "cell_type": "code",
   "execution_count": 21,
   "metadata": {},
   "outputs": [
    {
     "data": {
      "text/plain": [
       "6    anti démarrage;radar de recul;prises audio auxiliaires;direction assistée;banquette 1/3 - 2/3;airbags;régulateur de vitesse;phares av. de jour à LED;projecteurs antibrouillard;climatisation automatique multi zone;kit téléphone main libre;rétroviseurs rabattables électriquement;jantes alu 17;sièges sport;aide parking;sièges réglables en hauteur;carnet d'entretien;système audio carte SD MP3;feux automatiques;anti patinage;fixations ISOFIX;4 vitres électriques;ordinateur de bord;système audio CD;volant réglable en hauteur et profondeur;kit téléphone main libre bluetooth;4 roues motrices;feux et essuie-glaces automatiques;ABS;peinture métallisée;volant multifonctions;détecteur de pluie\n",
       "Name: options, dtype: object"
      ]
     },
     "execution_count": 21,
     "metadata": {},
     "output_type": "execute_result"
    }
   ],
   "source": [
    "df[df['Description'].str.contains(\"options: \\\"\")]['options'].head(1)"
   ]
  },
  {
   "cell_type": "code",
   "execution_count": 22,
   "metadata": {},
   "outputs": [
    {
     "data": {
      "text/plain": [
       "8    modele: C-MAX 2, version: II 1.6 TDCI 115 FAP TITANIUM BVM6, puissance_fiscale: 6, portes: 5.0, options: , couleur: brun\n",
       "Name: Description, dtype: object"
      ]
     },
     "execution_count": 22,
     "metadata": {},
     "output_type": "execute_result"
    }
   ],
   "source": [
    "#2. options vide\n",
    "df[df['Description'].str.contains(\"options: ,\")]['Description'].head(1) "
   ]
  },
  {
   "cell_type": "code",
   "execution_count": 161,
   "metadata": {},
   "outputs": [],
   "source": [
    "#Replace '' sting with Nan\n",
    "df['options'].replace('', np.nan, inplace=True)"
   ]
  },
  {
   "cell_type": "code",
   "execution_count": 162,
   "metadata": {},
   "outputs": [
    {
     "data": {
      "text/plain": [
       "8         NaN\n",
       "34        NaN\n",
       "84        NaN\n",
       "85        NaN\n",
       "86        NaN\n",
       "         ... \n",
       "166536    NaN\n",
       "166664    NaN\n",
       "166671    NaN\n",
       "166687    NaN\n",
       "166688    NaN\n",
       "Name: options, Length: 4659, dtype: object"
      ]
     },
     "execution_count": 162,
     "metadata": {},
     "output_type": "execute_result"
    }
   ],
   "source": [
    "df[df['options'].isna()]['options']"
   ]
  },
  {
   "cell_type": "markdown",
   "metadata": {},
   "source": [
    "### Création de listes d'options"
   ]
  },
  {
   "cell_type": "code",
   "execution_count": 163,
   "metadata": {},
   "outputs": [
    {
     "data": {
      "text/plain": [
       "0    [banquette arrière 3 places, volant cuir, cache bagages, airbag frontal, banquette 1/3 - 2/3, sièges rang 2 rabattables à plat, vitres teintées, boucliers av et ar couleur caisse, phares av. de jour à LED, airbags rideaux, rétroviseurs électriques et dégivrants, siège conducteur avec réglage lombaire, vitres électriques, feux de freinage d'urgence, banquette rabattable, feux ar. à LED, AFU, contrôle de pression des pneus, airbags front. + lat., blanc banquise, lampes de lecture à l'arrière, sièges réglables en hauteur, alarme d'oubli d'extinction des feux, EBD, volant sport, température extérieure, système audio, becquet, feux automatiques, fermeture électrique, ESP, fermeture électrique automatique, bacs de portes avant, anti patinage, accoudoir central avant, commandes du système audio au volant, fixations ISOFIX, poches d'aumonières, lampes de lecture à l'avant, lunette arrière dégivrante, essuie-glace arrière, ordinateur de bord, phares halogènes, climatisation, volant réglable en hauteur et profondeur, siège conducteur réglable hauteur, boite à gants réfrigérée, ABS, ceintures avant ajustables en hauteur, prise 12V, ecran tactile multifonction, FAP, 3 ceintures ar. 3 points, ouverture des vitres séquentielle]\n",
       "Name: options, dtype: object"
      ]
     },
     "execution_count": 163,
     "metadata": {},
     "output_type": "execute_result"
    }
   ],
   "source": [
    "#les option sont séparées par des ';'\n",
    "df['options'].str.split(\";\").head(1)"
   ]
  },
  {
   "cell_type": "markdown",
   "metadata": {},
   "source": [
    "#### Cas spécifiques\n",
    "Voir avec le prof si:\n",
    "\n",
    "'Jantes en aluminium coulé en style Blade à 5 branches en noir anthracite brillant, finition brillantes pneus : 255/30 R19 AV et 235/35 R19 AR (uniquement sur RS 3 Sportback)',\n",
    "\n",
    "est une seule option"
   ]
  },
  {
   "cell_type": "code",
   "execution_count": 27,
   "metadata": {
    "scrolled": true
   },
   "outputs": [
    {
     "ename": "KeyError",
     "evalue": "'options_list'",
     "output_type": "error",
     "traceback": [
      "\u001b[0;31m---------------------------------------------------------------------------\u001b[0m",
      "\u001b[0;31mTypeError\u001b[0m                                 Traceback (most recent call last)",
      "\u001b[0;32m/anaconda3/lib/python3.7/site-packages/pandas/core/indexes/base.py\u001b[0m in \u001b[0;36mget_value\u001b[0;34m(self, series, key)\u001b[0m\n\u001b[1;32m   4410\u001b[0m             \u001b[0;32mtry\u001b[0m\u001b[0;34m:\u001b[0m\u001b[0;34m\u001b[0m\u001b[0;34m\u001b[0m\u001b[0m\n\u001b[0;32m-> 4411\u001b[0;31m                 \u001b[0;32mreturn\u001b[0m \u001b[0mlibindex\u001b[0m\u001b[0;34m.\u001b[0m\u001b[0mget_value_at\u001b[0m\u001b[0;34m(\u001b[0m\u001b[0ms\u001b[0m\u001b[0;34m,\u001b[0m \u001b[0mkey\u001b[0m\u001b[0;34m)\u001b[0m\u001b[0;34m\u001b[0m\u001b[0;34m\u001b[0m\u001b[0m\n\u001b[0m\u001b[1;32m   4412\u001b[0m             \u001b[0;32mexcept\u001b[0m \u001b[0mIndexError\u001b[0m\u001b[0;34m:\u001b[0m\u001b[0;34m\u001b[0m\u001b[0;34m\u001b[0m\u001b[0m\n",
      "\u001b[0;32mpandas/_libs/index.pyx\u001b[0m in \u001b[0;36mpandas._libs.index.get_value_at\u001b[0;34m()\u001b[0m\n",
      "\u001b[0;32mpandas/_libs/index.pyx\u001b[0m in \u001b[0;36mpandas._libs.index.get_value_at\u001b[0;34m()\u001b[0m\n",
      "\u001b[0;32mpandas/_libs/util.pxd\u001b[0m in \u001b[0;36mpandas._libs.util.get_value_at\u001b[0;34m()\u001b[0m\n",
      "\u001b[0;32mpandas/_libs/util.pxd\u001b[0m in \u001b[0;36mpandas._libs.util.validate_indexer\u001b[0;34m()\u001b[0m\n",
      "\u001b[0;31mTypeError\u001b[0m: 'str' object cannot be interpreted as an integer",
      "\nDuring handling of the above exception, another exception occurred:\n",
      "\u001b[0;31mKeyError\u001b[0m                                  Traceback (most recent call last)",
      "\u001b[0;32m<ipython-input-27-f3a3b84c185d>\u001b[0m in \u001b[0;36m<module>\u001b[0;34m\u001b[0m\n\u001b[0;32m----> 1\u001b[0;31m \u001b[0mdf\u001b[0m\u001b[0;34m.\u001b[0m\u001b[0miloc\u001b[0m\u001b[0;34m[\u001b[0m\u001b[0;36m7213\u001b[0m\u001b[0;34m]\u001b[0m\u001b[0;34m[\u001b[0m\u001b[0;34m'options_list'\u001b[0m\u001b[0;34m]\u001b[0m\u001b[0;34m\u001b[0m\u001b[0;34m\u001b[0m\u001b[0m\n\u001b[0m",
      "\u001b[0;32m/anaconda3/lib/python3.7/site-packages/pandas/core/series.py\u001b[0m in \u001b[0;36m__getitem__\u001b[0;34m(self, key)\u001b[0m\n\u001b[1;32m    869\u001b[0m         \u001b[0mkey\u001b[0m \u001b[0;34m=\u001b[0m \u001b[0mcom\u001b[0m\u001b[0;34m.\u001b[0m\u001b[0mapply_if_callable\u001b[0m\u001b[0;34m(\u001b[0m\u001b[0mkey\u001b[0m\u001b[0;34m,\u001b[0m \u001b[0mself\u001b[0m\u001b[0;34m)\u001b[0m\u001b[0;34m\u001b[0m\u001b[0;34m\u001b[0m\u001b[0m\n\u001b[1;32m    870\u001b[0m         \u001b[0;32mtry\u001b[0m\u001b[0;34m:\u001b[0m\u001b[0;34m\u001b[0m\u001b[0;34m\u001b[0m\u001b[0m\n\u001b[0;32m--> 871\u001b[0;31m             \u001b[0mresult\u001b[0m \u001b[0;34m=\u001b[0m \u001b[0mself\u001b[0m\u001b[0;34m.\u001b[0m\u001b[0mindex\u001b[0m\u001b[0;34m.\u001b[0m\u001b[0mget_value\u001b[0m\u001b[0;34m(\u001b[0m\u001b[0mself\u001b[0m\u001b[0;34m,\u001b[0m \u001b[0mkey\u001b[0m\u001b[0;34m)\u001b[0m\u001b[0;34m\u001b[0m\u001b[0;34m\u001b[0m\u001b[0m\n\u001b[0m\u001b[1;32m    872\u001b[0m \u001b[0;34m\u001b[0m\u001b[0m\n\u001b[1;32m    873\u001b[0m             \u001b[0;32mif\u001b[0m \u001b[0;32mnot\u001b[0m \u001b[0mis_scalar\u001b[0m\u001b[0;34m(\u001b[0m\u001b[0mresult\u001b[0m\u001b[0;34m)\u001b[0m\u001b[0;34m:\u001b[0m\u001b[0;34m\u001b[0m\u001b[0;34m\u001b[0m\u001b[0m\n",
      "\u001b[0;32m/anaconda3/lib/python3.7/site-packages/pandas/core/indexes/base.py\u001b[0m in \u001b[0;36mget_value\u001b[0;34m(self, series, key)\u001b[0m\n\u001b[1;32m   4417\u001b[0m                     \u001b[0;32mraise\u001b[0m \u001b[0mInvalidIndexError\u001b[0m\u001b[0;34m(\u001b[0m\u001b[0mkey\u001b[0m\u001b[0;34m)\u001b[0m\u001b[0;34m\u001b[0m\u001b[0;34m\u001b[0m\u001b[0m\n\u001b[1;32m   4418\u001b[0m                 \u001b[0;32melse\u001b[0m\u001b[0;34m:\u001b[0m\u001b[0;34m\u001b[0m\u001b[0;34m\u001b[0m\u001b[0m\n\u001b[0;32m-> 4419\u001b[0;31m                     \u001b[0;32mraise\u001b[0m \u001b[0me1\u001b[0m\u001b[0;34m\u001b[0m\u001b[0;34m\u001b[0m\u001b[0m\n\u001b[0m\u001b[1;32m   4420\u001b[0m             \u001b[0;32mexcept\u001b[0m \u001b[0mException\u001b[0m\u001b[0;34m:\u001b[0m\u001b[0;34m\u001b[0m\u001b[0;34m\u001b[0m\u001b[0m\n\u001b[1;32m   4421\u001b[0m                 \u001b[0;32mraise\u001b[0m \u001b[0me1\u001b[0m\u001b[0;34m\u001b[0m\u001b[0;34m\u001b[0m\u001b[0m\n",
      "\u001b[0;32m/anaconda3/lib/python3.7/site-packages/pandas/core/indexes/base.py\u001b[0m in \u001b[0;36mget_value\u001b[0;34m(self, series, key)\u001b[0m\n\u001b[1;32m   4403\u001b[0m         \u001b[0mk\u001b[0m \u001b[0;34m=\u001b[0m \u001b[0mself\u001b[0m\u001b[0;34m.\u001b[0m\u001b[0m_convert_scalar_indexer\u001b[0m\u001b[0;34m(\u001b[0m\u001b[0mk\u001b[0m\u001b[0;34m,\u001b[0m \u001b[0mkind\u001b[0m\u001b[0;34m=\u001b[0m\u001b[0;34m\"getitem\"\u001b[0m\u001b[0;34m)\u001b[0m\u001b[0;34m\u001b[0m\u001b[0;34m\u001b[0m\u001b[0m\n\u001b[1;32m   4404\u001b[0m         \u001b[0;32mtry\u001b[0m\u001b[0;34m:\u001b[0m\u001b[0;34m\u001b[0m\u001b[0;34m\u001b[0m\u001b[0m\n\u001b[0;32m-> 4405\u001b[0;31m             \u001b[0;32mreturn\u001b[0m \u001b[0mself\u001b[0m\u001b[0;34m.\u001b[0m\u001b[0m_engine\u001b[0m\u001b[0;34m.\u001b[0m\u001b[0mget_value\u001b[0m\u001b[0;34m(\u001b[0m\u001b[0ms\u001b[0m\u001b[0;34m,\u001b[0m \u001b[0mk\u001b[0m\u001b[0;34m,\u001b[0m \u001b[0mtz\u001b[0m\u001b[0;34m=\u001b[0m\u001b[0mgetattr\u001b[0m\u001b[0;34m(\u001b[0m\u001b[0mseries\u001b[0m\u001b[0;34m.\u001b[0m\u001b[0mdtype\u001b[0m\u001b[0;34m,\u001b[0m \u001b[0;34m\"tz\"\u001b[0m\u001b[0;34m,\u001b[0m \u001b[0;32mNone\u001b[0m\u001b[0;34m)\u001b[0m\u001b[0;34m)\u001b[0m\u001b[0;34m\u001b[0m\u001b[0;34m\u001b[0m\u001b[0m\n\u001b[0m\u001b[1;32m   4406\u001b[0m         \u001b[0;32mexcept\u001b[0m \u001b[0mKeyError\u001b[0m \u001b[0;32mas\u001b[0m \u001b[0me1\u001b[0m\u001b[0;34m:\u001b[0m\u001b[0;34m\u001b[0m\u001b[0;34m\u001b[0m\u001b[0m\n\u001b[1;32m   4407\u001b[0m             \u001b[0;32mif\u001b[0m \u001b[0mlen\u001b[0m\u001b[0;34m(\u001b[0m\u001b[0mself\u001b[0m\u001b[0;34m)\u001b[0m \u001b[0;34m>\u001b[0m \u001b[0;36m0\u001b[0m \u001b[0;32mand\u001b[0m \u001b[0;34m(\u001b[0m\u001b[0mself\u001b[0m\u001b[0;34m.\u001b[0m\u001b[0mholds_integer\u001b[0m\u001b[0;34m(\u001b[0m\u001b[0;34m)\u001b[0m \u001b[0;32mor\u001b[0m \u001b[0mself\u001b[0m\u001b[0;34m.\u001b[0m\u001b[0mis_boolean\u001b[0m\u001b[0;34m(\u001b[0m\u001b[0;34m)\u001b[0m\u001b[0;34m)\u001b[0m\u001b[0;34m:\u001b[0m\u001b[0;34m\u001b[0m\u001b[0;34m\u001b[0m\u001b[0m\n",
      "\u001b[0;32mpandas/_libs/index.pyx\u001b[0m in \u001b[0;36mpandas._libs.index.IndexEngine.get_value\u001b[0;34m()\u001b[0m\n",
      "\u001b[0;32mpandas/_libs/index.pyx\u001b[0m in \u001b[0;36mpandas._libs.index.IndexEngine.get_value\u001b[0;34m()\u001b[0m\n",
      "\u001b[0;32mpandas/_libs/index.pyx\u001b[0m in \u001b[0;36mpandas._libs.index.IndexEngine.get_loc\u001b[0;34m()\u001b[0m\n",
      "\u001b[0;32mpandas/_libs/hashtable_class_helper.pxi\u001b[0m in \u001b[0;36mpandas._libs.hashtable.PyObjectHashTable.get_item\u001b[0;34m()\u001b[0m\n",
      "\u001b[0;32mpandas/_libs/hashtable_class_helper.pxi\u001b[0m in \u001b[0;36mpandas._libs.hashtable.PyObjectHashTable.get_item\u001b[0;34m()\u001b[0m\n",
      "\u001b[0;31mKeyError\u001b[0m: 'options_list'"
     ]
    }
   ],
   "source": [
    "df.iloc[7213]['options_list']"
   ]
  },
  {
   "cell_type": "markdown",
   "metadata": {},
   "source": [
    "**Utiliser le traitement du texte pour automatiser ????**"
   ]
  },
  {
   "cell_type": "code",
   "execution_count": 47,
   "metadata": {},
   "outputs": [],
   "source": [
    "#\n",
    "def func (liste):\n",
    "    res =[]\n",
    "    for sublist in liste:\n",
    "        if isinstance(sublist, list):\n",
    "            for item in sublist:\n",
    "                res.append(item) \n",
    "        else:\n",
    "            res.append(sublist)\n",
    "    #liste = [item for sublist in liste for item in sublist]\n",
    "    return res\n",
    "#df['test'] = df['options_list'].apply(lambda x: func(x))\n",
    "\n",
    "#df.iloc[138747]['test']"
   ]
  },
  {
   "cell_type": "markdown",
   "metadata": {},
   "source": [
    "## Netoyage du champs Couleur"
   ]
  },
  {
   "cell_type": "code",
   "execution_count": 164,
   "metadata": {},
   "outputs": [
    {
     "data": {
      "text/plain": [
       "GRIS                    20934\n",
       "BLANC                   20509\n",
       "NOIR                    18362\n",
       "ROUGE                    4527\n",
       "BLEU                     4158\n",
       "                        ...  \n",
       "BLEU TIVOLI                 1\n",
       "NOIR ET BLANC               1\n",
       "BLACK SHADOW                1\n",
       "ROUGE BORDEAU               1\n",
       "326G-BLANC ARCTIQUE-        1\n",
       "Name: couleur, Length: 6672, dtype: int64"
      ]
     },
     "execution_count": 164,
     "metadata": {},
     "output_type": "execute_result"
    }
   ],
   "source": [
    "df['couleur'].value_counts()"
   ]
  },
  {
   "cell_type": "code",
   "execution_count": 30,
   "metadata": {},
   "outputs": [],
   "source": [
    "import nltk\n",
    "from nltk.tokenize import word_tokenize\n",
    "from nltk.tag import pos_tag\n",
    "#nltk.download('averaged_perceptron_tagger')\n",
    "\n",
    "#df['couleur_token'] = df['couleur'].apply(lambda s : word_tokenize(str(s)))\n",
    "#couleur_token = [item for sublist in df['couleur_token'].tolist() for item in sublist]\n",
    "#couleur_token = set(couleur_token)"
   ]
  },
  {
   "cell_type": "code",
   "execution_count": 31,
   "metadata": {},
   "outputs": [
    {
     "name": "stdout",
     "output_type": "stream",
     "text": [
      "Nombre de couleurs :  405\n"
     ]
    }
   ],
   "source": [
    "import urllib.request\n",
    "from bs4 import BeautifulSoup\n",
    "\n",
    "html = urllib.request.urlopen('http://www.ludowalsh.com/HTM/Liste_de_couleurs.htm').read()\n",
    "\n",
    "soup = BeautifulSoup(html, 'html.parser')\n",
    "\n",
    "color_tables = soup.find_all('table', class_=\"wikitable\")\n",
    "couleurs = []\n",
    "for table in color_tables:  \n",
    "    couleurs.append(table.find_all(lambda tag: tag.name == \"a\"))\n",
    "    \n",
    "couleurs = [item for sublist in couleurs for item in sublist]\n",
    "\n",
    "couleurs_list = []\n",
    "for item in couleurs:\n",
    "    groups = re.search(r\">.*<\", str(item))\n",
    "    if groups!= None:\n",
    "        #for group in groups.group():\n",
    "        couleurs_list.append(groups.group())\n",
    "\n",
    "couleurs_list = set(couleurs_list)\n",
    "couleurs_all = []\n",
    "for item in couleurs_list:\n",
    "    couleurs_all.append(item.replace('>','').replace('<','').upper())\n",
    "\n",
    "# ordre suivant le nombre de mots: prévéligier les couleurs composées (plus de choix ... parsemé)\n",
    "couleurs_all.sort(key=lambda x: len(x.split()), reverse=False)\n",
    "# ordre suivant le nombre de mots: prévéligier les couleurs unique (agrégé)\n",
    "couleurs_all.sort(key=lambda x: len(x.split()), reverse=True)\n",
    "\n",
    "print(\"Nombre de couleurs : \",len(couleurs_all))"
   ]
  },
  {
   "cell_type": "code",
   "execution_count": 165,
   "metadata": {},
   "outputs": [],
   "source": [
    "def func_couleur(s):\n",
    "    couleur = np.nan\n",
    "    for i in range(len(couleurs_all)):\n",
    "        if couleurs_all[i] in str(s):\n",
    "            couleur = couleurs_all[i]\n",
    "    return couleur\n",
    "\n",
    "df['couleur_dominante'] = df.apply(lambda row : func_couleur(row['couleur']), axis = 1)"
   ]
  },
  {
   "cell_type": "code",
   "execution_count": 166,
   "metadata": {},
   "outputs": [
    {
     "data": {
      "text/html": [
       "<div>\n",
       "<style scoped>\n",
       "    .dataframe tbody tr th:only-of-type {\n",
       "        vertical-align: middle;\n",
       "    }\n",
       "\n",
       "    .dataframe tbody tr th {\n",
       "        vertical-align: top;\n",
       "    }\n",
       "\n",
       "    .dataframe thead th {\n",
       "        text-align: right;\n",
       "    }\n",
       "</style>\n",
       "<table border=\"1\" class=\"dataframe\">\n",
       "  <thead>\n",
       "    <tr style=\"text-align: right;\">\n",
       "      <th></th>\n",
       "      <th>couleur</th>\n",
       "      <th>couleur_dominante</th>\n",
       "    </tr>\n",
       "  </thead>\n",
       "  <tbody>\n",
       "    <tr>\n",
       "      <th>0</th>\n",
       "      <td>BLANC BANQUISE</td>\n",
       "      <td>BLANC</td>\n",
       "    </tr>\n",
       "    <tr>\n",
       "      <th>1</th>\n",
       "      <td>CARBONSCHWARZ METALLISE</td>\n",
       "      <td>NaN</td>\n",
       "    </tr>\n",
       "    <tr>\n",
       "      <th>2</th>\n",
       "      <td>NOIR PANTHERE CRISTAL</td>\n",
       "      <td>NOIR</td>\n",
       "    </tr>\n",
       "    <tr>\n",
       "      <th>3</th>\n",
       "      <td>JAUNE</td>\n",
       "      <td>JAUNE</td>\n",
       "    </tr>\n",
       "    <tr>\n",
       "      <th>4</th>\n",
       "      <td>BLANC VERNI</td>\n",
       "      <td>BLANC</td>\n",
       "    </tr>\n",
       "    <tr>\n",
       "      <th>...</th>\n",
       "      <td>...</td>\n",
       "      <td>...</td>\n",
       "    </tr>\n",
       "    <tr>\n",
       "      <th>166690</th>\n",
       "      <td>GRIS FONCE</td>\n",
       "      <td>GRIS</td>\n",
       "    </tr>\n",
       "    <tr>\n",
       "      <th>166691</th>\n",
       "      <td>NOIR METAL</td>\n",
       "      <td>NOIR</td>\n",
       "    </tr>\n",
       "    <tr>\n",
       "      <th>166692</th>\n",
       "      <td>NOIR</td>\n",
       "      <td>NOIR</td>\n",
       "    </tr>\n",
       "    <tr>\n",
       "      <th>166693</th>\n",
       "      <td>GRIS</td>\n",
       "      <td>GRIS</td>\n",
       "    </tr>\n",
       "    <tr>\n",
       "      <th>166694</th>\n",
       "      <td>GRIS CLAIR</td>\n",
       "      <td>GRIS</td>\n",
       "    </tr>\n",
       "  </tbody>\n",
       "</table>\n",
       "<p>166695 rows × 2 columns</p>\n",
       "</div>"
      ],
      "text/plain": [
       "                        couleur couleur_dominante\n",
       "0                BLANC BANQUISE             BLANC\n",
       "1       CARBONSCHWARZ METALLISE               NaN\n",
       "2         NOIR PANTHERE CRISTAL              NOIR\n",
       "3                         JAUNE             JAUNE\n",
       "4                   BLANC VERNI             BLANC\n",
       "...                         ...               ...\n",
       "166690               GRIS FONCE              GRIS\n",
       "166691          NOIR METAL                   NOIR\n",
       "166692                     NOIR              NOIR\n",
       "166693                     GRIS              GRIS\n",
       "166694               GRIS CLAIR              GRIS\n",
       "\n",
       "[166695 rows x 2 columns]"
      ]
     },
     "execution_count": 166,
     "metadata": {},
     "output_type": "execute_result"
    }
   ],
   "source": [
    "df[['couleur','couleur_dominante']]"
   ]
  },
  {
   "cell_type": "code",
   "execution_count": 168,
   "metadata": {},
   "outputs": [],
   "source": [
    "types_peinture =['METAL', 'NACRE', 'CHROME', 'CANDY', 'VERNI', ' MAT', 'UNI', 'OPAQE', 'CRISTAL']\n",
    "\n",
    "def func_type_peinture(s):\n",
    "    type_ = np.nan\n",
    "    for t in types_peinture:\n",
    "        if t in str(s):\n",
    "            type_ = t\n",
    "    return type_\n",
    "\n",
    "df['couleur_type_peinture'] = df.apply(lambda row : func_type_peinture(row['couleur']), axis = 1)"
   ]
  },
  {
   "cell_type": "code",
   "execution_count": 64,
   "metadata": {},
   "outputs": [
    {
     "data": {
      "text/plain": [
       "BLANC CRISTAL                      102\n",
       "NOIR CRISTAL                        25\n",
       "707 BLANC CRISTAL MÉTAL              3\n",
       "BLANC CRISTAL MÉTALLISÉ 707          3\n",
       "WHITE CRISTAL                        2\n",
       "BLEU ARA CRISTAL AUDI EXCLUSIVE      2\n",
       "NOIR PANTHERE CRISTAL                2\n",
       "EMERALD CRISTAL                      2\n",
       "CRISTAL WHITE PEARL                  1\n",
       "707 BLANC CRISTAL METAL              1\n",
       "BLANC CRISTAL TOIT NOIR              1\n",
       "707 BLANC CRISTAL METALISEE          1\n",
       "BLANC CRISTAL TOIT N                 1\n",
       "BLAN CRISTAL                         1\n",
       "707 BLANC CRISTAL MÉTALISÉE          1\n",
       "ROUGE CRISTAL                        1\n",
       "GRISMERCURE ROUGECRISTAL             1\n",
       "GRANITE CRISTAL                      1\n",
       "ARGENT PRISMA CRISTAL                1\n",
       "707 BLANC CRISTAL METALLI            1\n",
       "Name: couleur, dtype: int64"
      ]
     },
     "execution_count": 64,
     "metadata": {},
     "output_type": "execute_result"
    }
   ],
   "source": [
    "#df.loc[df['couleur'].isna(),'couleur'] = ''\n",
    "df[df['couleur'].str.contains('CRISTAL')]['couleur'].value_counts()"
   ]
  },
  {
   "cell_type": "code",
   "execution_count": 169,
   "metadata": {},
   "outputs": [
    {
     "data": {
      "text/plain": [
       "132891"
      ]
     },
     "execution_count": 169,
     "metadata": {},
     "output_type": "execute_result"
    }
   ],
   "source": [
    "df['couleur_type_peinture'].isna().sum()"
   ]
  },
  {
   "cell_type": "markdown",
   "metadata": {},
   "source": [
    "## Champs Vesion"
   ]
  },
  {
   "cell_type": "code",
   "execution_count": 37,
   "metadata": {},
   "outputs": [
    {
     "data": {
      "text/plain": [
       "0                                               1.6 HDI FAP 92CH BUSINESS 5P\n",
       "1                                                                        NaN\n",
       "2                                   III AVANT 4.0 TFSI 560 QUATTRO TIPTRONIC\n",
       "3                                                                 1.3 70 FUN\n",
       "4                                                           II SW 1.4 95 POP\n",
       "                                         ...                                \n",
       "166690               IV (2) AVANT 2.0 TDI 177 BUSINESS LINE QUATTRO S TRONIC\n",
       "166691    VII 2.0 TDI 150 BLUEMOTION TECHNOLOGY CONFORTLINE BUSINESS DSG6 5P\n",
       "166692                                 V (2) 1.0 ECOBOOST 100 S&S EDITION 5P\n",
       "166693                          III 2.0 TDI 150 GREEN TEC BUSINESS PLUS DSG6\n",
       "166694                             II 2.0 DCI 175 ENERGY INTENS 4X2 X-TRONIC\n",
       "Name: version, Length: 166695, dtype: object"
      ]
     },
     "execution_count": 37,
     "metadata": {},
     "output_type": "execute_result"
    }
   ],
   "source": [
    "df['version']"
   ]
  },
  {
   "cell_type": "code",
   "execution_count": null,
   "metadata": {},
   "outputs": [],
   "source": []
  },
  {
   "cell_type": "markdown",
   "metadata": {},
   "source": [
    "## Trasformation de données"
   ]
  },
  {
   "cell_type": "code",
   "execution_count": 186,
   "metadata": {},
   "outputs": [],
   "source": [
    "from sklearn.compose import ColumnTransformer\n",
    "from sklearn.preprocessing import StandardScaler, OneHotEncoder, FunctionTransformer\n",
    "from sklearn.model_selection import train_test_split\n",
    "\n",
    "X = df.drop(['Price'], axis=1).copy()\n",
    "y = df['Price'].values.copy() # prices in R$\n",
    "\n",
    "# generate train and test sets\n",
    "X_train, X_test, y_train, y_test = train_test_split(X, y, test_size=0.2, random_state=42)\n",
    "\n",
    "# categorical features\n",
    "cat_ft = ['Gearbox', 'Fuel', 'Model', 'Make']\n",
    "\n",
    "# run once on full dataset to get all category values\n",
    "temp = ColumnTransformer([('cat', OneHotEncoder(), cat_ft)]).fit(X)\n",
    "cats = temp.named_transformers_['cat'].categories_\n",
    "\n",
    "cat_tr = OneHotEncoder(categories=cats, sparse=False)\n",
    "\n",
    "# numerical features\n",
    "num_ft = ['puissance_fiscale', 'Mileage', 'Model_year']\n",
    "num_tr = StandardScaler()\n",
    "#num_tr = FunctionTransformer(func=None)\n",
    "\n",
    "# data transformer\n",
    "data_tr = ColumnTransformer([('num', num_tr, num_ft), ('cat', cat_tr, cat_ft)])\n"
   ]
  },
  {
   "cell_type": "code",
   "execution_count": 179,
   "metadata": {},
   "outputs": [
    {
     "data": {
      "text/plain": [
       "sklearn.compose._column_transformer.ColumnTransformer"
      ]
     },
     "execution_count": 179,
     "metadata": {},
     "output_type": "execute_result"
    }
   ],
   "source": [
    "type(data_tr)"
   ]
  },
  {
   "cell_type": "code",
   "execution_count": 65,
   "metadata": {},
   "outputs": [],
   "source": [
    "df['couleur_dominante'] = df['couleur_dominante'].astype(\"category\").cat.codes\n",
    "df['couleur_type_peinture'] = df['couleur_type_peinture'].astype(\"category\").cat.codes"
   ]
  },
  {
   "cell_type": "code",
   "execution_count": 69,
   "metadata": {},
   "outputs": [
    {
     "data": {
      "text/plain": [
       "mécanique      113014\n",
       "automatique     53681\n",
       "Name: Gearbox, dtype: int64"
      ]
     },
     "execution_count": 69,
     "metadata": {},
     "output_type": "execute_result"
    }
   ],
   "source": [
    "df['Gearbox'].value_counts()"
   ]
  },
  {
   "cell_type": "code",
   "execution_count": 70,
   "metadata": {},
   "outputs": [
    {
     "data": {
      "text/plain": [
       "1    113014\n",
       "0     53681\n",
       "Name: Gearbox, dtype: int64"
      ]
     },
     "execution_count": 70,
     "metadata": {},
     "output_type": "execute_result"
    }
   ],
   "source": [
    "df['Gearbox'] = df['Gearbox'].astype(\"category\").cat.codes\n",
    "df['Gearbox'].value_counts()"
   ]
  },
  {
   "cell_type": "code",
   "execution_count": 67,
   "metadata": {},
   "outputs": [
    {
     "data": {
      "text/plain": [
       "Diesel                              109446\n",
       "Essence                              53392\n",
       "Hybride essence électrique            2725\n",
       "Electrique                             704\n",
       "Hybride diesel électrique              310\n",
       "Bicarburation essence GPL               96\n",
       "Bicarburation essence bioéthanol        21\n",
       "Bicarburation essence GNV                1\n",
       "Name: Fuel, dtype: int64"
      ]
     },
     "execution_count": 67,
     "metadata": {},
     "output_type": "execute_result"
    }
   ],
   "source": [
    "df['Fuel'].value_counts()"
   ]
  },
  {
   "cell_type": "markdown",
   "metadata": {},
   "source": [
    "https://achat-voiture.ooreka.fr/astuce/voir/634491/bicarburation-essence-gpl"
   ]
  },
  {
   "cell_type": "code",
   "execution_count": 71,
   "metadata": {},
   "outputs": [
    {
     "data": {
      "text/plain": [
       "3    109446\n",
       "5     53392\n",
       "7      2725\n",
       "4       704\n",
       "6       310\n",
       "1        96\n",
       "2        21\n",
       "0         1\n",
       "Name: Fuel, dtype: int64"
      ]
     },
     "execution_count": 71,
     "metadata": {},
     "output_type": "execute_result"
    }
   ],
   "source": [
    "df['Fuel'] = df['Fuel'].astype(\"category\").cat.codes\n",
    "df['Fuel'].value_counts()"
   ]
  },
  {
   "cell_type": "code",
   "execution_count": 73,
   "metadata": {},
   "outputs": [
    {
     "data": {
      "text/plain": [
       "CLIO         7967\n",
       "308          6123\n",
       "208          6053\n",
       "MEGANE       5212\n",
       "CAPTUR       4410\n",
       "             ... \n",
       "550             1\n",
       "K5 BLAZER       1\n",
       "400             1\n",
       "504             1\n",
       "SC              1\n",
       "Name: Model, Length: 846, dtype: int64"
      ]
     },
     "execution_count": 73,
     "metadata": {},
     "output_type": "execute_result"
    }
   ],
   "source": [
    "df['Model'].value_counts()"
   ]
  },
  {
   "cell_type": "code",
   "execution_count": 74,
   "metadata": {},
   "outputs": [
    {
     "data": {
      "text/plain": [
       "251    7967\n",
       "46     6123\n",
       "31     6053\n",
       "507    5212\n",
       "213    4410\n",
       "       ... \n",
       "677       1\n",
       "805       1\n",
       "422       1\n",
       "678       1\n",
       "441       1\n",
       "Name: Model, Length: 846, dtype: int64"
      ]
     },
     "execution_count": 74,
     "metadata": {},
     "output_type": "execute_result"
    }
   ],
   "source": [
    "df['Model'] = df['Model'].astype(\"category\").cat.codes\n",
    "df['Model'].value_counts()"
   ]
  },
  {
   "cell_type": "markdown",
   "metadata": {},
   "source": [
    "## Valeurs extrême"
   ]
  },
  {
   "cell_type": "code",
   "execution_count": 92,
   "metadata": {},
   "outputs": [
    {
     "data": {
      "text/plain": [
       "0"
      ]
     },
     "execution_count": 92,
     "metadata": {},
     "output_type": "execute_result"
    }
   ],
   "source": [
    "df['puissance_fiscale'].isna().sum()"
   ]
  },
  {
   "cell_type": "markdown",
   "metadata": {},
   "source": [
    "## Valeur manquantes"
   ]
  },
  {
   "cell_type": "markdown",
   "metadata": {},
   "source": [
    "## Dataset spletting"
   ]
  },
  {
   "cell_type": "markdown",
   "metadata": {},
   "source": [
    "Les features à utiliser : \n",
    "* Model\n",
    "* Mileage\n",
    "* Fuel\n",
    "* Gearbox\n",
    "* Model_year\n",
    "* Make\n",
    "* portes\n",
    "* puissance_fiscale"
   ]
  },
  {
   "cell_type": "code",
   "execution_count": 97,
   "metadata": {},
   "outputs": [],
   "source": [
    "input_features = ['Model', 'Mileage', 'Fuel', 'Gearbox', 'Model_year', 'puissance_fiscale']\n",
    "X = df[input_features].copy()\n",
    "y = df['Price']"
   ]
  },
  {
   "cell_type": "code",
   "execution_count": 98,
   "metadata": {},
   "outputs": [],
   "source": []
  },
  {
   "cell_type": "code",
   "execution_count": 99,
   "metadata": {},
   "outputs": [
    {
     "data": {
      "text/plain": [
       "((111685, 6), (55010, 6))"
      ]
     },
     "execution_count": 99,
     "metadata": {},
     "output_type": "execute_result"
    }
   ],
   "source": [
    "X_train.shape, X_test.shape"
   ]
  },
  {
   "cell_type": "markdown",
   "metadata": {},
   "source": [
    "## Comparaison des modèles"
   ]
  },
  {
   "cell_type": "code",
   "execution_count": 208,
   "metadata": {},
   "outputs": [],
   "source": [
    "## inspéré de : https://angelosalton.github.io/2019/01/29/predicting-car-prices-with-scikit-learn.html\n",
    "from sklearn import linear_model\n",
    "from sklearn.neighbors import KNeighborsRegressor\n",
    "from sklearn.dummy import DummyRegressor\n",
    "from sklearn import ensemble\n",
    "from sklearn.pipeline import Pipeline#, FeatureUnion\n",
    "from sklearn import metrics\n",
    "\n",
    "models = [DummyRegressor(),\n",
    "          KNeighborsRegressor(),\n",
    "          #linear_model.LinearRegression(), # ommited because of negative scores\n",
    "          linear_model.Lasso(),\n",
    "          linear_model.Ridge(),\n",
    "          linear_model.ElasticNet(),\n",
    "          ensemble.GradientBoostingRegressor(),\n",
    "          ensemble.RandomForestRegressor(),\n",
    "          ensemble.ExtraTreesRegressor()]\n",
    "\n",
    "models_names = ['Dummy','K-nn',\n",
    "                #'LinearRegres',\n",
    "                'Lasso','Ridge','Elastic','Boost','Forest','Extra']\n"
   ]
  },
  {
   "cell_type": "code",
   "execution_count": 209,
   "metadata": {},
   "outputs": [
    {
     "name": "stderr",
     "output_type": "stream",
     "text": [
      "/anaconda3/lib/python3.7/site-packages/sklearn/linear_model/_coordinate_descent.py:476: ConvergenceWarning: Objective did not converge. You might want to increase the number of iterations. Duality gap: 5877059109.05957, tolerance: 3571539745.5676064\n",
      "  positive)\n"
     ]
    }
   ],
   "source": [
    "#scores = []\n",
    "#mse = []\n",
    "#mae = []\n",
    "\n",
    "for model in models:\n",
    "    pipe = Pipeline([\n",
    "    ('features', data_tr),\n",
    "    ('model', model)\n",
    "    ])\n",
    "    #fits = pipe.fit(X_train,y_train)\n",
    "    #scores.append(metrics.r2_score(y_test, fits.predict(X_test)))\n",
    "    #mse.append(metrics.mean_squared_error(y_test, fits.predict(X_test)))\n",
    "    #mae.append(metrics.median_absolute_error(y_test, fits.predict(X_test)))\n"
   ]
  },
  {
   "cell_type": "code",
   "execution_count": 223,
   "metadata": {},
   "outputs": [
    {
     "data": {
      "text/plain": [
       "Text(0, 0.5, 'Median absolute error')"
      ]
     },
     "execution_count": 223,
     "metadata": {},
     "output_type": "execute_result"
    },
    {
     "data": {
      "image/png": "[encoded data removed]",
      "text/plain": [
       "<Figure size 1296x432 with 3 Axes>"
      ]
     },
     "metadata": {},
     "output_type": "display_data"
    }
   ],
   "source": [
    "f, (ax1, ax2, ax3) = plt.subplots(ncols=3, sharex=True, sharey=False, figsize=(18,6))\n",
    "ax1.bar(models_names, scores)\n",
    "ax1.set_ylabel('$R^2$')\n",
    "ax2.bar(models_names, mse)\n",
    "ax2.set_ylabel('Mean squared error')\n",
    "ax3.bar(models_names, mae)\n",
    "ax3.set_ylabel('Median absolute error')\n"
   ]
  },
  {
   "cell_type": "code",
   "execution_count": 224,
   "metadata": {},
   "outputs": [
    {
     "data": {
      "text/html": [
       "<div>\n",
       "<style scoped>\n",
       "    .dataframe tbody tr th:only-of-type {\n",
       "        vertical-align: middle;\n",
       "    }\n",
       "\n",
       "    .dataframe tbody tr th {\n",
       "        vertical-align: top;\n",
       "    }\n",
       "\n",
       "    .dataframe thead th {\n",
       "        text-align: right;\n",
       "    }\n",
       "</style>\n",
       "<table border=\"1\" class=\"dataframe\">\n",
       "  <thead>\n",
       "    <tr style=\"text-align: right;\">\n",
       "      <th></th>\n",
       "      <th>model</th>\n",
       "      <th>scores</th>\n",
       "      <th>mse</th>\n",
       "      <th>mae</th>\n",
       "    </tr>\n",
       "  </thead>\n",
       "  <tbody>\n",
       "    <tr>\n",
       "      <th>0</th>\n",
       "      <td>Dummy</td>\n",
       "      <td>-0.000017</td>\n",
       "      <td>2.768512e+08</td>\n",
       "      <td>6696.788258</td>\n",
       "    </tr>\n",
       "    <tr>\n",
       "      <th>1</th>\n",
       "      <td>K-nn</td>\n",
       "      <td>0.873419</td>\n",
       "      <td>3.504348e+07</td>\n",
       "      <td>975.800000</td>\n",
       "    </tr>\n",
       "    <tr>\n",
       "      <th>2</th>\n",
       "      <td>Lasso</td>\n",
       "      <td>0.783889</td>\n",
       "      <td>5.982959e+07</td>\n",
       "      <td>2089.957315</td>\n",
       "    </tr>\n",
       "    <tr>\n",
       "      <th>3</th>\n",
       "      <td>Ridge</td>\n",
       "      <td>0.787957</td>\n",
       "      <td>5.870344e+07</td>\n",
       "      <td>2034.186650</td>\n",
       "    </tr>\n",
       "    <tr>\n",
       "      <th>4</th>\n",
       "      <td>Elastic</td>\n",
       "      <td>0.414031</td>\n",
       "      <td>1.622235e+08</td>\n",
       "      <td>4073.627094</td>\n",
       "    </tr>\n",
       "    <tr>\n",
       "      <th>5</th>\n",
       "      <td>Boost</td>\n",
       "      <td>0.856369</td>\n",
       "      <td>3.976384e+07</td>\n",
       "      <td>1878.112097</td>\n",
       "    </tr>\n",
       "    <tr>\n",
       "      <th>6</th>\n",
       "      <td>Forest</td>\n",
       "      <td>0.904470</td>\n",
       "      <td>2.644716e+07</td>\n",
       "      <td>947.490000</td>\n",
       "    </tr>\n",
       "    <tr>\n",
       "      <th>7</th>\n",
       "      <td>Extra</td>\n",
       "      <td>0.909505</td>\n",
       "      <td>2.505310e+07</td>\n",
       "      <td>952.920000</td>\n",
       "    </tr>\n",
       "  </tbody>\n",
       "</table>\n",
       "</div>"
      ],
      "text/plain": [
       "     model    scores           mse          mae\n",
       "0    Dummy -0.000017  2.768512e+08  6696.788258\n",
       "1     K-nn  0.873419  3.504348e+07   975.800000\n",
       "2    Lasso  0.783889  5.982959e+07  2089.957315\n",
       "3    Ridge  0.787957  5.870344e+07  2034.186650\n",
       "4  Elastic  0.414031  1.622235e+08  4073.627094\n",
       "5    Boost  0.856369  3.976384e+07  1878.112097\n",
       "6   Forest  0.904470  2.644716e+07   947.490000\n",
       "7    Extra  0.909505  2.505310e+07   952.920000"
      ]
     },
     "execution_count": 224,
     "metadata": {},
     "output_type": "execute_result"
    }
   ],
   "source": [
    "result = pd.DataFrame(data=list(zip(models_names, scores, mse, mae)), columns=['model', 'scores', 'mse', 'mae'])\n",
    "result"
   ]
  },
  {
   "cell_type": "markdown",
   "metadata": {},
   "source": [
    "Nous remarquons que le meilleur score est donné par le modèle Extra suivi de Random forest. Alors que  "
   ]
  },
  {
   "cell_type": "code",
   "execution_count": 222,
   "metadata": {},
   "outputs": [
    {
     "data": {
      "text/html": [
       "<div>\n",
       "<style scoped>\n",
       "    .dataframe tbody tr th:only-of-type {\n",
       "        vertical-align: middle;\n",
       "    }\n",
       "\n",
       "    .dataframe tbody tr th {\n",
       "        vertical-align: top;\n",
       "    }\n",
       "\n",
       "    .dataframe thead th {\n",
       "        text-align: right;\n",
       "    }\n",
       "</style>\n",
       "<table border=\"1\" class=\"dataframe\">\n",
       "  <thead>\n",
       "    <tr style=\"text-align: right;\">\n",
       "      <th></th>\n",
       "      <th>model</th>\n",
       "      <th>scores</th>\n",
       "      <th>mse</th>\n",
       "      <th>mae</th>\n",
       "    </tr>\n",
       "  </thead>\n",
       "  <tbody>\n",
       "    <tr>\n",
       "      <th>0</th>\n",
       "      <td>Dummy</td>\n",
       "      <td>-0.000017</td>\n",
       "      <td>2.768512e+08</td>\n",
       "      <td>6696.788258</td>\n",
       "    </tr>\n",
       "    <tr>\n",
       "      <th>1</th>\n",
       "      <td>K-nn</td>\n",
       "      <td>0.873419</td>\n",
       "      <td>3.504348e+07</td>\n",
       "      <td>975.800000</td>\n",
       "    </tr>\n",
       "    <tr>\n",
       "      <th>2</th>\n",
       "      <td>Lasso</td>\n",
       "      <td>0.783889</td>\n",
       "      <td>5.982959e+07</td>\n",
       "      <td>2089.957315</td>\n",
       "    </tr>\n",
       "    <tr>\n",
       "      <th>3</th>\n",
       "      <td>Ridge</td>\n",
       "      <td>0.787957</td>\n",
       "      <td>5.870344e+07</td>\n",
       "      <td>2034.186650</td>\n",
       "    </tr>\n",
       "    <tr>\n",
       "      <th>4</th>\n",
       "      <td>Elastic</td>\n",
       "      <td>0.414031</td>\n",
       "      <td>1.622235e+08</td>\n",
       "      <td>4073.627094</td>\n",
       "    </tr>\n",
       "    <tr>\n",
       "      <th>5</th>\n",
       "      <td>Boost</td>\n",
       "      <td>0.856369</td>\n",
       "      <td>3.976384e+07</td>\n",
       "      <td>1878.112097</td>\n",
       "    </tr>\n",
       "    <tr>\n",
       "      <th>6</th>\n",
       "      <td>Forest</td>\n",
       "      <td>0.904470</td>\n",
       "      <td>2.644716e+07</td>\n",
       "      <td>947.490000</td>\n",
       "    </tr>\n",
       "    <tr>\n",
       "      <th>7</th>\n",
       "      <td>Extra</td>\n",
       "      <td>0.909505</td>\n",
       "      <td>2.505310e+07</td>\n",
       "      <td>952.920000</td>\n",
       "    </tr>\n",
       "  </tbody>\n",
       "</table>\n",
       "</div>"
      ],
      "text/plain": [
       "     model    scores           mse          mae\n",
       "0    Dummy -0.000017  2.768512e+08  6696.788258\n",
       "1     K-nn  0.873419  3.504348e+07   975.800000\n",
       "2    Lasso  0.783889  5.982959e+07  2089.957315\n",
       "3    Ridge  0.787957  5.870344e+07  2034.186650\n",
       "4  Elastic  0.414031  1.622235e+08  4073.627094\n",
       "5    Boost  0.856369  3.976384e+07  1878.112097\n",
       "6   Forest  0.904470  2.644716e+07   947.490000\n",
       "7    Extra  0.909505  2.505310e+07   952.920000"
      ]
     },
     "execution_count": 222,
     "metadata": {},
     "output_type": "execute_result"
    }
   ],
   "source": []
  },
  {
   "cell_type": "code",
   "execution_count": 142,
   "metadata": {},
   "outputs": [
    {
     "name": "stdout",
     "output_type": "stream",
     "text": [
      "Accuracy: 0.74 (+/- 0.14)\n"
     ]
    }
   ],
   "source": [
    "model = ensemble.RandomForestRegressor()\n",
    "scores = cross_val_score(model, X_train, y_train, cv=5)\n",
    "print(\"Accuracy: %0.2f (+/- %0.2f)\" % (scores.mean(), scores.std() * 2))"
   ]
  },
  {
   "cell_type": "code",
   "execution_count": 143,
   "metadata": {},
   "outputs": [
    {
     "data": {
      "text/plain": [
       "RandomForestRegressor(bootstrap=True, ccp_alpha=0.0, criterion='mse',\n",
       "                      max_depth=None, max_features='auto', max_leaf_nodes=None,\n",
       "                      max_samples=None, min_impurity_decrease=0.0,\n",
       "                      min_impurity_split=None, min_samples_leaf=1,\n",
       "                      min_samples_split=2, min_weight_fraction_leaf=0.0,\n",
       "                      n_estimators=100, n_jobs=None, oob_score=False,\n",
       "                      random_state=None, verbose=0, warm_start=False)"
      ]
     },
     "execution_count": 143,
     "metadata": {},
     "output_type": "execute_result"
    }
   ],
   "source": [
    "model.fit(X_train, y_train)"
   ]
  },
  {
   "cell_type": "markdown",
   "metadata": {},
   "source": [
    "## Amélioration du modèle selectionné"
   ]
  },
  {
   "cell_type": "markdown",
   "metadata": {},
   "source": [
    "## Entrainement du modèle final"
   ]
  },
  {
   "cell_type": "code",
   "execution_count": 144,
   "metadata": {},
   "outputs": [],
   "source": [
    "pred = model.predict(X_test)"
   ]
  },
  {
   "cell_type": "code",
   "execution_count": 145,
   "metadata": {},
   "outputs": [
    {
     "data": {
      "text/html": [
       "<div>\n",
       "<style scoped>\n",
       "    .dataframe tbody tr th:only-of-type {\n",
       "        vertical-align: middle;\n",
       "    }\n",
       "\n",
       "    .dataframe tbody tr th {\n",
       "        vertical-align: top;\n",
       "    }\n",
       "\n",
       "    .dataframe thead th {\n",
       "        text-align: right;\n",
       "    }\n",
       "</style>\n",
       "<table border=\"1\" class=\"dataframe\">\n",
       "  <thead>\n",
       "    <tr style=\"text-align: right;\">\n",
       "      <th></th>\n",
       "      <th>predicted</th>\n",
       "      <th>true</th>\n",
       "      <th>difference</th>\n",
       "    </tr>\n",
       "  </thead>\n",
       "  <tbody>\n",
       "    <tr>\n",
       "      <th>51504</th>\n",
       "      <td>6729.170000</td>\n",
       "      <td>7942.0</td>\n",
       "      <td>-1212.830000</td>\n",
       "    </tr>\n",
       "    <tr>\n",
       "      <th>18650</th>\n",
       "      <td>9755.810000</td>\n",
       "      <td>8936.0</td>\n",
       "      <td>819.810000</td>\n",
       "    </tr>\n",
       "    <tr>\n",
       "      <th>101152</th>\n",
       "      <td>10561.050000</td>\n",
       "      <td>11651.0</td>\n",
       "      <td>-1089.950000</td>\n",
       "    </tr>\n",
       "    <tr>\n",
       "      <th>63336</th>\n",
       "      <td>18728.030000</td>\n",
       "      <td>18206.0</td>\n",
       "      <td>522.030000</td>\n",
       "    </tr>\n",
       "    <tr>\n",
       "      <th>136178</th>\n",
       "      <td>8809.440000</td>\n",
       "      <td>8102.0</td>\n",
       "      <td>707.440000</td>\n",
       "    </tr>\n",
       "    <tr>\n",
       "      <th>...</th>\n",
       "      <td>...</td>\n",
       "      <td>...</td>\n",
       "      <td>...</td>\n",
       "    </tr>\n",
       "    <tr>\n",
       "      <th>38775</th>\n",
       "      <td>19342.930000</td>\n",
       "      <td>16287.0</td>\n",
       "      <td>3055.930000</td>\n",
       "    </tr>\n",
       "    <tr>\n",
       "      <th>158408</th>\n",
       "      <td>11603.450000</td>\n",
       "      <td>11393.0</td>\n",
       "      <td>210.450000</td>\n",
       "    </tr>\n",
       "    <tr>\n",
       "      <th>81665</th>\n",
       "      <td>9035.290000</td>\n",
       "      <td>7539.0</td>\n",
       "      <td>1496.290000</td>\n",
       "    </tr>\n",
       "    <tr>\n",
       "      <th>71902</th>\n",
       "      <td>11945.890000</td>\n",
       "      <td>9405.0</td>\n",
       "      <td>2540.890000</td>\n",
       "    </tr>\n",
       "    <tr>\n",
       "      <th>37222</th>\n",
       "      <td>17351.261667</td>\n",
       "      <td>15078.0</td>\n",
       "      <td>2273.261667</td>\n",
       "    </tr>\n",
       "  </tbody>\n",
       "</table>\n",
       "<p>55010 rows × 3 columns</p>\n",
       "</div>"
      ],
      "text/plain": [
       "           predicted     true   difference\n",
       "51504    6729.170000   7942.0 -1212.830000\n",
       "18650    9755.810000   8936.0   819.810000\n",
       "101152  10561.050000  11651.0 -1089.950000\n",
       "63336   18728.030000  18206.0   522.030000\n",
       "136178   8809.440000   8102.0   707.440000\n",
       "...              ...      ...          ...\n",
       "38775   19342.930000  16287.0  3055.930000\n",
       "158408  11603.450000  11393.0   210.450000\n",
       "81665    9035.290000   7539.0  1496.290000\n",
       "71902   11945.890000   9405.0  2540.890000\n",
       "37222   17351.261667  15078.0  2273.261667\n",
       "\n",
       "[55010 rows x 3 columns]"
      ]
     },
     "execution_count": 145,
     "metadata": {},
     "output_type": "execute_result"
    }
   ],
   "source": [
    "pred = pd.DataFrame.from_dict({'predicted':pred, 'true':y_test})\n",
    "pred['difference'] = pred.predicted - pred.true\n",
    "pred\n",
    "pred['difference'].sum()"
   ]
  },
  {
   "cell_type": "code",
   "execution_count": 146,
   "metadata": {},
   "outputs": [
    {
     "data": {
      "text/plain": [
       "2083276.4351860587"
      ]
     },
     "execution_count": 146,
     "metadata": {},
     "output_type": "execute_result"
    }
   ],
   "source": [
    "pred['difference'].sum()"
   ]
  },
  {
   "cell_type": "code",
   "execution_count": 147,
   "metadata": {},
   "outputs": [
    {
     "name": "stdout",
     "output_type": "stream",
     "text": [
      "Accuracy: 0.22 (+/- 0.06)\n"
     ]
    }
   ],
   "source": [
    "from sklearn.neighbors import KNeighborsRegressor\n",
    "model = KNeighborsRegressor()\n",
    "scores = cross_val_score(model, X_train, y_train, cv=5)\n",
    "print(\"Accuracy: %0.2f (+/- %0.2f)\" % (scores.mean(), scores.std() * 2))"
   ]
  },
  {
   "cell_type": "code",
   "execution_count": 148,
   "metadata": {},
   "outputs": [
    {
     "data": {
      "text/plain": [
       "KNeighborsRegressor(algorithm='auto', leaf_size=30, metric='minkowski',\n",
       "                    metric_params=None, n_jobs=None, n_neighbors=5, p=2,\n",
       "                    weights='uniform')"
      ]
     },
     "execution_count": 148,
     "metadata": {},
     "output_type": "execute_result"
    }
   ],
   "source": [
    "model.fit(X_train, y_train)"
   ]
  },
  {
   "cell_type": "code",
   "execution_count": 149,
   "metadata": {},
   "outputs": [],
   "source": [
    "pred = model.predict(X_test)"
   ]
  },
  {
   "cell_type": "code",
   "execution_count": 150,
   "metadata": {},
   "outputs": [
    {
     "data": {
      "text/html": [
       "<div>\n",
       "<style scoped>\n",
       "    .dataframe tbody tr th:only-of-type {\n",
       "        vertical-align: middle;\n",
       "    }\n",
       "\n",
       "    .dataframe tbody tr th {\n",
       "        vertical-align: top;\n",
       "    }\n",
       "\n",
       "    .dataframe thead th {\n",
       "        text-align: right;\n",
       "    }\n",
       "</style>\n",
       "<table border=\"1\" class=\"dataframe\">\n",
       "  <thead>\n",
       "    <tr style=\"text-align: right;\">\n",
       "      <th></th>\n",
       "      <th>predicted</th>\n",
       "      <th>true</th>\n",
       "      <th>difference</th>\n",
       "    </tr>\n",
       "  </thead>\n",
       "  <tbody>\n",
       "    <tr>\n",
       "      <th>51504</th>\n",
       "      <td>6415.8</td>\n",
       "      <td>7942.0</td>\n",
       "      <td>-1526.2</td>\n",
       "    </tr>\n",
       "    <tr>\n",
       "      <th>18650</th>\n",
       "      <td>15070.6</td>\n",
       "      <td>8936.0</td>\n",
       "      <td>6134.6</td>\n",
       "    </tr>\n",
       "    <tr>\n",
       "      <th>101152</th>\n",
       "      <td>10384.6</td>\n",
       "      <td>11651.0</td>\n",
       "      <td>-1266.4</td>\n",
       "    </tr>\n",
       "    <tr>\n",
       "      <th>63336</th>\n",
       "      <td>18651.6</td>\n",
       "      <td>18206.0</td>\n",
       "      <td>445.6</td>\n",
       "    </tr>\n",
       "    <tr>\n",
       "      <th>136178</th>\n",
       "      <td>7807.0</td>\n",
       "      <td>8102.0</td>\n",
       "      <td>-295.0</td>\n",
       "    </tr>\n",
       "    <tr>\n",
       "      <th>...</th>\n",
       "      <td>...</td>\n",
       "      <td>...</td>\n",
       "      <td>...</td>\n",
       "    </tr>\n",
       "    <tr>\n",
       "      <th>38775</th>\n",
       "      <td>15527.6</td>\n",
       "      <td>16287.0</td>\n",
       "      <td>-759.4</td>\n",
       "    </tr>\n",
       "    <tr>\n",
       "      <th>158408</th>\n",
       "      <td>23709.0</td>\n",
       "      <td>11393.0</td>\n",
       "      <td>12316.0</td>\n",
       "    </tr>\n",
       "    <tr>\n",
       "      <th>81665</th>\n",
       "      <td>21079.2</td>\n",
       "      <td>7539.0</td>\n",
       "      <td>13540.2</td>\n",
       "    </tr>\n",
       "    <tr>\n",
       "      <th>71902</th>\n",
       "      <td>13116.0</td>\n",
       "      <td>9405.0</td>\n",
       "      <td>3711.0</td>\n",
       "    </tr>\n",
       "    <tr>\n",
       "      <th>37222</th>\n",
       "      <td>17071.4</td>\n",
       "      <td>15078.0</td>\n",
       "      <td>1993.4</td>\n",
       "    </tr>\n",
       "  </tbody>\n",
       "</table>\n",
       "<p>55010 rows × 3 columns</p>\n",
       "</div>"
      ],
      "text/plain": [
       "        predicted     true  difference\n",
       "51504      6415.8   7942.0     -1526.2\n",
       "18650     15070.6   8936.0      6134.6\n",
       "101152    10384.6  11651.0     -1266.4\n",
       "63336     18651.6  18206.0       445.6\n",
       "136178     7807.0   8102.0      -295.0\n",
       "...           ...      ...         ...\n",
       "38775     15527.6  16287.0      -759.4\n",
       "158408    23709.0  11393.0     12316.0\n",
       "81665     21079.2   7539.0     13540.2\n",
       "71902     13116.0   9405.0      3711.0\n",
       "37222     17071.4  15078.0      1993.4\n",
       "\n",
       "[55010 rows x 3 columns]"
      ]
     },
     "execution_count": 150,
     "metadata": {},
     "output_type": "execute_result"
    }
   ],
   "source": [
    "pred = pd.DataFrame.from_dict({'predicted':pred, 'true':y_test})\n",
    "pred['difference'] = pred.predicted - pred.true\n",
    "pred\n"
   ]
  },
  {
   "cell_type": "code",
   "execution_count": 151,
   "metadata": {},
   "outputs": [
    {
     "data": {
      "text/plain": [
       "-32303189.399999995"
      ]
     },
     "execution_count": 151,
     "metadata": {},
     "output_type": "execute_result"
    }
   ],
   "source": [
    "pred['difference'].sum()"
   ]
  },
  {
   "cell_type": "code",
   "execution_count": 421,
   "metadata": {},
   "outputs": [
    {
     "data": {
      "text/plain": [
       "81354    [Peinture métallisée, Alarme antivol, Rétroviseurs rabattables électriquement, Fermerture électrique du coffre, Système audio carte digitale, Bluetooth inclut musique en streaming, connexion téléphone, Rétroviseurs extérieurs chauffants, Pack Assistance Stationnement, Smart card / Smart key, Audi park assist, Palettes au volant, Taille écran multi-fonctions 7 pouces, Feux de croisement à LED, Jantes en aluminium coulé style 5 branches doubles en V (style S), gris contrasté, partiellement polies 8,5 J x 21 Pneus : 255/40 R 21, Freins régénérateurs, Antipatinage, Limiteur de vitesse, Pack Éclairage d'ambiance (en plus du pack Éclairage [QQ1]), Système de navigation info trafic, Adaptive cruise control, Chargeur 1 CD, Tapis de sol, Eléments de commande en cuir Audi exclusive, Affichage tête haute, Indicateur de sous-gonflage des pneus, Siège avant chauffant, Étriers de frein peints en rouge à l'avant et à l'arrière avec inscription S, Ouverture du coffre à distance, Accoudoir central arrière, avant, Air conditionné 3 zones, Réseau Wifi, Lecteur MP3, 6 airbags, Siège avant électrique, Feux arrières à LED, Système de lecture des panneaux de signalisation par caméra, Pack Esthétique noir titane Audi exclusive, Connexion Internet, Rétroviseurs extérieurs réglage électrique, Rétroviseur jour/nuit, Phares à allumage automatique, Sellerie en cuir Nappa avec logo S line, Pack Assistance Route, Sièges avant et arrière chauffants, Réglage du volant en hauteur, en profondeur, ESP, Airbags rideaux, 10 haut-parleurs, Airbags latéraux, Kit anticrevaison, Bouton démarrage, Applications décoratives piano laqué noir, Essuie glace capteur de pluie, Régulateur de vitesse, Système détection de collision, Système de navigation, Ordinateur de bord, Volant cuir, Rampes de pavillon noires, Chauffage stationnaire programmable inclaunt télécomande, Audi Active Lane assist, Tapis de sol Audi exclusive, ABS, Lave-phares, Volant multi-fonction, Phares Audi Matrix LED, Capot à soulèvement pour choc piéton, Reconnaissance vocale, Assistance au freinage d'urgence, Système audio lecteur CD et MP3, Bang & Olufsen Sound System avec son en 3D, Assistant de feux de route, Ampoules de phares LED, Air conditionné auto, Bluetooth, Toit ouvrant panoramique en verre (en deux parties), Réception radio numérique (DAB)]\n",
       "Name: options_list, dtype: object"
      ]
     },
     "execution_count": 421,
     "metadata": {},
     "output_type": "execute_result"
    }
   ],
   "source": [
    "#df['parametres'].apply(lambda x : type(x))#.str.replace(')\n",
    "#df['parametres']#.values.replace(',','n')\n",
    "#df['parametres'] \n",
    "df[df['Description'].str.contains(\",5 J x 21 Pneus :\")]['options_list'].head(1)"
   ]
  },
  {
   "cell_type": "code",
   "execution_count": 422,
   "metadata": {},
   "outputs": [
    {
     "data": {
      "text/plain": [
       "4568    modele: Q7 (2E GENERATION), version: II V6 3.0 TDI CD 272 S LINE QUATTRO TIPTRONIC 7PL, puissance_fiscale: 17, portes: 5.0, options: efficiency;contrasté gris poli;projecteurs xénon;offroad ou lift/offroad et individual;phares av. de jour à LED;9jx20&quot avec pneus : 285/45 r20 112 y xl;caméra de recul;jantes alu 20&quot;7 places;version 7 places (avec 3ème rangée de sièges);sièges sport;jantes en aluminium coulé style étoile 10 branches;kit de réparation crevaison;carnet d'entretien;mmi navigation plus avec mmi touch;sellerie s line en cuir valcona avec estampillage s sur le dossier des sièges av;pack éclairage intérieur à led;climatisation automatique;audi virtual cockpit combiné d'instruments entièrement numérique de 12.3&quot avec affichage haute résolution;vitres surteintées;dynamic, couleur: gris\n",
       "Name: Description, dtype: object"
      ]
     },
     "execution_count": 422,
     "metadata": {},
     "output_type": "execute_result"
    }
   ],
   "source": [
    "df[df['Description'].str.contains(\"pneus :\")]['Description'].head(1)"
   ]
  },
  {
   "cell_type": "code",
   "execution_count": 143,
   "metadata": {},
   "outputs": [
    {
     "data": {
      "text/plain": [
       "['Peinture métallisée',\n",
       " 'Alarme antivol',\n",
       " 'Rétroviseurs rabattables électriquement',\n",
       " 'Fermerture électrique du coffre',\n",
       " 'Système audio carte digitale',\n",
       " 'Bluetooth inclut musique en streaming, connexion téléphone',\n",
       " 'Rétroviseurs extérieurs chauffants',\n",
       " 'Pack Assistance Stationnement',\n",
       " 'Smart card / Smart key',\n",
       " 'Audi park assist',\n",
       " 'Palettes au volant',\n",
       " 'Taille écran multi-fonctions 7 pouces',\n",
       " 'Feux de croisement à LED',\n",
       " 'Jantes en aluminium coulé style 5 branches doubles en V (style S), gris contrasté, partiellement polies 8,5 J x 21 Pneus : 255/40 R 21',\n",
       " 'Freins régénérateurs',\n",
       " 'Antipatinage',\n",
       " 'Limiteur de vitesse',\n",
       " \"Pack Éclairage d'ambiance (en plus du pack Éclairage [QQ1])\",\n",
       " 'Système de navigation info trafic',\n",
       " 'Adaptive cruise control',\n",
       " 'Chargeur 1 CD',\n",
       " 'Tapis de sol',\n",
       " 'Eléments de commande en cuir Audi exclusive',\n",
       " 'Affichage tête haute',\n",
       " 'Indicateur de sous-gonflage des pneus',\n",
       " 'Siège avant chauffant',\n",
       " \"Étriers de frein peints en rouge à l'avant et à l'arrière avec inscription S\",\n",
       " 'Ouverture du coffre à distance',\n",
       " 'Accoudoir central arrière, avant',\n",
       " 'Air conditionné 3 zones',\n",
       " 'Réseau Wifi',\n",
       " 'Lecteur MP3',\n",
       " '6 airbags',\n",
       " 'Siège avant électrique',\n",
       " 'Feux arrières à LED',\n",
       " 'Système de lecture des panneaux de signalisation par caméra',\n",
       " 'Pack Esthétique noir titane Audi exclusive',\n",
       " 'Connexion Internet',\n",
       " 'Rétroviseurs extérieurs réglage électrique',\n",
       " 'Rétroviseur jour/nuit',\n",
       " 'Phares à allumage automatique',\n",
       " 'Sellerie en cuir Nappa avec logo S line',\n",
       " 'Pack Assistance Route',\n",
       " 'Sièges avant et arrière chauffants',\n",
       " 'Réglage du volant en hauteur, en profondeur',\n",
       " 'ESP',\n",
       " 'Airbags rideaux',\n",
       " '10 haut-parleurs',\n",
       " 'Airbags latéraux',\n",
       " 'Kit anticrevaison',\n",
       " 'Bouton démarrage',\n",
       " 'Applications décoratives piano laqué noir',\n",
       " 'Essuie glace capteur de pluie',\n",
       " 'Régulateur de vitesse',\n",
       " 'Système détection de collision',\n",
       " 'Système de navigation',\n",
       " 'Ordinateur de bord',\n",
       " 'Volant cuir',\n",
       " 'Rampes de pavillon noires',\n",
       " 'Chauffage stationnaire programmable inclaunt télécomande',\n",
       " 'Audi Active Lane assist',\n",
       " 'Tapis de sol Audi exclusive',\n",
       " 'ABS',\n",
       " 'Lave-phares',\n",
       " 'Volant multi-fonction',\n",
       " 'Phares Audi Matrix LED',\n",
       " 'Capot à soulèvement pour choc piéton',\n",
       " 'Reconnaissance vocale',\n",
       " \"Assistance au freinage d'urgence\",\n",
       " 'Système audio lecteur CD et MP3',\n",
       " 'Bang & Olufsen Sound System avec son en 3D',\n",
       " 'Assistant de feux de route',\n",
       " 'Ampoules de phares LED',\n",
       " 'Air conditionné auto',\n",
       " 'Bluetooth',\n",
       " 'Toit ouvrant panoramique en verre (en deux parties)',\n",
       " 'Réception radio numérique (DAB)']"
      ]
     },
     "execution_count": 143,
     "metadata": {},
     "output_type": "execute_result"
    }
   ],
   "source": [
    "df.iloc[81354]['options_list']"
   ]
  },
  {
   "cell_type": "code",
   "execution_count": null,
   "metadata": {},
   "outputs": [],
   "source": []
  }
 ],
 "metadata": {
  "kernelspec": {
   "display_name": "Python 3",
   "language": "python",
   "name": "python3"
  },
  "language_info": {
   "codemirror_mode": {
    "name": "ipython",
    "version": 3
   },
   "file_extension": ".py",
   "mimetype": "text/x-python",
   "name": "python",
   "nbconvert_exporter": "python",
   "pygments_lexer": "ipython3",
   "version": "3.7.6"
  }
 },
 "nbformat": 4,
 "nbformat_minor": 4
}
