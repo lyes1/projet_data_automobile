{
 "cells": [
  {
   "cell_type": "markdown",
   "metadata": {},
   "source": [
    "# Le merge des Datasets"
   ]
  },
  {
   "cell_type": "markdown",
   "metadata": {},
   "source": [
    "Le but de ce notebook est de réaliser le merging entre le dataset scrapé depuis le site [Caradisiac](https://www.caradisiac.com/) (Voir le notebook **1_WebScrapping** pour la méthode de scarping et **2_ScrapedData_cleaning** pour le preprocessing notamment de la colone caracteristique) et le dataset fourni dans le cadre de ce projet (Data_cars.csv).<br>\n",
    "\n",
    "Pour le merge, nous avons essayé d'utiliser la librarie FuzzyWuzzy. Mais, elle est très chronophage vu les tailles de nos datasets. <br>\n",
    "Ainsi, nous avons utilisé une méthode de NLP basée sur TF-IDF décrite dans [ici](https://towardsdatascience.com/fuzzy-matching-at-scale-84f2bfd0c536), \n",
    " (Voir le [code](https://colab.research.google.com/drive/1qhBwDRitrgapNhyaHGxCW8uKK5SWJblW#scrollTo=xo-X_nds97UN&forceEdit=true&sandboxMode=true)).\n",
    " \n",
    "La méthode basée sur TF-IDF a pris plus de 8 heures pour faire le matching. D'après la rérérence cette méthode est approximativement 66 000 fois plus rapide que le FuzzyWuzzy (nos tests sur quelques echantillons ont peut le confirmer)"
   ]
  },
  {
   "cell_type": "code",
   "execution_count": 33,
   "metadata": {},
   "outputs": [],
   "source": [
    "import pandas as pd\n",
    "from sklearn.metrics.pairwise import cosine_similarity\n",
    "from sklearn.feature_extraction.text import TfidfVectorizer\n",
    "from sklearn.neighbors import NearestNeighbors\n",
    "\n",
    "import re\n",
    "\n",
    "#!pip install ftfy # amazing text cleaning for decode issues..\n",
    "from ftfy import fix_text\n",
    "\n",
    "pd.set_option('max_colwidth', 10000)"
   ]
  },
  {
   "cell_type": "code",
   "execution_count": 3,
   "metadata": {},
   "outputs": [
    {
     "data": {
      "text/html": [
       "<style>.dataframe th, td:first-child{background:#3f577c;font-family:monospace;color:white;border:3px solid white;\n",
       "text-align:left !important;}#codex{float:right;}</style>\n"
      ],
      "text/plain": [
       "<IPython.core.display.HTML object>"
      ]
     },
     "metadata": {},
     "output_type": "display_data"
    }
   ],
   "source": [
    "%%HTML\n",
    "<style>.dataframe th, td:first-child{background:#3f577c;font-family:monospace;color:white;border:3px solid white;\n",
    "text-align:left !important;}#codex{float:right;}</style>"
   ]
  },
  {
   "cell_type": "markdown",
   "metadata": {},
   "source": [
    "## 1. Import des datasets"
   ]
  },
  {
   "cell_type": "code",
   "execution_count": 5,
   "metadata": {},
   "outputs": [
    {
     "name": "stderr",
     "output_type": "stream",
     "text": [
      "/anaconda3/envs/Mask_RCNN_env/lib/python3.7/site-packages/IPython/core/interactiveshell.py:3063: DtypeWarning: Columns (54,55,56,57,58,61,62) have mixed types.Specify dtype option on import or set low_memory=False.\n",
      "  interactivity=interactivity, compiler=compiler, result=result)\n"
     ]
    }
   ],
   "source": [
    "datasets_path = r'../Datasets/'\n",
    "scraped_data = pd.read_csv(datasets_path+'scraped_Car_versions.csv')\n",
    "data = pd.read_csv(datasets_path+'Data_cars.csv')"
   ]
  },
  {
   "cell_type": "markdown",
   "metadata": {},
   "source": [
    "## 2. Création de la variable du merge 'version'"
   ]
  },
  {
   "cell_type": "markdown",
   "metadata": {},
   "source": [
    "Pour data, on extrait d'abord la variable ***version*** du **Description**. Puis, on concatène les variables :  **Make**, **Model** et **version** afin d'avoir en sortie : **make_model_version**,<br>\n",
    "pour scraped_data, on concatène les variables : **model** et **version_name** afin d'avoir en sortie: **model_version**,<br>\n",
    "\n",
    "==> Ainsi, nous obtenons les variables **make_model_version** et **model_version** qui sont assez homogènes pour réaliser le matching entre les deux datasets."
   ]
  },
  {
   "cell_type": "code",
   "execution_count": 6,
   "metadata": {},
   "outputs": [],
   "source": [
    "data['version'] = data['Description'].str.extract(r'(\\bversion\\b.*?,)', expand=True)       \n",
    "data['version'] = data['version'].str.replace(\"version: \", \"\")\n",
    "data['version'] = data['version'].str.replace(\",\", \"\")\n",
    "\n",
    "data['make_model_version'] = data['Make'] + \" \" + data['Model'] + \" \" + data['version']\n",
    "\n",
    "scraped_data['model_version'] = scraped_data['model'] + \" \" +scraped_data['version_name']\n",
    "\n",
    "# Suppression des modèles qui n'existent pas dans le dataframe 'data' (afin de réduire la taille du 'scraped_data')\n",
    "makes = data['Make'].unique()\n",
    "scraped_data_makes = scraped_data.loc[scraped_data['brand'].str.upper().isin(makes)]"
   ]
  },
  {
   "cell_type": "code",
   "execution_count": 13,
   "metadata": {},
   "outputs": [
    {
     "data": {
      "text/html": [
       "<div>\n",
       "<style scoped>\n",
       "    .dataframe tbody tr th:only-of-type {\n",
       "        vertical-align: middle;\n",
       "    }\n",
       "\n",
       "    .dataframe tbody tr th {\n",
       "        vertical-align: top;\n",
       "    }\n",
       "\n",
       "    .dataframe thead th {\n",
       "        text-align: right;\n",
       "    }\n",
       "</style>\n",
       "<table border=\"1\" class=\"dataframe\">\n",
       "  <thead>\n",
       "    <tr style=\"text-align: right;\">\n",
       "      <th></th>\n",
       "      <th>Make</th>\n",
       "      <th>Model</th>\n",
       "      <th>version</th>\n",
       "      <th>make_model_version</th>\n",
       "    </tr>\n",
       "  </thead>\n",
       "  <tbody>\n",
       "    <tr>\n",
       "      <th>0</th>\n",
       "      <td>PEUGEOT</td>\n",
       "      <td>308</td>\n",
       "      <td>1.6 HDI FAP 92CH BUSINESS 5P</td>\n",
       "      <td>PEUGEOT 308 1.6 HDI FAP 92CH BUSINESS 5P</td>\n",
       "    </tr>\n",
       "  </tbody>\n",
       "</table>\n",
       "</div>"
      ],
      "text/plain": [
       "      Make Model                       version  \\\n",
       "0  PEUGEOT   308  1.6 HDI FAP 92CH BUSINESS 5P   \n",
       "\n",
       "                         make_model_version  \n",
       "0  PEUGEOT 308 1.6 HDI FAP 92CH BUSINESS 5P  "
      ]
     },
     "execution_count": 13,
     "metadata": {},
     "output_type": "execute_result"
    }
   ],
   "source": [
    "data[['Make', 'Model','version', 'make_model_version']].head(1)"
   ]
  },
  {
   "cell_type": "code",
   "execution_count": 14,
   "metadata": {},
   "outputs": [
    {
     "data": {
      "text/html": [
       "<div>\n",
       "<style scoped>\n",
       "    .dataframe tbody tr th:only-of-type {\n",
       "        vertical-align: middle;\n",
       "    }\n",
       "\n",
       "    .dataframe tbody tr th {\n",
       "        vertical-align: top;\n",
       "    }\n",
       "\n",
       "    .dataframe thead th {\n",
       "        text-align: right;\n",
       "    }\n",
       "</style>\n",
       "<table border=\"1\" class=\"dataframe\">\n",
       "  <thead>\n",
       "    <tr style=\"text-align: right;\">\n",
       "      <th></th>\n",
       "      <th>model</th>\n",
       "      <th>version_name</th>\n",
       "      <th>model_version</th>\n",
       "    </tr>\n",
       "  </thead>\n",
       "  <tbody>\n",
       "    <tr>\n",
       "      <th>0</th>\n",
       "      <td>abarth 124</td>\n",
       "      <td>II 1.4 TURBO 170</td>\n",
       "      <td>abarth 124 II 1.4 TURBO 170</td>\n",
       "    </tr>\n",
       "  </tbody>\n",
       "</table>\n",
       "</div>"
      ],
      "text/plain": [
       "        model      version_name                model_version\n",
       "0  abarth 124  II 1.4 TURBO 170  abarth 124 II 1.4 TURBO 170"
      ]
     },
     "execution_count": 14,
     "metadata": {},
     "output_type": "execute_result"
    }
   ],
   "source": [
    "scraped_data_makes[['model', 'version_name' ,'model_version']].head(1)"
   ]
  },
  {
   "cell_type": "markdown",
   "metadata": {},
   "source": [
    "## 3. Déclaration des fonctions de ngrams et GetNeaestN\n",
    "Voir [ici](https://towardsdatascience.com/fuzzy-matching-at-scale-84f2bfd0c536) pour plus de détails."
   ]
  },
  {
   "cell_type": "code",
   "execution_count": 15,
   "metadata": {},
   "outputs": [],
   "source": [
    "def ngrams(string, n=3):\n",
    "    string = fix_text(string) # fix text\n",
    "    string = string.encode(\"ascii\", errors=\"ignore\").decode() #remove non ascii chars\n",
    "    string = string.lower()\n",
    "    chars_to_remove = [\"|\",\"[\",\"]\",\"{\",\"}\",\"'\"]\n",
    "    rx = '[' + re.escape(''.join(chars_to_remove)) + ']'\n",
    "    string = re.sub(rx, '', string)\n",
    "    string = string.replace('&', 'and')\n",
    "    string = string.replace(',', ' ')\n",
    "    string = string.replace('-', ' ')\n",
    "    string = string.title() # normalise case - capital at start of each word\n",
    "    string = re.sub(' +',' ',string).strip() # get rid of multiple spaces and replace with a single\n",
    "    string = ' '+ string +' ' # pad names for ngrams...\n",
    "    string = re.sub(r'[,-./]|\\sBD',r'', string)\n",
    "    ngrams = zip(*[string[i:] for i in range(n)])\n",
    "    return [''.join(ngram) for ngram in ngrams]\n",
    "\n",
    "###matching query:\n",
    "def getNearestN(query):\n",
    "    queryTFIDF_ = vectorizer.transform(query)\n",
    "    distances, indices = nbrs.kneighbors(queryTFIDF_)\n",
    "    return distances, indices"
   ]
  },
  {
   "cell_type": "markdown",
   "metadata": {},
   "source": [
    "## 4. Matching"
   ]
  },
  {
   "cell_type": "code",
   "execution_count": 17,
   "metadata": {},
   "outputs": [],
   "source": [
    "# Vecorisation des données \n",
    "vectorizer = TfidfVectorizer(min_df=1, analyzer=ngrams, lowercase=False)\n",
    "model_version_scraping = scraped_data_makes['model_version'].unique()\n",
    "#org_names = data_test['make_model_version'].unique()\n",
    "tfidf = vectorizer.fit_transform(model_version_scraping)\n",
    "\n",
    "nbrs = NearestNeighbors(n_neighbors=1, n_jobs=-1).fit(tfidf)"
   ]
  },
  {
   "cell_type": "code",
   "execution_count": null,
   "metadata": {},
   "outputs": [],
   "source": [
    "unique_org = data['make_model_version'].values # colone à matcher avec 'model_version' du 'scraped_data'\n",
    "\n",
    "# réalisation du neast N\n",
    "distances, indices = getNearestN(unique_org)\n",
    "\n",
    "unique_org = list(unique_org) #need to convert back to a list\n",
    "\n",
    "# recherche des matches\n",
    "matches = []\n",
    "\n",
    "for i,j in enumerate(indices):\n",
    "    temp = [round(distances[i][0],2), scraped_data_makes.values[j][0][64],unique_org[i]]\n",
    "    matches.append(temp)\n",
    "\n",
    "# Construction du dataframe des matches \n",
    "matches = pd.DataFrame(matches, columns=['Match confidence (lower is better)','scraped_version','Origional_data'])"
   ]
  },
  {
   "cell_type": "markdown",
   "metadata": {},
   "source": [
    "**Plus de 8 heures d'exécution**"
   ]
  },
  {
   "cell_type": "code",
   "execution_count": 25,
   "metadata": {},
   "outputs": [],
   "source": [
    "# Sauvegarde du matches\n",
    "matches.to_csv(datasets_path+'matches.csv')"
   ]
  },
  {
   "cell_type": "code",
   "execution_count": 24,
   "metadata": {},
   "outputs": [
    {
     "data": {
      "text/html": [
       "<div>\n",
       "<style scoped>\n",
       "    .dataframe tbody tr th:only-of-type {\n",
       "        vertical-align: middle;\n",
       "    }\n",
       "\n",
       "    .dataframe tbody tr th {\n",
       "        vertical-align: top;\n",
       "    }\n",
       "\n",
       "    .dataframe thead th {\n",
       "        text-align: right;\n",
       "    }\n",
       "</style>\n",
       "<table border=\"1\" class=\"dataframe\">\n",
       "  <thead>\n",
       "    <tr style=\"text-align: right;\">\n",
       "      <th></th>\n",
       "      <th>Match confidence (lower is better)</th>\n",
       "      <th>scraped_version</th>\n",
       "      <th>Origional_data</th>\n",
       "    </tr>\n",
       "  </thead>\n",
       "  <tbody>\n",
       "    <tr>\n",
       "      <th>0</th>\n",
       "      <td>0.76</td>\n",
       "      <td>peugeot 308 1.6 HDI 92 BUSINESS 5P</td>\n",
       "      <td>PEUGEOT 308 1.6 HDI FAP 92CH BUSINESS 5P</td>\n",
       "    </tr>\n",
       "    <tr>\n",
       "      <th>1</th>\n",
       "      <td>0.33</td>\n",
       "      <td>bmw x6 f16 (F16) XDRIVE30D 258 M SPORT BVA8</td>\n",
       "      <td>BMW X6 (F16) XDRIVE30D 258 M SPORT BVA8</td>\n",
       "    </tr>\n",
       "    <tr>\n",
       "      <th>2</th>\n",
       "      <td>0.48</td>\n",
       "      <td>audi rs6 (3e generation) avant III AVANT 4.0 T...</td>\n",
       "      <td>AUDI RS6 III AVANT 4.0 TFSI 560 QUATTRO TIPTRONIC</td>\n",
       "    </tr>\n",
       "    <tr>\n",
       "      <th>3</th>\n",
       "      <td>0.00</td>\n",
       "      <td>ford ka 1.3 70 FUN</td>\n",
       "      <td>FORD KA 1.3 70 FUN</td>\n",
       "    </tr>\n",
       "    <tr>\n",
       "      <th>4</th>\n",
       "      <td>0.46</td>\n",
       "      <td>fiat tipo 2 sw II SW 1.4 95 POP</td>\n",
       "      <td>FIAT TIPO II SW 1.4 95 POP</td>\n",
       "    </tr>\n",
       "    <tr>\n",
       "      <th>...</th>\n",
       "      <td>...</td>\n",
       "      <td>...</td>\n",
       "      <td>...</td>\n",
       "    </tr>\n",
       "    <tr>\n",
       "      <th>166690</th>\n",
       "      <td>0.50</td>\n",
       "      <td>audi a4 (4e generation) avant IV (2) AVANT 2.0...</td>\n",
       "      <td>AUDI A4 IV (2) AVANT 2.0 TDI 177 BUSINESS LINE...</td>\n",
       "    </tr>\n",
       "    <tr>\n",
       "      <th>166691</th>\n",
       "      <td>0.41</td>\n",
       "      <td>volkswagen golf 7 VII 2.0 TDI 150 BLUEMOTION T...</td>\n",
       "      <td>VOLKSWAGEN GOLF VII 2.0 TDI 150 BLUEMOTION TEC...</td>\n",
       "    </tr>\n",
       "    <tr>\n",
       "      <th>166692</th>\n",
       "      <td>0.34</td>\n",
       "      <td>ford fiesta 5 V (2) 1.0 ECOBOOST 100 S&amp;S EDITI...</td>\n",
       "      <td>FORD FIESTA V (2) 1.0 ECOBOOST 100 S&amp;S EDITION 5P</td>\n",
       "    </tr>\n",
       "    <tr>\n",
       "      <th>166693</th>\n",
       "      <td>0.30</td>\n",
       "      <td>skoda octavia 3 III 2.0 TDI 150 GREEN TEC BUSI...</td>\n",
       "      <td>SKODA OCTAVIA III 2.0 TDI 150 GREEN TEC BUSINE...</td>\n",
       "    </tr>\n",
       "    <tr>\n",
       "      <th>166694</th>\n",
       "      <td>0.23</td>\n",
       "      <td>renault koleos 2 II 2.0 DCI 175 ENERGY INTENS ...</td>\n",
       "      <td>RENAULT KOLEOS II 2.0 DCI 175 ENERGY INTENS 4X...</td>\n",
       "    </tr>\n",
       "  </tbody>\n",
       "</table>\n",
       "<p>166695 rows × 3 columns</p>\n",
       "</div>"
      ],
      "text/plain": [
       "        Match confidence (lower is better)  \\\n",
       "0                                     0.76   \n",
       "1                                     0.33   \n",
       "2                                     0.48   \n",
       "3                                     0.00   \n",
       "4                                     0.46   \n",
       "...                                    ...   \n",
       "166690                                0.50   \n",
       "166691                                0.41   \n",
       "166692                                0.34   \n",
       "166693                                0.30   \n",
       "166694                                0.23   \n",
       "\n",
       "                                          scraped_version  \\\n",
       "0                      peugeot 308 1.6 HDI 92 BUSINESS 5P   \n",
       "1             bmw x6 f16 (F16) XDRIVE30D 258 M SPORT BVA8   \n",
       "2       audi rs6 (3e generation) avant III AVANT 4.0 T...   \n",
       "3                                      ford ka 1.3 70 FUN   \n",
       "4                         fiat tipo 2 sw II SW 1.4 95 POP   \n",
       "...                                                   ...   \n",
       "166690  audi a4 (4e generation) avant IV (2) AVANT 2.0...   \n",
       "166691  volkswagen golf 7 VII 2.0 TDI 150 BLUEMOTION T...   \n",
       "166692  ford fiesta 5 V (2) 1.0 ECOBOOST 100 S&S EDITI...   \n",
       "166693  skoda octavia 3 III 2.0 TDI 150 GREEN TEC BUSI...   \n",
       "166694  renault koleos 2 II 2.0 DCI 175 ENERGY INTENS ...   \n",
       "\n",
       "                                           Origional_data  \n",
       "0                PEUGEOT 308 1.6 HDI FAP 92CH BUSINESS 5P  \n",
       "1                 BMW X6 (F16) XDRIVE30D 258 M SPORT BVA8  \n",
       "2       AUDI RS6 III AVANT 4.0 TFSI 560 QUATTRO TIPTRONIC  \n",
       "3                                      FORD KA 1.3 70 FUN  \n",
       "4                              FIAT TIPO II SW 1.4 95 POP  \n",
       "...                                                   ...  \n",
       "166690  AUDI A4 IV (2) AVANT 2.0 TDI 177 BUSINESS LINE...  \n",
       "166691  VOLKSWAGEN GOLF VII 2.0 TDI 150 BLUEMOTION TEC...  \n",
       "166692  FORD FIESTA V (2) 1.0 ECOBOOST 100 S&S EDITION 5P  \n",
       "166693  SKODA OCTAVIA III 2.0 TDI 150 GREEN TEC BUSINE...  \n",
       "166694  RENAULT KOLEOS II 2.0 DCI 175 ENERGY INTENS 4X...  \n",
       "\n",
       "[166695 rows x 3 columns]"
      ]
     },
     "execution_count": 24,
     "metadata": {},
     "output_type": "execute_result"
    }
   ],
   "source": [
    "matches"
   ]
  },
  {
   "cell_type": "markdown",
   "metadata": {},
   "source": [
    "### Quelques vérifications"
   ]
  },
  {
   "cell_type": "code",
   "execution_count": 26,
   "metadata": {},
   "outputs": [
    {
     "data": {
      "text/plain": [
       "'audi a4 (4e generation) avant IV (2) AVANT 2.0 TDI 177 BUSINESS LINE QUATTRO S TRONIC'"
      ]
     },
     "execution_count": 26,
     "metadata": {},
     "output_type": "execute_result"
    }
   ],
   "source": [
    "matches['scraped_version'][166690]"
   ]
  },
  {
   "cell_type": "code",
   "execution_count": 27,
   "metadata": {},
   "outputs": [
    {
     "data": {
      "text/plain": [
       "'AUDI A4 IV (2) AVANT 2.0 TDI 177 BUSINESS LINE QUATTRO S TRONIC'"
      ]
     },
     "execution_count": 27,
     "metadata": {},
     "output_type": "execute_result"
    }
   ],
   "source": [
    "matches['Origional_data'][166690]"
   ]
  },
  {
   "cell_type": "markdown",
   "metadata": {},
   "source": [
    "### Suppression des doublons dans le match"
   ]
  },
  {
   "cell_type": "code",
   "execution_count": 42,
   "metadata": {},
   "outputs": [],
   "source": [
    "matches_unique = matches.drop_duplicates()"
   ]
  },
  {
   "cell_type": "markdown",
   "metadata": {},
   "source": [
    "## 5. Merge entre les datasets"
   ]
  },
  {
   "cell_type": "markdown",
   "metadata": {},
   "source": [
    "Nous utilisons le datasets **matches_unique** pour lier entre ***data* et **scraped_data_makes**."
   ]
  },
  {
   "cell_type": "code",
   "execution_count": 45,
   "metadata": {},
   "outputs": [],
   "source": [
    "# 1er merge\n",
    "first_merge = pd.merge(data, matches_unique, left_on='make_model_version', right_on='Origional_data')"
   ]
  },
  {
   "cell_type": "code",
   "execution_count": 47,
   "metadata": {},
   "outputs": [
    {
     "data": {
      "text/plain": [
       "(166695, 11)"
      ]
     },
     "execution_count": 47,
     "metadata": {},
     "output_type": "execute_result"
    }
   ],
   "source": [
    "data.shape"
   ]
  },
  {
   "cell_type": "code",
   "execution_count": 46,
   "metadata": {},
   "outputs": [
    {
     "data": {
      "text/plain": [
       "(166695, 14)"
      ]
     },
     "execution_count": 46,
     "metadata": {},
     "output_type": "execute_result"
    }
   ],
   "source": [
    "first_merge.shape"
   ]
  },
  {
   "cell_type": "code",
   "execution_count": 48,
   "metadata": {},
   "outputs": [],
   "source": [
    "## 2eme merge\n",
    "second_merge = pd.merge(first_merge, scraped_data_makes, left_on='scraped_version', right_on='model_version')"
   ]
  },
  {
   "cell_type": "code",
   "execution_count": 49,
   "metadata": {},
   "outputs": [
    {
     "data": {
      "text/plain": [
       "(166695, 79)"
      ]
     },
     "execution_count": 49,
     "metadata": {},
     "output_type": "execute_result"
    }
   ],
   "source": [
    "second_merge.shape"
   ]
  },
  {
   "cell_type": "markdown",
   "metadata": {},
   "source": [
    "### Vérifications"
   ]
  },
  {
   "cell_type": "code",
   "execution_count": 50,
   "metadata": {},
   "outputs": [
    {
     "data": {
      "text/html": [
       "<div>\n",
       "<style scoped>\n",
       "    .dataframe tbody tr th:only-of-type {\n",
       "        vertical-align: middle;\n",
       "    }\n",
       "\n",
       "    .dataframe tbody tr th {\n",
       "        vertical-align: top;\n",
       "    }\n",
       "\n",
       "    .dataframe thead th {\n",
       "        text-align: right;\n",
       "    }\n",
       "</style>\n",
       "<table border=\"1\" class=\"dataframe\">\n",
       "  <thead>\n",
       "    <tr style=\"text-align: right;\">\n",
       "      <th></th>\n",
       "      <th>Puissance_fiscale</th>\n",
       "      <th>Description</th>\n",
       "    </tr>\n",
       "  </thead>\n",
       "  <tbody>\n",
       "    <tr>\n",
       "      <th>0</th>\n",
       "      <td>5 CV</td>\n",
       "      <td>modele: 308 (2E GENERATION), version: 1.6 HDI FAP 92CH BUSINESS 5P, puissance_fiscale: 4, portes: 5.0, options: banquette arrière 3 places;volant cuir;cache bagages;airbag frontal;banquette 1/3 - 2/3;sièges rang 2 rabattables à plat;vitres teintées;boucliers av et ar couleur caisse;phares av. de jour à LED;airbags rideaux;rétroviseurs électriques et dégivrants;siège conducteur avec réglage lombaire;vitres électriques;feux de freinage d'urgence;banquette rabattable;feux ar. à LED;AFU;contrôle de pression des pneus;airbags front. + lat.;blanc banquise;lampes de lecture à l'arrière;sièges réglables en hauteur;alarme d'oubli d'extinction des feux;EBD;volant sport;température extérieure;système audio;becquet;feux automatiques;fermeture électrique;ESP;fermeture électrique automatique;bacs de portes avant;anti patinage;accoudoir central avant;commandes du système audio au volant;fixations ISOFIX;poches d'aumonières;lampes de lecture à l'avant;lunette arrière dégivrante;essuie-glace arrière;ordinateur de bord;phares halogènes;climatisation;volant réglable en hauteur et profondeur;siège conducteur réglable hauteur;boite à gants réfrigérée;ABS;ceintures avant ajustables en hauteur;prise 12V;ecran tactile multifonction;FAP;3 ceintures ar. 3 points;ouverture des vitres séquentielle, couleur: BLANC BANQUISE</td>\n",
       "    </tr>\n",
       "    <tr>\n",
       "      <th>1</th>\n",
       "      <td>5 CV</td>\n",
       "      <td>modele: 308 (2E GENERATION), version: 1.6 HDI FAP 92CH BUSINESS 5P, puissance_fiscale: 4, portes: 5.0, options: banquette arrière 3 places;volant cuir;cache bagages;airbag frontal;banquette 1/3 - 2/3;sièges rang 2 rabattables à plat;vitres teintées;boucliers av et ar couleur caisse;phares av. de jour à LED;airbags rideaux;rétroviseurs électriques et dégivrants;siège conducteur avec réglage lombaire;vitres électriques;feux de freinage d'urgence;banquette rabattable;feux ar. à LED;AFU;contrôle de pression des pneus;airbags front. + lat.;blanc banquise;lampes de lecture à l'arrière;sièges réglables en hauteur;alarme d'oubli d'extinction des feux;EBD;volant sport;température extérieure;système audio;becquet;feux automatiques;fermeture électrique;ESP;fermeture électrique automatique;bacs de portes avant;anti patinage;accoudoir central avant;commandes du système audio au volant;fixations ISOFIX;poches d'aumonières;lampes de lecture à l'avant;lunette arrière dégivrante;essuie-glace arrière;ordinateur de bord;phares halogènes;climatisation;volant réglable en hauteur et profondeur;siège conducteur réglable hauteur;boite à gants réfrigérée;ABS;ceintures avant ajustables en hauteur;prise 12V;ecran tactile multifonction;FAP;3 ceintures ar. 3 points;ouverture des vitres séquentielle, couleur: BLANC BANQUISE</td>\n",
       "    </tr>\n",
       "    <tr>\n",
       "      <th>2</th>\n",
       "      <td>5 CV</td>\n",
       "      <td>modele: 308 (2E GENERATION), version: 1.6 HDI FAP 92CH BUSINESS 5P, puissance_fiscale: 4, portes: 5.0, options: banquette arrière 3 places;volant cuir;cache bagages;airbag frontal;banquette 1/3 - 2/3;sièges rang 2 rabattables à plat;vitres teintées;boucliers av et ar couleur caisse;phares av. de jour à LED;airbags rideaux;rétroviseurs électriques et dégivrants;siège conducteur avec réglage lombaire;vitres électriques;feux de freinage d'urgence;banquette rabattable;feux ar. à LED;AFU;contrôle de pression des pneus;airbags front. + lat.;blanc banquise;lampes de lecture à l'arrière;sièges réglables en hauteur;alarme d'oubli d'extinction des feux;EBD;volant sport;température extérieure;système audio;becquet;feux automatiques;fermeture électrique;ESP;fermeture électrique automatique;bacs de portes avant;anti patinage;accoudoir central avant;commandes du système audio au volant;fixations ISOFIX;poches d'aumonières;lampes de lecture à l'avant;lunette arrière dégivrante;essuie-glace arrière;ordinateur de bord;phares halogènes;climatisation;volant réglable en hauteur et profondeur;siège conducteur réglable hauteur;boite à gants réfrigérée;ABS;ceintures avant ajustables en hauteur;prise 12V;ecran tactile multifonction;FAP;3 ceintures ar. 3 points;ouverture des vitres séquentielle, couleur: BLANC BANQUISE</td>\n",
       "    </tr>\n",
       "    <tr>\n",
       "      <th>3</th>\n",
       "      <td>5 CV</td>\n",
       "      <td>modele: 308 (2E GENERATION), version: 1.6 HDI 92CH SOCIETE 2 PL, puissance_fiscale: 0, portes: , options: , couleur: blanc</td>\n",
       "    </tr>\n",
       "    <tr>\n",
       "      <th>4</th>\n",
       "      <td>5 CV</td>\n",
       "      <td>modele: , version: 1.6 HDI 92, puissance_fiscale: 5, portes: 5.0, options: régulateur limiteur de vitesse;prises audio auxiliaires;direction assistée;GPS;régulateur de vitesse;accoudoir central;projecteurs antibrouillard;rétroviseurs électriques et dégivrants;vitres électriques;du filtre à pollen;fixations ISOFIX;ordinateur de bord;système audio CD;climatisation;intérieur : tissu;Bluetooth, couleur: gris</td>\n",
       "    </tr>\n",
       "    <tr>\n",
       "      <th>...</th>\n",
       "      <td>...</td>\n",
       "      <td>...</td>\n",
       "    </tr>\n",
       "    <tr>\n",
       "      <th>166690</th>\n",
       "      <td>9 CV</td>\n",
       "      <td>modele: A5, version: 1.8 TFSI 160 AMBIENTE, puissance_fiscale: 9, portes: 3.0, options: prises audio auxiliaires;direction assistée;airbags latéraux;rétroviseurs électriques;régulateur de vitesse;jantes alu;boite 6 vitesses;vitres électriques;aide parking;airbags front. + lat.;système Start &amp; Stop;feux automatiques;ESP;radar arrière de détection d'obstacles;accoudoir central avant;commande audio au volant;ordinateur de bord;système audio CD;sellerie cuir;climatisation automatique;airbags frontaux;Bluetooth;détecteur de pluie, couleur: blanc</td>\n",
       "    </tr>\n",
       "    <tr>\n",
       "      <th>166691</th>\n",
       "      <td>5 CV</td>\n",
       "      <td>modele: A3 (3E GENERATION) BERLINE, version: III (2) BERLINE 1.6 TDI 110 S LINE, puissance_fiscale: 5, portes: 4.0, options: \"anti démarrage;régulateur limiteur de vitesse;direction assistée;rétroviseurs électriques;GPS;airbags;prise audio USB;EBV;phares av. de jour à LED;boite 6 vitesses;kit téléphone main libre;Taille écran navigation 7 pouces;rétroviseurs rabattables;feux ar. à LED;système Start &amp; Stop;fermeture électrique;fixations ISOFIX;Système détection de collision;4 vitres électriques;Ordinateur de bord;kit téléphone main libre bluetooth;feux et essuie-glaces automatiques;ABS;jantes alu 18\"\";climatisation automatique;volant multifonctions;aide parking av/ar\", couleur: gris metal</td>\n",
       "    </tr>\n",
       "    <tr>\n",
       "      <th>166692</th>\n",
       "      <td>16 CV</td>\n",
       "      <td>modele: A1 QUATTRO, version: QUATTRO 2.0 TFSI 256, puissance_fiscale: 16, portes: 3.0, options: radar de recul;volant cuir;prises audio auxiliaires;cache bagages;sorties d'échappement chromées;direction assistée;rétroviseurs électriques;airbag frontal;banquette 1/3 - 2/3;vitres ar. surteintées;vitres teintées;GPS;prise audio USB;régulateur de vitesse;carte main libre;sièges chauffants;boucliers av et ar couleur caisse;phares av. de jour;airbags rideaux;pommeau de levier de vitesse métal;vitres électriques;feux de freinage d'urgence;banquette rabattable;filtre à pollen;siège passager avec réglage lombaire;tmc;porte-gobelets avant;projecteurs bi-xénon;répétiteurs de clignotant dans rétro ext;kit fumeur;sièges sport;ecran multifonction couleur;AFU;kit de réparation crevaison;airbags front. + lat.;sièges réglables en hauteur;disque dur multimédia;essuie-glaces automatiques;EBD;volant sport;température extérieure;nappa fin noir/spq rouges;buses de lave-glace chauffantes;becquet;feux automatiques;fermeture électrique;ESP;fermeture électrique automatique;bacs de portes avant;porte-gobelets arrière;boite à gants fermée;système DVD;miroir de courtoisie conducteur éclairé;anti patinage;rangement sous siège conducteur;fixations ISOFIX;poches d'aumonières;lampes de lecture à l'avant;suspension sport;essuie-glace arrière;ordinateur de bord;rétroviseurs dégivrants;banquette 2 places;eclairage au sol;traceur GPS;siège conducteur réglable hauteur;kit téléphone main libre bluetooth;système audio CD MP3;ABS;peinture métallisée;ceintures avant ajustables en hauteur;prise 12V;compte tours;lave-phares;climatisation automatique;echappement à double sortie;rétroviseur int. jour/nuit auto;système audio carte SD;alarme;support lombaires;alarme volumétrique;miroir de courtoisie passager éclairé;alarme périmétrique;CD avec chargeur;volant multifonctions;ouverture des vitres séquentielle;jantes alu 18&amp;quot, couleur: BLANC</td>\n",
       "    </tr>\n",
       "    <tr>\n",
       "      <th>166693</th>\n",
       "      <td>8 CV</td>\n",
       "      <td>modele: JIMNY, version: 1.3 VVT 86 JLX, puissance_fiscale: 8, portes: 3.0, options: direction assistée;prise audio USB;boite séquentielle;rétroviseurs rabattables;contrôle de pression des pneus;airbags front. + lat.;6 airbags;accoudoir central avant;fixations ISOFIX;climatisation;volant réglable en hauteur et profondeur;système audio CD MP3;4 roues motrices;ABS;peinture métallisée;prise 12V;tapis de sol;alarme volumétrique;4 roues directrices;alarme périmétrique, couleur: noir metal</td>\n",
       "    </tr>\n",
       "    <tr>\n",
       "      <th>166694</th>\n",
       "      <td>8 CV</td>\n",
       "      <td>modele: OCTAVIA 3, version: III 2.0 TDI 150 GREEN TEC BUSINESS PLUS DSG6, puissance_fiscale: 8, portes: 5.0, options: écran tactile;prises audio auxiliaires;cache bagages;direction assistée;airbags latéraux;airbag frontal;commandes vocales;GPS;régulateur de vitesse;attelage;airbags rideaux;projecteurs antibrouillard;rétroviseurs électriques et dégivrants;vitres électriques;siège passager avec réglage lombaire;5 places;répétiteurs de clignotant dans rétro ext;aide parking;AFU;contrôle de pression des pneus;volant réglable;sièges réglables en hauteur;système audio MP3;système Start &amp; Stop;feux automatiques;fermeture électrique;ESP;radar arrière de détection d'obstacles;anti patinage;rangement sous siège conducteur;fixations ISOFIX;aide au démarrage en côte;ordinateur de bord;système audio CD;volant réglable en hauteur et profondeur;siège conducteur réglable hauteur;système audio CD MP3;ABS;prise 12V;pommeau de levier vitesse en cuir;climatisation automatique;roue de secours;écran multifonction;rétroviseur int. jour/nuit auto;support lombaires;airbags frontaux;Bluetooth;vitres surteintées;volant multifonctions;ouverture des vitres séquentielle;détecteur de pluie, couleur: gris</td>\n",
       "    </tr>\n",
       "  </tbody>\n",
       "</table>\n",
       "<p>166695 rows × 2 columns</p>\n",
       "</div>"
      ],
      "text/plain": [
       "       Puissance_fiscale  \\\n",
       "0                   5 CV   \n",
       "1                   5 CV   \n",
       "2                   5 CV   \n",
       "3                   5 CV   \n",
       "4                   5 CV   \n",
       "...                  ...   \n",
       "166690              9 CV   \n",
       "166691              5 CV   \n",
       "166692             16 CV   \n",
       "166693              8 CV   \n",
       "166694              8 CV   \n",
       "\n",
       "                                                                                                                                                                                                                                                                                                                                                                                                                                                                                                                                                                                                                                                                                                                                                                                                                                                                                                                                                                                                                                                                                                                                                                                                                                                                                                                                                                                                                                                                                                                                                                                                                                                                                                                                                                                                                                                                                                                                                                                                    Description  \n",
       "0                                                                                                                                                                                                                                                                                                                                                                                                                                                                                                                                                                                                                                           modele: 308 (2E GENERATION), version: 1.6 HDI FAP 92CH BUSINESS 5P, puissance_fiscale: 4, portes: 5.0, options: banquette arrière 3 places;volant cuir;cache bagages;airbag frontal;banquette 1/3 - 2/3;sièges rang 2 rabattables à plat;vitres teintées;boucliers av et ar couleur caisse;phares av. de jour à LED;airbags rideaux;rétroviseurs électriques et dégivrants;siège conducteur avec réglage lombaire;vitres électriques;feux de freinage d'urgence;banquette rabattable;feux ar. à LED;AFU;contrôle de pression des pneus;airbags front. + lat.;blanc banquise;lampes de lecture à l'arrière;sièges réglables en hauteur;alarme d'oubli d'extinction des feux;EBD;volant sport;température extérieure;système audio;becquet;feux automatiques;fermeture électrique;ESP;fermeture électrique automatique;bacs de portes avant;anti patinage;accoudoir central avant;commandes du système audio au volant;fixations ISOFIX;poches d'aumonières;lampes de lecture à l'avant;lunette arrière dégivrante;essuie-glace arrière;ordinateur de bord;phares halogènes;climatisation;volant réglable en hauteur et profondeur;siège conducteur réglable hauteur;boite à gants réfrigérée;ABS;ceintures avant ajustables en hauteur;prise 12V;ecran tactile multifonction;FAP;3 ceintures ar. 3 points;ouverture des vitres séquentielle, couleur: BLANC BANQUISE  \n",
       "1                                                                                                                                                                                                                                                                                                                                                                                                                                                                                                                                                                                                                                           modele: 308 (2E GENERATION), version: 1.6 HDI FAP 92CH BUSINESS 5P, puissance_fiscale: 4, portes: 5.0, options: banquette arrière 3 places;volant cuir;cache bagages;airbag frontal;banquette 1/3 - 2/3;sièges rang 2 rabattables à plat;vitres teintées;boucliers av et ar couleur caisse;phares av. de jour à LED;airbags rideaux;rétroviseurs électriques et dégivrants;siège conducteur avec réglage lombaire;vitres électriques;feux de freinage d'urgence;banquette rabattable;feux ar. à LED;AFU;contrôle de pression des pneus;airbags front. + lat.;blanc banquise;lampes de lecture à l'arrière;sièges réglables en hauteur;alarme d'oubli d'extinction des feux;EBD;volant sport;température extérieure;système audio;becquet;feux automatiques;fermeture électrique;ESP;fermeture électrique automatique;bacs de portes avant;anti patinage;accoudoir central avant;commandes du système audio au volant;fixations ISOFIX;poches d'aumonières;lampes de lecture à l'avant;lunette arrière dégivrante;essuie-glace arrière;ordinateur de bord;phares halogènes;climatisation;volant réglable en hauteur et profondeur;siège conducteur réglable hauteur;boite à gants réfrigérée;ABS;ceintures avant ajustables en hauteur;prise 12V;ecran tactile multifonction;FAP;3 ceintures ar. 3 points;ouverture des vitres séquentielle, couleur: BLANC BANQUISE  \n",
       "2                                                                                                                                                                                                                                                                                                                                                                                                                                                                                                                                                                                                                                           modele: 308 (2E GENERATION), version: 1.6 HDI FAP 92CH BUSINESS 5P, puissance_fiscale: 4, portes: 5.0, options: banquette arrière 3 places;volant cuir;cache bagages;airbag frontal;banquette 1/3 - 2/3;sièges rang 2 rabattables à plat;vitres teintées;boucliers av et ar couleur caisse;phares av. de jour à LED;airbags rideaux;rétroviseurs électriques et dégivrants;siège conducteur avec réglage lombaire;vitres électriques;feux de freinage d'urgence;banquette rabattable;feux ar. à LED;AFU;contrôle de pression des pneus;airbags front. + lat.;blanc banquise;lampes de lecture à l'arrière;sièges réglables en hauteur;alarme d'oubli d'extinction des feux;EBD;volant sport;température extérieure;système audio;becquet;feux automatiques;fermeture électrique;ESP;fermeture électrique automatique;bacs de portes avant;anti patinage;accoudoir central avant;commandes du système audio au volant;fixations ISOFIX;poches d'aumonières;lampes de lecture à l'avant;lunette arrière dégivrante;essuie-glace arrière;ordinateur de bord;phares halogènes;climatisation;volant réglable en hauteur et profondeur;siège conducteur réglable hauteur;boite à gants réfrigérée;ABS;ceintures avant ajustables en hauteur;prise 12V;ecran tactile multifonction;FAP;3 ceintures ar. 3 points;ouverture des vitres séquentielle, couleur: BLANC BANQUISE  \n",
       "3                                                                                                                                                                                                                                                                                                                                                                                                                                                                                                                                                                                                                                                                                                                                                                                                                                                                                                                                                                                                                                                                                                                                                                                                                                                                                                                                                                                                                                                                                                                                                                                                                                                                                                                                                                                                                                                                                    modele: 308 (2E GENERATION), version: 1.6 HDI 92CH SOCIETE 2 PL, puissance_fiscale: 0, portes: , options: , couleur: blanc  \n",
       "4                                                                                                                                                                                                                                                                                                                                                                                                                                                                                                                                                                                                                                                                                                                                                                                                                                                                                                                                                                                                                                                                                                                                                                                                                                                                                                                                                                                                                                                                                                                                                                                       modele: , version: 1.6 HDI 92, puissance_fiscale: 5, portes: 5.0, options: régulateur limiteur de vitesse;prises audio auxiliaires;direction assistée;GPS;régulateur de vitesse;accoudoir central;projecteurs antibrouillard;rétroviseurs électriques et dégivrants;vitres électriques;du filtre à pollen;fixations ISOFIX;ordinateur de bord;système audio CD;climatisation;intérieur : tissu;Bluetooth, couleur: gris  \n",
       "...                                                                                                                                                                                                                                                                                                                                                                                                                                                                                                                                                                                                                                                                                                                                                                                                                                                                                                                                                                                                                                                                                                                                                                                                                                                                                                                                                                                                                                                                                                                                                                                                                                                                                                                                                                                                                                                                                                                                                                                                         ...  \n",
       "166690                                                                                                                                                                                                                                                                                                                                                                                                                                                                                                                                                                                                                                                                                                                                                                                                                                                                                                                                                                                                                                                                                                                                                                                                                                                                                                                                                                                                                                       modele: A5, version: 1.8 TFSI 160 AMBIENTE, puissance_fiscale: 9, portes: 3.0, options: prises audio auxiliaires;direction assistée;airbags latéraux;rétroviseurs électriques;régulateur de vitesse;jantes alu;boite 6 vitesses;vitres électriques;aide parking;airbags front. + lat.;système Start & Stop;feux automatiques;ESP;radar arrière de détection d'obstacles;accoudoir central avant;commande audio au volant;ordinateur de bord;système audio CD;sellerie cuir;climatisation automatique;airbags frontaux;Bluetooth;détecteur de pluie, couleur: blanc  \n",
       "166691                                                                                                                                                                                                                                                                                                                                                                                                                                                                                                                                                                                                                                                                                                                                                                                                                                                                                                                                                                                                                                                                                                                                                                                                                                                                                modele: A3 (3E GENERATION) BERLINE, version: III (2) BERLINE 1.6 TDI 110 S LINE, puissance_fiscale: 5, portes: 4.0, options: \"anti démarrage;régulateur limiteur de vitesse;direction assistée;rétroviseurs électriques;GPS;airbags;prise audio USB;EBV;phares av. de jour à LED;boite 6 vitesses;kit téléphone main libre;Taille écran navigation 7 pouces;rétroviseurs rabattables;feux ar. à LED;système Start & Stop;fermeture électrique;fixations ISOFIX;Système détection de collision;4 vitres électriques;Ordinateur de bord;kit téléphone main libre bluetooth;feux et essuie-glaces automatiques;ABS;jantes alu 18\"\";climatisation automatique;volant multifonctions;aide parking av/ar\", couleur: gris metal   \n",
       "166692  modele: A1 QUATTRO, version: QUATTRO 2.0 TFSI 256, puissance_fiscale: 16, portes: 3.0, options: radar de recul;volant cuir;prises audio auxiliaires;cache bagages;sorties d'échappement chromées;direction assistée;rétroviseurs électriques;airbag frontal;banquette 1/3 - 2/3;vitres ar. surteintées;vitres teintées;GPS;prise audio USB;régulateur de vitesse;carte main libre;sièges chauffants;boucliers av et ar couleur caisse;phares av. de jour;airbags rideaux;pommeau de levier de vitesse métal;vitres électriques;feux de freinage d'urgence;banquette rabattable;filtre à pollen;siège passager avec réglage lombaire;tmc;porte-gobelets avant;projecteurs bi-xénon;répétiteurs de clignotant dans rétro ext;kit fumeur;sièges sport;ecran multifonction couleur;AFU;kit de réparation crevaison;airbags front. + lat.;sièges réglables en hauteur;disque dur multimédia;essuie-glaces automatiques;EBD;volant sport;température extérieure;nappa fin noir/spq rouges;buses de lave-glace chauffantes;becquet;feux automatiques;fermeture électrique;ESP;fermeture électrique automatique;bacs de portes avant;porte-gobelets arrière;boite à gants fermée;système DVD;miroir de courtoisie conducteur éclairé;anti patinage;rangement sous siège conducteur;fixations ISOFIX;poches d'aumonières;lampes de lecture à l'avant;suspension sport;essuie-glace arrière;ordinateur de bord;rétroviseurs dégivrants;banquette 2 places;eclairage au sol;traceur GPS;siège conducteur réglable hauteur;kit téléphone main libre bluetooth;système audio CD MP3;ABS;peinture métallisée;ceintures avant ajustables en hauteur;prise 12V;compte tours;lave-phares;climatisation automatique;echappement à double sortie;rétroviseur int. jour/nuit auto;système audio carte SD;alarme;support lombaires;alarme volumétrique;miroir de courtoisie passager éclairé;alarme périmétrique;CD avec chargeur;volant multifonctions;ouverture des vitres séquentielle;jantes alu 18&quot, couleur: BLANC  \n",
       "166693                                                                                                                                                                                                                                                                                                                                                                                                                                                                                                                                                                                                                                                                                                                                                                                                                                                                                                                                                                                                                                                                                                                                                                                                                                                                                                                                                                                                                                                                                                  modele: JIMNY, version: 1.3 VVT 86 JLX, puissance_fiscale: 8, portes: 3.0, options: direction assistée;prise audio USB;boite séquentielle;rétroviseurs rabattables;contrôle de pression des pneus;airbags front. + lat.;6 airbags;accoudoir central avant;fixations ISOFIX;climatisation;volant réglable en hauteur et profondeur;système audio CD MP3;4 roues motrices;ABS;peinture métallisée;prise 12V;tapis de sol;alarme volumétrique;4 roues directrices;alarme périmétrique, couleur: noir metal  \n",
       "166694                                                                                                                                                                                                                                                                                                                                                                                                                                                                                                                                                                                                                                                                                                                                                                 modele: OCTAVIA 3, version: III 2.0 TDI 150 GREEN TEC BUSINESS PLUS DSG6, puissance_fiscale: 8, portes: 5.0, options: écran tactile;prises audio auxiliaires;cache bagages;direction assistée;airbags latéraux;airbag frontal;commandes vocales;GPS;régulateur de vitesse;attelage;airbags rideaux;projecteurs antibrouillard;rétroviseurs électriques et dégivrants;vitres électriques;siège passager avec réglage lombaire;5 places;répétiteurs de clignotant dans rétro ext;aide parking;AFU;contrôle de pression des pneus;volant réglable;sièges réglables en hauteur;système audio MP3;système Start & Stop;feux automatiques;fermeture électrique;ESP;radar arrière de détection d'obstacles;anti patinage;rangement sous siège conducteur;fixations ISOFIX;aide au démarrage en côte;ordinateur de bord;système audio CD;volant réglable en hauteur et profondeur;siège conducteur réglable hauteur;système audio CD MP3;ABS;prise 12V;pommeau de levier vitesse en cuir;climatisation automatique;roue de secours;écran multifonction;rétroviseur int. jour/nuit auto;support lombaires;airbags frontaux;Bluetooth;vitres surteintées;volant multifonctions;ouverture des vitres séquentielle;détecteur de pluie, couleur: gris  \n",
       "\n",
       "[166695 rows x 2 columns]"
      ]
     },
     "execution_count": 50,
     "metadata": {},
     "output_type": "execute_result"
    }
   ],
   "source": [
    "second_merge[['Puissance_fiscale','Description']]"
   ]
  },
  {
   "cell_type": "markdown",
   "metadata": {},
   "source": [
    "### Suppression des colonnes redondantes"
   ]
  },
  {
   "cell_type": "code",
   "execution_count": 51,
   "metadata": {},
   "outputs": [
    {
     "name": "stdout",
     "output_type": "stream",
     "text": [
      "<class 'pandas.core.frame.DataFrame'>\n",
      "Int64Index: 166695 entries, 0 to 166694\n",
      "Data columns (total 79 columns):\n",
      " #   Column                              Non-Null Count   Dtype  \n",
      "---  ------                              --------------   -----  \n",
      " 0   Price                               166695 non-null  float64\n",
      " 1   Make                                166695 non-null  object \n",
      " 2   Model                               166695 non-null  object \n",
      " 3   Model_year                          166695 non-null  int64  \n",
      " 4   Mileage                             166695 non-null  object \n",
      " 5   Fuel                                166695 non-null  object \n",
      " 6   Gearbox                             166695 non-null  object \n",
      " 7   Online                              166695 non-null  object \n",
      " 8   Description                         166695 non-null  object \n",
      " 9   version                             166695 non-null  object \n",
      " 10  make_model_version                  166695 non-null  object \n",
      " 11  Match confidence (lower is better)  166695 non-null  float64\n",
      " 12  scraped_version                     166695 non-null  object \n",
      " 13  Origional_data                      166695 non-null  object \n",
      " 14  Unnamed: 0                          166695 non-null  int64  \n",
      " 15  brand                               166695 non-null  object \n",
      " 16  time                                166695 non-null  object \n",
      " 17  model_gamme                         166695 non-null  object \n",
      " 18  model                               166695 non-null  object \n",
      " 19  year                                166695 non-null  int64  \n",
      " 20  version_name                        166695 non-null  object \n",
      " 21  prix                                166695 non-null  object \n",
      " 22  equips_all                          166695 non-null  object \n",
      " 23  options                             166695 non-null  object \n",
      " 24  blockage_differentiel               166695 non-null  object \n",
      " 25  diametre_braquage_entre_trottoirs   166695 non-null  object \n",
      " 26  diametre_braquage_entre_murs        166695 non-null  object \n",
      " 27  freins_disque                       166695 non-null  object \n",
      " 28  Roue_secours                        166695 non-null  object \n",
      " 29  Taille_pneus_arriere                166695 non-null  object \n",
      " 30  Taille_pneus_avant                  166695 non-null  object \n",
      " 31  Suspension_arriere                  166695 non-null  object \n",
      " 32  Suspension_avant                    166695 non-null  object \n",
      " 33  Norme_euro                          683 non-null     object \n",
      " 34  Bonus_Malus_ecologique              166695 non-null  object \n",
      " 35  Emission_CO2_NEDC                   166695 non-null  object \n",
      " 36  Volume_reservoir                    166012 non-null  object \n",
      " 37  Consommation_mixte                  166012 non-null  object \n",
      " 38  Consommation_extra_urbaine          166012 non-null  object \n",
      " 39  consommation_urbaine                166012 non-null  object \n",
      " 40  0_a_100km_par_h                     166695 non-null  object \n",
      " 41  Vitesse_maxi                        166695 non-null  object \n",
      " 42  Roues_motrices                      166012 non-null  object \n",
      " 43  Boite_vitesse_Nb_rapports           0 non-null       float64\n",
      " 44  Type_suralimentation                166012 non-null  object \n",
      " 45  Couple                              163965 non-null  object \n",
      " 46  Puissance                           166507 non-null  object \n",
      " 47  Cylindree                           166012 non-null  object \n",
      " 48  Moteur                              165601 non-null  object \n",
      " 49  Puissance_fiscale                   166695 non-null  object \n",
      " 50  Motorisation                        166695 non-null  object \n",
      " 51  Poids_a_vide                        166695 non-null  object \n",
      " 52  Nb_places_assises                   166695 non-null  object \n",
      " 53  Nombre_portes                       166695 non-null  float64\n",
      " 54  Volume_coffre_mini/maxi             166695 non-null  object \n",
      " 55  Empattement                         166695 non-null  object \n",
      " 56  Hauteur                             166695 non-null  object \n",
      " 57  Largeur_sans_retros                 166695 non-null  object \n",
      " 58  Longueur                            166695 non-null  object \n",
      " 59  Intervalles_revision_maxi           166695 non-null  object \n",
      " 60  Intervalles_revision_km             166695 non-null  object \n",
      " 61  Duree_garantie                      166695 non-null  object \n",
      " 62  Date_fin_commercialisation          166695 non-null  object \n",
      " 63  Date_commercialisation              166695 non-null  object \n",
      " 64  Angle_attaque                       0 non-null       float64\n",
      " 65  Angle_ fuite                        42857 non-null   object \n",
      " 66  Autonomie_electrique                1094 non-null    object \n",
      " 67  Capacite_ batterie                  1094 non-null    object \n",
      " 68  Caracteristiques_moteur             378 non-null     object \n",
      " 69  Caractéristiques_moteurN_1          25 non-null      object \n",
      " 70  Caractéristiques_moteurN_2          25 non-null      object \n",
      " 71  Couple_cumule                       2730 non-null    object \n",
      " 72  Direction                           2730 non-null    object \n",
      " 73  Duree_ charge                       683 non-null     object \n",
      " 74  Location_ batterie                  683 non-null     object \n",
      " 75  Nombre_moteurs                      1094 non-null    object \n",
      " 76  Position                            2730 non-null    object \n",
      " 77  Type_batterie                       683 non-null     object \n",
      " 78  model_version                       166695 non-null  object \n",
      "dtypes: float64(5), int64(3), object(71)\n",
      "memory usage: 101.7+ MB\n"
     ]
    }
   ],
   "source": [
    "second_merge.info()"
   ]
  },
  {
   "cell_type": "code",
   "execution_count": 53,
   "metadata": {},
   "outputs": [],
   "source": [
    "# Colonnes à supprimer\n",
    "col_del = ['Match confidence (lower is better)', 'scraped_version', 'Origional_data','make_model_version',\n",
    "'Unnamed: 0', 'model_version', 'year', 'brand', 'model']\n",
    "\n",
    "second_merge = second_merge.drop(columns=col_del)"
   ]
  },
  {
   "cell_type": "code",
   "execution_count": 54,
   "metadata": {},
   "outputs": [],
   "source": [
    "# Colonnes à renommer\n",
    "col_rename = {'version_name':'version_name_scr', 'Price':'prix_occasion', 'prix':'prix_neuf'}\n",
    "data_merged = second_merge.rename(columns=col_rename)"
   ]
  },
  {
   "cell_type": "code",
   "execution_count": 56,
   "metadata": {},
   "outputs": [
    {
     "data": {
      "text/html": [
       "<div>\n",
       "<style scoped>\n",
       "    .dataframe tbody tr th:only-of-type {\n",
       "        vertical-align: middle;\n",
       "    }\n",
       "\n",
       "    .dataframe tbody tr th {\n",
       "        vertical-align: top;\n",
       "    }\n",
       "\n",
       "    .dataframe thead th {\n",
       "        text-align: right;\n",
       "    }\n",
       "</style>\n",
       "<table border=\"1\" class=\"dataframe\">\n",
       "  <thead>\n",
       "    <tr style=\"text-align: right;\">\n",
       "      <th></th>\n",
       "      <th>prix_neuf</th>\n",
       "      <th>prix_occasion</th>\n",
       "      <th>Model_year</th>\n",
       "      <th>Online</th>\n",
       "    </tr>\n",
       "  </thead>\n",
       "  <tbody>\n",
       "    <tr>\n",
       "      <th>0</th>\n",
       "      <td>21100</td>\n",
       "      <td>11220.0</td>\n",
       "      <td>2014</td>\n",
       "      <td>06/07/2018 à 3h47</td>\n",
       "    </tr>\n",
       "    <tr>\n",
       "      <th>1</th>\n",
       "      <td>21100</td>\n",
       "      <td>10352.0</td>\n",
       "      <td>2014</td>\n",
       "      <td>20/04/2018 à 13h20</td>\n",
       "    </tr>\n",
       "    <tr>\n",
       "      <th>2</th>\n",
       "      <td>21100</td>\n",
       "      <td>11446.0</td>\n",
       "      <td>2014</td>\n",
       "      <td>16/07/2018 à 3h33</td>\n",
       "    </tr>\n",
       "    <tr>\n",
       "      <th>3</th>\n",
       "      <td>21100</td>\n",
       "      <td>5491.0</td>\n",
       "      <td>2013</td>\n",
       "      <td>11/09/2018 à 15h21</td>\n",
       "    </tr>\n",
       "    <tr>\n",
       "      <th>4</th>\n",
       "      <td>21100</td>\n",
       "      <td>10626.0</td>\n",
       "      <td>2013</td>\n",
       "      <td>22/02/2018 à 11h56</td>\n",
       "    </tr>\n",
       "    <tr>\n",
       "      <th>...</th>\n",
       "      <td>...</td>\n",
       "      <td>...</td>\n",
       "      <td>...</td>\n",
       "      <td>...</td>\n",
       "    </tr>\n",
       "    <tr>\n",
       "      <th>166690</th>\n",
       "      <td>37700</td>\n",
       "      <td>18061.0</td>\n",
       "      <td>2012</td>\n",
       "      <td>08/05/2018 à 3h21</td>\n",
       "    </tr>\n",
       "    <tr>\n",
       "      <th>166691</th>\n",
       "      <td>33150</td>\n",
       "      <td>26612.0</td>\n",
       "      <td>2017</td>\n",
       "      <td>17/04/2018 à 12h29</td>\n",
       "    </tr>\n",
       "    <tr>\n",
       "      <th>166692</th>\n",
       "      <td>51190</td>\n",
       "      <td>55676.0</td>\n",
       "      <td>2012</td>\n",
       "      <td>02/02/2018 à 14h16</td>\n",
       "    </tr>\n",
       "    <tr>\n",
       "      <th>166693</th>\n",
       "      <td>15440</td>\n",
       "      <td>15749.0</td>\n",
       "      <td>2016</td>\n",
       "      <td>13/03/2018 à 19h12</td>\n",
       "    </tr>\n",
       "    <tr>\n",
       "      <th>166694</th>\n",
       "      <td>28420</td>\n",
       "      <td>11918.0</td>\n",
       "      <td>2013</td>\n",
       "      <td>30/05/2018 à 17h55</td>\n",
       "    </tr>\n",
       "  </tbody>\n",
       "</table>\n",
       "<p>166695 rows × 4 columns</p>\n",
       "</div>"
      ],
      "text/plain": [
       "       prix_neuf  prix_occasion  Model_year              Online\n",
       "0          21100        11220.0        2014   06/07/2018 à 3h47\n",
       "1          21100        10352.0        2014  20/04/2018 à 13h20\n",
       "2          21100        11446.0        2014   16/07/2018 à 3h33\n",
       "3          21100         5491.0        2013  11/09/2018 à 15h21\n",
       "4          21100        10626.0        2013  22/02/2018 à 11h56\n",
       "...          ...            ...         ...                 ...\n",
       "166690     37700        18061.0        2012   08/05/2018 à 3h21\n",
       "166691     33150        26612.0        2017  17/04/2018 à 12h29\n",
       "166692     51190        55676.0        2012  02/02/2018 à 14h16\n",
       "166693     15440        15749.0        2016  13/03/2018 à 19h12\n",
       "166694     28420        11918.0        2013  30/05/2018 à 17h55\n",
       "\n",
       "[166695 rows x 4 columns]"
      ]
     },
     "execution_count": 56,
     "metadata": {},
     "output_type": "execute_result"
    }
   ],
   "source": [
    "# vérification de prix neuf vs prix d'occasion\n",
    "data_merged[['prix_neuf', 'prix_occasion', 'Model_year', 'Online']]"
   ]
  },
  {
   "cell_type": "markdown",
   "metadata": {},
   "source": [
    "### Sauvegarde "
   ]
  },
  {
   "cell_type": "code",
   "execution_count": 55,
   "metadata": {},
   "outputs": [],
   "source": [
    "data_merged.to_csv('../Datasets/Data_merged.csv')"
   ]
  }
 ],
 "metadata": {
  "kernelspec": {
   "display_name": "Python 3",
   "language": "python",
   "name": "python3"
  },
  "language_info": {
   "codemirror_mode": {
    "name": "ipython",
    "version": 3
   },
   "file_extension": ".py",
   "mimetype": "text/x-python",
   "name": "python",
   "nbconvert_exporter": "python",
   "pygments_lexer": "ipython3",
   "version": "3.7.6"
  }
 },
 "nbformat": 4,
 "nbformat_minor": 4
}
